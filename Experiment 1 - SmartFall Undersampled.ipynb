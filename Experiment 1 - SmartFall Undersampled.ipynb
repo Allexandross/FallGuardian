{
 "cells": [
  {
   "cell_type": "code",
   "execution_count": 2,
   "metadata": {},
   "outputs": [
    {
     "name": "stdout",
     "output_type": "stream",
     "text": [
      "The autoreload extension is already loaded. To reload it, use:\n",
      "  %reload_ext autoreload\n"
     ]
    }
   ],
   "source": [
    "%load_ext autoreload\n",
    "%autoreload 2\n",
    "import pandas as pd\n",
    "import numpy as np\n",
    "import feature_util\n",
    "from sklearn.model_selection import train_test_split"
   ]
  },
  {
   "attachments": {},
   "cell_type": "markdown",
   "metadata": {},
   "source": [
    "## I - Unfiltered"
   ]
  },
  {
   "cell_type": "code",
   "execution_count": 3,
   "metadata": {},
   "outputs": [
    {
     "data": {
      "text/html": [
       "<div>\n",
       "<style scoped>\n",
       "    .dataframe tbody tr th:only-of-type {\n",
       "        vertical-align: middle;\n",
       "    }\n",
       "\n",
       "    .dataframe tbody tr th {\n",
       "        vertical-align: top;\n",
       "    }\n",
       "\n",
       "    .dataframe thead th {\n",
       "        text-align: right;\n",
       "    }\n",
       "</style>\n",
       "<table border=\"1\" class=\"dataframe\">\n",
       "  <thead>\n",
       "    <tr style=\"text-align: right;\">\n",
       "      <th></th>\n",
       "      <th>x_ax</th>\n",
       "      <th>y_ax</th>\n",
       "      <th>z_ax</th>\n",
       "      <th>outcome</th>\n",
       "    </tr>\n",
       "  </thead>\n",
       "  <tbody>\n",
       "    <tr>\n",
       "      <th>0</th>\n",
       "      <td>1.058105</td>\n",
       "      <td>0.096436</td>\n",
       "      <td>0.113037</td>\n",
       "      <td>0</td>\n",
       "    </tr>\n",
       "    <tr>\n",
       "      <th>1</th>\n",
       "      <td>0.718506</td>\n",
       "      <td>0.233887</td>\n",
       "      <td>0.220703</td>\n",
       "      <td>0</td>\n",
       "    </tr>\n",
       "    <tr>\n",
       "      <th>2</th>\n",
       "      <td>0.718506</td>\n",
       "      <td>0.233887</td>\n",
       "      <td>0.220703</td>\n",
       "      <td>0</td>\n",
       "    </tr>\n",
       "    <tr>\n",
       "      <th>3</th>\n",
       "      <td>0.960205</td>\n",
       "      <td>0.190430</td>\n",
       "      <td>0.051270</td>\n",
       "      <td>0</td>\n",
       "    </tr>\n",
       "    <tr>\n",
       "      <th>4</th>\n",
       "      <td>0.960205</td>\n",
       "      <td>0.190430</td>\n",
       "      <td>0.051270</td>\n",
       "      <td>0</td>\n",
       "    </tr>\n",
       "    <tr>\n",
       "      <th>...</th>\n",
       "      <td>...</td>\n",
       "      <td>...</td>\n",
       "      <td>...</td>\n",
       "      <td>...</td>\n",
       "    </tr>\n",
       "    <tr>\n",
       "      <th>183801</th>\n",
       "      <td>0.867188</td>\n",
       "      <td>0.416016</td>\n",
       "      <td>0.086426</td>\n",
       "      <td>0</td>\n",
       "    </tr>\n",
       "    <tr>\n",
       "      <th>183802</th>\n",
       "      <td>0.780518</td>\n",
       "      <td>0.477539</td>\n",
       "      <td>0.062256</td>\n",
       "      <td>0</td>\n",
       "    </tr>\n",
       "    <tr>\n",
       "      <th>183803</th>\n",
       "      <td>0.653076</td>\n",
       "      <td>0.355469</td>\n",
       "      <td>0.117920</td>\n",
       "      <td>0</td>\n",
       "    </tr>\n",
       "    <tr>\n",
       "      <th>183804</th>\n",
       "      <td>0.675293</td>\n",
       "      <td>0.513672</td>\n",
       "      <td>-0.014160</td>\n",
       "      <td>0</td>\n",
       "    </tr>\n",
       "    <tr>\n",
       "      <th>183805</th>\n",
       "      <td>0.770020</td>\n",
       "      <td>0.625000</td>\n",
       "      <td>-0.142090</td>\n",
       "      <td>0</td>\n",
       "    </tr>\n",
       "  </tbody>\n",
       "</table>\n",
       "<p>183806 rows × 4 columns</p>\n",
       "</div>"
      ],
      "text/plain": [
       "            x_ax      y_ax      z_ax  outcome\n",
       "0       1.058105  0.096436  0.113037        0\n",
       "1       0.718506  0.233887  0.220703        0\n",
       "2       0.718506  0.233887  0.220703        0\n",
       "3       0.960205  0.190430  0.051270        0\n",
       "4       0.960205  0.190430  0.051270        0\n",
       "...          ...       ...       ...      ...\n",
       "183801  0.867188  0.416016  0.086426        0\n",
       "183802  0.780518  0.477539  0.062256        0\n",
       "183803  0.653076  0.355469  0.117920        0\n",
       "183804  0.675293  0.513672 -0.014160        0\n",
       "183805  0.770020  0.625000 -0.142090        0\n",
       "\n",
       "[183806 rows x 4 columns]"
      ]
     },
     "execution_count": 3,
     "metadata": {},
     "output_type": "execute_result"
    }
   ],
   "source": [
    "data_unfiltered = pd.read_csv(\"New Datasets/renamed_smartfall_training_dataset.csv\")\n",
    "data_unfiltered = pd.concat([data_unfiltered, pd.read_csv(\"New Datasets/renamed_smartfall_testing_dataset.csv\")], axis=0).reset_index(drop=True)\n",
    "# data = pd.read_csv(\"New Datasets/filtered_standardised_smartfall_testing_dataset.csv\")\n",
    "# data = pd.concat([data, pd.read_csv(\"New Datasets/filtered_standardised_smartfall_training_dataset.csv\")], axis=0).reset_index(drop=True)\n",
    "\n",
    "data_unfiltered = data_unfiltered.drop(['Unnamed: 0'], axis=1)\n",
    "data_unfiltered"
   ]
  },
  {
   "cell_type": "code",
   "execution_count": 4,
   "metadata": {},
   "outputs": [],
   "source": [
    "Fs = 31.25\n",
    "frame_size = int(Fs * 1) # 31.25Hz and 1s window\n",
    "hop_size = int(frame_size * 0.5) # 50% overlap, i.e. 0.5s"
   ]
  },
  {
   "cell_type": "code",
   "execution_count": 5,
   "metadata": {},
   "outputs": [
    {
     "name": "stderr",
     "output_type": "stream",
     "text": [
      "c:\\Users\\Alex\\OneDrive - The University of Nottingham\\Comp Sci\\Year 3\\Dissertation\\Code\\feature_util.py:22: FutureWarning: Unlike other reduction functions (e.g. `skew`, `kurtosis`), the default behavior of `mode` typically preserves the axis it acts along. In SciPy 1.11.0, this behavior will change: the default value of `keepdims` will become False, the `axis` over which the statistic is taken will be eliminated, and the value None will no longer be accepted. Set `keepdims` to True or False to avoid this warning.\n",
      "  label = stats.mode(df['outcome'][i: i + frame_size])[0][0]\n"
     ]
    },
    {
     "data": {
      "text/plain": [
       "(12252, 11)"
      ]
     },
     "execution_count": 5,
     "metadata": {},
     "output_type": "execute_result"
    }
   ],
   "source": [
    "X_unfiltered, y_unfiltered = feature_util.get_frames(data_unfiltered, frame_size, hop_size, True)\n",
    "features_unfiltered = feature_util.extract_features(X_unfiltered)\n",
    "features_unfiltered.shape"
   ]
  },
  {
   "cell_type": "code",
   "execution_count": 6,
   "metadata": {},
   "outputs": [],
   "source": [
    "feature_df = pd.DataFrame(features_unfiltered)\n",
    "\n",
    "y_df = pd.DataFrame(y_unfiltered)\n",
    "y_df = y_df.rename(mapper={0:\"outcome\"}, axis=1)\n",
    "y_df\n",
    "feature_and_outcome_df = pd.concat([feature_df, y_df], axis=1)"
   ]
  },
  {
   "cell_type": "code",
   "execution_count": 7,
   "metadata": {},
   "outputs": [
    {
     "data": {
      "text/plain": [
       "0    11390\n",
       "1      862\n",
       "Name: outcome, dtype: int64"
      ]
     },
     "execution_count": 7,
     "metadata": {},
     "output_type": "execute_result"
    }
   ],
   "source": [
    "feature_and_outcome_df['outcome'].value_counts()"
   ]
  },
  {
   "cell_type": "code",
   "execution_count": 8,
   "metadata": {},
   "outputs": [
    {
     "data": {
      "text/html": [
       "<div>\n",
       "<style scoped>\n",
       "    .dataframe tbody tr th:only-of-type {\n",
       "        vertical-align: middle;\n",
       "    }\n",
       "\n",
       "    .dataframe tbody tr th {\n",
       "        vertical-align: top;\n",
       "    }\n",
       "\n",
       "    .dataframe thead th {\n",
       "        text-align: right;\n",
       "    }\n",
       "</style>\n",
       "<table border=\"1\" class=\"dataframe\">\n",
       "  <thead>\n",
       "    <tr style=\"text-align: right;\">\n",
       "      <th></th>\n",
       "      <th>0</th>\n",
       "      <th>1</th>\n",
       "      <th>2</th>\n",
       "      <th>3</th>\n",
       "      <th>4</th>\n",
       "      <th>5</th>\n",
       "      <th>6</th>\n",
       "      <th>7</th>\n",
       "      <th>8</th>\n",
       "      <th>9</th>\n",
       "      <th>10</th>\n",
       "      <th>outcome</th>\n",
       "    </tr>\n",
       "  </thead>\n",
       "  <tbody>\n",
       "    <tr>\n",
       "      <th>5572</th>\n",
       "      <td>0.566784</td>\n",
       "      <td>0.549584</td>\n",
       "      <td>0.546773</td>\n",
       "      <td>0.156851</td>\n",
       "      <td>0.164457</td>\n",
       "      <td>0.172647</td>\n",
       "      <td>-0.610592</td>\n",
       "      <td>-0.521435</td>\n",
       "      <td>0.289486</td>\n",
       "      <td>1.514484</td>\n",
       "      <td>0.598806</td>\n",
       "      <td>0</td>\n",
       "    </tr>\n",
       "    <tr>\n",
       "      <th>2108</th>\n",
       "      <td>0.357327</td>\n",
       "      <td>0.318808</td>\n",
       "      <td>0.661219</td>\n",
       "      <td>1.066467</td>\n",
       "      <td>0.774497</td>\n",
       "      <td>1.461452</td>\n",
       "      <td>11.595843</td>\n",
       "      <td>3.404450</td>\n",
       "      <td>17.331492</td>\n",
       "      <td>8.000440</td>\n",
       "      <td>0.067235</td>\n",
       "      <td>1</td>\n",
       "    </tr>\n",
       "    <tr>\n",
       "      <th>2899</th>\n",
       "      <td>0.049419</td>\n",
       "      <td>0.096128</td>\n",
       "      <td>0.100452</td>\n",
       "      <td>0.705784</td>\n",
       "      <td>0.709518</td>\n",
       "      <td>0.703655</td>\n",
       "      <td>-0.532757</td>\n",
       "      <td>-0.552986</td>\n",
       "      <td>-0.374675</td>\n",
       "      <td>2.930617</td>\n",
       "      <td>0.104219</td>\n",
       "      <td>0</td>\n",
       "    </tr>\n",
       "    <tr>\n",
       "      <th>4603</th>\n",
       "      <td>0.295859</td>\n",
       "      <td>0.726295</td>\n",
       "      <td>0.579204</td>\n",
       "      <td>1.384599</td>\n",
       "      <td>1.495903</td>\n",
       "      <td>0.589245</td>\n",
       "      <td>4.794845</td>\n",
       "      <td>10.590046</td>\n",
       "      <td>2.100255</td>\n",
       "      <td>7.888889</td>\n",
       "      <td>0.321534</td>\n",
       "      <td>1</td>\n",
       "    </tr>\n",
       "    <tr>\n",
       "      <th>5589</th>\n",
       "      <td>0.407573</td>\n",
       "      <td>0.357934</td>\n",
       "      <td>0.362580</td>\n",
       "      <td>0.432085</td>\n",
       "      <td>0.412322</td>\n",
       "      <td>0.424326</td>\n",
       "      <td>-0.565369</td>\n",
       "      <td>-0.624363</td>\n",
       "      <td>-0.640411</td>\n",
       "      <td>2.223094</td>\n",
       "      <td>0.082065</td>\n",
       "      <td>0</td>\n",
       "    </tr>\n",
       "    <tr>\n",
       "      <th>...</th>\n",
       "      <td>...</td>\n",
       "      <td>...</td>\n",
       "      <td>...</td>\n",
       "      <td>...</td>\n",
       "      <td>...</td>\n",
       "      <td>...</td>\n",
       "      <td>...</td>\n",
       "      <td>...</td>\n",
       "      <td>...</td>\n",
       "      <td>...</td>\n",
       "      <td>...</td>\n",
       "      <td>...</td>\n",
       "    </tr>\n",
       "    <tr>\n",
       "      <th>2500</th>\n",
       "      <td>0.557019</td>\n",
       "      <td>0.531258</td>\n",
       "      <td>0.413921</td>\n",
       "      <td>1.525217</td>\n",
       "      <td>0.810083</td>\n",
       "      <td>1.082528</td>\n",
       "      <td>6.372969</td>\n",
       "      <td>4.462876</td>\n",
       "      <td>1.621395</td>\n",
       "      <td>7.173479</td>\n",
       "      <td>0.133425</td>\n",
       "      <td>1</td>\n",
       "    </tr>\n",
       "    <tr>\n",
       "      <th>4270</th>\n",
       "      <td>0.345042</td>\n",
       "      <td>0.627867</td>\n",
       "      <td>0.365392</td>\n",
       "      <td>1.459652</td>\n",
       "      <td>1.265349</td>\n",
       "      <td>1.026974</td>\n",
       "      <td>4.668593</td>\n",
       "      <td>6.672230</td>\n",
       "      <td>3.157441</td>\n",
       "      <td>8.244430</td>\n",
       "      <td>0.150188</td>\n",
       "      <td>1</td>\n",
       "    </tr>\n",
       "    <tr>\n",
       "      <th>9936</th>\n",
       "      <td>-0.084142</td>\n",
       "      <td>-0.066461</td>\n",
       "      <td>-0.046253</td>\n",
       "      <td>0.520574</td>\n",
       "      <td>0.515974</td>\n",
       "      <td>0.523738</td>\n",
       "      <td>-1.279689</td>\n",
       "      <td>-1.320631</td>\n",
       "      <td>-1.373086</td>\n",
       "      <td>1.475522</td>\n",
       "      <td>0.025364</td>\n",
       "      <td>0</td>\n",
       "    </tr>\n",
       "    <tr>\n",
       "      <th>7604</th>\n",
       "      <td>0.289850</td>\n",
       "      <td>-0.169418</td>\n",
       "      <td>-0.246283</td>\n",
       "      <td>1.348624</td>\n",
       "      <td>1.805470</td>\n",
       "      <td>1.573673</td>\n",
       "      <td>4.233266</td>\n",
       "      <td>4.907799</td>\n",
       "      <td>15.448049</td>\n",
       "      <td>8.290070</td>\n",
       "      <td>0.084011</td>\n",
       "      <td>1</td>\n",
       "    </tr>\n",
       "    <tr>\n",
       "      <th>2483</th>\n",
       "      <td>0.559035</td>\n",
       "      <td>0.562516</td>\n",
       "      <td>0.277273</td>\n",
       "      <td>0.858540</td>\n",
       "      <td>0.788049</td>\n",
       "      <td>0.639056</td>\n",
       "      <td>1.258357</td>\n",
       "      <td>2.461098</td>\n",
       "      <td>0.043384</td>\n",
       "      <td>4.454734</td>\n",
       "      <td>0.195963</td>\n",
       "      <td>1</td>\n",
       "    </tr>\n",
       "  </tbody>\n",
       "</table>\n",
       "<p>1724 rows × 12 columns</p>\n",
       "</div>"
      ],
      "text/plain": [
       "             0         1         2         3         4         5          6  \\\n",
       "5572  0.566784  0.549584  0.546773  0.156851  0.164457  0.172647  -0.610592   \n",
       "2108  0.357327  0.318808  0.661219  1.066467  0.774497  1.461452  11.595843   \n",
       "2899  0.049419  0.096128  0.100452  0.705784  0.709518  0.703655  -0.532757   \n",
       "4603  0.295859  0.726295  0.579204  1.384599  1.495903  0.589245   4.794845   \n",
       "5589  0.407573  0.357934  0.362580  0.432085  0.412322  0.424326  -0.565369   \n",
       "...        ...       ...       ...       ...       ...       ...        ...   \n",
       "2500  0.557019  0.531258  0.413921  1.525217  0.810083  1.082528   6.372969   \n",
       "4270  0.345042  0.627867  0.365392  1.459652  1.265349  1.026974   4.668593   \n",
       "9936 -0.084142 -0.066461 -0.046253  0.520574  0.515974  0.523738  -1.279689   \n",
       "7604  0.289850 -0.169418 -0.246283  1.348624  1.805470  1.573673   4.233266   \n",
       "2483  0.559035  0.562516  0.277273  0.858540  0.788049  0.639056   1.258357   \n",
       "\n",
       "              7          8         9        10  outcome  \n",
       "5572  -0.521435   0.289486  1.514484  0.598806        0  \n",
       "2108   3.404450  17.331492  8.000440  0.067235        1  \n",
       "2899  -0.552986  -0.374675  2.930617  0.104219        0  \n",
       "4603  10.590046   2.100255  7.888889  0.321534        1  \n",
       "5589  -0.624363  -0.640411  2.223094  0.082065        0  \n",
       "...         ...        ...       ...       ...      ...  \n",
       "2500   4.462876   1.621395  7.173479  0.133425        1  \n",
       "4270   6.672230   3.157441  8.244430  0.150188        1  \n",
       "9936  -1.320631  -1.373086  1.475522  0.025364        0  \n",
       "7604   4.907799  15.448049  8.290070  0.084011        1  \n",
       "2483   2.461098   0.043384  4.454734  0.195963        1  \n",
       "\n",
       "[1724 rows x 12 columns]"
      ]
     },
     "execution_count": 8,
     "metadata": {},
     "output_type": "execute_result"
    }
   ],
   "source": [
    "falls_df = feature_and_outcome_df[feature_and_outcome_df['outcome'] == 1]\n",
    "not_falls_df = feature_and_outcome_df[feature_and_outcome_df['outcome'] == 0]\n",
    "\n",
    "undersampled_not_falls = not_falls_df.sample(n=len(falls_df), random_state=42)\n",
    "balanced_features = pd.concat([undersampled_not_falls, falls_df])\n",
    "balanced_features = balanced_features.sample(frac=1, random_state=42)\n",
    "balanced_features"
   ]
  },
  {
   "cell_type": "code",
   "execution_count": 9,
   "metadata": {},
   "outputs": [
    {
     "data": {
      "text/plain": [
       "outcome\n",
       "0          862\n",
       "1          862\n",
       "dtype: int64"
      ]
     },
     "execution_count": 9,
     "metadata": {},
     "output_type": "execute_result"
    }
   ],
   "source": [
    "features_shuffled = balanced_features.drop(columns=['outcome'])\n",
    "features_shuffled\n",
    "\n",
    "outcome_shuffled = balanced_features.loc[:,['outcome']]\n",
    "outcome_shuffled.value_counts()"
   ]
  },
  {
   "cell_type": "code",
   "execution_count": 10,
   "metadata": {},
   "outputs": [],
   "source": [
    "X_train, X_test, y_train, y_test = train_test_split(features_shuffled, outcome_shuffled, test_size=0.25, random_state=0, stratify=outcome_shuffled)"
   ]
  },
  {
   "cell_type": "code",
   "execution_count": 11,
   "metadata": {},
   "outputs": [
    {
     "data": {
      "text/plain": [
       "((1293, 11), (431, 11), (1293, 1), (431, 1))"
      ]
     },
     "execution_count": 11,
     "metadata": {},
     "output_type": "execute_result"
    }
   ],
   "source": [
    "X_train.shape, X_test.shape, y_train.shape, y_test.shape"
   ]
  },
  {
   "cell_type": "code",
   "execution_count": 12,
   "metadata": {},
   "outputs": [
    {
     "data": {
      "text/plain": [
       "{0: 646, 1: 647}"
      ]
     },
     "execution_count": 12,
     "metadata": {},
     "output_type": "execute_result"
    }
   ],
   "source": [
    "unique, counts = np.unique(y_train, return_counts=True)\n",
    "dict(zip(unique, counts))"
   ]
  },
  {
   "attachments": {},
   "cell_type": "markdown",
   "metadata": {},
   "source": [
    "### Traditional Machine Learning Methods"
   ]
  },
  {
   "cell_type": "code",
   "execution_count": 13,
   "metadata": {},
   "outputs": [],
   "source": [
    "model_name_array = []\n",
    "model_acc_array = []"
   ]
  },
  {
   "cell_type": "code",
   "execution_count": 14,
   "metadata": {},
   "outputs": [],
   "source": [
    "from sklearn.neighbors import KNeighborsClassifier"
   ]
  },
  {
   "cell_type": "code",
   "execution_count": 15,
   "metadata": {},
   "outputs": [
    {
     "name": "stderr",
     "output_type": "stream",
     "text": [
      "c:\\Users\\Alex\\anaconda3\\lib\\site-packages\\sklearn\\neighbors\\_classification.py:198: DataConversionWarning: A column-vector y was passed when a 1d array was expected. Please change the shape of y to (n_samples,), for example using ravel().\n",
      "  return self._fit(X, y)\n"
     ]
    },
    {
     "data": {
      "text/plain": [
       "KNeighborsClassifier()"
      ]
     },
     "execution_count": 15,
     "metadata": {},
     "output_type": "execute_result"
    }
   ],
   "source": [
    "knn_model = KNeighborsClassifier(n_neighbors=5)\n",
    "knn_model.fit(X_train, y_train)"
   ]
  },
  {
   "cell_type": "code",
   "execution_count": 16,
   "metadata": {},
   "outputs": [],
   "source": [
    "from sklearn.metrics import accuracy_score, f1_score, confusion_matrix"
   ]
  },
  {
   "cell_type": "code",
   "execution_count": 17,
   "metadata": {},
   "outputs": [
    {
     "name": "stdout",
     "output_type": "stream",
     "text": [
      "[[191  25]\n",
      " [ 25 190]]\n",
      "0.8839907192575406\n",
      "0.8839907192575406\n"
     ]
    },
    {
     "name": "stderr",
     "output_type": "stream",
     "text": [
      "c:\\Users\\Alex\\anaconda3\\lib\\site-packages\\sklearn\\neighbors\\_classification.py:228: FutureWarning: Unlike other reduction functions (e.g. `skew`, `kurtosis`), the default behavior of `mode` typically preserves the axis it acts along. In SciPy 1.11.0, this behavior will change: the default value of `keepdims` will become False, the `axis` over which the statistic is taken will be eliminated, and the value None will no longer be accepted. Set `keepdims` to True or False to avoid this warning.\n",
      "  mode, _ = stats.mode(_y[neigh_ind, k], axis=1)\n"
     ]
    }
   ],
   "source": [
    "# Predict on the test set\n",
    "predicted = knn_model.predict(X_test)\n",
    "\n",
    "# Print metrics\n",
    "print(confusion_matrix(y_test, predicted))\n",
    "print(accuracy_score(y_test, predicted))\n",
    "print(f1_score(y_test, predicted, average='micro'))\n",
    "# compare_trad_models(\"knn\", accuracy_score(y_test, predicted))\n",
    "model_name_array.append(\"knn\")\n",
    "model_acc_array.append(accuracy_score(y_test, predicted))"
   ]
  },
  {
   "cell_type": "code",
   "execution_count": 18,
   "metadata": {},
   "outputs": [],
   "source": [
    "# from sklearn.model_selection import GridSearchCV\n",
    "\n",
    "# max_features_range = np.arange(1, 6, 1)\n",
    "# n_estimators_range = np.arange(10, 210, 10)\n",
    "# n_neighbors_range = np.arange(1, 100, 1)\n",
    "# # param_grid = dict(max_features = max_features_range, n_estimators = n_estimators_range, n_neighbors = n_neighbors_range)\n",
    "# param_grid = dict(n_neighbors = n_neighbors_range)\n",
    "\n",
    "# knnTest = KNeighborsClassifier(n_neighbors=5)\n",
    "\n",
    "# grid = GridSearchCV(estimator=knnTest, param_grid=param_grid, scoring='accuracy', cv=5)\n",
    "\n",
    "# grid.fit(X_train, y_train)\n",
    "# print(\"The best parameters are %s with a score of %f\" % (grid.best_params_, grid.best_score_))"
   ]
  },
  {
   "cell_type": "code",
   "execution_count": 19,
   "metadata": {},
   "outputs": [],
   "source": [
    "from sklearn import svm"
   ]
  },
  {
   "cell_type": "code",
   "execution_count": 20,
   "metadata": {},
   "outputs": [
    {
     "name": "stderr",
     "output_type": "stream",
     "text": [
      "c:\\Users\\Alex\\anaconda3\\lib\\site-packages\\sklearn\\utils\\validation.py:993: DataConversionWarning: A column-vector y was passed when a 1d array was expected. Please change the shape of y to (n_samples, ), for example using ravel().\n",
      "  y = column_or_1d(y, warn=True)\n"
     ]
    },
    {
     "data": {
      "text/plain": [
       "SVC(C=1, kernel='linear', random_state=0)"
      ]
     },
     "execution_count": 20,
     "metadata": {},
     "output_type": "execute_result"
    }
   ],
   "source": [
    "svm_model = svm.SVC(kernel='linear', C=1, random_state=0)\n",
    "# gaussian\n",
    "svm_model.fit(X_train, y_train)"
   ]
  },
  {
   "cell_type": "code",
   "execution_count": 21,
   "metadata": {},
   "outputs": [
    {
     "name": "stdout",
     "output_type": "stream",
     "text": [
      "[[197  19]\n",
      " [ 29 186]]\n",
      "0.888631090487239\n",
      "0.888631090487239\n"
     ]
    }
   ],
   "source": [
    "# Predict on the test set\n",
    "predicted_svm = svm_model.predict(X_test)\n",
    "\n",
    "# Print metrics\n",
    "print(confusion_matrix(y_test, predicted_svm))\n",
    "print(accuracy_score(y_test, predicted_svm))\n",
    "print(f1_score(y_test, predicted_svm, average='micro'))\n",
    "\n",
    "model_name_array.append(\"svm\")\n",
    "model_acc_array.append(accuracy_score(y_test, predicted_svm))"
   ]
  },
  {
   "cell_type": "code",
   "execution_count": 22,
   "metadata": {},
   "outputs": [
    {
     "name": "stderr",
     "output_type": "stream",
     "text": [
      "c:\\Users\\Alex\\anaconda3\\lib\\site-packages\\sklearn\\utils\\validation.py:993: DataConversionWarning: A column-vector y was passed when a 1d array was expected. Please change the shape of y to (n_samples, ), for example using ravel().\n",
      "  y = column_or_1d(y, warn=True)\n"
     ]
    },
    {
     "data": {
      "text/plain": [
       "SVC(C=1, random_state=0)"
      ]
     },
     "execution_count": 22,
     "metadata": {},
     "output_type": "execute_result"
    }
   ],
   "source": [
    "svm_rbf_model = svm.SVC(kernel='rbf', C=1, random_state=0)\n",
    "svm_rbf_model.fit(X_train, y_train)"
   ]
  },
  {
   "cell_type": "code",
   "execution_count": 23,
   "metadata": {},
   "outputs": [
    {
     "name": "stdout",
     "output_type": "stream",
     "text": [
      "[[195  21]\n",
      " [ 26 189]]\n",
      "0.8909512761020881\n",
      "0.8909512761020881\n"
     ]
    }
   ],
   "source": [
    "# Predict on the test set\n",
    "predicted_svm_rbf = svm_rbf_model.predict(X_test)\n",
    "\n",
    "# Print metrics\n",
    "print(confusion_matrix(y_test, predicted_svm_rbf))\n",
    "print(accuracy_score(y_test, predicted_svm_rbf))\n",
    "print(f1_score(y_test, predicted_svm_rbf, average='micro'))\n",
    "model_name_array.append(\"svm_rbf\")\n",
    "model_acc_array.append(accuracy_score(y_test, predicted_svm_rbf))\n"
   ]
  },
  {
   "cell_type": "code",
   "execution_count": 24,
   "metadata": {},
   "outputs": [],
   "source": [
    "from sklearn.ensemble import RandomForestClassifier"
   ]
  },
  {
   "cell_type": "code",
   "execution_count": 25,
   "metadata": {},
   "outputs": [
    {
     "name": "stderr",
     "output_type": "stream",
     "text": [
      "C:\\Users\\Alex\\AppData\\Local\\Temp\\ipykernel_42680\\2856838272.py:2: DataConversionWarning: A column-vector y was passed when a 1d array was expected. Please change the shape of y to (n_samples,), for example using ravel().\n",
      "  rf_model.fit(X_train, y_train)\n"
     ]
    },
    {
     "data": {
      "text/plain": [
       "RandomForestClassifier(random_state=42)"
      ]
     },
     "execution_count": 25,
     "metadata": {},
     "output_type": "execute_result"
    }
   ],
   "source": [
    "rf_model = RandomForestClassifier(n_estimators = 100, random_state = 42)\n",
    "rf_model.fit(X_train, y_train)"
   ]
  },
  {
   "cell_type": "code",
   "execution_count": 26,
   "metadata": {},
   "outputs": [
    {
     "name": "stdout",
     "output_type": "stream",
     "text": [
      "[[197  19]\n",
      " [ 13 202]]\n",
      "0.925754060324826\n",
      "0.925754060324826\n"
     ]
    }
   ],
   "source": [
    "# Predict on the test set\n",
    "predicted_rf = rf_model.predict(X_test)\n",
    "\n",
    "# Print metrics\n",
    "print(confusion_matrix(y_test, predicted_rf))\n",
    "print(accuracy_score(y_test, predicted_rf))\n",
    "print(f1_score(y_test, predicted_rf, average='micro'))\n",
    "model_name_array.append(\"rf\")\n",
    "model_acc_array.append(accuracy_score(y_test, predicted_rf))"
   ]
  },
  {
   "cell_type": "code",
   "execution_count": 27,
   "metadata": {},
   "outputs": [],
   "source": [
    "from sklearn.naive_bayes import GaussianNB"
   ]
  },
  {
   "cell_type": "code",
   "execution_count": 28,
   "metadata": {},
   "outputs": [
    {
     "name": "stderr",
     "output_type": "stream",
     "text": [
      "c:\\Users\\Alex\\anaconda3\\lib\\site-packages\\sklearn\\utils\\validation.py:993: DataConversionWarning: A column-vector y was passed when a 1d array was expected. Please change the shape of y to (n_samples, ), for example using ravel().\n",
      "  y = column_or_1d(y, warn=True)\n"
     ]
    },
    {
     "data": {
      "text/plain": [
       "GaussianNB()"
      ]
     },
     "execution_count": 28,
     "metadata": {},
     "output_type": "execute_result"
    }
   ],
   "source": [
    "nb_model = GaussianNB()\n",
    "nb_model.fit(X_train, y_train)"
   ]
  },
  {
   "cell_type": "code",
   "execution_count": 29,
   "metadata": {},
   "outputs": [
    {
     "name": "stdout",
     "output_type": "stream",
     "text": [
      "[[198  18]\n",
      " [ 41 174]]\n",
      "0.8631090487238979\n",
      "0.8631090487238979\n"
     ]
    }
   ],
   "source": [
    "# Predict on the test set\n",
    "predicted_nb = nb_model.predict(X_test)\n",
    "\n",
    "# Print metrics\n",
    "print(confusion_matrix(y_test, predicted_nb))\n",
    "print(accuracy_score(y_test, predicted_nb))\n",
    "print(f1_score(y_test, predicted_nb, average='micro'))\n",
    "model_name_array.append(\"nb\")\n",
    "model_acc_array.append(accuracy_score(y_test, predicted_nb))\n"
   ]
  },
  {
   "cell_type": "code",
   "execution_count": 30,
   "metadata": {},
   "outputs": [
    {
     "name": "stdout",
     "output_type": "stream",
     "text": [
      "Best model: rf, Accuracy: 0.925754060324826\n"
     ]
    }
   ],
   "source": [
    "best_trad_model_acc = max(model_acc_array)\n",
    "index = model_acc_array.index(max(model_acc_array))\n",
    "best_trad_model = model_name_array[index]\n",
    "print(f\"Best model: {best_trad_model}, Accuracy: {best_trad_model_acc}\")\n",
    "# model_acc_array"
   ]
  },
  {
   "cell_type": "code",
   "execution_count": 31,
   "metadata": {},
   "outputs": [
    {
     "name": "stdout",
     "output_type": "stream",
     "text": [
      "name: knn, accuracy: 0.8839907192575406\n",
      "name: svm, accuracy: 0.888631090487239\n",
      "name: svm_rbf, accuracy: 0.8909512761020881\n",
      "name: rf, accuracy: 0.925754060324826\n",
      "name: nb, accuracy: 0.8631090487238979\n"
     ]
    }
   ],
   "source": [
    "for i in range(0, len(model_name_array)):\n",
    "    print(f\"name: {model_name_array[i]}, accuracy: {model_acc_array[i]}\")"
   ]
  },
  {
   "cell_type": "code",
   "execution_count": 32,
   "metadata": {},
   "outputs": [
    {
     "data": {
      "text/plain": [
       "{0: 646, 1: 647}"
      ]
     },
     "execution_count": 32,
     "metadata": {},
     "output_type": "execute_result"
    }
   ],
   "source": [
    "unique, counts = np.unique(y_train, return_counts=True)\n",
    "dict(zip(unique, counts))"
   ]
  },
  {
   "cell_type": "code",
   "execution_count": 33,
   "metadata": {},
   "outputs": [],
   "source": [
    "from sklearn.model_selection import KFold\n",
    "from sklearn.model_selection import cross_val_score"
   ]
  },
  {
   "cell_type": "code",
   "execution_count": 34,
   "metadata": {},
   "outputs": [],
   "source": [
    "unfiltered_model_dictionary = {\"knn\": knn_model,\n",
    "                             \"svm\": svm_model,\n",
    "                             \"svm_rbf\": svm_rbf_model,\n",
    "                             \"rf\": rf_model,\n",
    "                             \"nb\": nb_model}"
   ]
  },
  {
   "cell_type": "code",
   "execution_count": 35,
   "metadata": {},
   "outputs": [],
   "source": [
    "def perform_cross_val_all_models(model_dictionary, X_train, y_train, num_folds=5):\n",
    "    cv = KFold(n_splits=num_folds, shuffle=True, random_state=42)\n",
    "    scores_array = []\n",
    "\n",
    "    for model_name in model_dictionary:\n",
    "        model = model_dictionary[model_name]\n",
    "        scores = cross_val_score(model, X_train, y_train, cv=cv)\n",
    "        scores_array.append((model_name, scores))\n",
    "    \n",
    "    return scores_array"
   ]
  },
  {
   "cell_type": "code",
   "execution_count": 36,
   "metadata": {},
   "outputs": [
    {
     "name": "stderr",
     "output_type": "stream",
     "text": [
      "c:\\Users\\Alex\\anaconda3\\lib\\site-packages\\sklearn\\neighbors\\_classification.py:198: DataConversionWarning: A column-vector y was passed when a 1d array was expected. Please change the shape of y to (n_samples,), for example using ravel().\n",
      "  return self._fit(X, y)\n",
      "c:\\Users\\Alex\\anaconda3\\lib\\site-packages\\sklearn\\neighbors\\_classification.py:228: FutureWarning: Unlike other reduction functions (e.g. `skew`, `kurtosis`), the default behavior of `mode` typically preserves the axis it acts along. In SciPy 1.11.0, this behavior will change: the default value of `keepdims` will become False, the `axis` over which the statistic is taken will be eliminated, and the value None will no longer be accepted. Set `keepdims` to True or False to avoid this warning.\n",
      "  mode, _ = stats.mode(_y[neigh_ind, k], axis=1)\n",
      "c:\\Users\\Alex\\anaconda3\\lib\\site-packages\\sklearn\\neighbors\\_classification.py:198: DataConversionWarning: A column-vector y was passed when a 1d array was expected. Please change the shape of y to (n_samples,), for example using ravel().\n",
      "  return self._fit(X, y)\n",
      "c:\\Users\\Alex\\anaconda3\\lib\\site-packages\\sklearn\\neighbors\\_classification.py:228: FutureWarning: Unlike other reduction functions (e.g. `skew`, `kurtosis`), the default behavior of `mode` typically preserves the axis it acts along. In SciPy 1.11.0, this behavior will change: the default value of `keepdims` will become False, the `axis` over which the statistic is taken will be eliminated, and the value None will no longer be accepted. Set `keepdims` to True or False to avoid this warning.\n",
      "  mode, _ = stats.mode(_y[neigh_ind, k], axis=1)\n",
      "c:\\Users\\Alex\\anaconda3\\lib\\site-packages\\sklearn\\neighbors\\_classification.py:198: DataConversionWarning: A column-vector y was passed when a 1d array was expected. Please change the shape of y to (n_samples,), for example using ravel().\n",
      "  return self._fit(X, y)\n",
      "c:\\Users\\Alex\\anaconda3\\lib\\site-packages\\sklearn\\neighbors\\_classification.py:228: FutureWarning: Unlike other reduction functions (e.g. `skew`, `kurtosis`), the default behavior of `mode` typically preserves the axis it acts along. In SciPy 1.11.0, this behavior will change: the default value of `keepdims` will become False, the `axis` over which the statistic is taken will be eliminated, and the value None will no longer be accepted. Set `keepdims` to True or False to avoid this warning.\n",
      "  mode, _ = stats.mode(_y[neigh_ind, k], axis=1)\n",
      "c:\\Users\\Alex\\anaconda3\\lib\\site-packages\\sklearn\\neighbors\\_classification.py:198: DataConversionWarning: A column-vector y was passed when a 1d array was expected. Please change the shape of y to (n_samples,), for example using ravel().\n",
      "  return self._fit(X, y)\n",
      "c:\\Users\\Alex\\anaconda3\\lib\\site-packages\\sklearn\\neighbors\\_classification.py:228: FutureWarning: Unlike other reduction functions (e.g. `skew`, `kurtosis`), the default behavior of `mode` typically preserves the axis it acts along. In SciPy 1.11.0, this behavior will change: the default value of `keepdims` will become False, the `axis` over which the statistic is taken will be eliminated, and the value None will no longer be accepted. Set `keepdims` to True or False to avoid this warning.\n",
      "  mode, _ = stats.mode(_y[neigh_ind, k], axis=1)\n",
      "c:\\Users\\Alex\\anaconda3\\lib\\site-packages\\sklearn\\neighbors\\_classification.py:198: DataConversionWarning: A column-vector y was passed when a 1d array was expected. Please change the shape of y to (n_samples,), for example using ravel().\n",
      "  return self._fit(X, y)\n",
      "c:\\Users\\Alex\\anaconda3\\lib\\site-packages\\sklearn\\neighbors\\_classification.py:228: FutureWarning: Unlike other reduction functions (e.g. `skew`, `kurtosis`), the default behavior of `mode` typically preserves the axis it acts along. In SciPy 1.11.0, this behavior will change: the default value of `keepdims` will become False, the `axis` over which the statistic is taken will be eliminated, and the value None will no longer be accepted. Set `keepdims` to True or False to avoid this warning.\n",
      "  mode, _ = stats.mode(_y[neigh_ind, k], axis=1)\n",
      "c:\\Users\\Alex\\anaconda3\\lib\\site-packages\\sklearn\\utils\\validation.py:993: DataConversionWarning: A column-vector y was passed when a 1d array was expected. Please change the shape of y to (n_samples, ), for example using ravel().\n",
      "  y = column_or_1d(y, warn=True)\n",
      "c:\\Users\\Alex\\anaconda3\\lib\\site-packages\\sklearn\\utils\\validation.py:993: DataConversionWarning: A column-vector y was passed when a 1d array was expected. Please change the shape of y to (n_samples, ), for example using ravel().\n",
      "  y = column_or_1d(y, warn=True)\n",
      "c:\\Users\\Alex\\anaconda3\\lib\\site-packages\\sklearn\\utils\\validation.py:993: DataConversionWarning: A column-vector y was passed when a 1d array was expected. Please change the shape of y to (n_samples, ), for example using ravel().\n",
      "  y = column_or_1d(y, warn=True)\n",
      "c:\\Users\\Alex\\anaconda3\\lib\\site-packages\\sklearn\\utils\\validation.py:993: DataConversionWarning: A column-vector y was passed when a 1d array was expected. Please change the shape of y to (n_samples, ), for example using ravel().\n",
      "  y = column_or_1d(y, warn=True)\n",
      "c:\\Users\\Alex\\anaconda3\\lib\\site-packages\\sklearn\\utils\\validation.py:993: DataConversionWarning: A column-vector y was passed when a 1d array was expected. Please change the shape of y to (n_samples, ), for example using ravel().\n",
      "  y = column_or_1d(y, warn=True)\n",
      "c:\\Users\\Alex\\anaconda3\\lib\\site-packages\\sklearn\\utils\\validation.py:993: DataConversionWarning: A column-vector y was passed when a 1d array was expected. Please change the shape of y to (n_samples, ), for example using ravel().\n",
      "  y = column_or_1d(y, warn=True)\n",
      "c:\\Users\\Alex\\anaconda3\\lib\\site-packages\\sklearn\\utils\\validation.py:993: DataConversionWarning: A column-vector y was passed when a 1d array was expected. Please change the shape of y to (n_samples, ), for example using ravel().\n",
      "  y = column_or_1d(y, warn=True)\n",
      "c:\\Users\\Alex\\anaconda3\\lib\\site-packages\\sklearn\\utils\\validation.py:993: DataConversionWarning: A column-vector y was passed when a 1d array was expected. Please change the shape of y to (n_samples, ), for example using ravel().\n",
      "  y = column_or_1d(y, warn=True)\n",
      "c:\\Users\\Alex\\anaconda3\\lib\\site-packages\\sklearn\\utils\\validation.py:993: DataConversionWarning: A column-vector y was passed when a 1d array was expected. Please change the shape of y to (n_samples, ), for example using ravel().\n",
      "  y = column_or_1d(y, warn=True)\n",
      "c:\\Users\\Alex\\anaconda3\\lib\\site-packages\\sklearn\\utils\\validation.py:993: DataConversionWarning: A column-vector y was passed when a 1d array was expected. Please change the shape of y to (n_samples, ), for example using ravel().\n",
      "  y = column_or_1d(y, warn=True)\n",
      "c:\\Users\\Alex\\anaconda3\\lib\\site-packages\\sklearn\\model_selection\\_validation.py:680: DataConversionWarning: A column-vector y was passed when a 1d array was expected. Please change the shape of y to (n_samples,), for example using ravel().\n",
      "  estimator.fit(X_train, y_train, **fit_params)\n",
      "c:\\Users\\Alex\\anaconda3\\lib\\site-packages\\sklearn\\model_selection\\_validation.py:680: DataConversionWarning: A column-vector y was passed when a 1d array was expected. Please change the shape of y to (n_samples,), for example using ravel().\n",
      "  estimator.fit(X_train, y_train, **fit_params)\n",
      "c:\\Users\\Alex\\anaconda3\\lib\\site-packages\\sklearn\\model_selection\\_validation.py:680: DataConversionWarning: A column-vector y was passed when a 1d array was expected. Please change the shape of y to (n_samples,), for example using ravel().\n",
      "  estimator.fit(X_train, y_train, **fit_params)\n",
      "c:\\Users\\Alex\\anaconda3\\lib\\site-packages\\sklearn\\model_selection\\_validation.py:680: DataConversionWarning: A column-vector y was passed when a 1d array was expected. Please change the shape of y to (n_samples,), for example using ravel().\n",
      "  estimator.fit(X_train, y_train, **fit_params)\n",
      "c:\\Users\\Alex\\anaconda3\\lib\\site-packages\\sklearn\\model_selection\\_validation.py:680: DataConversionWarning: A column-vector y was passed when a 1d array was expected. Please change the shape of y to (n_samples,), for example using ravel().\n",
      "  estimator.fit(X_train, y_train, **fit_params)\n",
      "c:\\Users\\Alex\\anaconda3\\lib\\site-packages\\sklearn\\utils\\validation.py:993: DataConversionWarning: A column-vector y was passed when a 1d array was expected. Please change the shape of y to (n_samples, ), for example using ravel().\n",
      "  y = column_or_1d(y, warn=True)\n",
      "c:\\Users\\Alex\\anaconda3\\lib\\site-packages\\sklearn\\utils\\validation.py:993: DataConversionWarning: A column-vector y was passed when a 1d array was expected. Please change the shape of y to (n_samples, ), for example using ravel().\n",
      "  y = column_or_1d(y, warn=True)\n",
      "c:\\Users\\Alex\\anaconda3\\lib\\site-packages\\sklearn\\utils\\validation.py:993: DataConversionWarning: A column-vector y was passed when a 1d array was expected. Please change the shape of y to (n_samples, ), for example using ravel().\n",
      "  y = column_or_1d(y, warn=True)\n",
      "c:\\Users\\Alex\\anaconda3\\lib\\site-packages\\sklearn\\utils\\validation.py:993: DataConversionWarning: A column-vector y was passed when a 1d array was expected. Please change the shape of y to (n_samples, ), for example using ravel().\n",
      "  y = column_or_1d(y, warn=True)\n",
      "c:\\Users\\Alex\\anaconda3\\lib\\site-packages\\sklearn\\utils\\validation.py:993: DataConversionWarning: A column-vector y was passed when a 1d array was expected. Please change the shape of y to (n_samples, ), for example using ravel().\n",
      "  y = column_or_1d(y, warn=True)\n"
     ]
    }
   ],
   "source": [
    "scores_array = perform_cross_val_all_models(unfiltered_model_dictionary, X_train, y_train)"
   ]
  },
  {
   "cell_type": "code",
   "execution_count": 37,
   "metadata": {},
   "outputs": [
    {
     "name": "stdout",
     "output_type": "stream",
     "text": [
      "knn Accuracy: 0.89 (+/- 0.03)\n",
      "svm Accuracy: 0.90 (+/- 0.03)\n",
      "svm_rbf Accuracy: 0.91 (+/- 0.03)\n",
      "rf Accuracy: 0.91 (+/- 0.03)\n",
      "nb Accuracy: 0.89 (+/- 0.03)\n"
     ]
    }
   ],
   "source": [
    "for cv_tuple in scores_array:\n",
    "    print(\"%s Accuracy: %0.2f (+/- %0.2f)\" % (cv_tuple[0], cv_tuple[1].mean(), cv_tuple[1].std() * 2))"
   ]
  },
  {
   "cell_type": "code",
   "execution_count": 38,
   "metadata": {},
   "outputs": [],
   "source": [
    "from sklearn.metrics import classification_report"
   ]
  },
  {
   "cell_type": "code",
   "execution_count": 39,
   "metadata": {},
   "outputs": [],
   "source": [
    "def print_all_classification_reports(model_dictionary, X_test, y_test): # broken!!! only works for filtered data. TODO: change X_test and y_test to params\n",
    "        for model_name in model_dictionary:\n",
    "                print(\"Classification report for %s\" % model_name)\n",
    "                model = model_dictionary[model_name]\n",
    "                predicted = model.predict(X_test)\n",
    "                print(classification_report(y_test, predicted))\n",
    "                print(\"=====================================================\")"
   ]
  },
  {
   "cell_type": "code",
   "execution_count": 40,
   "metadata": {},
   "outputs": [
    {
     "name": "stdout",
     "output_type": "stream",
     "text": [
      "Classification report for knn\n",
      "              precision    recall  f1-score   support\n",
      "\n",
      "           0       0.88      0.88      0.88       216\n",
      "           1       0.88      0.88      0.88       215\n",
      "\n",
      "    accuracy                           0.88       431\n",
      "   macro avg       0.88      0.88      0.88       431\n",
      "weighted avg       0.88      0.88      0.88       431\n",
      "\n",
      "=====================================================\n",
      "Classification report for svm\n",
      "              precision    recall  f1-score   support\n",
      "\n",
      "           0       0.87      0.91      0.89       216\n",
      "           1       0.91      0.87      0.89       215\n",
      "\n",
      "    accuracy                           0.89       431\n",
      "   macro avg       0.89      0.89      0.89       431\n",
      "weighted avg       0.89      0.89      0.89       431\n",
      "\n",
      "=====================================================\n",
      "Classification report for svm_rbf\n",
      "              precision    recall  f1-score   support\n",
      "\n",
      "           0       0.88      0.90      0.89       216\n",
      "           1       0.90      0.88      0.89       215\n",
      "\n",
      "    accuracy                           0.89       431\n",
      "   macro avg       0.89      0.89      0.89       431\n",
      "weighted avg       0.89      0.89      0.89       431\n",
      "\n",
      "=====================================================\n",
      "Classification report for rf\n",
      "              precision    recall  f1-score   support\n",
      "\n",
      "           0       0.94      0.91      0.92       216\n",
      "           1       0.91      0.94      0.93       215\n",
      "\n",
      "    accuracy                           0.93       431\n",
      "   macro avg       0.93      0.93      0.93       431\n",
      "weighted avg       0.93      0.93      0.93       431\n",
      "\n",
      "=====================================================\n",
      "Classification report for nb\n",
      "              precision    recall  f1-score   support\n",
      "\n",
      "           0       0.83      0.92      0.87       216\n",
      "           1       0.91      0.81      0.86       215\n",
      "\n",
      "    accuracy                           0.86       431\n",
      "   macro avg       0.87      0.86      0.86       431\n",
      "weighted avg       0.87      0.86      0.86       431\n",
      "\n",
      "=====================================================\n"
     ]
    },
    {
     "name": "stderr",
     "output_type": "stream",
     "text": [
      "c:\\Users\\Alex\\anaconda3\\lib\\site-packages\\sklearn\\neighbors\\_classification.py:228: FutureWarning: Unlike other reduction functions (e.g. `skew`, `kurtosis`), the default behavior of `mode` typically preserves the axis it acts along. In SciPy 1.11.0, this behavior will change: the default value of `keepdims` will become False, the `axis` over which the statistic is taken will be eliminated, and the value None will no longer be accepted. Set `keepdims` to True or False to avoid this warning.\n",
      "  mode, _ = stats.mode(_y[neigh_ind, k], axis=1)\n"
     ]
    }
   ],
   "source": [
    "print_all_classification_reports(unfiltered_model_dictionary, X_test, y_test)"
   ]
  },
  {
   "cell_type": "code",
   "execution_count": 41,
   "metadata": {},
   "outputs": [],
   "source": [
    "def print_all_classification_reports_training(model_dictionary, X_train, y_train):\n",
    "        for model_name in model_dictionary:\n",
    "                print(\"Classification report for %s\" % model_name)\n",
    "                model = model_dictionary[model_name]\n",
    "                predicted = model.predict(X_train)\n",
    "                print(classification_report(y_train, predicted))\n",
    "                print(\"=====================================================\")"
   ]
  },
  {
   "cell_type": "code",
   "execution_count": 42,
   "metadata": {},
   "outputs": [
    {
     "name": "stdout",
     "output_type": "stream",
     "text": [
      "Classification report for knn\n",
      "              precision    recall  f1-score   support\n",
      "\n",
      "           0       0.94      0.89      0.92       646\n",
      "           1       0.90      0.94      0.92       647\n",
      "\n",
      "    accuracy                           0.92      1293\n",
      "   macro avg       0.92      0.92      0.92      1293\n",
      "weighted avg       0.92      0.92      0.92      1293\n",
      "\n",
      "=====================================================\n",
      "Classification report for svm\n",
      "              precision    recall  f1-score   support\n",
      "\n",
      "           0       0.90      0.91      0.90       646\n",
      "           1       0.91      0.89      0.90       647\n",
      "\n",
      "    accuracy                           0.90      1293\n",
      "   macro avg       0.90      0.90      0.90      1293\n",
      "weighted avg       0.90      0.90      0.90      1293\n",
      "\n",
      "=====================================================\n",
      "Classification report for svm_rbf\n",
      "              precision    recall  f1-score   support\n",
      "\n",
      "           0       0.92      0.90      0.91       646\n",
      "           1       0.90      0.92      0.91       647\n",
      "\n",
      "    accuracy                           0.91      1293\n",
      "   macro avg       0.91      0.91      0.91      1293\n",
      "weighted avg       0.91      0.91      0.91      1293\n",
      "\n",
      "=====================================================\n",
      "Classification report for rf\n",
      "              precision    recall  f1-score   support\n",
      "\n",
      "           0       1.00      1.00      1.00       646\n",
      "           1       1.00      1.00      1.00       647\n",
      "\n",
      "    accuracy                           1.00      1293\n",
      "   macro avg       1.00      1.00      1.00      1293\n",
      "weighted avg       1.00      1.00      1.00      1293\n",
      "\n",
      "=====================================================\n",
      "Classification report for nb\n",
      "              precision    recall  f1-score   support\n",
      "\n",
      "           0       0.86      0.93      0.89       646\n",
      "           1       0.93      0.85      0.88       647\n",
      "\n",
      "    accuracy                           0.89      1293\n",
      "   macro avg       0.89      0.89      0.89      1293\n",
      "weighted avg       0.89      0.89      0.89      1293\n",
      "\n",
      "=====================================================\n"
     ]
    },
    {
     "name": "stderr",
     "output_type": "stream",
     "text": [
      "c:\\Users\\Alex\\anaconda3\\lib\\site-packages\\sklearn\\neighbors\\_classification.py:228: FutureWarning: Unlike other reduction functions (e.g. `skew`, `kurtosis`), the default behavior of `mode` typically preserves the axis it acts along. In SciPy 1.11.0, this behavior will change: the default value of `keepdims` will become False, the `axis` over which the statistic is taken will be eliminated, and the value None will no longer be accepted. Set `keepdims` to True or False to avoid this warning.\n",
      "  mode, _ = stats.mode(_y[neigh_ind, k], axis=1)\n"
     ]
    }
   ],
   "source": [
    "print_all_classification_reports_training(unfiltered_model_dictionary, X_train, y_train)"
   ]
  },
  {
   "cell_type": "code",
   "execution_count": 147,
   "metadata": {},
   "outputs": [
    {
     "data": {
      "text/plain": [
       "['Final Models/exp1_rf_unfiltered.joblib']"
      ]
     },
     "execution_count": 147,
     "metadata": {},
     "output_type": "execute_result"
    }
   ],
   "source": [
    "from joblib import dump, load\n",
    "# save clf using joblib\n",
    "# dump(rf_model, 'Final Models/exp1_rf_unfiltered.joblib')"
   ]
  },
  {
   "attachments": {},
   "cell_type": "markdown",
   "metadata": {},
   "source": [
    "### Deep Learning"
   ]
  },
  {
   "cell_type": "markdown",
   "metadata": {},
   "source": [
    "#### The models below are trained using data which went through low-pass filter"
   ]
  },
  {
   "cell_type": "code",
   "execution_count": 44,
   "metadata": {},
   "outputs": [
    {
     "data": {
      "text/plain": [
       "((1724, 31, 3), (1724,))"
      ]
     },
     "execution_count": 44,
     "metadata": {},
     "output_type": "execute_result"
    }
   ],
   "source": [
    "X_unfiltered_undersampled, y_unfiltered_underampled = feature_util.balance_windows_undersample(X_unfiltered, y_unfiltered)\n",
    "X_unfiltered_undersampled.shape, y_unfiltered_underampled.shape"
   ]
  },
  {
   "cell_type": "code",
   "execution_count": 45,
   "metadata": {},
   "outputs": [
    {
     "data": {
      "text/plain": [
       "((1293, 31, 3), (431, 31, 3), (1293,))"
      ]
     },
     "execution_count": 45,
     "metadata": {},
     "output_type": "execute_result"
    }
   ],
   "source": [
    "# X_raw_train, X_raw_test, y_raw_train, y_raw_test = train_test_split(X_unfiltered, y_unfiltered, test_size=0.25, random_state=0, stratify=y_unfiltered)\n",
    "X_raw_train, X_raw_test, y_raw_train, y_raw_test = train_test_split(X_unfiltered_undersampled, y_unfiltered_underampled, test_size=0.25, random_state=0, stratify=y_unfiltered_underampled)\n",
    "X_raw_train.shape, X_raw_test.shape, y_raw_train.shape"
   ]
  },
  {
   "cell_type": "code",
   "execution_count": 46,
   "metadata": {},
   "outputs": [
    {
     "data": {
      "text/plain": [
       "(31, 3)"
      ]
     },
     "execution_count": 46,
     "metadata": {},
     "output_type": "execute_result"
    }
   ],
   "source": [
    "X_raw_train[0].shape"
   ]
  },
  {
   "cell_type": "code",
   "execution_count": 47,
   "metadata": {},
   "outputs": [],
   "source": [
    "X_TRAIN_SIZE = X_raw_train.shape[0]\n",
    "X_TEST_SIZE = X_raw_test.shape[0]\n",
    "X_TRAIN_WINDOW_SIZE = X_raw_train.shape[1]\n",
    "X_TEST_WINDOW_SIZE = X_raw_test.shape[1]"
   ]
  },
  {
   "cell_type": "code",
   "execution_count": 48,
   "metadata": {},
   "outputs": [],
   "source": [
    "X_raw_train = X_raw_train.reshape(X_TRAIN_SIZE, X_TRAIN_WINDOW_SIZE, 3, 1)\n",
    "X_raw_test = X_raw_test.reshape(X_TEST_SIZE, X_TEST_WINDOW_SIZE, 3, 1)"
   ]
  },
  {
   "cell_type": "code",
   "execution_count": 49,
   "metadata": {},
   "outputs": [
    {
     "data": {
      "text/plain": [
       "((31, 3, 1), (31, 3, 1))"
      ]
     },
     "execution_count": 49,
     "metadata": {},
     "output_type": "execute_result"
    }
   ],
   "source": [
    "X_raw_train[0].shape, X_raw_test[0].shape"
   ]
  },
  {
   "cell_type": "code",
   "execution_count": 50,
   "metadata": {},
   "outputs": [],
   "source": [
    "import tensorflow as tf\n",
    "from tensorflow.keras import Sequential\n",
    "from tensorflow.keras.layers import Flatten, Dense, Dropout, BatchNormalization\n",
    "from tensorflow.keras.layers import Conv2D, MaxPool2D\n",
    "from tensorflow.keras.optimizers import Adam"
   ]
  },
  {
   "cell_type": "code",
   "execution_count": 51,
   "metadata": {},
   "outputs": [],
   "source": [
    "cnn_model = Sequential()\n",
    "cnn_model.add(Conv2D(16, (2, 2), activation='relu', input_shape=X_raw_train[0].shape))\n",
    "cnn_model.add(Conv2D(32, (2, 2), activation='relu'))\n",
    "cnn_model.add(Flatten())\n",
    "cnn_model.add(Dense(64, activation='relu'))\n",
    "cnn_model.add(Dense(2, activation='softmax'))"
   ]
  },
  {
   "cell_type": "code",
   "execution_count": 52,
   "metadata": {},
   "outputs": [],
   "source": [
    "cnn_model.compile(optimizer=Adam(learning_rate=0.001), loss='sparse_categorical_crossentropy', metrics=['accuracy'])"
   ]
  },
  {
   "cell_type": "code",
   "execution_count": 53,
   "metadata": {},
   "outputs": [],
   "source": [
    "NUMBER_OF_EPOCHS = 15"
   ]
  },
  {
   "cell_type": "code",
   "execution_count": 54,
   "metadata": {},
   "outputs": [
    {
     "name": "stdout",
     "output_type": "stream",
     "text": [
      "Epoch 1/15\n",
      "41/41 [==============================] - 2s 13ms/step - loss: 0.4138 - accuracy: 0.8237 - val_loss: 0.2106 - val_accuracy: 0.9281\n",
      "Epoch 2/15\n",
      "41/41 [==============================] - 0s 4ms/step - loss: 0.1856 - accuracy: 0.9404 - val_loss: 0.1670 - val_accuracy: 0.9350\n",
      "Epoch 3/15\n",
      "41/41 [==============================] - 0s 4ms/step - loss: 0.1416 - accuracy: 0.9497 - val_loss: 0.1537 - val_accuracy: 0.9397\n",
      "Epoch 4/15\n",
      "41/41 [==============================] - 0s 4ms/step - loss: 0.1232 - accuracy: 0.9613 - val_loss: 0.1570 - val_accuracy: 0.9350\n",
      "Epoch 5/15\n",
      "41/41 [==============================] - 0s 4ms/step - loss: 0.0999 - accuracy: 0.9675 - val_loss: 0.1568 - val_accuracy: 0.9374\n",
      "Epoch 6/15\n",
      "41/41 [==============================] - 0s 4ms/step - loss: 0.0839 - accuracy: 0.9722 - val_loss: 0.1518 - val_accuracy: 0.9466\n",
      "Epoch 7/15\n",
      "41/41 [==============================] - 0s 4ms/step - loss: 0.0783 - accuracy: 0.9737 - val_loss: 0.1610 - val_accuracy: 0.9490\n",
      "Epoch 8/15\n",
      "41/41 [==============================] - 0s 4ms/step - loss: 0.0668 - accuracy: 0.9776 - val_loss: 0.1479 - val_accuracy: 0.9443\n",
      "Epoch 9/15\n",
      "41/41 [==============================] - 0s 5ms/step - loss: 0.0507 - accuracy: 0.9861 - val_loss: 0.1581 - val_accuracy: 0.9443\n",
      "Epoch 10/15\n",
      "41/41 [==============================] - 0s 4ms/step - loss: 0.0529 - accuracy: 0.9830 - val_loss: 0.1793 - val_accuracy: 0.9281\n",
      "Epoch 11/15\n",
      "41/41 [==============================] - 0s 4ms/step - loss: 0.0430 - accuracy: 0.9869 - val_loss: 0.1755 - val_accuracy: 0.9443\n",
      "Epoch 12/15\n",
      "41/41 [==============================] - 0s 4ms/step - loss: 0.0329 - accuracy: 0.9915 - val_loss: 0.1695 - val_accuracy: 0.9490\n",
      "Epoch 13/15\n",
      "41/41 [==============================] - 0s 4ms/step - loss: 0.0293 - accuracy: 0.9915 - val_loss: 0.1751 - val_accuracy: 0.9443\n",
      "Epoch 14/15\n",
      "41/41 [==============================] - 0s 4ms/step - loss: 0.0216 - accuracy: 0.9938 - val_loss: 0.1991 - val_accuracy: 0.9397\n",
      "Epoch 15/15\n",
      "41/41 [==============================] - 0s 3ms/step - loss: 0.0211 - accuracy: 0.9961 - val_loss: 0.1867 - val_accuracy: 0.9420\n"
     ]
    }
   ],
   "source": [
    "history = cnn_model.fit(X_raw_train, y_raw_train, epochs=NUMBER_OF_EPOCHS, validation_data=(X_raw_test, y_raw_test), verbose=1)"
   ]
  },
  {
   "cell_type": "code",
   "execution_count": 55,
   "metadata": {},
   "outputs": [],
   "source": [
    "import matplotlib.pyplot as plt"
   ]
  },
  {
   "cell_type": "code",
   "execution_count": 56,
   "metadata": {},
   "outputs": [],
   "source": [
    "def plot_learning_curve(history, epochs):\n",
    "    epoch_range = range(1, epochs + 1)\n",
    "    plt.plot(epoch_range, history.history['accuracy'])\n",
    "    plt.plot(epoch_range, history.history['val_accuracy'])\n",
    "    plt.title('Model Accuracy')\n",
    "    plt.ylabel('Accuracy')\n",
    "    plt.xlabel('Epoch')\n",
    "    plt.legend(['Train', 'Val'], loc='upper left')\n",
    "    plt.show()\n",
    "\n",
    "    plt.plot(epoch_range, history.history['loss'])\n",
    "    plt.plot(epoch_range, history.history['val_loss'])\n",
    "    plt.title('Model Loss')\n",
    "    plt.ylabel('Loss')\n",
    "    plt.xlabel('Epoch')\n",
    "    plt.legend(['Train', 'Val'], loc='upper left')\n",
    "    plt.show()"
   ]
  },
  {
   "cell_type": "code",
   "execution_count": 57,
   "metadata": {},
   "outputs": [
    {
     "data": {
      "image/png": "[encoded data removed]",
      "text/plain": [
       "<Figure size 640x480 with 1 Axes>"
      ]
     },
     "metadata": {},
     "output_type": "display_data"
    },
    {
     "data": {
      "image/png": "[encoded data removed]",
      "text/plain": [
       "<Figure size 640x480 with 1 Axes>"
      ]
     },
     "metadata": {},
     "output_type": "display_data"
    }
   ],
   "source": [
    "plot_learning_curve(history, NUMBER_OF_EPOCHS)"
   ]
  },
  {
   "cell_type": "code",
   "execution_count": 58,
   "metadata": {},
   "outputs": [],
   "source": [
    "from sklearn.metrics import ConfusionMatrixDisplay"
   ]
  },
  {
   "cell_type": "code",
   "execution_count": 59,
   "metadata": {},
   "outputs": [
    {
     "name": "stdout",
     "output_type": "stream",
     "text": [
      "14/14 [==============================] - 0s 2ms/step\n",
      "[[206  10]\n",
      " [ 15 200]]\n",
      "0.9419953596287703\n",
      "0.9419953596287703\n"
     ]
    }
   ],
   "source": [
    "# predicted_cnn = cnn_model.predict_classes(X_raw_test)\n",
    "predicted_cnn = np.argmax(cnn_model.predict(X_raw_test), axis=-1)\n",
    "\n",
    "# Print metrics\n",
    "print(confusion_matrix(y_raw_test, predicted_cnn))\n",
    "print(accuracy_score(y_raw_test, predicted_cnn))\n",
    "print(f1_score(y_raw_test, predicted_cnn, average='micro'))\n",
    "# ConfusionMatrixDisplay.from_predictions(y_raw_test, predicted_cnn)"
   ]
  },
  {
   "cell_type": "code",
   "execution_count": 60,
   "metadata": {},
   "outputs": [
    {
     "name": "stdout",
     "output_type": "stream",
     "text": [
      "              precision    recall  f1-score   support\n",
      "\n",
      "           0       0.93      0.95      0.94       216\n",
      "           1       0.95      0.93      0.94       215\n",
      "\n",
      "    accuracy                           0.94       431\n",
      "   macro avg       0.94      0.94      0.94       431\n",
      "weighted avg       0.94      0.94      0.94       431\n",
      "\n"
     ]
    }
   ],
   "source": [
    "from sklearn.metrics import classification_report\n",
    "\n",
    "print(classification_report(y_raw_test, predicted_cnn))"
   ]
  },
  {
   "cell_type": "code",
   "execution_count": 61,
   "metadata": {},
   "outputs": [],
   "source": [
    "# results = cnn_model.evaluate(X_raw_test, y_raw_test)\n",
    "# print(\"test loss, test acc: \", results)"
   ]
  },
  {
   "cell_type": "code",
   "execution_count": 144,
   "metadata": {},
   "outputs": [
    {
     "name": "stdout",
     "output_type": "stream",
     "text": [
      "0.9435395359992981\n"
     ]
    }
   ],
   "source": [
    "cnn_unfiltered_cv_metrics = feature_util.cross_val_cnn(X_raw_train, y_raw_train, X_raw_train[0].shape, NUMBER_OF_EPOCHS, 5)\n",
    "feature_util.compute_cnn_cross_val_mean(cnn_unfiltered_cv_metrics)"
   ]
  },
  {
   "cell_type": "code",
   "execution_count": 149,
   "metadata": {},
   "outputs": [
    {
     "name": "stderr",
     "output_type": "stream",
     "text": [
      "WARNING:absl:Found untraced functions such as _jit_compiled_convolution_op, _jit_compiled_convolution_op, _update_step_xla while saving (showing 3 of 3). These functions will not be directly callable after loading.\n"
     ]
    },
    {
     "name": "stdout",
     "output_type": "stream",
     "text": [
      "INFO:tensorflow:Assets written to: Final Models/exp1_cnn_unfiltered\\assets\n"
     ]
    },
    {
     "name": "stderr",
     "output_type": "stream",
     "text": [
      "INFO:tensorflow:Assets written to: Final Models/exp1_cnn_unfiltered\\assets\n"
     ]
    }
   ],
   "source": [
    "# cnn_model.save('Final Models/exp1_cnn_unfiltered')"
   ]
  },
  {
   "attachments": {},
   "cell_type": "markdown",
   "metadata": {},
   "source": [
    "## II - Filtered"
   ]
  },
  {
   "cell_type": "code",
   "execution_count": 62,
   "metadata": {},
   "outputs": [
    {
     "data": {
      "text/html": [
       "<div>\n",
       "<style scoped>\n",
       "    .dataframe tbody tr th:only-of-type {\n",
       "        vertical-align: middle;\n",
       "    }\n",
       "\n",
       "    .dataframe tbody tr th {\n",
       "        vertical-align: top;\n",
       "    }\n",
       "\n",
       "    .dataframe thead th {\n",
       "        text-align: right;\n",
       "    }\n",
       "</style>\n",
       "<table border=\"1\" class=\"dataframe\">\n",
       "  <thead>\n",
       "    <tr style=\"text-align: right;\">\n",
       "      <th></th>\n",
       "      <th>x_ax</th>\n",
       "      <th>y_ax</th>\n",
       "      <th>z_ax</th>\n",
       "      <th>outcome</th>\n",
       "    </tr>\n",
       "  </thead>\n",
       "  <tbody>\n",
       "    <tr>\n",
       "      <th>0</th>\n",
       "      <td>1.058341</td>\n",
       "      <td>0.096574</td>\n",
       "      <td>0.112934</td>\n",
       "      <td>0</td>\n",
       "    </tr>\n",
       "    <tr>\n",
       "      <th>1</th>\n",
       "      <td>0.895934</td>\n",
       "      <td>0.178424</td>\n",
       "      <td>0.163770</td>\n",
       "      <td>0</td>\n",
       "    </tr>\n",
       "    <tr>\n",
       "      <th>2</th>\n",
       "      <td>0.813437</td>\n",
       "      <td>0.222202</td>\n",
       "      <td>0.169857</td>\n",
       "      <td>0</td>\n",
       "    </tr>\n",
       "    <tr>\n",
       "      <th>3</th>\n",
       "      <td>0.828629</td>\n",
       "      <td>0.216133</td>\n",
       "      <td>0.119465</td>\n",
       "      <td>0</td>\n",
       "    </tr>\n",
       "    <tr>\n",
       "      <th>4</th>\n",
       "      <td>0.894310</td>\n",
       "      <td>0.179974</td>\n",
       "      <td>0.040379</td>\n",
       "      <td>0</td>\n",
       "    </tr>\n",
       "    <tr>\n",
       "      <th>...</th>\n",
       "      <td>...</td>\n",
       "      <td>...</td>\n",
       "      <td>...</td>\n",
       "      <td>...</td>\n",
       "    </tr>\n",
       "    <tr>\n",
       "      <th>183801</th>\n",
       "      <td>0.855340</td>\n",
       "      <td>0.367065</td>\n",
       "      <td>0.089292</td>\n",
       "      <td>0</td>\n",
       "    </tr>\n",
       "    <tr>\n",
       "      <th>183802</th>\n",
       "      <td>0.750066</td>\n",
       "      <td>0.405776</td>\n",
       "      <td>0.084742</td>\n",
       "      <td>0</td>\n",
       "    </tr>\n",
       "    <tr>\n",
       "      <th>183803</th>\n",
       "      <td>0.692327</td>\n",
       "      <td>0.453963</td>\n",
       "      <td>0.054610</td>\n",
       "      <td>0</td>\n",
       "    </tr>\n",
       "    <tr>\n",
       "      <th>183804</th>\n",
       "      <td>0.705525</td>\n",
       "      <td>0.527850</td>\n",
       "      <td>-0.023513</td>\n",
       "      <td>0</td>\n",
       "    </tr>\n",
       "    <tr>\n",
       "      <th>183805</th>\n",
       "      <td>0.770298</td>\n",
       "      <td>0.624641</td>\n",
       "      <td>-0.140462</td>\n",
       "      <td>0</td>\n",
       "    </tr>\n",
       "  </tbody>\n",
       "</table>\n",
       "<p>183806 rows × 4 columns</p>\n",
       "</div>"
      ],
      "text/plain": [
       "            x_ax      y_ax      z_ax  outcome\n",
       "0       1.058341  0.096574  0.112934        0\n",
       "1       0.895934  0.178424  0.163770        0\n",
       "2       0.813437  0.222202  0.169857        0\n",
       "3       0.828629  0.216133  0.119465        0\n",
       "4       0.894310  0.179974  0.040379        0\n",
       "...          ...       ...       ...      ...\n",
       "183801  0.855340  0.367065  0.089292        0\n",
       "183802  0.750066  0.405776  0.084742        0\n",
       "183803  0.692327  0.453963  0.054610        0\n",
       "183804  0.705525  0.527850 -0.023513        0\n",
       "183805  0.770298  0.624641 -0.140462        0\n",
       "\n",
       "[183806 rows x 4 columns]"
      ]
     },
     "execution_count": 62,
     "metadata": {},
     "output_type": "execute_result"
    }
   ],
   "source": [
    "data_filtered = pd.read_csv(\"New Datasets/filtered_smartfall_training_dataset.csv\")\n",
    "data_filtered = pd.concat([data_filtered, pd.read_csv(\"New Datasets/filtered_smartfall_testing_dataset.csv\")], axis=0).reset_index(drop=True)\n",
    "\n",
    "data_filtered = data_filtered.drop(['Unnamed: 0'], axis=1)\n",
    "data_filtered"
   ]
  },
  {
   "cell_type": "code",
   "execution_count": 63,
   "metadata": {},
   "outputs": [
    {
     "name": "stderr",
     "output_type": "stream",
     "text": [
      "c:\\Users\\Alex\\OneDrive - The University of Nottingham\\Comp Sci\\Year 3\\Dissertation\\Code\\feature_util.py:22: FutureWarning: Unlike other reduction functions (e.g. `skew`, `kurtosis`), the default behavior of `mode` typically preserves the axis it acts along. In SciPy 1.11.0, this behavior will change: the default value of `keepdims` will become False, the `axis` over which the statistic is taken will be eliminated, and the value None will no longer be accepted. Set `keepdims` to True or False to avoid this warning.\n",
      "  label = stats.mode(df['outcome'][i: i + frame_size])[0][0]\n"
     ]
    },
    {
     "data": {
      "text/plain": [
       "(12252, 11)"
      ]
     },
     "execution_count": 63,
     "metadata": {},
     "output_type": "execute_result"
    }
   ],
   "source": [
    "X_filtered, y_filtered = feature_util.get_frames(data_filtered, frame_size, hop_size, True)\n",
    "features_filtered = feature_util.extract_features(X_filtered)\n",
    "features_filtered.shape"
   ]
  },
  {
   "cell_type": "code",
   "execution_count": 64,
   "metadata": {},
   "outputs": [],
   "source": [
    "feature_filtered_df = pd.DataFrame(features_filtered)\n",
    "\n",
    "y_filtered_df = pd.DataFrame(y_filtered)\n",
    "y_filtered_df = y_filtered_df.rename(mapper={0:\"outcome\"}, axis=1)\n",
    "y_filtered_df\n",
    "feature_and_outcome_filtered_df = pd.concat([feature_filtered_df, y_filtered_df], axis=1)"
   ]
  },
  {
   "cell_type": "code",
   "execution_count": 65,
   "metadata": {},
   "outputs": [
    {
     "data": {
      "text/plain": [
       "0    11390\n",
       "1      862\n",
       "Name: outcome, dtype: int64"
      ]
     },
     "execution_count": 65,
     "metadata": {},
     "output_type": "execute_result"
    }
   ],
   "source": [
    "feature_and_outcome_filtered_df['outcome'].value_counts()"
   ]
  },
  {
   "cell_type": "code",
   "execution_count": 66,
   "metadata": {},
   "outputs": [
    {
     "data": {
      "text/html": [
       "<div>\n",
       "<style scoped>\n",
       "    .dataframe tbody tr th:only-of-type {\n",
       "        vertical-align: middle;\n",
       "    }\n",
       "\n",
       "    .dataframe tbody tr th {\n",
       "        vertical-align: top;\n",
       "    }\n",
       "\n",
       "    .dataframe thead th {\n",
       "        text-align: right;\n",
       "    }\n",
       "</style>\n",
       "<table border=\"1\" class=\"dataframe\">\n",
       "  <thead>\n",
       "    <tr style=\"text-align: right;\">\n",
       "      <th></th>\n",
       "      <th>0</th>\n",
       "      <th>1</th>\n",
       "      <th>2</th>\n",
       "      <th>3</th>\n",
       "      <th>4</th>\n",
       "      <th>5</th>\n",
       "      <th>6</th>\n",
       "      <th>7</th>\n",
       "      <th>8</th>\n",
       "      <th>9</th>\n",
       "      <th>10</th>\n",
       "      <th>outcome</th>\n",
       "    </tr>\n",
       "  </thead>\n",
       "  <tbody>\n",
       "    <tr>\n",
       "      <th>5572</th>\n",
       "      <td>0.563255</td>\n",
       "      <td>0.547300</td>\n",
       "      <td>0.548597</td>\n",
       "      <td>0.150201</td>\n",
       "      <td>0.147291</td>\n",
       "      <td>0.150750</td>\n",
       "      <td>-0.667199</td>\n",
       "      <td>-0.723564</td>\n",
       "      <td>-0.499222</td>\n",
       "      <td>1.453727</td>\n",
       "      <td>0.604877</td>\n",
       "      <td>0</td>\n",
       "    </tr>\n",
       "    <tr>\n",
       "      <th>2108</th>\n",
       "      <td>0.437992</td>\n",
       "      <td>0.452197</td>\n",
       "      <td>0.445794</td>\n",
       "      <td>0.758991</td>\n",
       "      <td>0.721840</td>\n",
       "      <td>0.768077</td>\n",
       "      <td>6.561224</td>\n",
       "      <td>2.108846</td>\n",
       "      <td>7.740681</td>\n",
       "      <td>4.668490</td>\n",
       "      <td>0.145525</td>\n",
       "      <td>1</td>\n",
       "    </tr>\n",
       "    <tr>\n",
       "      <th>2899</th>\n",
       "      <td>0.091205</td>\n",
       "      <td>0.069713</td>\n",
       "      <td>0.078839</td>\n",
       "      <td>0.684882</td>\n",
       "      <td>0.675422</td>\n",
       "      <td>0.674243</td>\n",
       "      <td>-0.258293</td>\n",
       "      <td>-0.602683</td>\n",
       "      <td>-0.591433</td>\n",
       "      <td>2.814919</td>\n",
       "      <td>0.245526</td>\n",
       "      <td>0</td>\n",
       "    </tr>\n",
       "    <tr>\n",
       "      <th>4603</th>\n",
       "      <td>0.539319</td>\n",
       "      <td>0.518820</td>\n",
       "      <td>0.514932</td>\n",
       "      <td>0.706581</td>\n",
       "      <td>0.680098</td>\n",
       "      <td>0.637549</td>\n",
       "      <td>3.624315</td>\n",
       "      <td>1.504952</td>\n",
       "      <td>3.596003</td>\n",
       "      <td>3.913648</td>\n",
       "      <td>0.336627</td>\n",
       "      <td>1</td>\n",
       "    </tr>\n",
       "    <tr>\n",
       "      <th>5589</th>\n",
       "      <td>0.402067</td>\n",
       "      <td>0.369213</td>\n",
       "      <td>0.363785</td>\n",
       "      <td>0.432440</td>\n",
       "      <td>0.416568</td>\n",
       "      <td>0.406856</td>\n",
       "      <td>-0.632807</td>\n",
       "      <td>-0.534244</td>\n",
       "      <td>-0.667952</td>\n",
       "      <td>2.253072</td>\n",
       "      <td>0.048876</td>\n",
       "      <td>0</td>\n",
       "    </tr>\n",
       "    <tr>\n",
       "      <th>...</th>\n",
       "      <td>...</td>\n",
       "      <td>...</td>\n",
       "      <td>...</td>\n",
       "      <td>...</td>\n",
       "      <td>...</td>\n",
       "      <td>...</td>\n",
       "      <td>...</td>\n",
       "      <td>...</td>\n",
       "      <td>...</td>\n",
       "      <td>...</td>\n",
       "      <td>...</td>\n",
       "      <td>...</td>\n",
       "    </tr>\n",
       "    <tr>\n",
       "      <th>2500</th>\n",
       "      <td>0.486481</td>\n",
       "      <td>0.501617</td>\n",
       "      <td>0.504582</td>\n",
       "      <td>0.583232</td>\n",
       "      <td>0.584460</td>\n",
       "      <td>0.639529</td>\n",
       "      <td>1.873074</td>\n",
       "      <td>1.118648</td>\n",
       "      <td>-0.161801</td>\n",
       "      <td>3.722797</td>\n",
       "      <td>0.145906</td>\n",
       "      <td>1</td>\n",
       "    </tr>\n",
       "    <tr>\n",
       "      <th>4270</th>\n",
       "      <td>0.453592</td>\n",
       "      <td>0.458569</td>\n",
       "      <td>0.425169</td>\n",
       "      <td>0.890483</td>\n",
       "      <td>0.846867</td>\n",
       "      <td>0.871765</td>\n",
       "      <td>5.144472</td>\n",
       "      <td>5.637226</td>\n",
       "      <td>1.658816</td>\n",
       "      <td>6.093663</td>\n",
       "      <td>0.099027</td>\n",
       "      <td>1</td>\n",
       "    </tr>\n",
       "    <tr>\n",
       "      <th>9936</th>\n",
       "      <td>-0.086226</td>\n",
       "      <td>-0.059767</td>\n",
       "      <td>-0.047698</td>\n",
       "      <td>0.519741</td>\n",
       "      <td>0.511010</td>\n",
       "      <td>0.527623</td>\n",
       "      <td>-1.298370</td>\n",
       "      <td>-1.308462</td>\n",
       "      <td>-1.379745</td>\n",
       "      <td>1.486591</td>\n",
       "      <td>0.097219</td>\n",
       "      <td>0</td>\n",
       "    </tr>\n",
       "    <tr>\n",
       "      <th>7604</th>\n",
       "      <td>-0.036306</td>\n",
       "      <td>-0.032490</td>\n",
       "      <td>-0.050403</td>\n",
       "      <td>1.224656</td>\n",
       "      <td>1.204645</td>\n",
       "      <td>1.171669</td>\n",
       "      <td>7.811374</td>\n",
       "      <td>2.445133</td>\n",
       "      <td>8.763307</td>\n",
       "      <td>6.371651</td>\n",
       "      <td>0.148762</td>\n",
       "      <td>1</td>\n",
       "    </tr>\n",
       "    <tr>\n",
       "      <th>2483</th>\n",
       "      <td>0.460474</td>\n",
       "      <td>0.475725</td>\n",
       "      <td>0.455778</td>\n",
       "      <td>0.619865</td>\n",
       "      <td>0.612413</td>\n",
       "      <td>0.618563</td>\n",
       "      <td>0.161193</td>\n",
       "      <td>0.958641</td>\n",
       "      <td>-0.070005</td>\n",
       "      <td>3.716361</td>\n",
       "      <td>0.020920</td>\n",
       "      <td>1</td>\n",
       "    </tr>\n",
       "  </tbody>\n",
       "</table>\n",
       "<p>1724 rows × 12 columns</p>\n",
       "</div>"
      ],
      "text/plain": [
       "             0         1         2         3         4         5         6  \\\n",
       "5572  0.563255  0.547300  0.548597  0.150201  0.147291  0.150750 -0.667199   \n",
       "2108  0.437992  0.452197  0.445794  0.758991  0.721840  0.768077  6.561224   \n",
       "2899  0.091205  0.069713  0.078839  0.684882  0.675422  0.674243 -0.258293   \n",
       "4603  0.539319  0.518820  0.514932  0.706581  0.680098  0.637549  3.624315   \n",
       "5589  0.402067  0.369213  0.363785  0.432440  0.416568  0.406856 -0.632807   \n",
       "...        ...       ...       ...       ...       ...       ...       ...   \n",
       "2500  0.486481  0.501617  0.504582  0.583232  0.584460  0.639529  1.873074   \n",
       "4270  0.453592  0.458569  0.425169  0.890483  0.846867  0.871765  5.144472   \n",
       "9936 -0.086226 -0.059767 -0.047698  0.519741  0.511010  0.527623 -1.298370   \n",
       "7604 -0.036306 -0.032490 -0.050403  1.224656  1.204645  1.171669  7.811374   \n",
       "2483  0.460474  0.475725  0.455778  0.619865  0.612413  0.618563  0.161193   \n",
       "\n",
       "             7         8         9        10  outcome  \n",
       "5572 -0.723564 -0.499222  1.453727  0.604877        0  \n",
       "2108  2.108846  7.740681  4.668490  0.145525        1  \n",
       "2899 -0.602683 -0.591433  2.814919  0.245526        0  \n",
       "4603  1.504952  3.596003  3.913648  0.336627        1  \n",
       "5589 -0.534244 -0.667952  2.253072  0.048876        0  \n",
       "...        ...       ...       ...       ...      ...  \n",
       "2500  1.118648 -0.161801  3.722797  0.145906        1  \n",
       "4270  5.637226  1.658816  6.093663  0.099027        1  \n",
       "9936 -1.308462 -1.379745  1.486591  0.097219        0  \n",
       "7604  2.445133  8.763307  6.371651  0.148762        1  \n",
       "2483  0.958641 -0.070005  3.716361  0.020920        1  \n",
       "\n",
       "[1724 rows x 12 columns]"
      ]
     },
     "execution_count": 66,
     "metadata": {},
     "output_type": "execute_result"
    }
   ],
   "source": [
    "falls_filtered_df = feature_and_outcome_filtered_df[feature_and_outcome_filtered_df['outcome'] == 1]\n",
    "not_falls_filtered_df = feature_and_outcome_filtered_df[feature_and_outcome_filtered_df['outcome'] == 0]\n",
    "\n",
    "undersampled_not_falls_filtered = not_falls_filtered_df.sample(n=len(falls_filtered_df), random_state=42)\n",
    "balanced_features_filtered = pd.concat([undersampled_not_falls_filtered, falls_filtered_df])\n",
    "balanced_features_filtered = balanced_features_filtered.sample(frac=1, random_state=42)\n",
    "balanced_features_filtered"
   ]
  },
  {
   "cell_type": "code",
   "execution_count": 67,
   "metadata": {},
   "outputs": [
    {
     "data": {
      "text/plain": [
       "outcome\n",
       "0          862\n",
       "1          862\n",
       "dtype: int64"
      ]
     },
     "execution_count": 67,
     "metadata": {},
     "output_type": "execute_result"
    }
   ],
   "source": [
    "features_filtered_shuffled = balanced_features_filtered.drop(columns=['outcome'])\n",
    "features_filtered_shuffled\n",
    "\n",
    "outcome_filtered_shuffled = balanced_features_filtered.loc[:,['outcome']]\n",
    "outcome_filtered_shuffled.value_counts()"
   ]
  },
  {
   "cell_type": "code",
   "execution_count": 68,
   "metadata": {},
   "outputs": [],
   "source": [
    "X_filtered_train, X_filtered_test, y_filtered_train, y_filtered_test = train_test_split(features_filtered_shuffled, outcome_filtered_shuffled, test_size=0.25, random_state=0, stratify=outcome_filtered_shuffled)"
   ]
  },
  {
   "cell_type": "code",
   "execution_count": 69,
   "metadata": {},
   "outputs": [
    {
     "data": {
      "text/plain": [
       "((1293, 11), (431, 11), (1293, 1), (431, 1))"
      ]
     },
     "execution_count": 69,
     "metadata": {},
     "output_type": "execute_result"
    }
   ],
   "source": [
    "X_filtered_train.shape, X_filtered_test.shape, y_filtered_train.shape, y_filtered_test.shape"
   ]
  },
  {
   "cell_type": "code",
   "execution_count": 70,
   "metadata": {},
   "outputs": [
    {
     "data": {
      "text/plain": [
       "{0: 646, 1: 647}"
      ]
     },
     "execution_count": 70,
     "metadata": {},
     "output_type": "execute_result"
    }
   ],
   "source": [
    "unique, counts = np.unique(y_filtered_train, return_counts=True)\n",
    "dict(zip(unique, counts))"
   ]
  },
  {
   "cell_type": "markdown",
   "metadata": {},
   "source": [
    "### Traditional Machine Learning Methods"
   ]
  },
  {
   "cell_type": "code",
   "execution_count": 71,
   "metadata": {},
   "outputs": [],
   "source": [
    "filtered_model_name_array = []\n",
    "filtered_model_acc_array = []"
   ]
  },
  {
   "cell_type": "code",
   "execution_count": 72,
   "metadata": {},
   "outputs": [
    {
     "name": "stderr",
     "output_type": "stream",
     "text": [
      "c:\\Users\\Alex\\anaconda3\\lib\\site-packages\\sklearn\\neighbors\\_classification.py:198: DataConversionWarning: A column-vector y was passed when a 1d array was expected. Please change the shape of y to (n_samples,), for example using ravel().\n",
      "  return self._fit(X, y)\n"
     ]
    },
    {
     "data": {
      "text/plain": [
       "KNeighborsClassifier()"
      ]
     },
     "execution_count": 72,
     "metadata": {},
     "output_type": "execute_result"
    }
   ],
   "source": [
    "knn_model_filtered = KNeighborsClassifier(n_neighbors=5)\n",
    "knn_model_filtered.fit(X_filtered_train, y_filtered_train)"
   ]
  },
  {
   "cell_type": "code",
   "execution_count": 73,
   "metadata": {},
   "outputs": [
    {
     "name": "stdout",
     "output_type": "stream",
     "text": [
      "[[187  29]\n",
      " [ 19 196]]\n",
      "0.888631090487239\n",
      "0.888631090487239\n"
     ]
    },
    {
     "name": "stderr",
     "output_type": "stream",
     "text": [
      "c:\\Users\\Alex\\anaconda3\\lib\\site-packages\\sklearn\\neighbors\\_classification.py:228: FutureWarning: Unlike other reduction functions (e.g. `skew`, `kurtosis`), the default behavior of `mode` typically preserves the axis it acts along. In SciPy 1.11.0, this behavior will change: the default value of `keepdims` will become False, the `axis` over which the statistic is taken will be eliminated, and the value None will no longer be accepted. Set `keepdims` to True or False to avoid this warning.\n",
      "  mode, _ = stats.mode(_y[neigh_ind, k], axis=1)\n"
     ]
    }
   ],
   "source": [
    "# Predict on the test set\n",
    "predicted_knn_filtered = knn_model_filtered.predict(X_filtered_test)\n",
    "\n",
    "# Print metrics\n",
    "print(confusion_matrix(y_filtered_test, predicted_knn_filtered))\n",
    "print(accuracy_score(y_filtered_test, predicted_knn_filtered))\n",
    "print(f1_score(y_filtered_test, predicted_knn_filtered, average='micro'))\n",
    "# compare_trad_models(\"knn\", accuracy_score(y_test, predicted))\n",
    "filtered_model_name_array.append(\"knn\")\n",
    "filtered_model_acc_array.append(accuracy_score(y_filtered_test, predicted_knn_filtered))"
   ]
  },
  {
   "cell_type": "code",
   "execution_count": 74,
   "metadata": {},
   "outputs": [],
   "source": [
    "# from sklearn.model_selection import GridSearchCV\n",
    "\n",
    "# max_features_range = np.arange(1, 6, 1)\n",
    "# n_estimators_range = np.arange(10, 210, 10)\n",
    "# n_neighbors_range = np.arange(1, 100, 1)\n",
    "# # param_grid = dict(max_features = max_features_range, n_estimators = n_estimators_range, n_neighbors = n_neighbors_range)\n",
    "# param_grid = dict(n_neighbors = n_neighbors_range)\n",
    "\n",
    "# knnTest = KNeighborsClassifier(n_neighbors=5)\n",
    "\n",
    "# grid = GridSearchCV(estimator=knnTest, param_grid=param_grid, scoring='accuracy', cv=5)\n",
    "\n",
    "# grid.fit(X_train, y_train)\n",
    "# print(\"The best parameters are %s with a score of %f\" % (grid.best_params_, grid.best_score_))"
   ]
  },
  {
   "cell_type": "code",
   "execution_count": 75,
   "metadata": {},
   "outputs": [
    {
     "name": "stderr",
     "output_type": "stream",
     "text": [
      "c:\\Users\\Alex\\anaconda3\\lib\\site-packages\\sklearn\\utils\\validation.py:993: DataConversionWarning: A column-vector y was passed when a 1d array was expected. Please change the shape of y to (n_samples, ), for example using ravel().\n",
      "  y = column_or_1d(y, warn=True)\n"
     ]
    },
    {
     "data": {
      "text/plain": [
       "SVC(C=1, kernel='linear', random_state=0)"
      ]
     },
     "execution_count": 75,
     "metadata": {},
     "output_type": "execute_result"
    }
   ],
   "source": [
    "svm_model_filtered = svm.SVC(kernel='linear', C=1, random_state=0)\n",
    "# gaussian\n",
    "svm_model_filtered.fit(X_filtered_train, y_filtered_train)"
   ]
  },
  {
   "cell_type": "code",
   "execution_count": 76,
   "metadata": {},
   "outputs": [
    {
     "name": "stdout",
     "output_type": "stream",
     "text": [
      "[[196  20]\n",
      " [ 17 198]]\n",
      "0.91415313225058\n",
      "0.91415313225058\n"
     ]
    }
   ],
   "source": [
    "# Predict on the test set\n",
    "predicted_svm_filtered = svm_model_filtered.predict(X_filtered_test)\n",
    "\n",
    "# Print metrics\n",
    "print(confusion_matrix(y_filtered_test, predicted_svm_filtered))\n",
    "print(accuracy_score(y_filtered_test, predicted_svm_filtered))\n",
    "print(f1_score(y_filtered_test, predicted_svm_filtered, average='micro'))\n",
    "# compare_trad_models(\"knn\", accuracy_score(y_test, predicted))\n",
    "filtered_model_name_array.append(\"svm\")\n",
    "filtered_model_acc_array.append(accuracy_score(y_filtered_test, predicted_svm_filtered))"
   ]
  },
  {
   "cell_type": "code",
   "execution_count": 77,
   "metadata": {},
   "outputs": [
    {
     "name": "stderr",
     "output_type": "stream",
     "text": [
      "c:\\Users\\Alex\\anaconda3\\lib\\site-packages\\sklearn\\utils\\validation.py:993: DataConversionWarning: A column-vector y was passed when a 1d array was expected. Please change the shape of y to (n_samples, ), for example using ravel().\n",
      "  y = column_or_1d(y, warn=True)\n"
     ]
    },
    {
     "data": {
      "text/plain": [
       "SVC(C=1, random_state=0)"
      ]
     },
     "execution_count": 77,
     "metadata": {},
     "output_type": "execute_result"
    }
   ],
   "source": [
    "svm_rbf_model_filtered = svm.SVC(kernel='rbf', C=1, random_state=0)\n",
    "svm_rbf_model_filtered.fit(X_filtered_train, y_filtered_train)"
   ]
  },
  {
   "cell_type": "code",
   "execution_count": 78,
   "metadata": {},
   "outputs": [
    {
     "name": "stdout",
     "output_type": "stream",
     "text": [
      "[[189  27]\n",
      " [ 17 198]]\n",
      "0.8979118329466357\n",
      "0.8979118329466356\n"
     ]
    }
   ],
   "source": [
    "# Predict on the test set\n",
    "predicted_svm_rbf_filtered = svm_rbf_model_filtered.predict(X_filtered_test)\n",
    "\n",
    "# Print metrics\n",
    "print(confusion_matrix(y_filtered_test, predicted_svm_rbf_filtered))\n",
    "print(accuracy_score(y_filtered_test, predicted_svm_rbf_filtered))\n",
    "print(f1_score(y_filtered_test, predicted_svm_rbf_filtered, average='micro'))\n",
    "# compare_trad_models(\"knn\", accuracy_score(y_test, predicted))\n",
    "filtered_model_name_array.append(\"svm_rbf\")\n",
    "filtered_model_acc_array.append(accuracy_score(y_filtered_test, predicted_svm_rbf_filtered))"
   ]
  },
  {
   "cell_type": "code",
   "execution_count": 79,
   "metadata": {},
   "outputs": [
    {
     "name": "stderr",
     "output_type": "stream",
     "text": [
      "C:\\Users\\Alex\\AppData\\Local\\Temp\\ipykernel_42680\\3673001609.py:2: DataConversionWarning: A column-vector y was passed when a 1d array was expected. Please change the shape of y to (n_samples,), for example using ravel().\n",
      "  rf_model_filtered.fit(X_filtered_train, y_filtered_train)\n"
     ]
    },
    {
     "data": {
      "text/plain": [
       "RandomForestClassifier(random_state=42)"
      ]
     },
     "execution_count": 79,
     "metadata": {},
     "output_type": "execute_result"
    }
   ],
   "source": [
    "rf_model_filtered = RandomForestClassifier(n_estimators = 100, random_state = 42)\n",
    "rf_model_filtered.fit(X_filtered_train, y_filtered_train)"
   ]
  },
  {
   "cell_type": "code",
   "execution_count": 80,
   "metadata": {},
   "outputs": [
    {
     "name": "stdout",
     "output_type": "stream",
     "text": [
      "[[189  27]\n",
      " [ 13 202]]\n",
      "0.9071925754060325\n",
      "0.9071925754060325\n"
     ]
    }
   ],
   "source": [
    "# Predict on the test set\n",
    "predicted_rf_filtered = rf_model_filtered.predict(X_filtered_test)\n",
    "\n",
    "# Print metrics\n",
    "print(confusion_matrix(y_filtered_test, predicted_rf_filtered))\n",
    "print(accuracy_score(y_filtered_test, predicted_rf_filtered))\n",
    "print(f1_score(y_filtered_test, predicted_rf_filtered, average='micro'))\n",
    "# compare_trad_models(\"knn\", accuracy_score(y_test, predicted))\n",
    "filtered_model_name_array.append(\"rf\")\n",
    "filtered_model_acc_array.append(accuracy_score(y_filtered_test, predicted_rf_filtered))"
   ]
  },
  {
   "cell_type": "code",
   "execution_count": 81,
   "metadata": {},
   "outputs": [
    {
     "name": "stderr",
     "output_type": "stream",
     "text": [
      "c:\\Users\\Alex\\anaconda3\\lib\\site-packages\\sklearn\\utils\\validation.py:993: DataConversionWarning: A column-vector y was passed when a 1d array was expected. Please change the shape of y to (n_samples, ), for example using ravel().\n",
      "  y = column_or_1d(y, warn=True)\n"
     ]
    },
    {
     "data": {
      "text/plain": [
       "GaussianNB()"
      ]
     },
     "execution_count": 81,
     "metadata": {},
     "output_type": "execute_result"
    }
   ],
   "source": [
    "nb_model_filtered = GaussianNB()\n",
    "nb_model_filtered.fit(X_filtered_train, y_filtered_train)"
   ]
  },
  {
   "cell_type": "code",
   "execution_count": 82,
   "metadata": {},
   "outputs": [
    {
     "name": "stdout",
     "output_type": "stream",
     "text": [
      "[[197  19]\n",
      " [ 44 171]]\n",
      "0.8538283062645011\n",
      "0.8538283062645012\n"
     ]
    }
   ],
   "source": [
    "# Predict on the test set\n",
    "predicted_nb_filtered = nb_model_filtered.predict(X_filtered_test)\n",
    "\n",
    "# Print metrics\n",
    "print(confusion_matrix(y_filtered_test, predicted_nb_filtered))\n",
    "print(accuracy_score(y_filtered_test, predicted_nb_filtered))\n",
    "print(f1_score(y_filtered_test, predicted_nb_filtered, average='micro'))\n",
    "# compare_trad_models(\"knn\", accuracy_score(y_test, predicted))\n",
    "filtered_model_name_array.append(\"nb\")\n",
    "filtered_model_acc_array.append(accuracy_score(y_filtered_test, predicted_nb_filtered))"
   ]
  },
  {
   "cell_type": "code",
   "execution_count": 83,
   "metadata": {},
   "outputs": [
    {
     "name": "stdout",
     "output_type": "stream",
     "text": [
      "Best model: svm, Accuracy: 0.91415313225058\n"
     ]
    }
   ],
   "source": [
    "best_trad_model_acc_filtered = max(filtered_model_acc_array)\n",
    "index = filtered_model_acc_array.index(max(filtered_model_acc_array))\n",
    "best_trad_model_filtered = filtered_model_name_array[index]\n",
    "print(f\"Best model: {best_trad_model_filtered}, Accuracy: {best_trad_model_acc_filtered}\")"
   ]
  },
  {
   "cell_type": "code",
   "execution_count": 84,
   "metadata": {},
   "outputs": [
    {
     "name": "stdout",
     "output_type": "stream",
     "text": [
      "name: knn, accuracy: 0.888631090487239\n",
      "name: svm, accuracy: 0.91415313225058\n",
      "name: svm_rbf, accuracy: 0.8979118329466357\n",
      "name: rf, accuracy: 0.9071925754060325\n",
      "name: nb, accuracy: 0.8538283062645011\n"
     ]
    }
   ],
   "source": [
    "for i in range(0, len(filtered_model_name_array)):\n",
    "    print(f\"name: {filtered_model_name_array[i]}, accuracy: {filtered_model_acc_array[i]}\")"
   ]
  },
  {
   "cell_type": "code",
   "execution_count": 85,
   "metadata": {},
   "outputs": [],
   "source": [
    "filtered_model_dictionary = {\"knn\": knn_model_filtered,\n",
    "                             \"svm\": svm_model_filtered,\n",
    "                             \"svm_rbf\": svm_rbf_model_filtered,\n",
    "                             \"rf\": rf_model_filtered,\n",
    "                             \"nb\": nb_model_filtered}"
   ]
  },
  {
   "cell_type": "code",
   "execution_count": 86,
   "metadata": {},
   "outputs": [
    {
     "name": "stderr",
     "output_type": "stream",
     "text": [
      "c:\\Users\\Alex\\anaconda3\\lib\\site-packages\\sklearn\\neighbors\\_classification.py:198: DataConversionWarning: A column-vector y was passed when a 1d array was expected. Please change the shape of y to (n_samples,), for example using ravel().\n",
      "  return self._fit(X, y)\n",
      "c:\\Users\\Alex\\anaconda3\\lib\\site-packages\\sklearn\\neighbors\\_classification.py:228: FutureWarning: Unlike other reduction functions (e.g. `skew`, `kurtosis`), the default behavior of `mode` typically preserves the axis it acts along. In SciPy 1.11.0, this behavior will change: the default value of `keepdims` will become False, the `axis` over which the statistic is taken will be eliminated, and the value None will no longer be accepted. Set `keepdims` to True or False to avoid this warning.\n",
      "  mode, _ = stats.mode(_y[neigh_ind, k], axis=1)\n",
      "c:\\Users\\Alex\\anaconda3\\lib\\site-packages\\sklearn\\neighbors\\_classification.py:198: DataConversionWarning: A column-vector y was passed when a 1d array was expected. Please change the shape of y to (n_samples,), for example using ravel().\n",
      "  return self._fit(X, y)\n",
      "c:\\Users\\Alex\\anaconda3\\lib\\site-packages\\sklearn\\neighbors\\_classification.py:228: FutureWarning: Unlike other reduction functions (e.g. `skew`, `kurtosis`), the default behavior of `mode` typically preserves the axis it acts along. In SciPy 1.11.0, this behavior will change: the default value of `keepdims` will become False, the `axis` over which the statistic is taken will be eliminated, and the value None will no longer be accepted. Set `keepdims` to True or False to avoid this warning.\n",
      "  mode, _ = stats.mode(_y[neigh_ind, k], axis=1)\n",
      "c:\\Users\\Alex\\anaconda3\\lib\\site-packages\\sklearn\\neighbors\\_classification.py:198: DataConversionWarning: A column-vector y was passed when a 1d array was expected. Please change the shape of y to (n_samples,), for example using ravel().\n",
      "  return self._fit(X, y)\n",
      "c:\\Users\\Alex\\anaconda3\\lib\\site-packages\\sklearn\\neighbors\\_classification.py:228: FutureWarning: Unlike other reduction functions (e.g. `skew`, `kurtosis`), the default behavior of `mode` typically preserves the axis it acts along. In SciPy 1.11.0, this behavior will change: the default value of `keepdims` will become False, the `axis` over which the statistic is taken will be eliminated, and the value None will no longer be accepted. Set `keepdims` to True or False to avoid this warning.\n",
      "  mode, _ = stats.mode(_y[neigh_ind, k], axis=1)\n",
      "c:\\Users\\Alex\\anaconda3\\lib\\site-packages\\sklearn\\neighbors\\_classification.py:198: DataConversionWarning: A column-vector y was passed when a 1d array was expected. Please change the shape of y to (n_samples,), for example using ravel().\n",
      "  return self._fit(X, y)\n",
      "c:\\Users\\Alex\\anaconda3\\lib\\site-packages\\sklearn\\neighbors\\_classification.py:228: FutureWarning: Unlike other reduction functions (e.g. `skew`, `kurtosis`), the default behavior of `mode` typically preserves the axis it acts along. In SciPy 1.11.0, this behavior will change: the default value of `keepdims` will become False, the `axis` over which the statistic is taken will be eliminated, and the value None will no longer be accepted. Set `keepdims` to True or False to avoid this warning.\n",
      "  mode, _ = stats.mode(_y[neigh_ind, k], axis=1)\n",
      "c:\\Users\\Alex\\anaconda3\\lib\\site-packages\\sklearn\\neighbors\\_classification.py:198: DataConversionWarning: A column-vector y was passed when a 1d array was expected. Please change the shape of y to (n_samples,), for example using ravel().\n",
      "  return self._fit(X, y)\n",
      "c:\\Users\\Alex\\anaconda3\\lib\\site-packages\\sklearn\\neighbors\\_classification.py:228: FutureWarning: Unlike other reduction functions (e.g. `skew`, `kurtosis`), the default behavior of `mode` typically preserves the axis it acts along. In SciPy 1.11.0, this behavior will change: the default value of `keepdims` will become False, the `axis` over which the statistic is taken will be eliminated, and the value None will no longer be accepted. Set `keepdims` to True or False to avoid this warning.\n",
      "  mode, _ = stats.mode(_y[neigh_ind, k], axis=1)\n",
      "c:\\Users\\Alex\\anaconda3\\lib\\site-packages\\sklearn\\utils\\validation.py:993: DataConversionWarning: A column-vector y was passed when a 1d array was expected. Please change the shape of y to (n_samples, ), for example using ravel().\n",
      "  y = column_or_1d(y, warn=True)\n",
      "c:\\Users\\Alex\\anaconda3\\lib\\site-packages\\sklearn\\utils\\validation.py:993: DataConversionWarning: A column-vector y was passed when a 1d array was expected. Please change the shape of y to (n_samples, ), for example using ravel().\n",
      "  y = column_or_1d(y, warn=True)\n",
      "c:\\Users\\Alex\\anaconda3\\lib\\site-packages\\sklearn\\utils\\validation.py:993: DataConversionWarning: A column-vector y was passed when a 1d array was expected. Please change the shape of y to (n_samples, ), for example using ravel().\n",
      "  y = column_or_1d(y, warn=True)\n",
      "c:\\Users\\Alex\\anaconda3\\lib\\site-packages\\sklearn\\utils\\validation.py:993: DataConversionWarning: A column-vector y was passed when a 1d array was expected. Please change the shape of y to (n_samples, ), for example using ravel().\n",
      "  y = column_or_1d(y, warn=True)\n",
      "c:\\Users\\Alex\\anaconda3\\lib\\site-packages\\sklearn\\utils\\validation.py:993: DataConversionWarning: A column-vector y was passed when a 1d array was expected. Please change the shape of y to (n_samples, ), for example using ravel().\n",
      "  y = column_or_1d(y, warn=True)\n",
      "c:\\Users\\Alex\\anaconda3\\lib\\site-packages\\sklearn\\utils\\validation.py:993: DataConversionWarning: A column-vector y was passed when a 1d array was expected. Please change the shape of y to (n_samples, ), for example using ravel().\n",
      "  y = column_or_1d(y, warn=True)\n",
      "c:\\Users\\Alex\\anaconda3\\lib\\site-packages\\sklearn\\utils\\validation.py:993: DataConversionWarning: A column-vector y was passed when a 1d array was expected. Please change the shape of y to (n_samples, ), for example using ravel().\n",
      "  y = column_or_1d(y, warn=True)\n",
      "c:\\Users\\Alex\\anaconda3\\lib\\site-packages\\sklearn\\utils\\validation.py:993: DataConversionWarning: A column-vector y was passed when a 1d array was expected. Please change the shape of y to (n_samples, ), for example using ravel().\n",
      "  y = column_or_1d(y, warn=True)\n",
      "c:\\Users\\Alex\\anaconda3\\lib\\site-packages\\sklearn\\utils\\validation.py:993: DataConversionWarning: A column-vector y was passed when a 1d array was expected. Please change the shape of y to (n_samples, ), for example using ravel().\n",
      "  y = column_or_1d(y, warn=True)\n",
      "c:\\Users\\Alex\\anaconda3\\lib\\site-packages\\sklearn\\utils\\validation.py:993: DataConversionWarning: A column-vector y was passed when a 1d array was expected. Please change the shape of y to (n_samples, ), for example using ravel().\n",
      "  y = column_or_1d(y, warn=True)\n",
      "c:\\Users\\Alex\\anaconda3\\lib\\site-packages\\sklearn\\model_selection\\_validation.py:680: DataConversionWarning: A column-vector y was passed when a 1d array was expected. Please change the shape of y to (n_samples,), for example using ravel().\n",
      "  estimator.fit(X_train, y_train, **fit_params)\n",
      "c:\\Users\\Alex\\anaconda3\\lib\\site-packages\\sklearn\\model_selection\\_validation.py:680: DataConversionWarning: A column-vector y was passed when a 1d array was expected. Please change the shape of y to (n_samples,), for example using ravel().\n",
      "  estimator.fit(X_train, y_train, **fit_params)\n",
      "c:\\Users\\Alex\\anaconda3\\lib\\site-packages\\sklearn\\model_selection\\_validation.py:680: DataConversionWarning: A column-vector y was passed when a 1d array was expected. Please change the shape of y to (n_samples,), for example using ravel().\n",
      "  estimator.fit(X_train, y_train, **fit_params)\n",
      "c:\\Users\\Alex\\anaconda3\\lib\\site-packages\\sklearn\\model_selection\\_validation.py:680: DataConversionWarning: A column-vector y was passed when a 1d array was expected. Please change the shape of y to (n_samples,), for example using ravel().\n",
      "  estimator.fit(X_train, y_train, **fit_params)\n",
      "c:\\Users\\Alex\\anaconda3\\lib\\site-packages\\sklearn\\model_selection\\_validation.py:680: DataConversionWarning: A column-vector y was passed when a 1d array was expected. Please change the shape of y to (n_samples,), for example using ravel().\n",
      "  estimator.fit(X_train, y_train, **fit_params)\n",
      "c:\\Users\\Alex\\anaconda3\\lib\\site-packages\\sklearn\\utils\\validation.py:993: DataConversionWarning: A column-vector y was passed when a 1d array was expected. Please change the shape of y to (n_samples, ), for example using ravel().\n",
      "  y = column_or_1d(y, warn=True)\n",
      "c:\\Users\\Alex\\anaconda3\\lib\\site-packages\\sklearn\\utils\\validation.py:993: DataConversionWarning: A column-vector y was passed when a 1d array was expected. Please change the shape of y to (n_samples, ), for example using ravel().\n",
      "  y = column_or_1d(y, warn=True)\n",
      "c:\\Users\\Alex\\anaconda3\\lib\\site-packages\\sklearn\\utils\\validation.py:993: DataConversionWarning: A column-vector y was passed when a 1d array was expected. Please change the shape of y to (n_samples, ), for example using ravel().\n",
      "  y = column_or_1d(y, warn=True)\n",
      "c:\\Users\\Alex\\anaconda3\\lib\\site-packages\\sklearn\\utils\\validation.py:993: DataConversionWarning: A column-vector y was passed when a 1d array was expected. Please change the shape of y to (n_samples, ), for example using ravel().\n",
      "  y = column_or_1d(y, warn=True)\n",
      "c:\\Users\\Alex\\anaconda3\\lib\\site-packages\\sklearn\\utils\\validation.py:993: DataConversionWarning: A column-vector y was passed when a 1d array was expected. Please change the shape of y to (n_samples, ), for example using ravel().\n",
      "  y = column_or_1d(y, warn=True)\n"
     ]
    }
   ],
   "source": [
    "scores_array_filtered = perform_cross_val_all_models(filtered_model_dictionary, X_filtered_train, y_filtered_train)"
   ]
  },
  {
   "cell_type": "code",
   "execution_count": 87,
   "metadata": {},
   "outputs": [
    {
     "name": "stdout",
     "output_type": "stream",
     "text": [
      "knn Accuracy: 0.89 (+/- 0.06)\n",
      "svm Accuracy: 0.88 (+/- 0.04)\n",
      "svm_rbf Accuracy: 0.87 (+/- 0.05)\n",
      "rf Accuracy: 0.89 (+/- 0.04)\n",
      "nb Accuracy: 0.85 (+/- 0.03)\n"
     ]
    }
   ],
   "source": [
    "for cv_tuple in scores_array_filtered:\n",
    "    print(\"%s Accuracy: %0.2f (+/- %0.2f)\" % (cv_tuple[0], cv_tuple[1].mean(), cv_tuple[1].std() * 2))"
   ]
  },
  {
   "cell_type": "code",
   "execution_count": 88,
   "metadata": {},
   "outputs": [
    {
     "name": "stdout",
     "output_type": "stream",
     "text": [
      "Classification report for knn\n",
      "              precision    recall  f1-score   support\n",
      "\n",
      "           0       0.91      0.87      0.89       216\n",
      "           1       0.87      0.91      0.89       215\n",
      "\n",
      "    accuracy                           0.89       431\n",
      "   macro avg       0.89      0.89      0.89       431\n",
      "weighted avg       0.89      0.89      0.89       431\n",
      "\n",
      "=====================================================\n",
      "Classification report for svm\n",
      "              precision    recall  f1-score   support\n",
      "\n",
      "           0       0.92      0.91      0.91       216\n",
      "           1       0.91      0.92      0.91       215\n",
      "\n",
      "    accuracy                           0.91       431\n",
      "   macro avg       0.91      0.91      0.91       431\n",
      "weighted avg       0.91      0.91      0.91       431\n",
      "\n",
      "=====================================================\n",
      "Classification report for svm_rbf\n",
      "              precision    recall  f1-score   support\n",
      "\n",
      "           0       0.92      0.88      0.90       216\n",
      "           1       0.88      0.92      0.90       215\n",
      "\n",
      "    accuracy                           0.90       431\n",
      "   macro avg       0.90      0.90      0.90       431\n",
      "weighted avg       0.90      0.90      0.90       431\n",
      "\n",
      "=====================================================\n",
      "Classification report for rf\n"
     ]
    },
    {
     "name": "stderr",
     "output_type": "stream",
     "text": [
      "c:\\Users\\Alex\\anaconda3\\lib\\site-packages\\sklearn\\neighbors\\_classification.py:228: FutureWarning: Unlike other reduction functions (e.g. `skew`, `kurtosis`), the default behavior of `mode` typically preserves the axis it acts along. In SciPy 1.11.0, this behavior will change: the default value of `keepdims` will become False, the `axis` over which the statistic is taken will be eliminated, and the value None will no longer be accepted. Set `keepdims` to True or False to avoid this warning.\n",
      "  mode, _ = stats.mode(_y[neigh_ind, k], axis=1)\n"
     ]
    },
    {
     "name": "stdout",
     "output_type": "stream",
     "text": [
      "              precision    recall  f1-score   support\n",
      "\n",
      "           0       0.94      0.88      0.90       216\n",
      "           1       0.88      0.94      0.91       215\n",
      "\n",
      "    accuracy                           0.91       431\n",
      "   macro avg       0.91      0.91      0.91       431\n",
      "weighted avg       0.91      0.91      0.91       431\n",
      "\n",
      "=====================================================\n",
      "Classification report for nb\n",
      "              precision    recall  f1-score   support\n",
      "\n",
      "           0       0.82      0.91      0.86       216\n",
      "           1       0.90      0.80      0.84       215\n",
      "\n",
      "    accuracy                           0.85       431\n",
      "   macro avg       0.86      0.85      0.85       431\n",
      "weighted avg       0.86      0.85      0.85       431\n",
      "\n",
      "=====================================================\n"
     ]
    }
   ],
   "source": [
    "print_all_classification_reports(filtered_model_dictionary, X_filtered_test, y_filtered_test)"
   ]
  },
  {
   "cell_type": "code",
   "execution_count": 89,
   "metadata": {},
   "outputs": [
    {
     "name": "stdout",
     "output_type": "stream",
     "text": [
      "Classification report for knn\n",
      "              precision    recall  f1-score   support\n",
      "\n",
      "           0       0.94      0.89      0.91       646\n",
      "           1       0.89      0.95      0.92       647\n",
      "\n",
      "    accuracy                           0.92      1293\n",
      "   macro avg       0.92      0.92      0.92      1293\n",
      "weighted avg       0.92      0.92      0.92      1293\n",
      "\n",
      "=====================================================\n",
      "Classification report for svm\n",
      "              precision    recall  f1-score   support\n",
      "\n",
      "           0       0.89      0.89      0.89       646\n",
      "           1       0.89      0.89      0.89       647\n",
      "\n",
      "    accuracy                           0.89      1293\n",
      "   macro avg       0.89      0.89      0.89      1293\n",
      "weighted avg       0.89      0.89      0.89      1293\n",
      "\n",
      "=====================================================\n",
      "Classification report for svm_rbf\n"
     ]
    },
    {
     "name": "stderr",
     "output_type": "stream",
     "text": [
      "c:\\Users\\Alex\\anaconda3\\lib\\site-packages\\sklearn\\neighbors\\_classification.py:228: FutureWarning: Unlike other reduction functions (e.g. `skew`, `kurtosis`), the default behavior of `mode` typically preserves the axis it acts along. In SciPy 1.11.0, this behavior will change: the default value of `keepdims` will become False, the `axis` over which the statistic is taken will be eliminated, and the value None will no longer be accepted. Set `keepdims` to True or False to avoid this warning.\n",
      "  mode, _ = stats.mode(_y[neigh_ind, k], axis=1)\n"
     ]
    },
    {
     "name": "stdout",
     "output_type": "stream",
     "text": [
      "              precision    recall  f1-score   support\n",
      "\n",
      "           0       0.90      0.85      0.87       646\n",
      "           1       0.86      0.91      0.88       647\n",
      "\n",
      "    accuracy                           0.88      1293\n",
      "   macro avg       0.88      0.88      0.88      1293\n",
      "weighted avg       0.88      0.88      0.88      1293\n",
      "\n",
      "=====================================================\n",
      "Classification report for rf\n",
      "              precision    recall  f1-score   support\n",
      "\n",
      "           0       1.00      1.00      1.00       646\n",
      "           1       1.00      1.00      1.00       647\n",
      "\n",
      "    accuracy                           1.00      1293\n",
      "   macro avg       1.00      1.00      1.00      1293\n",
      "weighted avg       1.00      1.00      1.00      1293\n",
      "\n",
      "=====================================================\n",
      "Classification report for nb\n",
      "              precision    recall  f1-score   support\n",
      "\n",
      "           0       0.81      0.91      0.86       646\n",
      "           1       0.90      0.78      0.84       647\n",
      "\n",
      "    accuracy                           0.85      1293\n",
      "   macro avg       0.85      0.85      0.85      1293\n",
      "weighted avg       0.85      0.85      0.85      1293\n",
      "\n",
      "=====================================================\n"
     ]
    }
   ],
   "source": [
    "print_all_classification_reports_training(filtered_model_dictionary, X_filtered_train, y_filtered_train)"
   ]
  },
  {
   "cell_type": "code",
   "execution_count": 90,
   "metadata": {},
   "outputs": [],
   "source": [
    "from joblib import dump, load\n",
    "# save clf using joblib\n",
    "# dump(rf_model, 'New Models/rf_filtered_normalised.joblib')"
   ]
  },
  {
   "cell_type": "markdown",
   "metadata": {},
   "source": [
    "### Deep Learning"
   ]
  },
  {
   "cell_type": "markdown",
   "metadata": {},
   "source": [
    "#### The models below are trained using data which went through low-pass filter"
   ]
  },
  {
   "cell_type": "code",
   "execution_count": 91,
   "metadata": {},
   "outputs": [
    {
     "data": {
      "text/plain": [
       "((1724, 31, 3), (1724,))"
      ]
     },
     "execution_count": 91,
     "metadata": {},
     "output_type": "execute_result"
    }
   ],
   "source": [
    "X_filtered_undersampled, y_filtered_underampled = feature_util.balance_windows_undersample(X_filtered, y_filtered)\n",
    "X_filtered_undersampled.shape, y_filtered_underampled.shape"
   ]
  },
  {
   "cell_type": "code",
   "execution_count": 92,
   "metadata": {},
   "outputs": [
    {
     "data": {
      "text/plain": [
       "((1293, 31, 3), (431, 31, 3), (1293,))"
      ]
     },
     "execution_count": 92,
     "metadata": {},
     "output_type": "execute_result"
    }
   ],
   "source": [
    "# X_raw_filtered_train, X_raw_filtered_test, y_raw_filtered_train, y_raw_filtered_test = train_test_split(X_filtered, y_filtered, test_size=0.25, random_state=0, stratify=y_filtered)\n",
    "X_raw_filtered_train, X_raw_filtered_test, y_raw_filtered_train, y_raw_filtered_test = train_test_split(X_filtered_undersampled, y_filtered_underampled, test_size=0.25, random_state=0, stratify=y_filtered_underampled)\n",
    "X_raw_filtered_train.shape, X_raw_filtered_test.shape, y_raw_filtered_train.shape"
   ]
  },
  {
   "cell_type": "code",
   "execution_count": 93,
   "metadata": {},
   "outputs": [
    {
     "data": {
      "text/plain": [
       "(31, 3)"
      ]
     },
     "execution_count": 93,
     "metadata": {},
     "output_type": "execute_result"
    }
   ],
   "source": [
    "X_raw_filtered_train[0].shape"
   ]
  },
  {
   "cell_type": "code",
   "execution_count": 94,
   "metadata": {},
   "outputs": [],
   "source": [
    "X_raw_filtered_train = X_raw_filtered_train.reshape(X_TRAIN_SIZE, X_TRAIN_WINDOW_SIZE, 3, 1)\n",
    "X_raw_filtered_test = X_raw_filtered_test.reshape(X_TEST_SIZE, X_TEST_WINDOW_SIZE, 3, 1)"
   ]
  },
  {
   "cell_type": "code",
   "execution_count": 95,
   "metadata": {},
   "outputs": [
    {
     "data": {
      "text/plain": [
       "((31, 3, 1), (31, 3, 1))"
      ]
     },
     "execution_count": 95,
     "metadata": {},
     "output_type": "execute_result"
    }
   ],
   "source": [
    "X_raw_filtered_train[0].shape, X_raw_filtered_test[0].shape"
   ]
  },
  {
   "cell_type": "code",
   "execution_count": 96,
   "metadata": {},
   "outputs": [],
   "source": [
    "cnn_model_filtered = Sequential()\n",
    "cnn_model_filtered.add(Conv2D(16, (2, 2), activation='relu', input_shape=X_raw_filtered_train[0].shape))\n",
    "cnn_model_filtered.add(Conv2D(32, (2, 2), activation='relu'))\n",
    "cnn_model_filtered.add(Flatten())\n",
    "cnn_model_filtered.add(Dense(64, activation='relu'))\n",
    "cnn_model_filtered.add(Dense(2, activation='softmax'))"
   ]
  },
  {
   "cell_type": "code",
   "execution_count": 97,
   "metadata": {},
   "outputs": [],
   "source": [
    "cnn_model_filtered.compile(optimizer=Adam(learning_rate=0.001), loss='sparse_categorical_crossentropy', metrics=['accuracy'])"
   ]
  },
  {
   "cell_type": "code",
   "execution_count": 98,
   "metadata": {},
   "outputs": [
    {
     "name": "stdout",
     "output_type": "stream",
     "text": [
      "Epoch 1/15\n",
      "41/41 [==============================] - 5s 32ms/step - loss: 0.4256 - accuracy: 0.8059 - val_loss: 0.2238 - val_accuracy: 0.9026\n",
      "Epoch 2/15\n",
      "41/41 [==============================] - 0s 12ms/step - loss: 0.2039 - accuracy: 0.9327 - val_loss: 0.1979 - val_accuracy: 0.9095\n",
      "Epoch 3/15\n",
      "41/41 [==============================] - 1s 13ms/step - loss: 0.1808 - accuracy: 0.9397 - val_loss: 0.2222 - val_accuracy: 0.9142\n",
      "Epoch 4/15\n",
      "41/41 [==============================] - 0s 8ms/step - loss: 0.1557 - accuracy: 0.9520 - val_loss: 0.1745 - val_accuracy: 0.9211\n",
      "Epoch 5/15\n",
      "41/41 [==============================] - 0s 7ms/step - loss: 0.1357 - accuracy: 0.9497 - val_loss: 0.2064 - val_accuracy: 0.9374\n",
      "Epoch 6/15\n",
      "41/41 [==============================] - 0s 12ms/step - loss: 0.1313 - accuracy: 0.9505 - val_loss: 0.1493 - val_accuracy: 0.9350\n",
      "Epoch 7/15\n",
      "41/41 [==============================] - 0s 11ms/step - loss: 0.1079 - accuracy: 0.9613 - val_loss: 0.1533 - val_accuracy: 0.9443\n",
      "Epoch 8/15\n",
      "41/41 [==============================] - 0s 11ms/step - loss: 0.1044 - accuracy: 0.9637 - val_loss: 0.1574 - val_accuracy: 0.9397\n",
      "Epoch 9/15\n",
      "41/41 [==============================] - 1s 12ms/step - loss: 0.0873 - accuracy: 0.9691 - val_loss: 0.1454 - val_accuracy: 0.9304\n",
      "Epoch 10/15\n",
      "41/41 [==============================] - 0s 10ms/step - loss: 0.0863 - accuracy: 0.9660 - val_loss: 0.1488 - val_accuracy: 0.9281\n",
      "Epoch 11/15\n",
      "41/41 [==============================] - 1s 13ms/step - loss: 0.0758 - accuracy: 0.9729 - val_loss: 0.1487 - val_accuracy: 0.9397\n",
      "Epoch 12/15\n",
      "41/41 [==============================] - 0s 11ms/step - loss: 0.0587 - accuracy: 0.9814 - val_loss: 0.1425 - val_accuracy: 0.9374\n",
      "Epoch 13/15\n",
      "41/41 [==============================] - 0s 11ms/step - loss: 0.0568 - accuracy: 0.9845 - val_loss: 0.1678 - val_accuracy: 0.9443\n",
      "Epoch 14/15\n",
      "41/41 [==============================] - 0s 9ms/step - loss: 0.0465 - accuracy: 0.9830 - val_loss: 0.1429 - val_accuracy: 0.9327\n",
      "Epoch 15/15\n",
      "41/41 [==============================] - 0s 6ms/step - loss: 0.0375 - accuracy: 0.9915 - val_loss: 0.1535 - val_accuracy: 0.9350\n"
     ]
    }
   ],
   "source": [
    "history_filtered = cnn_model_filtered.fit(X_raw_filtered_train, y_raw_filtered_train, epochs=NUMBER_OF_EPOCHS, validation_data=(X_raw_filtered_test, y_raw_filtered_test), verbose=1)"
   ]
  },
  {
   "cell_type": "code",
   "execution_count": 99,
   "metadata": {},
   "outputs": [
    {
     "data": {
      "image/png": "[encoded data removed]",
      "text/plain": [
       "<Figure size 640x480 with 1 Axes>"
      ]
     },
     "metadata": {},
     "output_type": "display_data"
    },
    {
     "data": {
      "image/png": "[encoded data removed]",
      "text/plain": [
       "<Figure size 640x480 with 1 Axes>"
      ]
     },
     "metadata": {},
     "output_type": "display_data"
    }
   ],
   "source": [
    "plot_learning_curve(history_filtered, NUMBER_OF_EPOCHS)"
   ]
  },
  {
   "cell_type": "code",
   "execution_count": 100,
   "metadata": {},
   "outputs": [
    {
     "name": "stdout",
     "output_type": "stream",
     "text": [
      "14/14 [==============================] - 0s 5ms/step\n",
      "[[202  14]\n",
      " [ 14 201]]\n",
      "0.9350348027842227\n",
      "0.9350348027842227\n"
     ]
    }
   ],
   "source": [
    "# predicted_cnn = cnn_model.predict_classes(X_raw_test)\n",
    "predicted_cnn_filtered = np.argmax(cnn_model_filtered.predict(X_raw_filtered_test), axis=-1)\n",
    "\n",
    "# Print metrics\n",
    "print(confusion_matrix(y_raw_filtered_test, predicted_cnn_filtered))\n",
    "print(accuracy_score(y_raw_filtered_test, predicted_cnn_filtered))\n",
    "print(f1_score(y_raw_filtered_test, predicted_cnn_filtered, average='micro'))\n",
    "# ConfusionMatrixDisplay.from_predictions(y_raw_test, predicted_cnn)"
   ]
  },
  {
   "cell_type": "code",
   "execution_count": 101,
   "metadata": {},
   "outputs": [
    {
     "name": "stdout",
     "output_type": "stream",
     "text": [
      "              precision    recall  f1-score   support\n",
      "\n",
      "           0       0.94      0.94      0.94       216\n",
      "           1       0.93      0.93      0.93       215\n",
      "\n",
      "    accuracy                           0.94       431\n",
      "   macro avg       0.94      0.94      0.94       431\n",
      "weighted avg       0.94      0.94      0.94       431\n",
      "\n"
     ]
    }
   ],
   "source": [
    "from sklearn.metrics import classification_report\n",
    "\n",
    "print(classification_report(y_raw_filtered_test, predicted_cnn_filtered))"
   ]
  },
  {
   "cell_type": "code",
   "execution_count": 102,
   "metadata": {},
   "outputs": [
    {
     "name": "stdout",
     "output_type": "stream",
     "text": [
      "14/14 [==============================] - 0s 5ms/step - loss: 0.1535 - accuracy: 0.9350\n",
      "test loss, test acc:  [0.153490349650383, 0.9350348114967346]\n"
     ]
    }
   ],
   "source": [
    "results_filtered = cnn_model_filtered.evaluate(X_raw_filtered_test, y_raw_filtered_test)\n",
    "print(\"test loss, test acc: \", results_filtered)"
   ]
  },
  {
   "cell_type": "code",
   "execution_count": 145,
   "metadata": {},
   "outputs": [
    {
     "name": "stdout",
     "output_type": "stream",
     "text": [
      "0.9396785497665405\n"
     ]
    }
   ],
   "source": [
    "cnn_filtered_cv_metrics = feature_util.cross_val_cnn(X_raw_filtered_train, y_raw_filtered_train, X_raw_filtered_train[0].shape, NUMBER_OF_EPOCHS, 5)\n",
    "feature_util.compute_cnn_cross_val_mean(cnn_filtered_cv_metrics)"
   ]
  },
  {
   "attachments": {},
   "cell_type": "markdown",
   "metadata": {},
   "source": [
    "## III - Filtered and Normalised"
   ]
  },
  {
   "cell_type": "code",
   "execution_count": 103,
   "metadata": {},
   "outputs": [
    {
     "data": {
      "text/html": [
       "<div>\n",
       "<style scoped>\n",
       "    .dataframe tbody tr th:only-of-type {\n",
       "        vertical-align: middle;\n",
       "    }\n",
       "\n",
       "    .dataframe tbody tr th {\n",
       "        vertical-align: top;\n",
       "    }\n",
       "\n",
       "    .dataframe thead th {\n",
       "        text-align: right;\n",
       "    }\n",
       "</style>\n",
       "<table border=\"1\" class=\"dataframe\">\n",
       "  <thead>\n",
       "    <tr style=\"text-align: right;\">\n",
       "      <th></th>\n",
       "      <th>x_ax</th>\n",
       "      <th>y_ax</th>\n",
       "      <th>z_ax</th>\n",
       "      <th>outcome</th>\n",
       "    </tr>\n",
       "  </thead>\n",
       "  <tbody>\n",
       "    <tr>\n",
       "      <th>0</th>\n",
       "      <td>0.480550</td>\n",
       "      <td>0.365079</td>\n",
       "      <td>0.546276</td>\n",
       "      <td>0</td>\n",
       "    </tr>\n",
       "    <tr>\n",
       "      <th>1</th>\n",
       "      <td>0.465597</td>\n",
       "      <td>0.373657</td>\n",
       "      <td>0.550988</td>\n",
       "      <td>0</td>\n",
       "    </tr>\n",
       "    <tr>\n",
       "      <th>2</th>\n",
       "      <td>0.458001</td>\n",
       "      <td>0.378245</td>\n",
       "      <td>0.551552</td>\n",
       "      <td>0</td>\n",
       "    </tr>\n",
       "    <tr>\n",
       "      <th>3</th>\n",
       "      <td>0.459400</td>\n",
       "      <td>0.377609</td>\n",
       "      <td>0.546882</td>\n",
       "      <td>0</td>\n",
       "    </tr>\n",
       "    <tr>\n",
       "      <th>4</th>\n",
       "      <td>0.465448</td>\n",
       "      <td>0.373819</td>\n",
       "      <td>0.539552</td>\n",
       "      <td>0</td>\n",
       "    </tr>\n",
       "    <tr>\n",
       "      <th>...</th>\n",
       "      <td>...</td>\n",
       "      <td>...</td>\n",
       "      <td>...</td>\n",
       "      <td>...</td>\n",
       "    </tr>\n",
       "    <tr>\n",
       "      <th>183801</th>\n",
       "      <td>0.314151</td>\n",
       "      <td>0.436371</td>\n",
       "      <td>0.556205</td>\n",
       "      <td>0</td>\n",
       "    </tr>\n",
       "    <tr>\n",
       "      <th>183802</th>\n",
       "      <td>0.304108</td>\n",
       "      <td>0.440144</td>\n",
       "      <td>0.555801</td>\n",
       "      <td>0</td>\n",
       "    </tr>\n",
       "    <tr>\n",
       "      <th>183803</th>\n",
       "      <td>0.298599</td>\n",
       "      <td>0.444842</td>\n",
       "      <td>0.553127</td>\n",
       "      <td>0</td>\n",
       "    </tr>\n",
       "    <tr>\n",
       "      <th>183804</th>\n",
       "      <td>0.299858</td>\n",
       "      <td>0.452044</td>\n",
       "      <td>0.546193</td>\n",
       "      <td>0</td>\n",
       "    </tr>\n",
       "    <tr>\n",
       "      <th>183805</th>\n",
       "      <td>0.306038</td>\n",
       "      <td>0.461479</td>\n",
       "      <td>0.535813</td>\n",
       "      <td>0</td>\n",
       "    </tr>\n",
       "  </tbody>\n",
       "</table>\n",
       "<p>183806 rows × 4 columns</p>\n",
       "</div>"
      ],
      "text/plain": [
       "            x_ax      y_ax      z_ax  outcome\n",
       "0       0.480550  0.365079  0.546276        0\n",
       "1       0.465597  0.373657  0.550988        0\n",
       "2       0.458001  0.378245  0.551552        0\n",
       "3       0.459400  0.377609  0.546882        0\n",
       "4       0.465448  0.373819  0.539552        0\n",
       "...          ...       ...       ...      ...\n",
       "183801  0.314151  0.436371  0.556205        0\n",
       "183802  0.304108  0.440144  0.555801        0\n",
       "183803  0.298599  0.444842  0.553127        0\n",
       "183804  0.299858  0.452044  0.546193        0\n",
       "183805  0.306038  0.461479  0.535813        0\n",
       "\n",
       "[183806 rows x 4 columns]"
      ]
     },
     "execution_count": 103,
     "metadata": {},
     "output_type": "execute_result"
    }
   ],
   "source": [
    "data_filtered_normalised = pd.read_csv(\"New Datasets/filtered_normalised_smartfall_training_dataset.csv\")\n",
    "data_filtered_normalised = pd.concat([data_filtered_normalised, pd.read_csv(\"New Datasets/filtered_normalised_smartfall_testing_dataset.csv\")], axis=0).reset_index(drop=True)\n",
    "\n",
    "data_filtered_normalised = data_filtered_normalised.drop(['Unnamed: 0'], axis=1)\n",
    "data_filtered_normalised"
   ]
  },
  {
   "cell_type": "code",
   "execution_count": 104,
   "metadata": {},
   "outputs": [
    {
     "name": "stderr",
     "output_type": "stream",
     "text": [
      "c:\\Users\\Alex\\OneDrive - The University of Nottingham\\Comp Sci\\Year 3\\Dissertation\\Code\\feature_util.py:22: FutureWarning: Unlike other reduction functions (e.g. `skew`, `kurtosis`), the default behavior of `mode` typically preserves the axis it acts along. In SciPy 1.11.0, this behavior will change: the default value of `keepdims` will become False, the `axis` over which the statistic is taken will be eliminated, and the value None will no longer be accepted. Set `keepdims` to True or False to avoid this warning.\n",
      "  label = stats.mode(df['outcome'][i: i + frame_size])[0][0]\n"
     ]
    },
    {
     "data": {
      "text/plain": [
       "(12252, 11)"
      ]
     },
     "execution_count": 104,
     "metadata": {},
     "output_type": "execute_result"
    }
   ],
   "source": [
    "X_filtered_normalised, y_filtered_normalised = feature_util.get_frames(data_filtered_normalised, frame_size, hop_size, True)\n",
    "features_filtered_normalised = feature_util.extract_features(X_filtered_normalised)\n",
    "features_filtered_normalised.shape"
   ]
  },
  {
   "cell_type": "code",
   "execution_count": 105,
   "metadata": {},
   "outputs": [],
   "source": [
    "feature_filtered_normalised_df = pd.DataFrame(features_filtered_normalised)\n",
    "\n",
    "y_filtered_normalised_df = pd.DataFrame(y_filtered)\n",
    "y_filtered_normalised_df = y_filtered_normalised_df.rename(mapper={0:\"outcome\"}, axis=1)\n",
    "y_filtered_normalised_df\n",
    "feature_and_outcome_filtered_normalised_df = pd.concat([feature_filtered_normalised_df, y_filtered_normalised_df], axis=1)"
   ]
  },
  {
   "cell_type": "code",
   "execution_count": 106,
   "metadata": {},
   "outputs": [
    {
     "data": {
      "text/plain": [
       "0    11390\n",
       "1      862\n",
       "Name: outcome, dtype: int64"
      ]
     },
     "execution_count": 106,
     "metadata": {},
     "output_type": "execute_result"
    }
   ],
   "source": [
    "feature_and_outcome_filtered_normalised_df['outcome'].value_counts()"
   ]
  },
  {
   "cell_type": "code",
   "execution_count": 107,
   "metadata": {},
   "outputs": [
    {
     "data": {
      "text/html": [
       "<div>\n",
       "<style scoped>\n",
       "    .dataframe tbody tr th:only-of-type {\n",
       "        vertical-align: middle;\n",
       "    }\n",
       "\n",
       "    .dataframe tbody tr th {\n",
       "        vertical-align: top;\n",
       "    }\n",
       "\n",
       "    .dataframe thead th {\n",
       "        text-align: right;\n",
       "    }\n",
       "</style>\n",
       "<table border=\"1\" class=\"dataframe\">\n",
       "  <thead>\n",
       "    <tr style=\"text-align: right;\">\n",
       "      <th></th>\n",
       "      <th>0</th>\n",
       "      <th>1</th>\n",
       "      <th>2</th>\n",
       "      <th>3</th>\n",
       "      <th>4</th>\n",
       "      <th>5</th>\n",
       "      <th>6</th>\n",
       "      <th>7</th>\n",
       "      <th>8</th>\n",
       "      <th>9</th>\n",
       "      <th>10</th>\n",
       "      <th>outcome</th>\n",
       "    </tr>\n",
       "  </thead>\n",
       "  <tbody>\n",
       "    <tr>\n",
       "      <th>5572</th>\n",
       "      <td>0.477350</td>\n",
       "      <td>0.475114</td>\n",
       "      <td>0.480927</td>\n",
       "      <td>0.069954</td>\n",
       "      <td>0.071545</td>\n",
       "      <td>0.071609</td>\n",
       "      <td>-1.416715</td>\n",
       "      <td>-1.422563</td>\n",
       "      <td>-1.577936</td>\n",
       "      <td>1.012556</td>\n",
       "      <td>0.687352</td>\n",
       "      <td>0</td>\n",
       "    </tr>\n",
       "    <tr>\n",
       "      <th>2108</th>\n",
       "      <td>0.465725</td>\n",
       "      <td>0.466313</td>\n",
       "      <td>0.471355</td>\n",
       "      <td>0.123879</td>\n",
       "      <td>0.121342</td>\n",
       "      <td>0.126107</td>\n",
       "      <td>1.188743</td>\n",
       "      <td>0.125978</td>\n",
       "      <td>1.092278</td>\n",
       "      <td>1.338434</td>\n",
       "      <td>0.549976</td>\n",
       "      <td>1</td>\n",
       "    </tr>\n",
       "    <tr>\n",
       "      <th>2899</th>\n",
       "      <td>0.430257</td>\n",
       "      <td>0.427350</td>\n",
       "      <td>0.434117</td>\n",
       "      <td>0.083647</td>\n",
       "      <td>0.084926</td>\n",
       "      <td>0.085098</td>\n",
       "      <td>-1.109128</td>\n",
       "      <td>-1.341821</td>\n",
       "      <td>-1.183058</td>\n",
       "      <td>0.919024</td>\n",
       "      <td>0.491489</td>\n",
       "      <td>0</td>\n",
       "    </tr>\n",
       "    <tr>\n",
       "      <th>4603</th>\n",
       "      <td>0.474199</td>\n",
       "      <td>0.471472</td>\n",
       "      <td>0.476771</td>\n",
       "      <td>0.101213</td>\n",
       "      <td>0.100071</td>\n",
       "      <td>0.098978</td>\n",
       "      <td>2.840996</td>\n",
       "      <td>1.401276</td>\n",
       "      <td>1.653136</td>\n",
       "      <td>1.279757</td>\n",
       "      <td>0.455349</td>\n",
       "      <td>1</td>\n",
       "    </tr>\n",
       "    <tr>\n",
       "      <th>5589</th>\n",
       "      <td>0.460982</td>\n",
       "      <td>0.457042</td>\n",
       "      <td>0.462321</td>\n",
       "      <td>0.072122</td>\n",
       "      <td>0.074957</td>\n",
       "      <td>0.074548</td>\n",
       "      <td>-1.364787</td>\n",
       "      <td>-1.409618</td>\n",
       "      <td>-1.384226</td>\n",
       "      <td>0.982568</td>\n",
       "      <td>0.599971</td>\n",
       "      <td>0</td>\n",
       "    </tr>\n",
       "    <tr>\n",
       "      <th>...</th>\n",
       "      <td>...</td>\n",
       "      <td>...</td>\n",
       "      <td>...</td>\n",
       "      <td>...</td>\n",
       "      <td>...</td>\n",
       "      <td>...</td>\n",
       "      <td>...</td>\n",
       "      <td>...</td>\n",
       "      <td>...</td>\n",
       "      <td>...</td>\n",
       "      <td>...</td>\n",
       "      <td>...</td>\n",
       "    </tr>\n",
       "    <tr>\n",
       "      <th>2500</th>\n",
       "      <td>0.470730</td>\n",
       "      <td>0.471358</td>\n",
       "      <td>0.477354</td>\n",
       "      <td>0.076300</td>\n",
       "      <td>0.079704</td>\n",
       "      <td>0.084713</td>\n",
       "      <td>-0.724965</td>\n",
       "      <td>-1.189207</td>\n",
       "      <td>-0.783052</td>\n",
       "      <td>1.025568</td>\n",
       "      <td>0.594857</td>\n",
       "      <td>1</td>\n",
       "    </tr>\n",
       "    <tr>\n",
       "      <th>4270</th>\n",
       "      <td>0.466613</td>\n",
       "      <td>0.466100</td>\n",
       "      <td>0.468764</td>\n",
       "      <td>0.112126</td>\n",
       "      <td>0.110932</td>\n",
       "      <td>0.113352</td>\n",
       "      <td>-0.111458</td>\n",
       "      <td>-0.364597</td>\n",
       "      <td>-0.828524</td>\n",
       "      <td>1.220869</td>\n",
       "      <td>0.500487</td>\n",
       "      <td>1</td>\n",
       "    </tr>\n",
       "    <tr>\n",
       "      <th>9936</th>\n",
       "      <td>0.379065</td>\n",
       "      <td>0.387033</td>\n",
       "      <td>0.392818</td>\n",
       "      <td>0.175151</td>\n",
       "      <td>0.170988</td>\n",
       "      <td>0.175836</td>\n",
       "      <td>-1.490069</td>\n",
       "      <td>-1.427926</td>\n",
       "      <td>-1.493726</td>\n",
       "      <td>1.056901</td>\n",
       "      <td>0.260957</td>\n",
       "      <td>0</td>\n",
       "    </tr>\n",
       "    <tr>\n",
       "      <th>7604</th>\n",
       "      <td>0.386634</td>\n",
       "      <td>0.392462</td>\n",
       "      <td>0.395599</td>\n",
       "      <td>0.146605</td>\n",
       "      <td>0.140399</td>\n",
       "      <td>0.141793</td>\n",
       "      <td>-0.341771</td>\n",
       "      <td>-0.402248</td>\n",
       "      <td>-0.829115</td>\n",
       "      <td>1.193058</td>\n",
       "      <td>0.297425</td>\n",
       "      <td>1</td>\n",
       "    </tr>\n",
       "    <tr>\n",
       "      <th>2483</th>\n",
       "      <td>0.467671</td>\n",
       "      <td>0.468330</td>\n",
       "      <td>0.472104</td>\n",
       "      <td>0.093733</td>\n",
       "      <td>0.094836</td>\n",
       "      <td>0.096804</td>\n",
       "      <td>-0.941665</td>\n",
       "      <td>-0.968777</td>\n",
       "      <td>-0.988613</td>\n",
       "      <td>1.065601</td>\n",
       "      <td>0.501937</td>\n",
       "      <td>1</td>\n",
       "    </tr>\n",
       "  </tbody>\n",
       "</table>\n",
       "<p>1724 rows × 12 columns</p>\n",
       "</div>"
      ],
      "text/plain": [
       "             0         1         2         3         4         5         6  \\\n",
       "5572  0.477350  0.475114  0.480927  0.069954  0.071545  0.071609 -1.416715   \n",
       "2108  0.465725  0.466313  0.471355  0.123879  0.121342  0.126107  1.188743   \n",
       "2899  0.430257  0.427350  0.434117  0.083647  0.084926  0.085098 -1.109128   \n",
       "4603  0.474199  0.471472  0.476771  0.101213  0.100071  0.098978  2.840996   \n",
       "5589  0.460982  0.457042  0.462321  0.072122  0.074957  0.074548 -1.364787   \n",
       "...        ...       ...       ...       ...       ...       ...       ...   \n",
       "2500  0.470730  0.471358  0.477354  0.076300  0.079704  0.084713 -0.724965   \n",
       "4270  0.466613  0.466100  0.468764  0.112126  0.110932  0.113352 -0.111458   \n",
       "9936  0.379065  0.387033  0.392818  0.175151  0.170988  0.175836 -1.490069   \n",
       "7604  0.386634  0.392462  0.395599  0.146605  0.140399  0.141793 -0.341771   \n",
       "2483  0.467671  0.468330  0.472104  0.093733  0.094836  0.096804 -0.941665   \n",
       "\n",
       "             7         8         9        10  outcome  \n",
       "5572 -1.422563 -1.577936  1.012556  0.687352        0  \n",
       "2108  0.125978  1.092278  1.338434  0.549976        1  \n",
       "2899 -1.341821 -1.183058  0.919024  0.491489        0  \n",
       "4603  1.401276  1.653136  1.279757  0.455349        1  \n",
       "5589 -1.409618 -1.384226  0.982568  0.599971        0  \n",
       "...        ...       ...       ...       ...      ...  \n",
       "2500 -1.189207 -0.783052  1.025568  0.594857        1  \n",
       "4270 -0.364597 -0.828524  1.220869  0.500487        1  \n",
       "9936 -1.427926 -1.493726  1.056901  0.260957        0  \n",
       "7604 -0.402248 -0.829115  1.193058  0.297425        1  \n",
       "2483 -0.968777 -0.988613  1.065601  0.501937        1  \n",
       "\n",
       "[1724 rows x 12 columns]"
      ]
     },
     "execution_count": 107,
     "metadata": {},
     "output_type": "execute_result"
    }
   ],
   "source": [
    "falls_filtered_normalised_df = feature_and_outcome_filtered_normalised_df[feature_and_outcome_filtered_normalised_df['outcome'] == 1]\n",
    "not_falls_filtered_normalised_df = feature_and_outcome_filtered_normalised_df[feature_and_outcome_filtered_normalised_df['outcome'] == 0]\n",
    "\n",
    "undersampled_not_falls_filtered_normalised = not_falls_filtered_normalised_df.sample(n=len(falls_filtered_normalised_df), random_state=42)\n",
    "balanced_features_filtered_normalised = pd.concat([undersampled_not_falls_filtered_normalised, falls_filtered_normalised_df])\n",
    "balanced_features_filtered_normalised = balanced_features_filtered_normalised.sample(frac=1, random_state=42)\n",
    "balanced_features_filtered_normalised"
   ]
  },
  {
   "cell_type": "code",
   "execution_count": 108,
   "metadata": {},
   "outputs": [
    {
     "data": {
      "text/plain": [
       "outcome\n",
       "0          862\n",
       "1          862\n",
       "dtype: int64"
      ]
     },
     "execution_count": 108,
     "metadata": {},
     "output_type": "execute_result"
    }
   ],
   "source": [
    "features_filtered_normalised_shuffled = balanced_features_filtered_normalised.drop(columns=['outcome'])\n",
    "features_filtered_normalised_shuffled\n",
    "\n",
    "outcome_filtered_normalised_shuffled = balanced_features_filtered_normalised.loc[:,['outcome']]\n",
    "outcome_filtered_normalised_shuffled.value_counts()"
   ]
  },
  {
   "cell_type": "code",
   "execution_count": 109,
   "metadata": {},
   "outputs": [],
   "source": [
    "X_filtered_normalised_train, X_filtered_normalised_test, y_filtered_normalised_train, y_filtered_normalised_test = train_test_split(features_filtered_normalised_shuffled, outcome_filtered_normalised_shuffled, test_size=0.25, random_state=0, stratify=outcome_filtered_normalised_shuffled)"
   ]
  },
  {
   "cell_type": "code",
   "execution_count": 110,
   "metadata": {},
   "outputs": [
    {
     "data": {
      "text/plain": [
       "((1293, 11), (431, 11), (1293, 1), (431, 1))"
      ]
     },
     "execution_count": 110,
     "metadata": {},
     "output_type": "execute_result"
    }
   ],
   "source": [
    "X_filtered_normalised_train.shape, X_filtered_normalised_test.shape, y_filtered_normalised_train.shape, y_filtered_normalised_test.shape"
   ]
  },
  {
   "cell_type": "code",
   "execution_count": 111,
   "metadata": {},
   "outputs": [
    {
     "data": {
      "text/plain": [
       "{0: 646, 1: 647}"
      ]
     },
     "execution_count": 111,
     "metadata": {},
     "output_type": "execute_result"
    }
   ],
   "source": [
    "unique, counts = np.unique(y_filtered_train, return_counts=True)\n",
    "dict(zip(unique, counts))"
   ]
  },
  {
   "cell_type": "markdown",
   "metadata": {},
   "source": [
    "### Traditional Machine Learning Methods"
   ]
  },
  {
   "cell_type": "code",
   "execution_count": 112,
   "metadata": {},
   "outputs": [],
   "source": [
    "filtered_normalised_model_name_array = []\n",
    "filtered_normalised_model_acc_array = []"
   ]
  },
  {
   "cell_type": "code",
   "execution_count": 113,
   "metadata": {},
   "outputs": [
    {
     "name": "stderr",
     "output_type": "stream",
     "text": [
      "c:\\Users\\Alex\\anaconda3\\lib\\site-packages\\sklearn\\neighbors\\_classification.py:198: DataConversionWarning: A column-vector y was passed when a 1d array was expected. Please change the shape of y to (n_samples,), for example using ravel().\n",
      "  return self._fit(X, y)\n"
     ]
    },
    {
     "data": {
      "text/plain": [
       "KNeighborsClassifier()"
      ]
     },
     "execution_count": 113,
     "metadata": {},
     "output_type": "execute_result"
    }
   ],
   "source": [
    "knn_model_filtered_normalised = KNeighborsClassifier(n_neighbors=5)\n",
    "knn_model_filtered_normalised.fit(X_filtered_normalised_train, y_filtered_normalised_train)"
   ]
  },
  {
   "cell_type": "code",
   "execution_count": 114,
   "metadata": {},
   "outputs": [
    {
     "name": "stderr",
     "output_type": "stream",
     "text": [
      "c:\\Users\\Alex\\anaconda3\\lib\\site-packages\\sklearn\\neighbors\\_classification.py:228: FutureWarning: Unlike other reduction functions (e.g. `skew`, `kurtosis`), the default behavior of `mode` typically preserves the axis it acts along. In SciPy 1.11.0, this behavior will change: the default value of `keepdims` will become False, the `axis` over which the statistic is taken will be eliminated, and the value None will no longer be accepted. Set `keepdims` to True or False to avoid this warning.\n",
      "  mode, _ = stats.mode(_y[neigh_ind, k], axis=1)\n"
     ]
    },
    {
     "name": "stdout",
     "output_type": "stream",
     "text": [
      "[[178  38]\n",
      " [ 20 195]]\n",
      "0.8654292343387471\n",
      "0.8654292343387471\n"
     ]
    }
   ],
   "source": [
    "# Predict on the test set\n",
    "predicted_knn_filtered_normalised = knn_model_filtered_normalised.predict(X_filtered_normalised_test)\n",
    "\n",
    "# Print metrics\n",
    "print(confusion_matrix(y_filtered_normalised_test, predicted_knn_filtered_normalised))\n",
    "print(accuracy_score(y_filtered_normalised_test, predicted_knn_filtered_normalised))\n",
    "print(f1_score(y_filtered_normalised_test, predicted_knn_filtered_normalised, average='micro'))\n",
    "# compare_trad_models(\"knn\", accuracy_score(y_test, predicted))\n",
    "filtered_normalised_model_name_array.append(\"knn\")\n",
    "filtered_normalised_model_acc_array.append(accuracy_score(y_filtered_normalised_test, predicted_knn_filtered_normalised))"
   ]
  },
  {
   "cell_type": "code",
   "execution_count": 115,
   "metadata": {},
   "outputs": [],
   "source": [
    "# from sklearn.model_selection import GridSearchCV\n",
    "\n",
    "# max_features_range = np.arange(1, 6, 1)\n",
    "# n_estimators_range = np.arange(10, 210, 10)\n",
    "# n_neighbors_range = np.arange(1, 100, 1)\n",
    "# # param_grid = dict(max_features = max_features_range, n_estimators = n_estimators_range, n_neighbors = n_neighbors_range)\n",
    "# param_grid = dict(n_neighbors = n_neighbors_range)\n",
    "\n",
    "# knnTest = KNeighborsClassifier(n_neighbors=5)\n",
    "\n",
    "# grid = GridSearchCV(estimator=knnTest, param_grid=param_grid, scoring='accuracy', cv=5)\n",
    "\n",
    "# grid.fit(X_train, y_train)\n",
    "# print(\"The best parameters are %s with a score of %f\" % (grid.best_params_, grid.best_score_))"
   ]
  },
  {
   "cell_type": "code",
   "execution_count": 116,
   "metadata": {},
   "outputs": [
    {
     "name": "stderr",
     "output_type": "stream",
     "text": [
      "c:\\Users\\Alex\\anaconda3\\lib\\site-packages\\sklearn\\utils\\validation.py:993: DataConversionWarning: A column-vector y was passed when a 1d array was expected. Please change the shape of y to (n_samples, ), for example using ravel().\n",
      "  y = column_or_1d(y, warn=True)\n"
     ]
    },
    {
     "data": {
      "text/plain": [
       "SVC(C=1, kernel='linear', random_state=0)"
      ]
     },
     "execution_count": 116,
     "metadata": {},
     "output_type": "execute_result"
    }
   ],
   "source": [
    "svm_model_filtered_normalised = svm.SVC(kernel='linear', C=1, random_state=0)\n",
    "# gaussian\n",
    "svm_model_filtered_normalised.fit(X_filtered_normalised_train, y_filtered_normalised_train)"
   ]
  },
  {
   "cell_type": "code",
   "execution_count": 117,
   "metadata": {},
   "outputs": [
    {
     "name": "stdout",
     "output_type": "stream",
     "text": [
      "[[192  24]\n",
      " [ 26 189]]\n",
      "0.8839907192575406\n",
      "0.8839907192575406\n"
     ]
    }
   ],
   "source": [
    "# Predict on the test set\n",
    "predicted_svm_filtered_normalised = svm_model_filtered_normalised.predict(X_filtered_normalised_test)\n",
    "\n",
    "# Print metrics\n",
    "print(confusion_matrix(y_filtered_normalised_test, predicted_svm_filtered_normalised))\n",
    "print(accuracy_score(y_filtered_normalised_test, predicted_svm_filtered_normalised))\n",
    "print(f1_score(y_filtered_normalised_test, predicted_svm_filtered_normalised, average='micro'))\n",
    "# compare_trad_models(\"knn\", accuracy_score(y_test, predicted))\n",
    "filtered_normalised_model_name_array.append(\"svm\")\n",
    "filtered_normalised_model_acc_array.append(accuracy_score(y_filtered_normalised_test, predicted_svm_filtered_normalised))"
   ]
  },
  {
   "cell_type": "code",
   "execution_count": 118,
   "metadata": {},
   "outputs": [
    {
     "name": "stderr",
     "output_type": "stream",
     "text": [
      "c:\\Users\\Alex\\anaconda3\\lib\\site-packages\\sklearn\\utils\\validation.py:993: DataConversionWarning: A column-vector y was passed when a 1d array was expected. Please change the shape of y to (n_samples, ), for example using ravel().\n",
      "  y = column_or_1d(y, warn=True)\n"
     ]
    },
    {
     "data": {
      "text/plain": [
       "SVC(C=1, random_state=0)"
      ]
     },
     "execution_count": 118,
     "metadata": {},
     "output_type": "execute_result"
    }
   ],
   "source": [
    "svm_rbf_model_filtered_normalised = svm.SVC(kernel='rbf', C=1, random_state=0)\n",
    "svm_rbf_model_filtered_normalised.fit(X_filtered_normalised_train, y_filtered_normalised_train)"
   ]
  },
  {
   "cell_type": "code",
   "execution_count": 119,
   "metadata": {},
   "outputs": [
    {
     "name": "stdout",
     "output_type": "stream",
     "text": [
      "[[185  31]\n",
      " [ 20 195]]\n",
      "0.8816705336426914\n",
      "0.8816705336426914\n"
     ]
    }
   ],
   "source": [
    "# Predict on the test set\n",
    "predicted_svm_rbf_filtered_normalised = svm_rbf_model_filtered_normalised.predict(X_filtered_normalised_test)\n",
    "\n",
    "# Print metrics\n",
    "print(confusion_matrix(y_filtered_normalised_test, predicted_svm_rbf_filtered_normalised))\n",
    "print(accuracy_score(y_filtered_normalised_test, predicted_svm_rbf_filtered_normalised))\n",
    "print(f1_score(y_filtered_normalised_test, predicted_svm_rbf_filtered_normalised, average='micro'))\n",
    "# compare_trad_models(\"knn\", accuracy_score(y_test, predicted))\n",
    "filtered_normalised_model_name_array.append(\"svm_rbf\")\n",
    "filtered_normalised_model_acc_array.append(accuracy_score(y_filtered_normalised_test, predicted_svm_rbf_filtered_normalised))"
   ]
  },
  {
   "cell_type": "code",
   "execution_count": 120,
   "metadata": {},
   "outputs": [
    {
     "name": "stderr",
     "output_type": "stream",
     "text": [
      "C:\\Users\\Alex\\AppData\\Local\\Temp\\ipykernel_42680\\1829240526.py:2: DataConversionWarning: A column-vector y was passed when a 1d array was expected. Please change the shape of y to (n_samples,), for example using ravel().\n",
      "  rf_model_filtered_normalised.fit(X_filtered_train, y_filtered_normalised_train)\n"
     ]
    },
    {
     "data": {
      "text/plain": [
       "RandomForestClassifier(random_state=42)"
      ]
     },
     "execution_count": 120,
     "metadata": {},
     "output_type": "execute_result"
    }
   ],
   "source": [
    "rf_model_filtered_normalised = RandomForestClassifier(n_estimators = 100, random_state = 42)\n",
    "rf_model_filtered_normalised.fit(X_filtered_train, y_filtered_normalised_train)"
   ]
  },
  {
   "cell_type": "code",
   "execution_count": 121,
   "metadata": {},
   "outputs": [
    {
     "name": "stdout",
     "output_type": "stream",
     "text": [
      "[[216   0]\n",
      " [215   0]]\n",
      "0.5011600928074246\n",
      "0.5011600928074246\n"
     ]
    }
   ],
   "source": [
    "# Predict on the test set\n",
    "predicted_rf_filtered_normalised = rf_model_filtered_normalised.predict(X_filtered_normalised_test)\n",
    "\n",
    "# Print metrics\n",
    "print(confusion_matrix(y_filtered_normalised_test, predicted_rf_filtered_normalised))\n",
    "print(accuracy_score(y_filtered_normalised_test, predicted_rf_filtered_normalised))\n",
    "print(f1_score(y_filtered_normalised_test, predicted_rf_filtered_normalised, average='micro'))\n",
    "# compare_trad_models(\"knn\", accuracy_score(y_test, predicted))\n",
    "filtered_normalised_model_name_array.append(\"rf\")\n",
    "filtered_normalised_model_acc_array.append(accuracy_score(y_filtered_normalised_test, predicted_rf_filtered_normalised))"
   ]
  },
  {
   "cell_type": "code",
   "execution_count": 122,
   "metadata": {},
   "outputs": [
    {
     "name": "stderr",
     "output_type": "stream",
     "text": [
      "c:\\Users\\Alex\\anaconda3\\lib\\site-packages\\sklearn\\utils\\validation.py:993: DataConversionWarning: A column-vector y was passed when a 1d array was expected. Please change the shape of y to (n_samples, ), for example using ravel().\n",
      "  y = column_or_1d(y, warn=True)\n"
     ]
    },
    {
     "data": {
      "text/plain": [
       "GaussianNB()"
      ]
     },
     "execution_count": 122,
     "metadata": {},
     "output_type": "execute_result"
    }
   ],
   "source": [
    "nb_model_filtered_normalised = GaussianNB()\n",
    "nb_model_filtered_normalised.fit(X_filtered_normalised_train, y_filtered_normalised_train)"
   ]
  },
  {
   "cell_type": "code",
   "execution_count": 123,
   "metadata": {},
   "outputs": [
    {
     "name": "stdout",
     "output_type": "stream",
     "text": [
      "[[205  11]\n",
      " [ 56 159]]\n",
      "0.8445475638051044\n",
      "0.8445475638051044\n"
     ]
    }
   ],
   "source": [
    "# Predict on the test set\n",
    "predicted_nb_filtered_normalised = nb_model_filtered_normalised.predict(X_filtered_normalised_test)\n",
    "\n",
    "# Print metrics\n",
    "print(confusion_matrix(y_filtered_normalised_test, predicted_nb_filtered_normalised))\n",
    "print(accuracy_score(y_filtered_normalised_test, predicted_nb_filtered_normalised))\n",
    "print(f1_score(y_filtered_normalised_test, predicted_nb_filtered_normalised, average='micro'))\n",
    "# compare_trad_models(\"knn\", accuracy_score(y_test, predicted))\n",
    "filtered_normalised_model_name_array.append(\"nb\")\n",
    "filtered_normalised_model_acc_array.append(accuracy_score(y_filtered_normalised_test, predicted_nb_filtered_normalised))"
   ]
  },
  {
   "cell_type": "code",
   "execution_count": 124,
   "metadata": {},
   "outputs": [
    {
     "name": "stdout",
     "output_type": "stream",
     "text": [
      "Best model: svm, Accuracy: 0.8839907192575406\n"
     ]
    }
   ],
   "source": [
    "best_trad_model_acc_filtered_normalised = max(filtered_normalised_model_acc_array)\n",
    "index = filtered_normalised_model_acc_array.index(max(filtered_normalised_model_acc_array))\n",
    "best_trad_model_filtered_normalised = filtered_normalised_model_name_array[index]\n",
    "print(f\"Best model: {best_trad_model_filtered_normalised}, Accuracy: {best_trad_model_acc_filtered_normalised}\")"
   ]
  },
  {
   "cell_type": "code",
   "execution_count": 125,
   "metadata": {},
   "outputs": [
    {
     "name": "stdout",
     "output_type": "stream",
     "text": [
      "name: knn, accuracy: 0.8654292343387471\n",
      "name: svm, accuracy: 0.8839907192575406\n",
      "name: svm_rbf, accuracy: 0.8816705336426914\n",
      "name: rf, accuracy: 0.5011600928074246\n",
      "name: nb, accuracy: 0.8445475638051044\n"
     ]
    }
   ],
   "source": [
    "for i in range(0, len(filtered_normalised_model_name_array)):\n",
    "    print(f\"name: {filtered_normalised_model_name_array[i]}, accuracy: {filtered_normalised_model_acc_array[i]}\")"
   ]
  },
  {
   "cell_type": "code",
   "execution_count": 126,
   "metadata": {},
   "outputs": [],
   "source": [
    "filtered_normalised_model_dictionary = {\"knn\": knn_model_filtered_normalised,\n",
    "                             \"svm\": svm_model_filtered_normalised,\n",
    "                             \"svm_rbf\": svm_rbf_model_filtered_normalised,\n",
    "                             \"rf\": rf_model_filtered_normalised,\n",
    "                             \"nb\": nb_model_filtered_normalised}"
   ]
  },
  {
   "cell_type": "code",
   "execution_count": 127,
   "metadata": {},
   "outputs": [
    {
     "name": "stderr",
     "output_type": "stream",
     "text": [
      "c:\\Users\\Alex\\anaconda3\\lib\\site-packages\\sklearn\\neighbors\\_classification.py:198: DataConversionWarning: A column-vector y was passed when a 1d array was expected. Please change the shape of y to (n_samples,), for example using ravel().\n",
      "  return self._fit(X, y)\n",
      "c:\\Users\\Alex\\anaconda3\\lib\\site-packages\\sklearn\\neighbors\\_classification.py:228: FutureWarning: Unlike other reduction functions (e.g. `skew`, `kurtosis`), the default behavior of `mode` typically preserves the axis it acts along. In SciPy 1.11.0, this behavior will change: the default value of `keepdims` will become False, the `axis` over which the statistic is taken will be eliminated, and the value None will no longer be accepted. Set `keepdims` to True or False to avoid this warning.\n",
      "  mode, _ = stats.mode(_y[neigh_ind, k], axis=1)\n",
      "c:\\Users\\Alex\\anaconda3\\lib\\site-packages\\sklearn\\neighbors\\_classification.py:198: DataConversionWarning: A column-vector y was passed when a 1d array was expected. Please change the shape of y to (n_samples,), for example using ravel().\n",
      "  return self._fit(X, y)\n",
      "c:\\Users\\Alex\\anaconda3\\lib\\site-packages\\sklearn\\neighbors\\_classification.py:228: FutureWarning: Unlike other reduction functions (e.g. `skew`, `kurtosis`), the default behavior of `mode` typically preserves the axis it acts along. In SciPy 1.11.0, this behavior will change: the default value of `keepdims` will become False, the `axis` over which the statistic is taken will be eliminated, and the value None will no longer be accepted. Set `keepdims` to True or False to avoid this warning.\n",
      "  mode, _ = stats.mode(_y[neigh_ind, k], axis=1)\n",
      "c:\\Users\\Alex\\anaconda3\\lib\\site-packages\\sklearn\\neighbors\\_classification.py:198: DataConversionWarning: A column-vector y was passed when a 1d array was expected. Please change the shape of y to (n_samples,), for example using ravel().\n",
      "  return self._fit(X, y)\n",
      "c:\\Users\\Alex\\anaconda3\\lib\\site-packages\\sklearn\\neighbors\\_classification.py:228: FutureWarning: Unlike other reduction functions (e.g. `skew`, `kurtosis`), the default behavior of `mode` typically preserves the axis it acts along. In SciPy 1.11.0, this behavior will change: the default value of `keepdims` will become False, the `axis` over which the statistic is taken will be eliminated, and the value None will no longer be accepted. Set `keepdims` to True or False to avoid this warning.\n",
      "  mode, _ = stats.mode(_y[neigh_ind, k], axis=1)\n",
      "c:\\Users\\Alex\\anaconda3\\lib\\site-packages\\sklearn\\neighbors\\_classification.py:198: DataConversionWarning: A column-vector y was passed when a 1d array was expected. Please change the shape of y to (n_samples,), for example using ravel().\n",
      "  return self._fit(X, y)\n",
      "c:\\Users\\Alex\\anaconda3\\lib\\site-packages\\sklearn\\neighbors\\_classification.py:228: FutureWarning: Unlike other reduction functions (e.g. `skew`, `kurtosis`), the default behavior of `mode` typically preserves the axis it acts along. In SciPy 1.11.0, this behavior will change: the default value of `keepdims` will become False, the `axis` over which the statistic is taken will be eliminated, and the value None will no longer be accepted. Set `keepdims` to True or False to avoid this warning.\n",
      "  mode, _ = stats.mode(_y[neigh_ind, k], axis=1)\n",
      "c:\\Users\\Alex\\anaconda3\\lib\\site-packages\\sklearn\\neighbors\\_classification.py:198: DataConversionWarning: A column-vector y was passed when a 1d array was expected. Please change the shape of y to (n_samples,), for example using ravel().\n",
      "  return self._fit(X, y)\n",
      "c:\\Users\\Alex\\anaconda3\\lib\\site-packages\\sklearn\\neighbors\\_classification.py:228: FutureWarning: Unlike other reduction functions (e.g. `skew`, `kurtosis`), the default behavior of `mode` typically preserves the axis it acts along. In SciPy 1.11.0, this behavior will change: the default value of `keepdims` will become False, the `axis` over which the statistic is taken will be eliminated, and the value None will no longer be accepted. Set `keepdims` to True or False to avoid this warning.\n",
      "  mode, _ = stats.mode(_y[neigh_ind, k], axis=1)\n",
      "c:\\Users\\Alex\\anaconda3\\lib\\site-packages\\sklearn\\utils\\validation.py:993: DataConversionWarning: A column-vector y was passed when a 1d array was expected. Please change the shape of y to (n_samples, ), for example using ravel().\n",
      "  y = column_or_1d(y, warn=True)\n",
      "c:\\Users\\Alex\\anaconda3\\lib\\site-packages\\sklearn\\utils\\validation.py:993: DataConversionWarning: A column-vector y was passed when a 1d array was expected. Please change the shape of y to (n_samples, ), for example using ravel().\n",
      "  y = column_or_1d(y, warn=True)\n",
      "c:\\Users\\Alex\\anaconda3\\lib\\site-packages\\sklearn\\utils\\validation.py:993: DataConversionWarning: A column-vector y was passed when a 1d array was expected. Please change the shape of y to (n_samples, ), for example using ravel().\n",
      "  y = column_or_1d(y, warn=True)\n",
      "c:\\Users\\Alex\\anaconda3\\lib\\site-packages\\sklearn\\utils\\validation.py:993: DataConversionWarning: A column-vector y was passed when a 1d array was expected. Please change the shape of y to (n_samples, ), for example using ravel().\n",
      "  y = column_or_1d(y, warn=True)\n",
      "c:\\Users\\Alex\\anaconda3\\lib\\site-packages\\sklearn\\utils\\validation.py:993: DataConversionWarning: A column-vector y was passed when a 1d array was expected. Please change the shape of y to (n_samples, ), for example using ravel().\n",
      "  y = column_or_1d(y, warn=True)\n",
      "c:\\Users\\Alex\\anaconda3\\lib\\site-packages\\sklearn\\utils\\validation.py:993: DataConversionWarning: A column-vector y was passed when a 1d array was expected. Please change the shape of y to (n_samples, ), for example using ravel().\n",
      "  y = column_or_1d(y, warn=True)\n",
      "c:\\Users\\Alex\\anaconda3\\lib\\site-packages\\sklearn\\utils\\validation.py:993: DataConversionWarning: A column-vector y was passed when a 1d array was expected. Please change the shape of y to (n_samples, ), for example using ravel().\n",
      "  y = column_or_1d(y, warn=True)\n",
      "c:\\Users\\Alex\\anaconda3\\lib\\site-packages\\sklearn\\utils\\validation.py:993: DataConversionWarning: A column-vector y was passed when a 1d array was expected. Please change the shape of y to (n_samples, ), for example using ravel().\n",
      "  y = column_or_1d(y, warn=True)\n",
      "c:\\Users\\Alex\\anaconda3\\lib\\site-packages\\sklearn\\utils\\validation.py:993: DataConversionWarning: A column-vector y was passed when a 1d array was expected. Please change the shape of y to (n_samples, ), for example using ravel().\n",
      "  y = column_or_1d(y, warn=True)\n",
      "c:\\Users\\Alex\\anaconda3\\lib\\site-packages\\sklearn\\utils\\validation.py:993: DataConversionWarning: A column-vector y was passed when a 1d array was expected. Please change the shape of y to (n_samples, ), for example using ravel().\n",
      "  y = column_or_1d(y, warn=True)\n",
      "c:\\Users\\Alex\\anaconda3\\lib\\site-packages\\sklearn\\model_selection\\_validation.py:680: DataConversionWarning: A column-vector y was passed when a 1d array was expected. Please change the shape of y to (n_samples,), for example using ravel().\n",
      "  estimator.fit(X_train, y_train, **fit_params)\n",
      "c:\\Users\\Alex\\anaconda3\\lib\\site-packages\\sklearn\\model_selection\\_validation.py:680: DataConversionWarning: A column-vector y was passed when a 1d array was expected. Please change the shape of y to (n_samples,), for example using ravel().\n",
      "  estimator.fit(X_train, y_train, **fit_params)\n",
      "c:\\Users\\Alex\\anaconda3\\lib\\site-packages\\sklearn\\model_selection\\_validation.py:680: DataConversionWarning: A column-vector y was passed when a 1d array was expected. Please change the shape of y to (n_samples,), for example using ravel().\n",
      "  estimator.fit(X_train, y_train, **fit_params)\n",
      "c:\\Users\\Alex\\anaconda3\\lib\\site-packages\\sklearn\\model_selection\\_validation.py:680: DataConversionWarning: A column-vector y was passed when a 1d array was expected. Please change the shape of y to (n_samples,), for example using ravel().\n",
      "  estimator.fit(X_train, y_train, **fit_params)\n",
      "c:\\Users\\Alex\\anaconda3\\lib\\site-packages\\sklearn\\model_selection\\_validation.py:680: DataConversionWarning: A column-vector y was passed when a 1d array was expected. Please change the shape of y to (n_samples,), for example using ravel().\n",
      "  estimator.fit(X_train, y_train, **fit_params)\n",
      "c:\\Users\\Alex\\anaconda3\\lib\\site-packages\\sklearn\\utils\\validation.py:993: DataConversionWarning: A column-vector y was passed when a 1d array was expected. Please change the shape of y to (n_samples, ), for example using ravel().\n",
      "  y = column_or_1d(y, warn=True)\n",
      "c:\\Users\\Alex\\anaconda3\\lib\\site-packages\\sklearn\\utils\\validation.py:993: DataConversionWarning: A column-vector y was passed when a 1d array was expected. Please change the shape of y to (n_samples, ), for example using ravel().\n",
      "  y = column_or_1d(y, warn=True)\n",
      "c:\\Users\\Alex\\anaconda3\\lib\\site-packages\\sklearn\\utils\\validation.py:993: DataConversionWarning: A column-vector y was passed when a 1d array was expected. Please change the shape of y to (n_samples, ), for example using ravel().\n",
      "  y = column_or_1d(y, warn=True)\n",
      "c:\\Users\\Alex\\anaconda3\\lib\\site-packages\\sklearn\\utils\\validation.py:993: DataConversionWarning: A column-vector y was passed when a 1d array was expected. Please change the shape of y to (n_samples, ), for example using ravel().\n",
      "  y = column_or_1d(y, warn=True)\n",
      "c:\\Users\\Alex\\anaconda3\\lib\\site-packages\\sklearn\\utils\\validation.py:993: DataConversionWarning: A column-vector y was passed when a 1d array was expected. Please change the shape of y to (n_samples, ), for example using ravel().\n",
      "  y = column_or_1d(y, warn=True)\n"
     ]
    }
   ],
   "source": [
    "scores_array_filtered_normalised = perform_cross_val_all_models(filtered_normalised_model_dictionary, X_filtered_normalised_train, y_filtered_normalised_train)"
   ]
  },
  {
   "cell_type": "code",
   "execution_count": 128,
   "metadata": {},
   "outputs": [
    {
     "name": "stdout",
     "output_type": "stream",
     "text": [
      "knn Accuracy: 0.87 (+/- 0.04)\n",
      "svm Accuracy: 0.87 (+/- 0.04)\n",
      "svm_rbf Accuracy: 0.87 (+/- 0.02)\n",
      "rf Accuracy: 0.89 (+/- 0.03)\n",
      "nb Accuracy: 0.81 (+/- 0.07)\n"
     ]
    }
   ],
   "source": [
    "for cv_tuple in scores_array_filtered_normalised:\n",
    "    print(\"%s Accuracy: %0.2f (+/- %0.2f)\" % (cv_tuple[0], cv_tuple[1].mean(), cv_tuple[1].std() * 2))"
   ]
  },
  {
   "cell_type": "code",
   "execution_count": 129,
   "metadata": {},
   "outputs": [
    {
     "name": "stdout",
     "output_type": "stream",
     "text": [
      "Classification report for knn\n",
      "              precision    recall  f1-score   support\n",
      "\n",
      "           0       0.90      0.82      0.86       216\n",
      "           1       0.84      0.91      0.87       215\n",
      "\n",
      "    accuracy                           0.87       431\n",
      "   macro avg       0.87      0.87      0.87       431\n",
      "weighted avg       0.87      0.87      0.87       431\n",
      "\n",
      "=====================================================\n",
      "Classification report for svm\n",
      "              precision    recall  f1-score   support\n",
      "\n",
      "           0       0.88      0.89      0.88       216\n",
      "           1       0.89      0.88      0.88       215\n",
      "\n",
      "    accuracy                           0.88       431\n",
      "   macro avg       0.88      0.88      0.88       431\n",
      "weighted avg       0.88      0.88      0.88       431\n",
      "\n",
      "=====================================================\n",
      "Classification report for svm_rbf\n",
      "              precision    recall  f1-score   support\n",
      "\n",
      "           0       0.90      0.86      0.88       216\n",
      "           1       0.86      0.91      0.88       215\n",
      "\n",
      "    accuracy                           0.88       431\n",
      "   macro avg       0.88      0.88      0.88       431\n",
      "weighted avg       0.88      0.88      0.88       431\n",
      "\n",
      "=====================================================\n",
      "Classification report for rf\n",
      "              precision    recall  f1-score   support\n",
      "\n",
      "           0       0.50      1.00      0.67       216\n",
      "           1       0.00      0.00      0.00       215\n",
      "\n",
      "    accuracy                           0.50       431\n",
      "   macro avg       0.25      0.50      0.33       431\n",
      "weighted avg       0.25      0.50      0.33       431\n",
      "\n",
      "=====================================================\n",
      "Classification report for nb\n",
      "              precision    recall  f1-score   support\n",
      "\n",
      "           0       0.79      0.95      0.86       216\n",
      "           1       0.94      0.74      0.83       215\n",
      "\n",
      "    accuracy                           0.84       431\n",
      "   macro avg       0.86      0.84      0.84       431\n",
      "weighted avg       0.86      0.84      0.84       431\n",
      "\n",
      "=====================================================\n"
     ]
    },
    {
     "name": "stderr",
     "output_type": "stream",
     "text": [
      "c:\\Users\\Alex\\anaconda3\\lib\\site-packages\\sklearn\\neighbors\\_classification.py:228: FutureWarning: Unlike other reduction functions (e.g. `skew`, `kurtosis`), the default behavior of `mode` typically preserves the axis it acts along. In SciPy 1.11.0, this behavior will change: the default value of `keepdims` will become False, the `axis` over which the statistic is taken will be eliminated, and the value None will no longer be accepted. Set `keepdims` to True or False to avoid this warning.\n",
      "  mode, _ = stats.mode(_y[neigh_ind, k], axis=1)\n",
      "c:\\Users\\Alex\\anaconda3\\lib\\site-packages\\sklearn\\metrics\\_classification.py:1318: UndefinedMetricWarning: Precision and F-score are ill-defined and being set to 0.0 in labels with no predicted samples. Use `zero_division` parameter to control this behavior.\n",
      "  _warn_prf(average, modifier, msg_start, len(result))\n",
      "c:\\Users\\Alex\\anaconda3\\lib\\site-packages\\sklearn\\metrics\\_classification.py:1318: UndefinedMetricWarning: Precision and F-score are ill-defined and being set to 0.0 in labels with no predicted samples. Use `zero_division` parameter to control this behavior.\n",
      "  _warn_prf(average, modifier, msg_start, len(result))\n",
      "c:\\Users\\Alex\\anaconda3\\lib\\site-packages\\sklearn\\metrics\\_classification.py:1318: UndefinedMetricWarning: Precision and F-score are ill-defined and being set to 0.0 in labels with no predicted samples. Use `zero_division` parameter to control this behavior.\n",
      "  _warn_prf(average, modifier, msg_start, len(result))\n"
     ]
    }
   ],
   "source": [
    "print_all_classification_reports(filtered_normalised_model_dictionary, X_filtered_normalised_test, y_filtered_normalised_test)"
   ]
  },
  {
   "cell_type": "code",
   "execution_count": 130,
   "metadata": {},
   "outputs": [
    {
     "name": "stdout",
     "output_type": "stream",
     "text": [
      "Classification report for knn\n",
      "              precision    recall  f1-score   support\n",
      "\n",
      "           0       0.92      0.89      0.91       646\n",
      "           1       0.90      0.92      0.91       647\n",
      "\n",
      "    accuracy                           0.91      1293\n",
      "   macro avg       0.91      0.91      0.91      1293\n",
      "weighted avg       0.91      0.91      0.91      1293\n",
      "\n",
      "=====================================================\n",
      "Classification report for svm\n",
      "              precision    recall  f1-score   support\n",
      "\n",
      "           0       0.87      0.88      0.88       646\n",
      "           1       0.88      0.87      0.88       647\n",
      "\n",
      "    accuracy                           0.88      1293\n",
      "   macro avg       0.88      0.88      0.88      1293\n",
      "weighted avg       0.88      0.88      0.88      1293\n",
      "\n",
      "=====================================================\n",
      "Classification report for svm_rbf\n",
      "              precision    recall  f1-score   support\n",
      "\n",
      "           0       0.89      0.86      0.87       646\n",
      "           1       0.86      0.89      0.88       647\n",
      "\n",
      "    accuracy                           0.87      1293\n",
      "   macro avg       0.88      0.87      0.87      1293\n",
      "weighted avg       0.88      0.87      0.87      1293\n",
      "\n",
      "=====================================================\n",
      "Classification report for rf\n",
      "              precision    recall  f1-score   support\n",
      "\n",
      "           0       0.50      1.00      0.67       646\n",
      "           1       0.00      0.00      0.00       647\n",
      "\n",
      "    accuracy                           0.50      1293\n",
      "   macro avg       0.25      0.50      0.33      1293\n",
      "weighted avg       0.25      0.50      0.33      1293\n",
      "\n",
      "=====================================================\n",
      "Classification report for nb\n",
      "              precision    recall  f1-score   support\n",
      "\n",
      "           0       0.75      0.93      0.83       646\n",
      "           1       0.91      0.69      0.78       647\n",
      "\n",
      "    accuracy                           0.81      1293\n",
      "   macro avg       0.83      0.81      0.81      1293\n",
      "weighted avg       0.83      0.81      0.81      1293\n",
      "\n",
      "=====================================================\n"
     ]
    },
    {
     "name": "stderr",
     "output_type": "stream",
     "text": [
      "c:\\Users\\Alex\\anaconda3\\lib\\site-packages\\sklearn\\neighbors\\_classification.py:228: FutureWarning: Unlike other reduction functions (e.g. `skew`, `kurtosis`), the default behavior of `mode` typically preserves the axis it acts along. In SciPy 1.11.0, this behavior will change: the default value of `keepdims` will become False, the `axis` over which the statistic is taken will be eliminated, and the value None will no longer be accepted. Set `keepdims` to True or False to avoid this warning.\n",
      "  mode, _ = stats.mode(_y[neigh_ind, k], axis=1)\n",
      "c:\\Users\\Alex\\anaconda3\\lib\\site-packages\\sklearn\\metrics\\_classification.py:1318: UndefinedMetricWarning: Precision and F-score are ill-defined and being set to 0.0 in labels with no predicted samples. Use `zero_division` parameter to control this behavior.\n",
      "  _warn_prf(average, modifier, msg_start, len(result))\n",
      "c:\\Users\\Alex\\anaconda3\\lib\\site-packages\\sklearn\\metrics\\_classification.py:1318: UndefinedMetricWarning: Precision and F-score are ill-defined and being set to 0.0 in labels with no predicted samples. Use `zero_division` parameter to control this behavior.\n",
      "  _warn_prf(average, modifier, msg_start, len(result))\n",
      "c:\\Users\\Alex\\anaconda3\\lib\\site-packages\\sklearn\\metrics\\_classification.py:1318: UndefinedMetricWarning: Precision and F-score are ill-defined and being set to 0.0 in labels with no predicted samples. Use `zero_division` parameter to control this behavior.\n",
      "  _warn_prf(average, modifier, msg_start, len(result))\n"
     ]
    }
   ],
   "source": [
    "print_all_classification_reports_training(filtered_normalised_model_dictionary, X_filtered_normalised_train, y_filtered_normalised_train)"
   ]
  },
  {
   "cell_type": "code",
   "execution_count": 131,
   "metadata": {},
   "outputs": [],
   "source": [
    "from joblib import dump, load\n",
    "# save clf using joblib\n",
    "# dump(rf_model, 'New Models/rf_filtered_normalised.joblib')"
   ]
  },
  {
   "cell_type": "markdown",
   "metadata": {},
   "source": [
    "### Deep Learning"
   ]
  },
  {
   "cell_type": "markdown",
   "metadata": {},
   "source": [
    "#### The models below are trained using data which went through low-pass filter"
   ]
  },
  {
   "cell_type": "code",
   "execution_count": 132,
   "metadata": {},
   "outputs": [
    {
     "data": {
      "text/plain": [
       "((1724, 31, 3), (1724,))"
      ]
     },
     "execution_count": 132,
     "metadata": {},
     "output_type": "execute_result"
    }
   ],
   "source": [
    "X_filtered_normalised_undersampled, y_filtered_normalised_undersampled = feature_util.balance_windows_undersample(X_filtered_normalised, y_filtered_normalised)\n",
    "X_filtered_normalised_undersampled.shape, y_filtered_normalised_undersampled.shape"
   ]
  },
  {
   "cell_type": "code",
   "execution_count": 133,
   "metadata": {},
   "outputs": [
    {
     "data": {
      "text/plain": [
       "((1293, 31, 3), (431, 31, 3), (1293,))"
      ]
     },
     "execution_count": 133,
     "metadata": {},
     "output_type": "execute_result"
    }
   ],
   "source": [
    "# X_raw_filtered_normalised_train, X_raw_filtered_normalised_test, y_raw_filtered_normalised_train, y_raw_filtered_normalised_test = train_test_split(X_filtered_normalised, y_filtered_normalised, test_size=0.25, random_state=0, stratify=y_filtered_normalised)\n",
    "X_raw_filtered_normalised_train, X_raw_filtered_normalised_test, y_raw_filtered_normalised_train, y_raw_filtered_normalised_test = train_test_split(X_filtered_normalised_undersampled, y_filtered_normalised_undersampled, test_size=0.25, random_state=0, stratify=y_filtered_normalised_undersampled)\n",
    "X_raw_filtered_normalised_train.shape, X_raw_filtered_normalised_test.shape, y_raw_filtered_normalised_train.shape"
   ]
  },
  {
   "cell_type": "code",
   "execution_count": 134,
   "metadata": {},
   "outputs": [
    {
     "data": {
      "text/plain": [
       "(31, 3)"
      ]
     },
     "execution_count": 134,
     "metadata": {},
     "output_type": "execute_result"
    }
   ],
   "source": [
    "X_raw_filtered_normalised_train[0].shape"
   ]
  },
  {
   "cell_type": "code",
   "execution_count": 135,
   "metadata": {},
   "outputs": [],
   "source": [
    "X_raw_filtered_normalised_train = X_raw_filtered_normalised_train.reshape(X_TRAIN_SIZE, 31, 3, 1)\n",
    "X_raw_filtered_normalised_test = X_raw_filtered_normalised_test.reshape(X_TEST_SIZE, 31, 3, 1)"
   ]
  },
  {
   "cell_type": "code",
   "execution_count": 136,
   "metadata": {},
   "outputs": [
    {
     "data": {
      "text/plain": [
       "((31, 3, 1), (31, 3, 1))"
      ]
     },
     "execution_count": 136,
     "metadata": {},
     "output_type": "execute_result"
    }
   ],
   "source": [
    "X_raw_filtered_normalised_train[0].shape, X_raw_filtered_normalised_test[0].shape"
   ]
  },
  {
   "cell_type": "code",
   "execution_count": 137,
   "metadata": {},
   "outputs": [],
   "source": [
    "cnn_model_filtered_normalised = Sequential()\n",
    "cnn_model_filtered_normalised.add(Conv2D(16, (2, 2), activation='relu', input_shape=X_raw_filtered_normalised_train[0].shape))\n",
    "cnn_model_filtered_normalised.add(Conv2D(32, (2, 2), activation='relu'))\n",
    "cnn_model_filtered_normalised.add(Flatten())\n",
    "cnn_model_filtered_normalised.add(Dense(64, activation='relu'))\n",
    "cnn_model_filtered_normalised.add(Dense(2, activation='softmax'))"
   ]
  },
  {
   "cell_type": "code",
   "execution_count": 138,
   "metadata": {},
   "outputs": [],
   "source": [
    "cnn_model_filtered_normalised.compile(optimizer=Adam(learning_rate=0.001), loss='sparse_categorical_crossentropy', metrics=['accuracy'])"
   ]
  },
  {
   "cell_type": "code",
   "execution_count": 139,
   "metadata": {},
   "outputs": [
    {
     "name": "stdout",
     "output_type": "stream",
     "text": [
      "Epoch 1/15\n",
      "41/41 [==============================] - 1s 6ms/step - loss: 0.6917 - accuracy: 0.5135 - val_loss: 0.6738 - val_accuracy: 0.4988\n",
      "Epoch 2/15\n",
      "41/41 [==============================] - 0s 3ms/step - loss: 0.6181 - accuracy: 0.7409 - val_loss: 0.5079 - val_accuracy: 0.8515\n",
      "Epoch 3/15\n",
      "41/41 [==============================] - 0s 3ms/step - loss: 0.4539 - accuracy: 0.8384 - val_loss: 0.3647 - val_accuracy: 0.8585\n",
      "Epoch 4/15\n",
      "41/41 [==============================] - 0s 3ms/step - loss: 0.3355 - accuracy: 0.8848 - val_loss: 0.2838 - val_accuracy: 0.8933\n",
      "Epoch 5/15\n",
      "41/41 [==============================] - 0s 3ms/step - loss: 0.2844 - accuracy: 0.8948 - val_loss: 0.2733 - val_accuracy: 0.9002\n",
      "Epoch 6/15\n",
      "41/41 [==============================] - 0s 3ms/step - loss: 0.2720 - accuracy: 0.9033 - val_loss: 0.2638 - val_accuracy: 0.8910\n",
      "Epoch 7/15\n",
      "41/41 [==============================] - 0s 3ms/step - loss: 0.2480 - accuracy: 0.9165 - val_loss: 0.2733 - val_accuracy: 0.9095\n",
      "Epoch 8/15\n",
      "41/41 [==============================] - 0s 3ms/step - loss: 0.2480 - accuracy: 0.9111 - val_loss: 0.2454 - val_accuracy: 0.9118\n",
      "Epoch 9/15\n",
      "41/41 [==============================] - 0s 3ms/step - loss: 0.2317 - accuracy: 0.9111 - val_loss: 0.2430 - val_accuracy: 0.9072\n",
      "Epoch 10/15\n",
      "41/41 [==============================] - 0s 3ms/step - loss: 0.2217 - accuracy: 0.9142 - val_loss: 0.2716 - val_accuracy: 0.9002\n",
      "Epoch 11/15\n",
      "41/41 [==============================] - 0s 3ms/step - loss: 0.2239 - accuracy: 0.9250 - val_loss: 0.2320 - val_accuracy: 0.9072\n",
      "Epoch 12/15\n",
      "41/41 [==============================] - 0s 4ms/step - loss: 0.2091 - accuracy: 0.9265 - val_loss: 0.2278 - val_accuracy: 0.9142\n",
      "Epoch 13/15\n",
      "41/41 [==============================] - 0s 3ms/step - loss: 0.2013 - accuracy: 0.9273 - val_loss: 0.2261 - val_accuracy: 0.9142\n",
      "Epoch 14/15\n",
      "41/41 [==============================] - 0s 3ms/step - loss: 0.1988 - accuracy: 0.9250 - val_loss: 0.2220 - val_accuracy: 0.9165\n",
      "Epoch 15/15\n",
      "41/41 [==============================] - 0s 3ms/step - loss: 0.1937 - accuracy: 0.9312 - val_loss: 0.2253 - val_accuracy: 0.9095\n"
     ]
    }
   ],
   "source": [
    "history_filtered_normalised = cnn_model_filtered_normalised.fit(X_raw_filtered_normalised_train, y_raw_filtered_normalised_train, epochs=NUMBER_OF_EPOCHS, validation_data=(X_raw_filtered_normalised_test, y_raw_filtered_normalised_test), verbose=1)"
   ]
  },
  {
   "cell_type": "code",
   "execution_count": 140,
   "metadata": {},
   "outputs": [
    {
     "data": {
      "image/png": "[encoded data removed]",
      "text/plain": [
       "<Figure size 640x480 with 1 Axes>"
      ]
     },
     "metadata": {},
     "output_type": "display_data"
    },
    {
     "data": {
      "image/png": "[encoded data removed]",
      "text/plain": [
       "<Figure size 640x480 with 1 Axes>"
      ]
     },
     "metadata": {},
     "output_type": "display_data"
    }
   ],
   "source": [
    "plot_learning_curve(history_filtered_normalised, NUMBER_OF_EPOCHS)"
   ]
  },
  {
   "cell_type": "code",
   "execution_count": 141,
   "metadata": {},
   "outputs": [
    {
     "name": "stdout",
     "output_type": "stream",
     "text": [
      "14/14 [==============================] - 0s 1ms/step\n",
      "[[194  22]\n",
      " [ 17 198]]\n",
      "0.9095127610208816\n",
      "0.9095127610208816\n"
     ]
    }
   ],
   "source": [
    "# predicted_cnn = cnn_model.predict_classes(X_raw_test)\n",
    "predicted_cnn_filtered_normalised = np.argmax(cnn_model_filtered_normalised.predict(X_raw_filtered_normalised_test), axis=-1)\n",
    "\n",
    "# Print metrics\n",
    "print(confusion_matrix(y_raw_filtered_normalised_test, predicted_cnn_filtered_normalised))\n",
    "print(accuracy_score(y_raw_filtered_normalised_test, predicted_cnn_filtered_normalised))\n",
    "print(f1_score(y_raw_filtered_normalised_test, predicted_cnn_filtered_normalised, average='micro'))\n",
    "# ConfusionMatrixDisplay.from_predictions(y_raw_test, predicted_cnn)"
   ]
  },
  {
   "cell_type": "code",
   "execution_count": 142,
   "metadata": {},
   "outputs": [
    {
     "name": "stdout",
     "output_type": "stream",
     "text": [
      "              precision    recall  f1-score   support\n",
      "\n",
      "           0       0.92      0.90      0.91       216\n",
      "           1       0.90      0.92      0.91       215\n",
      "\n",
      "    accuracy                           0.91       431\n",
      "   macro avg       0.91      0.91      0.91       431\n",
      "weighted avg       0.91      0.91      0.91       431\n",
      "\n"
     ]
    }
   ],
   "source": [
    "from sklearn.metrics import classification_report\n",
    "\n",
    "print(classification_report(y_raw_filtered_normalised_test, predicted_cnn_filtered_normalised))"
   ]
  },
  {
   "cell_type": "code",
   "execution_count": 143,
   "metadata": {},
   "outputs": [
    {
     "name": "stdout",
     "output_type": "stream",
     "text": [
      "14/14 [==============================] - 0s 2ms/step - loss: 1.9252 - accuracy: 0.5012\n",
      "test loss, test acc:  [1.9251774549484253, 0.5011600852012634]\n"
     ]
    }
   ],
   "source": [
    "results_filtered_normalised = cnn_model_filtered.evaluate(X_raw_filtered_normalised_test, y_raw_filtered_normalised_test)\n",
    "print(\"test loss, test acc: \", results_filtered_normalised)"
   ]
  },
  {
   "cell_type": "code",
   "execution_count": 146,
   "metadata": {},
   "outputs": [
    {
     "name": "stdout",
     "output_type": "stream",
     "text": [
      "0.9156954407691955\n"
     ]
    }
   ],
   "source": [
    "cnn_filtered_normalised_cv_metrics = feature_util.cross_val_cnn(X_raw_filtered_normalised_train, y_raw_filtered_normalised_train, X_raw_filtered_normalised_train[0].shape, NUMBER_OF_EPOCHS, 5)\n",
    "feature_util.compute_cnn_cross_val_mean(cnn_filtered_normalised_cv_metrics)"
   ]
  }
 ],
 "metadata": {
  "kernelspec": {
   "display_name": "base",
   "language": "python",
   "name": "python3"
  },
  "language_info": {
   "codemirror_mode": {
    "name": "ipython",
    "version": 3
   },
   "file_extension": ".py",
   "mimetype": "text/x-python",
   "name": "python",
   "nbconvert_exporter": "python",
   "pygments_lexer": "ipython3",
   "version": "3.9.16"
  },
  "orig_nbformat": 4
 },
 "nbformat": 4,
 "nbformat_minor": 2
}
