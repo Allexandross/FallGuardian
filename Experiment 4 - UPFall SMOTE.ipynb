{
 "cells": [
  {
   "cell_type": "code",
   "execution_count": 35,
   "metadata": {},
   "outputs": [
    {
     "name": "stdout",
     "output_type": "stream",
     "text": [
      "The autoreload extension is already loaded. To reload it, use:\n",
      "  %reload_ext autoreload\n"
     ]
    }
   ],
   "source": [
    "%load_ext autoreload\n",
    "%autoreload 2\n",
    "import pandas as pd\n",
    "import numpy as np\n",
    "import feature_util_UPFall\n",
    "import seaborn as sns\n",
    "from sklearn.model_selection import train_test_split"
   ]
  },
  {
   "attachments": {},
   "cell_type": "markdown",
   "metadata": {},
   "source": [
    "## I - Unfiltered"
   ]
  },
  {
   "cell_type": "code",
   "execution_count": 36,
   "metadata": {},
   "outputs": [
    {
     "data": {
      "text/html": [
       "<div>\n",
       "<style scoped>\n",
       "    .dataframe tbody tr th:only-of-type {\n",
       "        vertical-align: middle;\n",
       "    }\n",
       "\n",
       "    .dataframe tbody tr th {\n",
       "        vertical-align: top;\n",
       "    }\n",
       "\n",
       "    .dataframe thead th {\n",
       "        text-align: right;\n",
       "    }\n",
       "</style>\n",
       "<table border=\"1\" class=\"dataframe\">\n",
       "  <thead>\n",
       "    <tr style=\"text-align: right;\">\n",
       "      <th></th>\n",
       "      <th>acc_x_axis</th>\n",
       "      <th>acc_y_axis</th>\n",
       "      <th>acc_z_axis</th>\n",
       "      <th>ang_vel_x_axis</th>\n",
       "      <th>ang_vel_y_axis</th>\n",
       "      <th>ang_vel_z_axis</th>\n",
       "      <th>Activity</th>\n",
       "      <th>Trial</th>\n",
       "      <th>Tag</th>\n",
       "    </tr>\n",
       "  </thead>\n",
       "  <tbody>\n",
       "    <tr>\n",
       "      <th>0</th>\n",
       "      <td>-1.240</td>\n",
       "      <td>-0.557</td>\n",
       "      <td>0.227</td>\n",
       "      <td>-75.854</td>\n",
       "      <td>44.024</td>\n",
       "      <td>315.915</td>\n",
       "      <td>1</td>\n",
       "      <td>1</td>\n",
       "      <td>7</td>\n",
       "    </tr>\n",
       "    <tr>\n",
       "      <th>1</th>\n",
       "      <td>-1.240</td>\n",
       "      <td>-0.557</td>\n",
       "      <td>0.227</td>\n",
       "      <td>-28.780</td>\n",
       "      <td>55.549</td>\n",
       "      <td>344.146</td>\n",
       "      <td>1</td>\n",
       "      <td>1</td>\n",
       "      <td>7</td>\n",
       "    </tr>\n",
       "    <tr>\n",
       "      <th>2</th>\n",
       "      <td>-1.884</td>\n",
       "      <td>-0.687</td>\n",
       "      <td>0.251</td>\n",
       "      <td>27.256</td>\n",
       "      <td>87.134</td>\n",
       "      <td>372.012</td>\n",
       "      <td>1</td>\n",
       "      <td>1</td>\n",
       "      <td>7</td>\n",
       "    </tr>\n",
       "    <tr>\n",
       "      <th>3</th>\n",
       "      <td>-1.884</td>\n",
       "      <td>-0.687</td>\n",
       "      <td>0.251</td>\n",
       "      <td>2.866</td>\n",
       "      <td>117.683</td>\n",
       "      <td>356.463</td>\n",
       "      <td>1</td>\n",
       "      <td>1</td>\n",
       "      <td>7</td>\n",
       "    </tr>\n",
       "    <tr>\n",
       "      <th>4</th>\n",
       "      <td>-1.597</td>\n",
       "      <td>-0.646</td>\n",
       "      <td>0.112</td>\n",
       "      <td>10.000</td>\n",
       "      <td>30.671</td>\n",
       "      <td>126.768</td>\n",
       "      <td>1</td>\n",
       "      <td>1</td>\n",
       "      <td>7</td>\n",
       "    </tr>\n",
       "    <tr>\n",
       "      <th>...</th>\n",
       "      <td>...</td>\n",
       "      <td>...</td>\n",
       "      <td>...</td>\n",
       "      <td>...</td>\n",
       "      <td>...</td>\n",
       "      <td>...</td>\n",
       "      <td>...</td>\n",
       "      <td>...</td>\n",
       "      <td>...</td>\n",
       "    </tr>\n",
       "    <tr>\n",
       "      <th>294673</th>\n",
       "      <td>0.310</td>\n",
       "      <td>0.545</td>\n",
       "      <td>0.835</td>\n",
       "      <td>1.220</td>\n",
       "      <td>3.537</td>\n",
       "      <td>-1.220</td>\n",
       "      <td>11</td>\n",
       "      <td>3</td>\n",
       "      <td>11</td>\n",
       "    </tr>\n",
       "    <tr>\n",
       "      <th>294674</th>\n",
       "      <td>0.304</td>\n",
       "      <td>0.549</td>\n",
       "      <td>0.833</td>\n",
       "      <td>0.976</td>\n",
       "      <td>2.317</td>\n",
       "      <td>-1.159</td>\n",
       "      <td>11</td>\n",
       "      <td>3</td>\n",
       "      <td>11</td>\n",
       "    </tr>\n",
       "    <tr>\n",
       "      <th>294675</th>\n",
       "      <td>0.318</td>\n",
       "      <td>0.555</td>\n",
       "      <td>0.824</td>\n",
       "      <td>3.598</td>\n",
       "      <td>2.866</td>\n",
       "      <td>-1.402</td>\n",
       "      <td>11</td>\n",
       "      <td>3</td>\n",
       "      <td>11</td>\n",
       "    </tr>\n",
       "    <tr>\n",
       "      <th>294676</th>\n",
       "      <td>0.321</td>\n",
       "      <td>0.561</td>\n",
       "      <td>0.822</td>\n",
       "      <td>-0.183</td>\n",
       "      <td>2.073</td>\n",
       "      <td>0.000</td>\n",
       "      <td>11</td>\n",
       "      <td>3</td>\n",
       "      <td>11</td>\n",
       "    </tr>\n",
       "    <tr>\n",
       "      <th>294677</th>\n",
       "      <td>0.308</td>\n",
       "      <td>0.548</td>\n",
       "      <td>0.821</td>\n",
       "      <td>-1.037</td>\n",
       "      <td>1.341</td>\n",
       "      <td>-1.220</td>\n",
       "      <td>11</td>\n",
       "      <td>3</td>\n",
       "      <td>11</td>\n",
       "    </tr>\n",
       "  </tbody>\n",
       "</table>\n",
       "<p>294678 rows × 9 columns</p>\n",
       "</div>"
      ],
      "text/plain": [
       "        acc_x_axis  acc_y_axis  acc_z_axis  ang_vel_x_axis  ang_vel_y_axis  \\\n",
       "0           -1.240      -0.557       0.227         -75.854          44.024   \n",
       "1           -1.240      -0.557       0.227         -28.780          55.549   \n",
       "2           -1.884      -0.687       0.251          27.256          87.134   \n",
       "3           -1.884      -0.687       0.251           2.866         117.683   \n",
       "4           -1.597      -0.646       0.112          10.000          30.671   \n",
       "...            ...         ...         ...             ...             ...   \n",
       "294673       0.310       0.545       0.835           1.220           3.537   \n",
       "294674       0.304       0.549       0.833           0.976           2.317   \n",
       "294675       0.318       0.555       0.824           3.598           2.866   \n",
       "294676       0.321       0.561       0.822          -0.183           2.073   \n",
       "294677       0.308       0.548       0.821          -1.037           1.341   \n",
       "\n",
       "        ang_vel_z_axis  Activity  Trial  Tag  \n",
       "0              315.915         1      1    7  \n",
       "1              344.146         1      1    7  \n",
       "2              372.012         1      1    7  \n",
       "3              356.463         1      1    7  \n",
       "4              126.768         1      1    7  \n",
       "...                ...       ...    ...  ...  \n",
       "294673          -1.220        11      3   11  \n",
       "294674          -1.159        11      3   11  \n",
       "294675          -1.402        11      3   11  \n",
       "294676           0.000        11      3   11  \n",
       "294677          -1.220        11      3   11  \n",
       "\n",
       "[294678 rows x 9 columns]"
      ]
     },
     "execution_count": 36,
     "metadata": {},
     "output_type": "execute_result"
    }
   ],
   "source": [
    "df = pd.read_csv(\"New Datasets/UPFallWristData.csv\")\n",
    "df\n"
   ]
  },
  {
   "cell_type": "code",
   "execution_count": 37,
   "metadata": {},
   "outputs": [
    {
     "data": {
      "text/plain": [
       "<AxesSubplot: >"
      ]
     },
     "execution_count": 37,
     "metadata": {},
     "output_type": "execute_result"
    },
    {
     "data": {
      "image/png": "[encoded data removed]",
      "text/plain": [
       "<Figure size 640x480 with 1 Axes>"
      ]
     },
     "metadata": {},
     "output_type": "display_data"
    }
   ],
   "source": [
    "sns.lineplot(data=df[(df['Activity'] == 1)].loc[300:400, ['acc_x_axis', 'acc_y_axis', 'acc_z_axis', 'Activity', 'Trial']])"
   ]
  },
  {
   "cell_type": "code",
   "execution_count": 38,
   "metadata": {},
   "outputs": [
    {
     "data": {
      "text/plain": [
       "6     54568\n",
       "7     54032\n",
       "8     53689\n",
       "11    50872\n",
       "1     45951\n",
       "10    26694\n",
       "9      8872\n",
       "Name: Activity, dtype: int64"
      ]
     },
     "execution_count": 38,
     "metadata": {},
     "output_type": "execute_result"
    }
   ],
   "source": [
    "df_falls_renamed = df.copy()\n",
    "df_falls_renamed.loc[(df_falls_renamed['Activity'] == 2) |\n",
    "                     (df_falls_renamed['Activity'] == 3) |\n",
    "                     (df_falls_renamed['Activity'] == 4) |\n",
    "                     (df_falls_renamed['Activity'] == 5),\n",
    "                     'Activity'] = 1\n",
    "\n",
    "df_falls_renamed['Activity'].value_counts()"
   ]
  },
  {
   "cell_type": "code",
   "execution_count": 39,
   "metadata": {},
   "outputs": [
    {
     "data": {
      "text/plain": [
       "0    248727\n",
       "1     45951\n",
       "Name: Activity, dtype: int64"
      ]
     },
     "execution_count": 39,
     "metadata": {},
     "output_type": "execute_result"
    }
   ],
   "source": [
    "df_binary = df_falls_renamed.copy()\n",
    "df_binary.loc[(df_binary['Activity'] == 6) |\n",
    "                     (df_binary['Activity'] == 7) |\n",
    "                     (df_binary['Activity'] == 8) |\n",
    "                     (df_binary['Activity'] == 9) |\n",
    "                     (df_binary['Activity'] == 10) |\n",
    "                     (df_binary['Activity'] == 11),\n",
    "                     'Activity'] = 0\n",
    "df_binary['Activity'].value_counts()"
   ]
  },
  {
   "cell_type": "code",
   "execution_count": 40,
   "metadata": {},
   "outputs": [],
   "source": [
    "Fs = 18.4 # Hz\n",
    "frame_size = int(Fs * 5) # 100 Hz and 2s window\n",
    "hop_size = int(frame_size * 0.5) # 50% overlap\n",
    "# hop_size = int(frame_size * 1) # 50% overlap"
   ]
  },
  {
   "cell_type": "code",
   "execution_count": 41,
   "metadata": {},
   "outputs": [],
   "source": [
    "# df_ticwatch = pd.read_csv(\"New Datasets/ticwatch_dataset_gyro.csv\", index_col=0)\n",
    "# df_ticwatch = df_ticwatch.drop(columns=['timestamp'], axis=1)\n",
    "# df_ticwatch['outcome'] = 0\n",
    "# df_ticwatch"
   ]
  },
  {
   "cell_type": "code",
   "execution_count": 42,
   "metadata": {},
   "outputs": [],
   "source": [
    "df_binary = df_binary.drop(columns=['Trial', 'Tag'])\n",
    "df_binary = df_binary.rename(mapper={'acc_x_axis':'acc_x',\n",
    "                                     'acc_y_axis':'acc_y',\n",
    "                                     'acc_z_axis':'acc_z',\n",
    "                                     'ang_vel_x_axis':'gyro_x',\n",
    "                                     'ang_vel_y_axis':'gyro_y',\n",
    "                                     'ang_vel_z_axis':'gyro_z',\n",
    "                                     'Activity':'outcome'}, axis=1)"
   ]
  },
  {
   "cell_type": "code",
   "execution_count": 43,
   "metadata": {},
   "outputs": [
    {
     "name": "stderr",
     "output_type": "stream",
     "text": [
      "c:\\Users\\Alex\\OneDrive - The University of Nottingham\\Comp Sci\\Year 3\\Dissertation\\Code\\feature_util_UPFall.py:32: FutureWarning: Unlike other reduction functions (e.g. `skew`, `kurtosis`), the default behavior of `mode` typically preserves the axis it acts along. In SciPy 1.11.0, this behavior will change: the default value of `keepdims` will become False, the `axis` over which the statistic is taken will be eliminated, and the value None will no longer be accepted. Set `keepdims` to True or False to avoid this warning.\n",
      "  label = stats.mode(df['outcome'][i: i + frame_size])[0][0]\n"
     ]
    }
   ],
   "source": [
    "# df_binary_combined_unfiltered = pd.concat([df_binary, df_ticwatch]).reset_index(drop=True)\n",
    "# df_binary_combined_unfiltered\n",
    "df_binary_combined_unfiltered = df_binary\n",
    "df_binary_combined_unfiltered\n",
    "# df_binary_combined_filtered = feature_util_UPFall.apply_filter(df_binary_combined.drop(columns=['outcome']), Fs)\n",
    "# df_binary_combined_filtered['outcome'] = df_binary_combined['outcome']\n",
    "\n",
    "binary_frames, y_binary = feature_util_UPFall.get_frames_with_gyro(df_binary_combined_unfiltered, frame_size, hop_size, True)\n",
    "binary_features = feature_util_UPFall.extract_features_with_gyro(binary_frames)\n",
    "binary_features_df = pd.DataFrame(binary_features)\n",
    "y_binary_df = pd.DataFrame(y_binary, columns=['outcome'])\n",
    "binary_features_and_outcome = pd.concat([binary_features_df, y_binary_df], axis=1)"
   ]
  },
  {
   "cell_type": "code",
   "execution_count": 44,
   "metadata": {},
   "outputs": [
    {
     "data": {
      "text/plain": [
       "outcome\n",
       "0          5406\n",
       "1          5406\n",
       "dtype: int64"
      ]
     },
     "execution_count": 44,
     "metadata": {},
     "output_type": "execute_result"
    }
   ],
   "source": [
    "from imblearn.over_sampling import SMOTE\n",
    "sm = SMOTE(random_state=42)\n",
    "\n",
    "X_unfiltered_res, y_unfiltered_res = sm.fit_resample(binary_features_df, y_binary_df)\n",
    "y_unfiltered_res.value_counts()"
   ]
  },
  {
   "cell_type": "code",
   "execution_count": 45,
   "metadata": {},
   "outputs": [],
   "source": [
    "X_train, X_test, y_train, y_test = train_test_split(X_unfiltered_res, y_unfiltered_res, test_size=0.25, random_state=0, stratify=y_unfiltered_res)"
   ]
  },
  {
   "cell_type": "code",
   "execution_count": 46,
   "metadata": {},
   "outputs": [
    {
     "data": {
      "text/plain": [
       "((8109, 22), (2703, 22), (8109, 1), (2703, 1))"
      ]
     },
     "execution_count": 46,
     "metadata": {},
     "output_type": "execute_result"
    }
   ],
   "source": [
    "X_train.shape, X_test.shape, y_train.shape, y_test.shape"
   ]
  },
  {
   "cell_type": "code",
   "execution_count": 47,
   "metadata": {},
   "outputs": [
    {
     "data": {
      "text/plain": [
       "{0: 4054, 1: 4055}"
      ]
     },
     "execution_count": 47,
     "metadata": {},
     "output_type": "execute_result"
    }
   ],
   "source": [
    "unique, counts = np.unique(y_train, return_counts=True)\n",
    "dict(zip(unique, counts))"
   ]
  },
  {
   "attachments": {},
   "cell_type": "markdown",
   "metadata": {},
   "source": [
    "### Traditional Machine Learning Methods"
   ]
  },
  {
   "cell_type": "code",
   "execution_count": 48,
   "metadata": {},
   "outputs": [],
   "source": [
    "model_name_array = []\n",
    "model_acc_array = []"
   ]
  },
  {
   "cell_type": "code",
   "execution_count": 49,
   "metadata": {},
   "outputs": [],
   "source": [
    "from sklearn.neighbors import KNeighborsClassifier"
   ]
  },
  {
   "cell_type": "code",
   "execution_count": 50,
   "metadata": {},
   "outputs": [
    {
     "name": "stderr",
     "output_type": "stream",
     "text": [
      "c:\\Users\\Alex\\anaconda3\\lib\\site-packages\\sklearn\\neighbors\\_classification.py:198: DataConversionWarning: A column-vector y was passed when a 1d array was expected. Please change the shape of y to (n_samples,), for example using ravel().\n",
      "  return self._fit(X, y)\n"
     ]
    },
    {
     "data": {
      "text/plain": [
       "KNeighborsClassifier()"
      ]
     },
     "execution_count": 50,
     "metadata": {},
     "output_type": "execute_result"
    }
   ],
   "source": [
    "knn_model = KNeighborsClassifier(n_neighbors=5)\n",
    "knn_model.fit(X_train, y_train)"
   ]
  },
  {
   "cell_type": "code",
   "execution_count": 51,
   "metadata": {},
   "outputs": [],
   "source": [
    "from sklearn.metrics import accuracy_score, f1_score, confusion_matrix"
   ]
  },
  {
   "cell_type": "code",
   "execution_count": 52,
   "metadata": {},
   "outputs": [
    {
     "name": "stdout",
     "output_type": "stream",
     "text": [
      "[[1183  169]\n",
      " [  37 1314]]\n",
      "0.9237883832778394\n",
      "0.9237883832778394\n"
     ]
    },
    {
     "name": "stderr",
     "output_type": "stream",
     "text": [
      "c:\\Users\\Alex\\anaconda3\\lib\\site-packages\\sklearn\\neighbors\\_classification.py:228: FutureWarning: Unlike other reduction functions (e.g. `skew`, `kurtosis`), the default behavior of `mode` typically preserves the axis it acts along. In SciPy 1.11.0, this behavior will change: the default value of `keepdims` will become False, the `axis` over which the statistic is taken will be eliminated, and the value None will no longer be accepted. Set `keepdims` to True or False to avoid this warning.\n",
      "  mode, _ = stats.mode(_y[neigh_ind, k], axis=1)\n"
     ]
    }
   ],
   "source": [
    "# Predict on the test set\n",
    "predicted = knn_model.predict(X_test)\n",
    "\n",
    "# Print metrics\n",
    "print(confusion_matrix(y_test, predicted))\n",
    "print(accuracy_score(y_test, predicted))\n",
    "print(f1_score(y_test, predicted, average='micro'))\n",
    "# compare_trad_models(\"knn\", accuracy_score(y_test, predicted))\n",
    "model_name_array.append(\"knn\")\n",
    "model_acc_array.append(accuracy_score(y_test, predicted))"
   ]
  },
  {
   "cell_type": "code",
   "execution_count": 53,
   "metadata": {},
   "outputs": [],
   "source": [
    "# from sklearn.model_selection import GridSearchCV\n",
    "\n",
    "# max_features_range = np.arange(1, 6, 1)\n",
    "# n_estimators_range = np.arange(10, 210, 10)\n",
    "# n_neighbors_range = np.arange(1, 100, 1)\n",
    "# # param_grid = dict(max_features = max_features_range, n_estimators = n_estimators_range, n_neighbors = n_neighbors_range)\n",
    "# param_grid = dict(n_neighbors = n_neighbors_range)\n",
    "\n",
    "# knnTest = KNeighborsClassifier(n_neighbors=5)\n",
    "\n",
    "# grid = GridSearchCV(estimator=knnTest, param_grid=param_grid, scoring='accuracy', cv=5)\n",
    "\n",
    "# grid.fit(X_train, y_train)\n",
    "# print(\"The best parameters are %s with a score of %f\" % (grid.best_params_, grid.best_score_))"
   ]
  },
  {
   "cell_type": "code",
   "execution_count": 54,
   "metadata": {},
   "outputs": [],
   "source": [
    "from sklearn import svm"
   ]
  },
  {
   "cell_type": "code",
   "execution_count": 55,
   "metadata": {},
   "outputs": [
    {
     "name": "stderr",
     "output_type": "stream",
     "text": [
      "c:\\Users\\Alex\\anaconda3\\lib\\site-packages\\sklearn\\utils\\validation.py:993: DataConversionWarning: A column-vector y was passed when a 1d array was expected. Please change the shape of y to (n_samples, ), for example using ravel().\n",
      "  y = column_or_1d(y, warn=True)\n"
     ]
    },
    {
     "data": {
      "text/plain": [
       "SVC(C=1, kernel='linear', random_state=0)"
      ]
     },
     "execution_count": 55,
     "metadata": {},
     "output_type": "execute_result"
    }
   ],
   "source": [
    "svm_model = svm.SVC(kernel='linear', C=1, random_state=0)\n",
    "# gaussian\n",
    "svm_model.fit(X_train, y_train)"
   ]
  },
  {
   "cell_type": "code",
   "execution_count": 56,
   "metadata": {},
   "outputs": [
    {
     "name": "stdout",
     "output_type": "stream",
     "text": [
      "[[1031  321]\n",
      " [ 483  868]]\n",
      "0.7025527192008879\n",
      "0.7025527192008879\n"
     ]
    }
   ],
   "source": [
    "# Predict on the test set\n",
    "predicted_svm = svm_model.predict(X_test)\n",
    "\n",
    "# Print metrics\n",
    "print(confusion_matrix(y_test, predicted_svm))\n",
    "print(accuracy_score(y_test, predicted_svm))\n",
    "print(f1_score(y_test, predicted_svm, average='micro'))\n",
    "\n",
    "model_name_array.append(\"svm\")\n",
    "model_acc_array.append(accuracy_score(y_test, predicted_svm))"
   ]
  },
  {
   "cell_type": "code",
   "execution_count": 57,
   "metadata": {},
   "outputs": [
    {
     "name": "stderr",
     "output_type": "stream",
     "text": [
      "c:\\Users\\Alex\\anaconda3\\lib\\site-packages\\sklearn\\utils\\validation.py:993: DataConversionWarning: A column-vector y was passed when a 1d array was expected. Please change the shape of y to (n_samples, ), for example using ravel().\n",
      "  y = column_or_1d(y, warn=True)\n"
     ]
    },
    {
     "data": {
      "text/plain": [
       "SVC(C=1, random_state=0)"
      ]
     },
     "execution_count": 57,
     "metadata": {},
     "output_type": "execute_result"
    }
   ],
   "source": [
    "svm_rbf_model = svm.SVC(kernel='rbf', C=1, random_state=0)\n",
    "svm_rbf_model.fit(X_train, y_train)"
   ]
  },
  {
   "cell_type": "code",
   "execution_count": 58,
   "metadata": {},
   "outputs": [
    {
     "name": "stdout",
     "output_type": "stream",
     "text": [
      "[[1222  130]\n",
      " [ 535  816]]\n",
      "0.7539770625231225\n",
      "0.7539770625231226\n"
     ]
    }
   ],
   "source": [
    "# Predict on the test set\n",
    "predicted_svm_rbf = svm_rbf_model.predict(X_test)\n",
    "\n",
    "# Print metrics\n",
    "print(confusion_matrix(y_test, predicted_svm_rbf))\n",
    "print(accuracy_score(y_test, predicted_svm_rbf))\n",
    "print(f1_score(y_test, predicted_svm_rbf, average='micro'))\n",
    "model_name_array.append(\"svm_rbf\")\n",
    "model_acc_array.append(accuracy_score(y_test, predicted_svm_rbf))\n"
   ]
  },
  {
   "cell_type": "code",
   "execution_count": 59,
   "metadata": {},
   "outputs": [],
   "source": [
    "from sklearn.ensemble import RandomForestClassifier"
   ]
  },
  {
   "cell_type": "code",
   "execution_count": 60,
   "metadata": {},
   "outputs": [
    {
     "name": "stderr",
     "output_type": "stream",
     "text": [
      "C:\\Users\\Alex\\AppData\\Local\\Temp\\ipykernel_29220\\2856838272.py:2: DataConversionWarning: A column-vector y was passed when a 1d array was expected. Please change the shape of y to (n_samples,), for example using ravel().\n",
      "  rf_model.fit(X_train, y_train)\n"
     ]
    },
    {
     "data": {
      "text/plain": [
       "RandomForestClassifier(random_state=42)"
      ]
     },
     "execution_count": 60,
     "metadata": {},
     "output_type": "execute_result"
    }
   ],
   "source": [
    "rf_model = RandomForestClassifier(n_estimators = 100, random_state = 42)\n",
    "rf_model.fit(X_train, y_train)"
   ]
  },
  {
   "cell_type": "code",
   "execution_count": 61,
   "metadata": {},
   "outputs": [
    {
     "name": "stdout",
     "output_type": "stream",
     "text": [
      "[[1228  124]\n",
      " [  45 1306]]\n",
      "0.9374768775434702\n",
      "0.9374768775434702\n"
     ]
    }
   ],
   "source": [
    "# Predict on the test set\n",
    "predicted_rf = rf_model.predict(X_test)\n",
    "\n",
    "# Print metrics\n",
    "print(confusion_matrix(y_test, predicted_rf))\n",
    "print(accuracy_score(y_test, predicted_rf))\n",
    "print(f1_score(y_test, predicted_rf, average='micro'))\n",
    "model_name_array.append(\"rf\")\n",
    "model_acc_array.append(accuracy_score(y_test, predicted_rf))"
   ]
  },
  {
   "cell_type": "code",
   "execution_count": 62,
   "metadata": {},
   "outputs": [],
   "source": [
    "from sklearn.naive_bayes import GaussianNB"
   ]
  },
  {
   "cell_type": "code",
   "execution_count": 63,
   "metadata": {},
   "outputs": [
    {
     "name": "stderr",
     "output_type": "stream",
     "text": [
      "c:\\Users\\Alex\\anaconda3\\lib\\site-packages\\sklearn\\utils\\validation.py:993: DataConversionWarning: A column-vector y was passed when a 1d array was expected. Please change the shape of y to (n_samples, ), for example using ravel().\n",
      "  y = column_or_1d(y, warn=True)\n"
     ]
    },
    {
     "data": {
      "text/plain": [
       "GaussianNB()"
      ]
     },
     "execution_count": 63,
     "metadata": {},
     "output_type": "execute_result"
    }
   ],
   "source": [
    "nb_model = GaussianNB()\n",
    "nb_model.fit(X_train, y_train)"
   ]
  },
  {
   "cell_type": "code",
   "execution_count": 64,
   "metadata": {},
   "outputs": [
    {
     "name": "stdout",
     "output_type": "stream",
     "text": [
      "[[1211  141]\n",
      " [ 698  653]]\n",
      "0.6896041435442102\n",
      "0.6896041435442102\n"
     ]
    }
   ],
   "source": [
    "# Predict on the test set\n",
    "predicted_nb = nb_model.predict(X_test)\n",
    "\n",
    "# Print metrics\n",
    "print(confusion_matrix(y_test, predicted_nb))\n",
    "print(accuracy_score(y_test, predicted_nb))\n",
    "print(f1_score(y_test, predicted_nb, average='micro'))\n",
    "model_name_array.append(\"nb\")\n",
    "model_acc_array.append(accuracy_score(y_test, predicted_nb))\n"
   ]
  },
  {
   "cell_type": "code",
   "execution_count": 65,
   "metadata": {},
   "outputs": [
    {
     "name": "stdout",
     "output_type": "stream",
     "text": [
      "Best model: rf, Accuracy: 0.9374768775434702\n"
     ]
    }
   ],
   "source": [
    "best_trad_model_acc = max(model_acc_array)\n",
    "index = model_acc_array.index(max(model_acc_array))\n",
    "best_trad_model = model_name_array[index]\n",
    "print(f\"Best model: {best_trad_model}, Accuracy: {best_trad_model_acc}\")\n",
    "# model_acc_array"
   ]
  },
  {
   "cell_type": "code",
   "execution_count": 66,
   "metadata": {},
   "outputs": [
    {
     "name": "stdout",
     "output_type": "stream",
     "text": [
      "name: knn, accuracy: 0.9237883832778394\n",
      "name: svm, accuracy: 0.7025527192008879\n",
      "name: svm_rbf, accuracy: 0.7539770625231225\n",
      "name: rf, accuracy: 0.9374768775434702\n",
      "name: nb, accuracy: 0.6896041435442102\n"
     ]
    }
   ],
   "source": [
    "for i in range(0, len(model_name_array)):\n",
    "    print(f\"name: {model_name_array[i]}, accuracy: {model_acc_array[i]}\")"
   ]
  },
  {
   "cell_type": "code",
   "execution_count": 67,
   "metadata": {},
   "outputs": [
    {
     "data": {
      "text/plain": [
       "{0: 4054, 1: 4055}"
      ]
     },
     "execution_count": 67,
     "metadata": {},
     "output_type": "execute_result"
    }
   ],
   "source": [
    "unique, counts = np.unique(y_train, return_counts=True)\n",
    "dict(zip(unique, counts))"
   ]
  },
  {
   "cell_type": "code",
   "execution_count": 68,
   "metadata": {},
   "outputs": [],
   "source": [
    "from sklearn.model_selection import KFold\n",
    "from sklearn.model_selection import cross_val_score"
   ]
  },
  {
   "cell_type": "code",
   "execution_count": 69,
   "metadata": {},
   "outputs": [],
   "source": [
    "unfiltered_model_dictionary = {\"knn\": knn_model,\n",
    "                             \"svm\": svm_model,\n",
    "                             \"svm_rbf\": svm_rbf_model,\n",
    "                             \"rf\": rf_model,\n",
    "                             \"nb\": nb_model}"
   ]
  },
  {
   "cell_type": "code",
   "execution_count": 70,
   "metadata": {},
   "outputs": [],
   "source": [
    "def perform_cross_val_all_models(model_dictionary, X_train, y_train, num_folds=5):\n",
    "    cv = KFold(n_splits=num_folds, shuffle=True, random_state=42)\n",
    "    scores_array = []\n",
    "\n",
    "    for model_name in model_dictionary:\n",
    "        model = model_dictionary[model_name]\n",
    "        scores = cross_val_score(model, X_train, y_train, cv=cv)\n",
    "        scores_array.append((model_name, scores))\n",
    "    \n",
    "    return scores_array"
   ]
  },
  {
   "cell_type": "code",
   "execution_count": 71,
   "metadata": {},
   "outputs": [
    {
     "name": "stderr",
     "output_type": "stream",
     "text": [
      "c:\\Users\\Alex\\anaconda3\\lib\\site-packages\\sklearn\\neighbors\\_classification.py:198: DataConversionWarning: A column-vector y was passed when a 1d array was expected. Please change the shape of y to (n_samples,), for example using ravel().\n",
      "  return self._fit(X, y)\n",
      "c:\\Users\\Alex\\anaconda3\\lib\\site-packages\\sklearn\\neighbors\\_classification.py:228: FutureWarning: Unlike other reduction functions (e.g. `skew`, `kurtosis`), the default behavior of `mode` typically preserves the axis it acts along. In SciPy 1.11.0, this behavior will change: the default value of `keepdims` will become False, the `axis` over which the statistic is taken will be eliminated, and the value None will no longer be accepted. Set `keepdims` to True or False to avoid this warning.\n",
      "  mode, _ = stats.mode(_y[neigh_ind, k], axis=1)\n",
      "c:\\Users\\Alex\\anaconda3\\lib\\site-packages\\sklearn\\neighbors\\_classification.py:198: DataConversionWarning: A column-vector y was passed when a 1d array was expected. Please change the shape of y to (n_samples,), for example using ravel().\n",
      "  return self._fit(X, y)\n",
      "c:\\Users\\Alex\\anaconda3\\lib\\site-packages\\sklearn\\neighbors\\_classification.py:228: FutureWarning: Unlike other reduction functions (e.g. `skew`, `kurtosis`), the default behavior of `mode` typically preserves the axis it acts along. In SciPy 1.11.0, this behavior will change: the default value of `keepdims` will become False, the `axis` over which the statistic is taken will be eliminated, and the value None will no longer be accepted. Set `keepdims` to True or False to avoid this warning.\n",
      "  mode, _ = stats.mode(_y[neigh_ind, k], axis=1)\n",
      "c:\\Users\\Alex\\anaconda3\\lib\\site-packages\\sklearn\\neighbors\\_classification.py:198: DataConversionWarning: A column-vector y was passed when a 1d array was expected. Please change the shape of y to (n_samples,), for example using ravel().\n",
      "  return self._fit(X, y)\n",
      "c:\\Users\\Alex\\anaconda3\\lib\\site-packages\\sklearn\\neighbors\\_classification.py:228: FutureWarning: Unlike other reduction functions (e.g. `skew`, `kurtosis`), the default behavior of `mode` typically preserves the axis it acts along. In SciPy 1.11.0, this behavior will change: the default value of `keepdims` will become False, the `axis` over which the statistic is taken will be eliminated, and the value None will no longer be accepted. Set `keepdims` to True or False to avoid this warning.\n",
      "  mode, _ = stats.mode(_y[neigh_ind, k], axis=1)\n",
      "c:\\Users\\Alex\\anaconda3\\lib\\site-packages\\sklearn\\neighbors\\_classification.py:198: DataConversionWarning: A column-vector y was passed when a 1d array was expected. Please change the shape of y to (n_samples,), for example using ravel().\n",
      "  return self._fit(X, y)\n",
      "c:\\Users\\Alex\\anaconda3\\lib\\site-packages\\sklearn\\neighbors\\_classification.py:228: FutureWarning: Unlike other reduction functions (e.g. `skew`, `kurtosis`), the default behavior of `mode` typically preserves the axis it acts along. In SciPy 1.11.0, this behavior will change: the default value of `keepdims` will become False, the `axis` over which the statistic is taken will be eliminated, and the value None will no longer be accepted. Set `keepdims` to True or False to avoid this warning.\n",
      "  mode, _ = stats.mode(_y[neigh_ind, k], axis=1)\n",
      "c:\\Users\\Alex\\anaconda3\\lib\\site-packages\\sklearn\\neighbors\\_classification.py:198: DataConversionWarning: A column-vector y was passed when a 1d array was expected. Please change the shape of y to (n_samples,), for example using ravel().\n",
      "  return self._fit(X, y)\n",
      "c:\\Users\\Alex\\anaconda3\\lib\\site-packages\\sklearn\\neighbors\\_classification.py:228: FutureWarning: Unlike other reduction functions (e.g. `skew`, `kurtosis`), the default behavior of `mode` typically preserves the axis it acts along. In SciPy 1.11.0, this behavior will change: the default value of `keepdims` will become False, the `axis` over which the statistic is taken will be eliminated, and the value None will no longer be accepted. Set `keepdims` to True or False to avoid this warning.\n",
      "  mode, _ = stats.mode(_y[neigh_ind, k], axis=1)\n",
      "c:\\Users\\Alex\\anaconda3\\lib\\site-packages\\sklearn\\utils\\validation.py:993: DataConversionWarning: A column-vector y was passed when a 1d array was expected. Please change the shape of y to (n_samples, ), for example using ravel().\n",
      "  y = column_or_1d(y, warn=True)\n",
      "c:\\Users\\Alex\\anaconda3\\lib\\site-packages\\sklearn\\utils\\validation.py:993: DataConversionWarning: A column-vector y was passed when a 1d array was expected. Please change the shape of y to (n_samples, ), for example using ravel().\n",
      "  y = column_or_1d(y, warn=True)\n",
      "c:\\Users\\Alex\\anaconda3\\lib\\site-packages\\sklearn\\utils\\validation.py:993: DataConversionWarning: A column-vector y was passed when a 1d array was expected. Please change the shape of y to (n_samples, ), for example using ravel().\n",
      "  y = column_or_1d(y, warn=True)\n",
      "c:\\Users\\Alex\\anaconda3\\lib\\site-packages\\sklearn\\utils\\validation.py:993: DataConversionWarning: A column-vector y was passed when a 1d array was expected. Please change the shape of y to (n_samples, ), for example using ravel().\n",
      "  y = column_or_1d(y, warn=True)\n",
      "c:\\Users\\Alex\\anaconda3\\lib\\site-packages\\sklearn\\utils\\validation.py:993: DataConversionWarning: A column-vector y was passed when a 1d array was expected. Please change the shape of y to (n_samples, ), for example using ravel().\n",
      "  y = column_or_1d(y, warn=True)\n",
      "c:\\Users\\Alex\\anaconda3\\lib\\site-packages\\sklearn\\utils\\validation.py:993: DataConversionWarning: A column-vector y was passed when a 1d array was expected. Please change the shape of y to (n_samples, ), for example using ravel().\n",
      "  y = column_or_1d(y, warn=True)\n",
      "c:\\Users\\Alex\\anaconda3\\lib\\site-packages\\sklearn\\utils\\validation.py:993: DataConversionWarning: A column-vector y was passed when a 1d array was expected. Please change the shape of y to (n_samples, ), for example using ravel().\n",
      "  y = column_or_1d(y, warn=True)\n",
      "c:\\Users\\Alex\\anaconda3\\lib\\site-packages\\sklearn\\utils\\validation.py:993: DataConversionWarning: A column-vector y was passed when a 1d array was expected. Please change the shape of y to (n_samples, ), for example using ravel().\n",
      "  y = column_or_1d(y, warn=True)\n",
      "c:\\Users\\Alex\\anaconda3\\lib\\site-packages\\sklearn\\utils\\validation.py:993: DataConversionWarning: A column-vector y was passed when a 1d array was expected. Please change the shape of y to (n_samples, ), for example using ravel().\n",
      "  y = column_or_1d(y, warn=True)\n",
      "c:\\Users\\Alex\\anaconda3\\lib\\site-packages\\sklearn\\utils\\validation.py:993: DataConversionWarning: A column-vector y was passed when a 1d array was expected. Please change the shape of y to (n_samples, ), for example using ravel().\n",
      "  y = column_or_1d(y, warn=True)\n",
      "c:\\Users\\Alex\\anaconda3\\lib\\site-packages\\sklearn\\model_selection\\_validation.py:680: DataConversionWarning: A column-vector y was passed when a 1d array was expected. Please change the shape of y to (n_samples,), for example using ravel().\n",
      "  estimator.fit(X_train, y_train, **fit_params)\n",
      "c:\\Users\\Alex\\anaconda3\\lib\\site-packages\\sklearn\\model_selection\\_validation.py:680: DataConversionWarning: A column-vector y was passed when a 1d array was expected. Please change the shape of y to (n_samples,), for example using ravel().\n",
      "  estimator.fit(X_train, y_train, **fit_params)\n",
      "c:\\Users\\Alex\\anaconda3\\lib\\site-packages\\sklearn\\model_selection\\_validation.py:680: DataConversionWarning: A column-vector y was passed when a 1d array was expected. Please change the shape of y to (n_samples,), for example using ravel().\n",
      "  estimator.fit(X_train, y_train, **fit_params)\n",
      "c:\\Users\\Alex\\anaconda3\\lib\\site-packages\\sklearn\\model_selection\\_validation.py:680: DataConversionWarning: A column-vector y was passed when a 1d array was expected. Please change the shape of y to (n_samples,), for example using ravel().\n",
      "  estimator.fit(X_train, y_train, **fit_params)\n",
      "c:\\Users\\Alex\\anaconda3\\lib\\site-packages\\sklearn\\model_selection\\_validation.py:680: DataConversionWarning: A column-vector y was passed when a 1d array was expected. Please change the shape of y to (n_samples,), for example using ravel().\n",
      "  estimator.fit(X_train, y_train, **fit_params)\n",
      "c:\\Users\\Alex\\anaconda3\\lib\\site-packages\\sklearn\\utils\\validation.py:993: DataConversionWarning: A column-vector y was passed when a 1d array was expected. Please change the shape of y to (n_samples, ), for example using ravel().\n",
      "  y = column_or_1d(y, warn=True)\n",
      "c:\\Users\\Alex\\anaconda3\\lib\\site-packages\\sklearn\\utils\\validation.py:993: DataConversionWarning: A column-vector y was passed when a 1d array was expected. Please change the shape of y to (n_samples, ), for example using ravel().\n",
      "  y = column_or_1d(y, warn=True)\n",
      "c:\\Users\\Alex\\anaconda3\\lib\\site-packages\\sklearn\\utils\\validation.py:993: DataConversionWarning: A column-vector y was passed when a 1d array was expected. Please change the shape of y to (n_samples, ), for example using ravel().\n",
      "  y = column_or_1d(y, warn=True)\n",
      "c:\\Users\\Alex\\anaconda3\\lib\\site-packages\\sklearn\\utils\\validation.py:993: DataConversionWarning: A column-vector y was passed when a 1d array was expected. Please change the shape of y to (n_samples, ), for example using ravel().\n",
      "  y = column_or_1d(y, warn=True)\n",
      "c:\\Users\\Alex\\anaconda3\\lib\\site-packages\\sklearn\\utils\\validation.py:993: DataConversionWarning: A column-vector y was passed when a 1d array was expected. Please change the shape of y to (n_samples, ), for example using ravel().\n",
      "  y = column_or_1d(y, warn=True)\n"
     ]
    }
   ],
   "source": [
    "scores_array = perform_cross_val_all_models(unfiltered_model_dictionary, X_train, y_train)"
   ]
  },
  {
   "cell_type": "code",
   "execution_count": 72,
   "metadata": {},
   "outputs": [
    {
     "name": "stdout",
     "output_type": "stream",
     "text": [
      "knn Accuracy: 0.91 (+/- 0.00)\n",
      "svm Accuracy: 0.71 (+/- 0.02)\n",
      "svm_rbf Accuracy: 0.76 (+/- 0.02)\n",
      "rf Accuracy: 0.93 (+/- 0.01)\n",
      "nb Accuracy: 0.69 (+/- 0.03)\n"
     ]
    }
   ],
   "source": [
    "for cv_tuple in scores_array:\n",
    "    print(\"%s Accuracy: %0.2f (+/- %0.2f)\" % (cv_tuple[0], cv_tuple[1].mean(), cv_tuple[1].std() * 2))"
   ]
  },
  {
   "cell_type": "code",
   "execution_count": 73,
   "metadata": {},
   "outputs": [],
   "source": [
    "from sklearn.metrics import classification_report"
   ]
  },
  {
   "cell_type": "code",
   "execution_count": 74,
   "metadata": {},
   "outputs": [],
   "source": [
    "def print_all_classification_reports(model_dictionary, X_test, y_test): # broken!!! only works for filtered data. TODO: change X_test and y_test to params\n",
    "        for model_name in model_dictionary:\n",
    "                print(\"Classification report for %s\" % model_name)\n",
    "                model = model_dictionary[model_name]\n",
    "                predicted = model.predict(X_test)\n",
    "                print(classification_report(y_test, predicted))\n",
    "                print(\"=====================================================\")"
   ]
  },
  {
   "cell_type": "code",
   "execution_count": 75,
   "metadata": {},
   "outputs": [
    {
     "name": "stdout",
     "output_type": "stream",
     "text": [
      "Classification report for knn\n"
     ]
    },
    {
     "name": "stderr",
     "output_type": "stream",
     "text": [
      "c:\\Users\\Alex\\anaconda3\\lib\\site-packages\\sklearn\\neighbors\\_classification.py:228: FutureWarning: Unlike other reduction functions (e.g. `skew`, `kurtosis`), the default behavior of `mode` typically preserves the axis it acts along. In SciPy 1.11.0, this behavior will change: the default value of `keepdims` will become False, the `axis` over which the statistic is taken will be eliminated, and the value None will no longer be accepted. Set `keepdims` to True or False to avoid this warning.\n",
      "  mode, _ = stats.mode(_y[neigh_ind, k], axis=1)\n"
     ]
    },
    {
     "name": "stdout",
     "output_type": "stream",
     "text": [
      "              precision    recall  f1-score   support\n",
      "\n",
      "           0       0.97      0.88      0.92      1352\n",
      "           1       0.89      0.97      0.93      1351\n",
      "\n",
      "    accuracy                           0.92      2703\n",
      "   macro avg       0.93      0.92      0.92      2703\n",
      "weighted avg       0.93      0.92      0.92      2703\n",
      "\n",
      "=====================================================\n",
      "Classification report for svm\n",
      "              precision    recall  f1-score   support\n",
      "\n",
      "           0       0.68      0.76      0.72      1352\n",
      "           1       0.73      0.64      0.68      1351\n",
      "\n",
      "    accuracy                           0.70      2703\n",
      "   macro avg       0.71      0.70      0.70      2703\n",
      "weighted avg       0.71      0.70      0.70      2703\n",
      "\n",
      "=====================================================\n",
      "Classification report for svm_rbf\n",
      "              precision    recall  f1-score   support\n",
      "\n",
      "           0       0.70      0.90      0.79      1352\n",
      "           1       0.86      0.60      0.71      1351\n",
      "\n",
      "    accuracy                           0.75      2703\n",
      "   macro avg       0.78      0.75      0.75      2703\n",
      "weighted avg       0.78      0.75      0.75      2703\n",
      "\n",
      "=====================================================\n",
      "Classification report for rf\n",
      "              precision    recall  f1-score   support\n",
      "\n",
      "           0       0.96      0.91      0.94      1352\n",
      "           1       0.91      0.97      0.94      1351\n",
      "\n",
      "    accuracy                           0.94      2703\n",
      "   macro avg       0.94      0.94      0.94      2703\n",
      "weighted avg       0.94      0.94      0.94      2703\n",
      "\n",
      "=====================================================\n",
      "Classification report for nb\n",
      "              precision    recall  f1-score   support\n",
      "\n",
      "           0       0.63      0.90      0.74      1352\n",
      "           1       0.82      0.48      0.61      1351\n",
      "\n",
      "    accuracy                           0.69      2703\n",
      "   macro avg       0.73      0.69      0.68      2703\n",
      "weighted avg       0.73      0.69      0.68      2703\n",
      "\n",
      "=====================================================\n"
     ]
    }
   ],
   "source": [
    "print_all_classification_reports(unfiltered_model_dictionary, X_test, y_test)"
   ]
  },
  {
   "cell_type": "code",
   "execution_count": 76,
   "metadata": {},
   "outputs": [],
   "source": [
    "def print_all_classification_reports_training(model_dictionary, X_train, y_train):\n",
    "        for model_name in model_dictionary:\n",
    "                print(\"Classification report for %s\" % model_name)\n",
    "                model = model_dictionary[model_name]\n",
    "                predicted = model.predict(X_train)\n",
    "                print(classification_report(y_train, predicted))\n",
    "                print(\"=====================================================\")"
   ]
  },
  {
   "cell_type": "code",
   "execution_count": 77,
   "metadata": {},
   "outputs": [
    {
     "name": "stdout",
     "output_type": "stream",
     "text": [
      "Classification report for knn\n"
     ]
    },
    {
     "name": "stderr",
     "output_type": "stream",
     "text": [
      "c:\\Users\\Alex\\anaconda3\\lib\\site-packages\\sklearn\\neighbors\\_classification.py:228: FutureWarning: Unlike other reduction functions (e.g. `skew`, `kurtosis`), the default behavior of `mode` typically preserves the axis it acts along. In SciPy 1.11.0, this behavior will change: the default value of `keepdims` will become False, the `axis` over which the statistic is taken will be eliminated, and the value None will no longer be accepted. Set `keepdims` to True or False to avoid this warning.\n",
      "  mode, _ = stats.mode(_y[neigh_ind, k], axis=1)\n"
     ]
    },
    {
     "name": "stdout",
     "output_type": "stream",
     "text": [
      "              precision    recall  f1-score   support\n",
      "\n",
      "           0       0.99      0.90      0.94      4054\n",
      "           1       0.91      0.99      0.95      4055\n",
      "\n",
      "    accuracy                           0.95      8109\n",
      "   macro avg       0.95      0.95      0.95      8109\n",
      "weighted avg       0.95      0.95      0.95      8109\n",
      "\n",
      "=====================================================\n",
      "Classification report for svm\n",
      "              precision    recall  f1-score   support\n",
      "\n",
      "           0       0.69      0.76      0.72      4054\n",
      "           1       0.73      0.66      0.70      4055\n",
      "\n",
      "    accuracy                           0.71      8109\n",
      "   macro avg       0.71      0.71      0.71      8109\n",
      "weighted avg       0.71      0.71      0.71      8109\n",
      "\n",
      "=====================================================\n",
      "Classification report for svm_rbf\n",
      "              precision    recall  f1-score   support\n",
      "\n",
      "           0       0.70      0.91      0.79      4054\n",
      "           1       0.87      0.62      0.72      4055\n",
      "\n",
      "    accuracy                           0.76      8109\n",
      "   macro avg       0.79      0.76      0.76      8109\n",
      "weighted avg       0.79      0.76      0.76      8109\n",
      "\n",
      "=====================================================\n",
      "Classification report for rf\n",
      "              precision    recall  f1-score   support\n",
      "\n",
      "           0       1.00      1.00      1.00      4054\n",
      "           1       1.00      1.00      1.00      4055\n",
      "\n",
      "    accuracy                           1.00      8109\n",
      "   macro avg       1.00      1.00      1.00      8109\n",
      "weighted avg       1.00      1.00      1.00      8109\n",
      "\n",
      "=====================================================\n",
      "Classification report for nb\n",
      "              precision    recall  f1-score   support\n",
      "\n",
      "           0       0.64      0.89      0.74      4054\n",
      "           1       0.82      0.50      0.62      4055\n",
      "\n",
      "    accuracy                           0.70      8109\n",
      "   macro avg       0.73      0.70      0.68      8109\n",
      "weighted avg       0.73      0.70      0.68      8109\n",
      "\n",
      "=====================================================\n"
     ]
    }
   ],
   "source": [
    "print_all_classification_reports_training(unfiltered_model_dictionary, X_train, y_train)"
   ]
  },
  {
   "cell_type": "code",
   "execution_count": 208,
   "metadata": {},
   "outputs": [
    {
     "data": {
      "text/plain": [
       "['Final Models/exp4_knn_unfiltered.joblib']"
      ]
     },
     "execution_count": 208,
     "metadata": {},
     "output_type": "execute_result"
    }
   ],
   "source": [
    "from joblib import dump, load\n",
    "# save clf using joblib\n",
    "# dump(rf_model, 'New Models/EXP4_RF_UNFILTERED_FIXED.joblib')\n",
    "# dump(rf_model, 'Final Models/exp4_rf_unfiltered.joblib')\n",
    "# dump(knn_model, 'Final Models/exp4_knn_unfiltered.joblib')"
   ]
  },
  {
   "attachments": {},
   "cell_type": "markdown",
   "metadata": {},
   "source": [
    "### Deep Learning"
   ]
  },
  {
   "cell_type": "markdown",
   "metadata": {},
   "source": [
    "#### The models below are trained using data which went through low-pass filter"
   ]
  },
  {
   "cell_type": "code",
   "execution_count": 79,
   "metadata": {},
   "outputs": [
    {
     "data": {
      "text/plain": [
       "((6405, 92, 6), (6405,))"
      ]
     },
     "execution_count": 79,
     "metadata": {},
     "output_type": "execute_result"
    }
   ],
   "source": [
    "binary_frames.shape, y_binary.shape"
   ]
  },
  {
   "cell_type": "code",
   "execution_count": 80,
   "metadata": {},
   "outputs": [
    {
     "data": {
      "text/plain": [
       "((10812, 92, 6), (10812,))"
      ]
     },
     "execution_count": 80,
     "metadata": {},
     "output_type": "execute_result"
    }
   ],
   "source": [
    "X_raw_smote, y_raw_smote = feature_util_UPFall.generate_windows_SMOTE(binary_frames, y_binary)\n",
    "X_raw_smote.shape, y_raw_smote.shape"
   ]
  },
  {
   "cell_type": "code",
   "execution_count": 81,
   "metadata": {},
   "outputs": [
    {
     "data": {
      "text/plain": [
       "((8109, 92, 6), (2703, 92, 6), (8109,))"
      ]
     },
     "execution_count": 81,
     "metadata": {},
     "output_type": "execute_result"
    }
   ],
   "source": [
    "# X_raw_train, X_raw_test, y_raw_train, y_raw_test = train_test_split(binary_frames, y_binary, test_size=0.25, random_state=0, stratify=y_binary)\n",
    "X_raw_train, X_raw_test, y_raw_train, y_raw_test = train_test_split(X_raw_smote, y_raw_smote, test_size=0.25, random_state=0, stratify=y_raw_smote)\n",
    "X_raw_train.shape, X_raw_test.shape, y_raw_train.shape"
   ]
  },
  {
   "cell_type": "code",
   "execution_count": 82,
   "metadata": {},
   "outputs": [
    {
     "data": {
      "text/plain": [
       "(92, 6)"
      ]
     },
     "execution_count": 82,
     "metadata": {},
     "output_type": "execute_result"
    }
   ],
   "source": [
    "X_raw_train[0].shape"
   ]
  },
  {
   "cell_type": "code",
   "execution_count": 83,
   "metadata": {},
   "outputs": [],
   "source": [
    "# X_TRAIN_SIZE = 2268\n",
    "# X_TEST_SIZE = 757\n",
    "X_TRAIN_SIZE = X_raw_train.shape[0]\n",
    "X_TEST_SIZE = X_raw_test.shape[0]\n",
    "X_TRAIN_WINDOW_SIZE = X_raw_train.shape[1]\n",
    "X_TEST_WINDOW_SIZE = X_raw_test.shape[1]"
   ]
  },
  {
   "cell_type": "code",
   "execution_count": 84,
   "metadata": {},
   "outputs": [],
   "source": [
    "X_raw_train = X_raw_train.reshape(X_TRAIN_SIZE, X_TRAIN_WINDOW_SIZE, 6, 1)\n",
    "X_raw_test = X_raw_test.reshape(X_TEST_SIZE, X_TEST_WINDOW_SIZE, 6, 1)"
   ]
  },
  {
   "cell_type": "code",
   "execution_count": 85,
   "metadata": {},
   "outputs": [
    {
     "data": {
      "text/plain": [
       "((92, 6, 1), (92, 6, 1))"
      ]
     },
     "execution_count": 85,
     "metadata": {},
     "output_type": "execute_result"
    }
   ],
   "source": [
    "X_raw_train[0].shape, X_raw_test[0].shape"
   ]
  },
  {
   "cell_type": "code",
   "execution_count": 86,
   "metadata": {},
   "outputs": [],
   "source": [
    "import tensorflow as tf\n",
    "from tensorflow.keras import Sequential\n",
    "from tensorflow.keras.layers import Flatten, Dense, Dropout, BatchNormalization\n",
    "from tensorflow.keras.layers import Conv2D, MaxPool2D\n",
    "from tensorflow.keras.optimizers import Adam"
   ]
  },
  {
   "cell_type": "code",
   "execution_count": 87,
   "metadata": {},
   "outputs": [],
   "source": [
    "cnn_model = Sequential()\n",
    "cnn_model.add(Conv2D(16, (2, 2), activation='relu', input_shape=X_raw_train[0].shape))\n",
    "cnn_model.add(Conv2D(32, (2, 2), activation='relu'))\n",
    "cnn_model.add(Flatten())\n",
    "cnn_model.add(Dense(64, activation='relu'))\n",
    "cnn_model.add(Dense(2, activation='softmax'))"
   ]
  },
  {
   "cell_type": "code",
   "execution_count": 88,
   "metadata": {},
   "outputs": [],
   "source": [
    "cnn_model.compile(optimizer=Adam(learning_rate=0.001), loss='sparse_categorical_crossentropy', metrics=['accuracy'])"
   ]
  },
  {
   "cell_type": "code",
   "execution_count": 89,
   "metadata": {},
   "outputs": [],
   "source": [
    "NUMBER_OF_EPOCHS = 15"
   ]
  },
  {
   "cell_type": "code",
   "execution_count": 90,
   "metadata": {},
   "outputs": [
    {
     "name": "stdout",
     "output_type": "stream",
     "text": [
      "Epoch 1/15\n",
      "254/254 [==============================] - 5s 17ms/step - loss: 0.4552 - accuracy: 0.7786 - val_loss: 0.3396 - val_accuracy: 0.8431\n",
      "Epoch 2/15\n",
      "254/254 [==============================] - 4s 16ms/step - loss: 0.2974 - accuracy: 0.8697 - val_loss: 0.3141 - val_accuracy: 0.8539\n",
      "Epoch 3/15\n",
      "254/254 [==============================] - 4s 15ms/step - loss: 0.2345 - accuracy: 0.9042 - val_loss: 0.2583 - val_accuracy: 0.8912\n",
      "Epoch 4/15\n",
      "254/254 [==============================] - 4s 14ms/step - loss: 0.1934 - accuracy: 0.9193 - val_loss: 0.2130 - val_accuracy: 0.9267\n",
      "Epoch 5/15\n",
      "254/254 [==============================] - 4s 14ms/step - loss: 0.1679 - accuracy: 0.9312 - val_loss: 0.2255 - val_accuracy: 0.9238\n",
      "Epoch 6/15\n",
      "254/254 [==============================] - 4s 16ms/step - loss: 0.1385 - accuracy: 0.9472 - val_loss: 0.2051 - val_accuracy: 0.9316\n",
      "Epoch 7/15\n",
      "254/254 [==============================] - 4s 16ms/step - loss: 0.1199 - accuracy: 0.9550 - val_loss: 0.2031 - val_accuracy: 0.9364\n",
      "Epoch 8/15\n",
      "254/254 [==============================] - 4s 16ms/step - loss: 0.1109 - accuracy: 0.9589 - val_loss: 0.2272 - val_accuracy: 0.9271\n",
      "Epoch 9/15\n",
      "254/254 [==============================] - 4s 14ms/step - loss: 0.0964 - accuracy: 0.9649 - val_loss: 0.1934 - val_accuracy: 0.9449\n",
      "Epoch 10/15\n",
      "254/254 [==============================] - 4s 14ms/step - loss: 0.0818 - accuracy: 0.9711 - val_loss: 0.1941 - val_accuracy: 0.9434\n",
      "Epoch 11/15\n",
      "254/254 [==============================] - 4s 15ms/step - loss: 0.0887 - accuracy: 0.9671 - val_loss: 0.2240 - val_accuracy: 0.9452\n",
      "Epoch 12/15\n",
      "254/254 [==============================] - 4s 16ms/step - loss: 0.0663 - accuracy: 0.9760 - val_loss: 0.1999 - val_accuracy: 0.9478\n",
      "Epoch 13/15\n",
      "254/254 [==============================] - 4s 15ms/step - loss: 0.0570 - accuracy: 0.9800 - val_loss: 0.1949 - val_accuracy: 0.9556\n",
      "Epoch 14/15\n",
      "254/254 [==============================] - 4s 14ms/step - loss: 0.0609 - accuracy: 0.9779 - val_loss: 0.2422 - val_accuracy: 0.9493\n",
      "Epoch 15/15\n",
      "254/254 [==============================] - 4s 14ms/step - loss: 0.0551 - accuracy: 0.9804 - val_loss: 0.1986 - val_accuracy: 0.9501\n"
     ]
    }
   ],
   "source": [
    "history = cnn_model.fit(X_raw_train, y_raw_train, epochs=NUMBER_OF_EPOCHS, validation_data=(X_raw_test, y_raw_test), verbose=1)"
   ]
  },
  {
   "cell_type": "code",
   "execution_count": 91,
   "metadata": {},
   "outputs": [],
   "source": [
    "import matplotlib.pyplot as plt"
   ]
  },
  {
   "cell_type": "code",
   "execution_count": 92,
   "metadata": {},
   "outputs": [],
   "source": [
    "def plot_learning_curve(history, epochs):\n",
    "    epoch_range = range(1, epochs + 1)\n",
    "    plt.plot(epoch_range, history.history['accuracy'])\n",
    "    plt.plot(epoch_range, history.history['val_accuracy'])\n",
    "    plt.title('Model Accuracy')\n",
    "    plt.ylabel('Accuracy')\n",
    "    plt.xlabel('Epoch')\n",
    "    plt.legend(['Train', 'Val'], loc='upper left')\n",
    "    plt.show()\n",
    "\n",
    "    plt.plot(epoch_range, history.history['loss'])\n",
    "    plt.plot(epoch_range, history.history['val_loss'])\n",
    "    plt.title('Model Loss')\n",
    "    plt.ylabel('Loss')\n",
    "    plt.xlabel('Epoch')\n",
    "    plt.legend(['Train', 'Val'], loc='upper left')\n",
    "    plt.show()"
   ]
  },
  {
   "cell_type": "code",
   "execution_count": 93,
   "metadata": {},
   "outputs": [
    {
     "data": {
      "image/png": "[encoded data removed]",
      "text/plain": [
       "<Figure size 640x480 with 1 Axes>"
      ]
     },
     "metadata": {},
     "output_type": "display_data"
    },
    {
     "data": {
      "image/png": "[encoded data removed]",
      "text/plain": [
       "<Figure size 640x480 with 1 Axes>"
      ]
     },
     "metadata": {},
     "output_type": "display_data"
    }
   ],
   "source": [
    "plot_learning_curve(history, NUMBER_OF_EPOCHS)"
   ]
  },
  {
   "cell_type": "code",
   "execution_count": 94,
   "metadata": {},
   "outputs": [],
   "source": [
    "from sklearn.metrics import ConfusionMatrixDisplay"
   ]
  },
  {
   "cell_type": "code",
   "execution_count": 95,
   "metadata": {},
   "outputs": [
    {
     "name": "stdout",
     "output_type": "stream",
     "text": [
      "85/85 [==============================] - 0s 3ms/step\n",
      "[[1295   57]\n",
      " [  78 1273]]\n",
      "0.9500554938956715\n",
      "0.9500554938956715\n"
     ]
    }
   ],
   "source": [
    "# predicted_cnn = cnn_model.predict_classes(X_raw_test)\n",
    "predicted_cnn = np.argmax(cnn_model.predict(X_raw_test), axis=-1)\n",
    "\n",
    "# Print metrics\n",
    "print(confusion_matrix(y_raw_test, predicted_cnn))\n",
    "print(accuracy_score(y_raw_test, predicted_cnn))\n",
    "print(f1_score(y_raw_test, predicted_cnn, average='micro'))\n",
    "# ConfusionMatrixDisplay.from_predictions(y_raw_test, predicted_cnn)"
   ]
  },
  {
   "cell_type": "code",
   "execution_count": 96,
   "metadata": {},
   "outputs": [
    {
     "name": "stdout",
     "output_type": "stream",
     "text": [
      "              precision    recall  f1-score   support\n",
      "\n",
      "           0       0.94      0.96      0.95      1352\n",
      "           1       0.96      0.94      0.95      1351\n",
      "\n",
      "    accuracy                           0.95      2703\n",
      "   macro avg       0.95      0.95      0.95      2703\n",
      "weighted avg       0.95      0.95      0.95      2703\n",
      "\n"
     ]
    }
   ],
   "source": [
    "from sklearn.metrics import classification_report\n",
    "\n",
    "print(classification_report(y_raw_test, predicted_cnn))"
   ]
  },
  {
   "cell_type": "code",
   "execution_count": 97,
   "metadata": {},
   "outputs": [],
   "source": [
    "# results = cnn_model.evaluate(X_raw_test, y_raw_test)\n",
    "# print(\"test loss, test acc: \", results)"
   ]
  },
  {
   "cell_type": "code",
   "execution_count": null,
   "metadata": {},
   "outputs": [],
   "source": [
    "cnn_unfiltered_cv_metrics = feature_util_UPFall.cross_val_cnn(X_raw_train, y_raw_train, X_raw_train[0].shape, NUMBER_OF_EPOCHS, 5)"
   ]
  },
  {
   "cell_type": "code",
   "execution_count": null,
   "metadata": {},
   "outputs": [
    {
     "name": "stdout",
     "output_type": "stream",
     "text": [
      "0.936365258693695\n"
     ]
    }
   ],
   "source": [
    "feature_util_UPFall.compute_cnn_cross_val_mean(cnn_unfiltered_cv_metrics)"
   ]
  },
  {
   "cell_type": "code",
   "execution_count": 207,
   "metadata": {},
   "outputs": [
    {
     "name": "stderr",
     "output_type": "stream",
     "text": [
      "WARNING:absl:Found untraced functions such as _jit_compiled_convolution_op, _jit_compiled_convolution_op, _update_step_xla while saving (showing 3 of 3). These functions will not be directly callable after loading.\n"
     ]
    },
    {
     "name": "stdout",
     "output_type": "stream",
     "text": [
      "INFO:tensorflow:Assets written to: Final Models/exp4_cnn_unfiltered\\assets\n"
     ]
    },
    {
     "name": "stderr",
     "output_type": "stream",
     "text": [
      "INFO:tensorflow:Assets written to: Final Models/exp4_cnn_unfiltered\\assets\n"
     ]
    }
   ],
   "source": [
    "# cnn_model.save('Final Models/exp4_cnn_unfiltered')"
   ]
  },
  {
   "attachments": {},
   "cell_type": "markdown",
   "metadata": {},
   "source": [
    "## II - Filtered"
   ]
  },
  {
   "cell_type": "code",
   "execution_count": 98,
   "metadata": {},
   "outputs": [
    {
     "name": "stdout",
     "output_type": "stream",
     "text": [
      "low cutoff 5 Hz\n"
     ]
    },
    {
     "data": {
      "text/html": [
       "<div>\n",
       "<style scoped>\n",
       "    .dataframe tbody tr th:only-of-type {\n",
       "        vertical-align: middle;\n",
       "    }\n",
       "\n",
       "    .dataframe tbody tr th {\n",
       "        vertical-align: top;\n",
       "    }\n",
       "\n",
       "    .dataframe thead th {\n",
       "        text-align: right;\n",
       "    }\n",
       "</style>\n",
       "<table border=\"1\" class=\"dataframe\">\n",
       "  <thead>\n",
       "    <tr style=\"text-align: right;\">\n",
       "      <th></th>\n",
       "      <th>acc_x</th>\n",
       "      <th>acc_y</th>\n",
       "      <th>acc_z</th>\n",
       "      <th>gyro_x</th>\n",
       "      <th>gyro_y</th>\n",
       "      <th>gyro_z</th>\n",
       "      <th>outcome</th>\n",
       "    </tr>\n",
       "  </thead>\n",
       "  <tbody>\n",
       "    <tr>\n",
       "      <th>0</th>\n",
       "      <td>-1.239993</td>\n",
       "      <td>-0.557012</td>\n",
       "      <td>0.227003</td>\n",
       "      <td>-75.855628</td>\n",
       "      <td>44.024217</td>\n",
       "      <td>315.910160</td>\n",
       "      <td>1</td>\n",
       "    </tr>\n",
       "    <tr>\n",
       "      <th>1</th>\n",
       "      <td>-1.395815</td>\n",
       "      <td>-0.573027</td>\n",
       "      <td>0.244548</td>\n",
       "      <td>-17.510872</td>\n",
       "      <td>63.490971</td>\n",
       "      <td>354.156199</td>\n",
       "      <td>1</td>\n",
       "    </tr>\n",
       "    <tr>\n",
       "      <th>2</th>\n",
       "      <td>-1.744661</td>\n",
       "      <td>-0.682261</td>\n",
       "      <td>0.253276</td>\n",
       "      <td>7.506246</td>\n",
       "      <td>90.429294</td>\n",
       "      <td>380.509092</td>\n",
       "      <td>1</td>\n",
       "    </tr>\n",
       "    <tr>\n",
       "      <th>3</th>\n",
       "      <td>-1.917599</td>\n",
       "      <td>-0.711281</td>\n",
       "      <td>0.212457</td>\n",
       "      <td>15.604800</td>\n",
       "      <td>93.930676</td>\n",
       "      <td>321.103727</td>\n",
       "      <td>1</td>\n",
       "    </tr>\n",
       "    <tr>\n",
       "      <th>4</th>\n",
       "      <td>-1.600448</td>\n",
       "      <td>-0.537416</td>\n",
       "      <td>0.154293</td>\n",
       "      <td>21.432435</td>\n",
       "      <td>60.552806</td>\n",
       "      <td>162.230385</td>\n",
       "      <td>1</td>\n",
       "    </tr>\n",
       "    <tr>\n",
       "      <th>...</th>\n",
       "      <td>...</td>\n",
       "      <td>...</td>\n",
       "      <td>...</td>\n",
       "      <td>...</td>\n",
       "      <td>...</td>\n",
       "      <td>...</td>\n",
       "      <td>...</td>\n",
       "    </tr>\n",
       "    <tr>\n",
       "      <th>294673</th>\n",
       "      <td>0.302927</td>\n",
       "      <td>0.548072</td>\n",
       "      <td>0.835784</td>\n",
       "      <td>0.751494</td>\n",
       "      <td>3.327992</td>\n",
       "      <td>-1.311439</td>\n",
       "      <td>0</td>\n",
       "    </tr>\n",
       "    <tr>\n",
       "      <th>294674</th>\n",
       "      <td>0.307568</td>\n",
       "      <td>0.548625</td>\n",
       "      <td>0.831561</td>\n",
       "      <td>1.894530</td>\n",
       "      <td>2.672211</td>\n",
       "      <td>-1.305462</td>\n",
       "      <td>0</td>\n",
       "    </tr>\n",
       "    <tr>\n",
       "      <th>294675</th>\n",
       "      <td>0.318312</td>\n",
       "      <td>0.555836</td>\n",
       "      <td>0.825309</td>\n",
       "      <td>2.196824</td>\n",
       "      <td>2.538146</td>\n",
       "      <td>-0.837104</td>\n",
       "      <td>0</td>\n",
       "    </tr>\n",
       "    <tr>\n",
       "      <th>294676</th>\n",
       "      <td>0.319360</td>\n",
       "      <td>0.559022</td>\n",
       "      <td>0.821402</td>\n",
       "      <td>0.958866</td>\n",
       "      <td>2.235342</td>\n",
       "      <td>-0.590168</td>\n",
       "      <td>0</td>\n",
       "    </tr>\n",
       "    <tr>\n",
       "      <th>294677</th>\n",
       "      <td>0.307983</td>\n",
       "      <td>0.548010</td>\n",
       "      <td>0.821002</td>\n",
       "      <td>-1.049999</td>\n",
       "      <td>1.341387</td>\n",
       "      <td>-1.225663</td>\n",
       "      <td>0</td>\n",
       "    </tr>\n",
       "  </tbody>\n",
       "</table>\n",
       "<p>294678 rows × 7 columns</p>\n",
       "</div>"
      ],
      "text/plain": [
       "           acc_x     acc_y     acc_z     gyro_x     gyro_y      gyro_z  \\\n",
       "0      -1.239993 -0.557012  0.227003 -75.855628  44.024217  315.910160   \n",
       "1      -1.395815 -0.573027  0.244548 -17.510872  63.490971  354.156199   \n",
       "2      -1.744661 -0.682261  0.253276   7.506246  90.429294  380.509092   \n",
       "3      -1.917599 -0.711281  0.212457  15.604800  93.930676  321.103727   \n",
       "4      -1.600448 -0.537416  0.154293  21.432435  60.552806  162.230385   \n",
       "...          ...       ...       ...        ...        ...         ...   \n",
       "294673  0.302927  0.548072  0.835784   0.751494   3.327992   -1.311439   \n",
       "294674  0.307568  0.548625  0.831561   1.894530   2.672211   -1.305462   \n",
       "294675  0.318312  0.555836  0.825309   2.196824   2.538146   -0.837104   \n",
       "294676  0.319360  0.559022  0.821402   0.958866   2.235342   -0.590168   \n",
       "294677  0.307983  0.548010  0.821002  -1.049999   1.341387   -1.225663   \n",
       "\n",
       "        outcome  \n",
       "0             1  \n",
       "1             1  \n",
       "2             1  \n",
       "3             1  \n",
       "4             1  \n",
       "...         ...  \n",
       "294673        0  \n",
       "294674        0  \n",
       "294675        0  \n",
       "294676        0  \n",
       "294677        0  \n",
       "\n",
       "[294678 rows x 7 columns]"
      ]
     },
     "execution_count": 98,
     "metadata": {},
     "output_type": "execute_result"
    }
   ],
   "source": [
    "df_binary_combined_filtered = feature_util_UPFall.apply_filter(df_binary_combined_unfiltered.drop(['outcome'], axis=1), Fs)\n",
    "df_binary_combined_filtered['outcome'] = df_binary_combined_unfiltered['outcome']\n",
    "df_binary_combined_filtered"
   ]
  },
  {
   "cell_type": "code",
   "execution_count": 99,
   "metadata": {},
   "outputs": [
    {
     "name": "stderr",
     "output_type": "stream",
     "text": [
      "c:\\Users\\Alex\\OneDrive - The University of Nottingham\\Comp Sci\\Year 3\\Dissertation\\Code\\feature_util_UPFall.py:32: FutureWarning: Unlike other reduction functions (e.g. `skew`, `kurtosis`), the default behavior of `mode` typically preserves the axis it acts along. In SciPy 1.11.0, this behavior will change: the default value of `keepdims` will become False, the `axis` over which the statistic is taken will be eliminated, and the value None will no longer be accepted. Set `keepdims` to True or False to avoid this warning.\n",
      "  label = stats.mode(df['outcome'][i: i + frame_size])[0][0]\n"
     ]
    },
    {
     "data": {
      "text/plain": [
       "(6405, 22)"
      ]
     },
     "execution_count": 99,
     "metadata": {},
     "output_type": "execute_result"
    }
   ],
   "source": [
    "X_filtered, y_filtered = feature_util_UPFall.get_frames_with_gyro(df_binary_combined_filtered, frame_size, hop_size, True)\n",
    "features_filtered = feature_util_UPFall.extract_features_with_gyro(X_filtered)\n",
    "features_filtered.shape"
   ]
  },
  {
   "cell_type": "code",
   "execution_count": 100,
   "metadata": {},
   "outputs": [],
   "source": [
    "feature_filtered_df = pd.DataFrame(features_filtered)\n",
    "\n",
    "y_filtered_df = pd.DataFrame(y_filtered)\n",
    "y_filtered_df = y_filtered_df.rename(mapper={0:\"outcome\"}, axis=1)\n",
    "y_filtered_df\n",
    "feature_and_outcome_filtered_df = pd.concat([feature_filtered_df, y_filtered_df], axis=1)"
   ]
  },
  {
   "cell_type": "code",
   "execution_count": 101,
   "metadata": {},
   "outputs": [
    {
     "data": {
      "text/plain": [
       "outcome\n",
       "0          5406\n",
       "1          5406\n",
       "dtype: int64"
      ]
     },
     "execution_count": 101,
     "metadata": {},
     "output_type": "execute_result"
    }
   ],
   "source": [
    "sm = SMOTE(random_state=42)\n",
    "\n",
    "X_filtered_res, y_filtered_res = sm.fit_resample(feature_filtered_df, y_filtered_df)\n",
    "y_filtered_res.value_counts()"
   ]
  },
  {
   "cell_type": "code",
   "execution_count": 102,
   "metadata": {},
   "outputs": [],
   "source": [
    "X_filtered_train, X_filtered_test, y_filtered_train, y_filtered_test = train_test_split(X_filtered_res, y_filtered_res, test_size=0.25, random_state=0, stratify=y_filtered_res)"
   ]
  },
  {
   "cell_type": "code",
   "execution_count": 103,
   "metadata": {},
   "outputs": [
    {
     "data": {
      "text/plain": [
       "((8109, 22), (2703, 22), (8109, 1), (2703, 1))"
      ]
     },
     "execution_count": 103,
     "metadata": {},
     "output_type": "execute_result"
    }
   ],
   "source": [
    "X_filtered_train.shape, X_filtered_test.shape, y_filtered_train.shape, y_filtered_test.shape"
   ]
  },
  {
   "cell_type": "code",
   "execution_count": 104,
   "metadata": {},
   "outputs": [
    {
     "data": {
      "text/plain": [
       "{0: 4054, 1: 4055}"
      ]
     },
     "execution_count": 104,
     "metadata": {},
     "output_type": "execute_result"
    }
   ],
   "source": [
    "unique, counts = np.unique(y_filtered_train, return_counts=True)\n",
    "dict(zip(unique, counts))"
   ]
  },
  {
   "cell_type": "markdown",
   "metadata": {},
   "source": [
    "### Traditional Machine Learning Methods"
   ]
  },
  {
   "cell_type": "code",
   "execution_count": 105,
   "metadata": {},
   "outputs": [],
   "source": [
    "filtered_model_name_array = []\n",
    "filtered_model_acc_array = []"
   ]
  },
  {
   "cell_type": "code",
   "execution_count": 106,
   "metadata": {},
   "outputs": [
    {
     "name": "stderr",
     "output_type": "stream",
     "text": [
      "c:\\Users\\Alex\\anaconda3\\lib\\site-packages\\sklearn\\neighbors\\_classification.py:198: DataConversionWarning: A column-vector y was passed when a 1d array was expected. Please change the shape of y to (n_samples,), for example using ravel().\n",
      "  return self._fit(X, y)\n"
     ]
    },
    {
     "data": {
      "text/plain": [
       "KNeighborsClassifier()"
      ]
     },
     "execution_count": 106,
     "metadata": {},
     "output_type": "execute_result"
    }
   ],
   "source": [
    "knn_model_filtered = KNeighborsClassifier(n_neighbors=5)\n",
    "knn_model_filtered.fit(X_filtered_train, y_filtered_train)"
   ]
  },
  {
   "cell_type": "code",
   "execution_count": 107,
   "metadata": {},
   "outputs": [
    {
     "name": "stdout",
     "output_type": "stream",
     "text": [
      "[[1184  168]\n",
      " [  47 1304]]\n",
      "0.9204587495375509\n",
      "0.9204587495375509\n"
     ]
    },
    {
     "name": "stderr",
     "output_type": "stream",
     "text": [
      "c:\\Users\\Alex\\anaconda3\\lib\\site-packages\\sklearn\\neighbors\\_classification.py:228: FutureWarning: Unlike other reduction functions (e.g. `skew`, `kurtosis`), the default behavior of `mode` typically preserves the axis it acts along. In SciPy 1.11.0, this behavior will change: the default value of `keepdims` will become False, the `axis` over which the statistic is taken will be eliminated, and the value None will no longer be accepted. Set `keepdims` to True or False to avoid this warning.\n",
      "  mode, _ = stats.mode(_y[neigh_ind, k], axis=1)\n"
     ]
    }
   ],
   "source": [
    "# Predict on the test set\n",
    "predicted_knn_filtered = knn_model_filtered.predict(X_filtered_test)\n",
    "\n",
    "# Print metrics\n",
    "print(confusion_matrix(y_filtered_test, predicted_knn_filtered))\n",
    "print(accuracy_score(y_filtered_test, predicted_knn_filtered))\n",
    "print(f1_score(y_filtered_test, predicted_knn_filtered, average='micro'))\n",
    "# compare_trad_models(\"knn\", accuracy_score(y_test, predicted))\n",
    "filtered_model_name_array.append(\"knn\")\n",
    "filtered_model_acc_array.append(accuracy_score(y_filtered_test, predicted_knn_filtered))"
   ]
  },
  {
   "cell_type": "code",
   "execution_count": 108,
   "metadata": {},
   "outputs": [],
   "source": [
    "# from sklearn.model_selection import GridSearchCV\n",
    "\n",
    "# max_features_range = np.arange(1, 6, 1)\n",
    "# n_estimators_range = np.arange(10, 210, 10)\n",
    "# n_neighbors_range = np.arange(1, 100, 1)\n",
    "# # param_grid = dict(max_features = max_features_range, n_estimators = n_estimators_range, n_neighbors = n_neighbors_range)\n",
    "# param_grid = dict(n_neighbors = n_neighbors_range)\n",
    "\n",
    "# knnTest = KNeighborsClassifier(n_neighbors=5)\n",
    "\n",
    "# grid = GridSearchCV(estimator=knnTest, param_grid=param_grid, scoring='accuracy', cv=5)\n",
    "\n",
    "# grid.fit(X_train, y_train)\n",
    "# print(\"The best parameters are %s with a score of %f\" % (grid.best_params_, grid.best_score_))"
   ]
  },
  {
   "cell_type": "code",
   "execution_count": 109,
   "metadata": {},
   "outputs": [
    {
     "name": "stderr",
     "output_type": "stream",
     "text": [
      "c:\\Users\\Alex\\anaconda3\\lib\\site-packages\\sklearn\\utils\\validation.py:993: DataConversionWarning: A column-vector y was passed when a 1d array was expected. Please change the shape of y to (n_samples, ), for example using ravel().\n",
      "  y = column_or_1d(y, warn=True)\n"
     ]
    },
    {
     "data": {
      "text/plain": [
       "SVC(C=1, kernel='linear', random_state=0)"
      ]
     },
     "execution_count": 109,
     "metadata": {},
     "output_type": "execute_result"
    }
   ],
   "source": [
    "svm_model_filtered = svm.SVC(kernel='linear', C=1, random_state=0)\n",
    "# gaussian\n",
    "svm_model_filtered.fit(X_filtered_train, y_filtered_train)"
   ]
  },
  {
   "cell_type": "code",
   "execution_count": 110,
   "metadata": {},
   "outputs": [
    {
     "name": "stdout",
     "output_type": "stream",
     "text": [
      "[[970 382]\n",
      " [432 919]]\n",
      "0.6988531261561228\n",
      "0.6988531261561228\n"
     ]
    }
   ],
   "source": [
    "# Predict on the test set\n",
    "predicted_svm_filtered = svm_model_filtered.predict(X_filtered_test)\n",
    "\n",
    "# Print metrics\n",
    "print(confusion_matrix(y_filtered_test, predicted_svm_filtered))\n",
    "print(accuracy_score(y_filtered_test, predicted_svm_filtered))\n",
    "print(f1_score(y_filtered_test, predicted_svm_filtered, average='micro'))\n",
    "# compare_trad_models(\"knn\", accuracy_score(y_test, predicted))\n",
    "filtered_model_name_array.append(\"svm\")\n",
    "filtered_model_acc_array.append(accuracy_score(y_filtered_test, predicted_svm_filtered))"
   ]
  },
  {
   "cell_type": "code",
   "execution_count": 111,
   "metadata": {},
   "outputs": [
    {
     "name": "stderr",
     "output_type": "stream",
     "text": [
      "c:\\Users\\Alex\\anaconda3\\lib\\site-packages\\sklearn\\utils\\validation.py:993: DataConversionWarning: A column-vector y was passed when a 1d array was expected. Please change the shape of y to (n_samples, ), for example using ravel().\n",
      "  y = column_or_1d(y, warn=True)\n"
     ]
    },
    {
     "data": {
      "text/plain": [
       "SVC(C=1, random_state=0)"
      ]
     },
     "execution_count": 111,
     "metadata": {},
     "output_type": "execute_result"
    }
   ],
   "source": [
    "svm_rbf_model_filtered = svm.SVC(kernel='rbf', C=1, random_state=0)\n",
    "svm_rbf_model_filtered.fit(X_filtered_train, y_filtered_train)"
   ]
  },
  {
   "cell_type": "code",
   "execution_count": 112,
   "metadata": {},
   "outputs": [
    {
     "name": "stdout",
     "output_type": "stream",
     "text": [
      "[[1202  150]\n",
      " [ 510  841]]\n",
      "0.755826859045505\n",
      "0.7558268590455051\n"
     ]
    }
   ],
   "source": [
    "# Predict on the test set\n",
    "predicted_svm_rbf_filtered = svm_rbf_model_filtered.predict(X_filtered_test)\n",
    "\n",
    "# Print metrics\n",
    "print(confusion_matrix(y_filtered_test, predicted_svm_rbf_filtered))\n",
    "print(accuracy_score(y_filtered_test, predicted_svm_rbf_filtered))\n",
    "print(f1_score(y_filtered_test, predicted_svm_rbf_filtered, average='micro'))\n",
    "# compare_trad_models(\"knn\", accuracy_score(y_test, predicted))\n",
    "filtered_model_name_array.append(\"svm_rbf\")\n",
    "filtered_model_acc_array.append(accuracy_score(y_filtered_test, predicted_svm_rbf_filtered))"
   ]
  },
  {
   "cell_type": "code",
   "execution_count": 113,
   "metadata": {},
   "outputs": [
    {
     "name": "stderr",
     "output_type": "stream",
     "text": [
      "C:\\Users\\Alex\\AppData\\Local\\Temp\\ipykernel_29220\\3673001609.py:2: DataConversionWarning: A column-vector y was passed when a 1d array was expected. Please change the shape of y to (n_samples,), for example using ravel().\n",
      "  rf_model_filtered.fit(X_filtered_train, y_filtered_train)\n"
     ]
    },
    {
     "data": {
      "text/plain": [
       "RandomForestClassifier(random_state=42)"
      ]
     },
     "execution_count": 113,
     "metadata": {},
     "output_type": "execute_result"
    }
   ],
   "source": [
    "rf_model_filtered = RandomForestClassifier(n_estimators = 100, random_state = 42)\n",
    "rf_model_filtered.fit(X_filtered_train, y_filtered_train)"
   ]
  },
  {
   "cell_type": "code",
   "execution_count": 114,
   "metadata": {},
   "outputs": [
    {
     "name": "stdout",
     "output_type": "stream",
     "text": [
      "[[1245  107]\n",
      " [  48 1303]]\n",
      "0.9426563078061413\n",
      "0.9426563078061412\n"
     ]
    }
   ],
   "source": [
    "# Predict on the test set\n",
    "predicted_rf_filtered = rf_model_filtered.predict(X_filtered_test)\n",
    "\n",
    "# Print metrics\n",
    "print(confusion_matrix(y_filtered_test, predicted_rf_filtered))\n",
    "print(accuracy_score(y_filtered_test, predicted_rf_filtered))\n",
    "print(f1_score(y_filtered_test, predicted_rf_filtered, average='micro'))\n",
    "# compare_trad_models(\"knn\", accuracy_score(y_test, predicted))\n",
    "filtered_model_name_array.append(\"rf\")\n",
    "filtered_model_acc_array.append(accuracy_score(y_filtered_test, predicted_rf_filtered))"
   ]
  },
  {
   "cell_type": "code",
   "execution_count": 115,
   "metadata": {},
   "outputs": [
    {
     "name": "stderr",
     "output_type": "stream",
     "text": [
      "c:\\Users\\Alex\\anaconda3\\lib\\site-packages\\sklearn\\utils\\validation.py:993: DataConversionWarning: A column-vector y was passed when a 1d array was expected. Please change the shape of y to (n_samples, ), for example using ravel().\n",
      "  y = column_or_1d(y, warn=True)\n"
     ]
    },
    {
     "data": {
      "text/plain": [
       "GaussianNB()"
      ]
     },
     "execution_count": 115,
     "metadata": {},
     "output_type": "execute_result"
    }
   ],
   "source": [
    "nb_model_filtered = GaussianNB()\n",
    "nb_model_filtered.fit(X_filtered_train, y_filtered_train)"
   ]
  },
  {
   "cell_type": "code",
   "execution_count": 116,
   "metadata": {},
   "outputs": [
    {
     "name": "stdout",
     "output_type": "stream",
     "text": [
      "[[1144  208]\n",
      " [ 612  739]]\n",
      "0.6966333703292638\n",
      "0.6966333703292638\n"
     ]
    }
   ],
   "source": [
    "# Predict on the test set\n",
    "predicted_nb_filtered = nb_model_filtered.predict(X_filtered_test)\n",
    "\n",
    "# Print metrics\n",
    "print(confusion_matrix(y_filtered_test, predicted_nb_filtered))\n",
    "print(accuracy_score(y_filtered_test, predicted_nb_filtered))\n",
    "print(f1_score(y_filtered_test, predicted_nb_filtered, average='micro'))\n",
    "# compare_trad_models(\"knn\", accuracy_score(y_test, predicted))\n",
    "filtered_model_name_array.append(\"nb\")\n",
    "filtered_model_acc_array.append(accuracy_score(y_filtered_test, predicted_nb_filtered))"
   ]
  },
  {
   "cell_type": "code",
   "execution_count": 117,
   "metadata": {},
   "outputs": [
    {
     "name": "stdout",
     "output_type": "stream",
     "text": [
      "Best model: rf, Accuracy: 0.9426563078061413\n"
     ]
    }
   ],
   "source": [
    "best_trad_model_acc_filtered = max(filtered_model_acc_array)\n",
    "index = filtered_model_acc_array.index(max(filtered_model_acc_array))\n",
    "best_trad_model_filtered = filtered_model_name_array[index]\n",
    "print(f\"Best model: {best_trad_model_filtered}, Accuracy: {best_trad_model_acc_filtered}\")"
   ]
  },
  {
   "cell_type": "code",
   "execution_count": 118,
   "metadata": {},
   "outputs": [
    {
     "name": "stdout",
     "output_type": "stream",
     "text": [
      "name: knn, accuracy: 0.9204587495375509\n",
      "name: svm, accuracy: 0.6988531261561228\n",
      "name: svm_rbf, accuracy: 0.755826859045505\n",
      "name: rf, accuracy: 0.9426563078061413\n",
      "name: nb, accuracy: 0.6966333703292638\n"
     ]
    }
   ],
   "source": [
    "for i in range(0, len(filtered_model_name_array)):\n",
    "    print(f\"name: {filtered_model_name_array[i]}, accuracy: {filtered_model_acc_array[i]}\")"
   ]
  },
  {
   "cell_type": "code",
   "execution_count": 119,
   "metadata": {},
   "outputs": [],
   "source": [
    "filtered_model_dictionary = {\"knn\": knn_model_filtered,\n",
    "                             \"svm\": svm_model_filtered,\n",
    "                             \"svm_rbf\": svm_rbf_model_filtered,\n",
    "                             \"rf\": rf_model_filtered,\n",
    "                             \"nb\": nb_model_filtered}"
   ]
  },
  {
   "cell_type": "code",
   "execution_count": 120,
   "metadata": {},
   "outputs": [
    {
     "name": "stderr",
     "output_type": "stream",
     "text": [
      "c:\\Users\\Alex\\anaconda3\\lib\\site-packages\\sklearn\\neighbors\\_classification.py:198: DataConversionWarning: A column-vector y was passed when a 1d array was expected. Please change the shape of y to (n_samples,), for example using ravel().\n",
      "  return self._fit(X, y)\n",
      "c:\\Users\\Alex\\anaconda3\\lib\\site-packages\\sklearn\\neighbors\\_classification.py:228: FutureWarning: Unlike other reduction functions (e.g. `skew`, `kurtosis`), the default behavior of `mode` typically preserves the axis it acts along. In SciPy 1.11.0, this behavior will change: the default value of `keepdims` will become False, the `axis` over which the statistic is taken will be eliminated, and the value None will no longer be accepted. Set `keepdims` to True or False to avoid this warning.\n",
      "  mode, _ = stats.mode(_y[neigh_ind, k], axis=1)\n",
      "c:\\Users\\Alex\\anaconda3\\lib\\site-packages\\sklearn\\neighbors\\_classification.py:198: DataConversionWarning: A column-vector y was passed when a 1d array was expected. Please change the shape of y to (n_samples,), for example using ravel().\n",
      "  return self._fit(X, y)\n",
      "c:\\Users\\Alex\\anaconda3\\lib\\site-packages\\sklearn\\neighbors\\_classification.py:228: FutureWarning: Unlike other reduction functions (e.g. `skew`, `kurtosis`), the default behavior of `mode` typically preserves the axis it acts along. In SciPy 1.11.0, this behavior will change: the default value of `keepdims` will become False, the `axis` over which the statistic is taken will be eliminated, and the value None will no longer be accepted. Set `keepdims` to True or False to avoid this warning.\n",
      "  mode, _ = stats.mode(_y[neigh_ind, k], axis=1)\n",
      "c:\\Users\\Alex\\anaconda3\\lib\\site-packages\\sklearn\\neighbors\\_classification.py:198: DataConversionWarning: A column-vector y was passed when a 1d array was expected. Please change the shape of y to (n_samples,), for example using ravel().\n",
      "  return self._fit(X, y)\n",
      "c:\\Users\\Alex\\anaconda3\\lib\\site-packages\\sklearn\\neighbors\\_classification.py:228: FutureWarning: Unlike other reduction functions (e.g. `skew`, `kurtosis`), the default behavior of `mode` typically preserves the axis it acts along. In SciPy 1.11.0, this behavior will change: the default value of `keepdims` will become False, the `axis` over which the statistic is taken will be eliminated, and the value None will no longer be accepted. Set `keepdims` to True or False to avoid this warning.\n",
      "  mode, _ = stats.mode(_y[neigh_ind, k], axis=1)\n",
      "c:\\Users\\Alex\\anaconda3\\lib\\site-packages\\sklearn\\neighbors\\_classification.py:198: DataConversionWarning: A column-vector y was passed when a 1d array was expected. Please change the shape of y to (n_samples,), for example using ravel().\n",
      "  return self._fit(X, y)\n",
      "c:\\Users\\Alex\\anaconda3\\lib\\site-packages\\sklearn\\neighbors\\_classification.py:228: FutureWarning: Unlike other reduction functions (e.g. `skew`, `kurtosis`), the default behavior of `mode` typically preserves the axis it acts along. In SciPy 1.11.0, this behavior will change: the default value of `keepdims` will become False, the `axis` over which the statistic is taken will be eliminated, and the value None will no longer be accepted. Set `keepdims` to True or False to avoid this warning.\n",
      "  mode, _ = stats.mode(_y[neigh_ind, k], axis=1)\n",
      "c:\\Users\\Alex\\anaconda3\\lib\\site-packages\\sklearn\\neighbors\\_classification.py:198: DataConversionWarning: A column-vector y was passed when a 1d array was expected. Please change the shape of y to (n_samples,), for example using ravel().\n",
      "  return self._fit(X, y)\n",
      "c:\\Users\\Alex\\anaconda3\\lib\\site-packages\\sklearn\\neighbors\\_classification.py:228: FutureWarning: Unlike other reduction functions (e.g. `skew`, `kurtosis`), the default behavior of `mode` typically preserves the axis it acts along. In SciPy 1.11.0, this behavior will change: the default value of `keepdims` will become False, the `axis` over which the statistic is taken will be eliminated, and the value None will no longer be accepted. Set `keepdims` to True or False to avoid this warning.\n",
      "  mode, _ = stats.mode(_y[neigh_ind, k], axis=1)\n",
      "c:\\Users\\Alex\\anaconda3\\lib\\site-packages\\sklearn\\utils\\validation.py:993: DataConversionWarning: A column-vector y was passed when a 1d array was expected. Please change the shape of y to (n_samples, ), for example using ravel().\n",
      "  y = column_or_1d(y, warn=True)\n",
      "c:\\Users\\Alex\\anaconda3\\lib\\site-packages\\sklearn\\utils\\validation.py:993: DataConversionWarning: A column-vector y was passed when a 1d array was expected. Please change the shape of y to (n_samples, ), for example using ravel().\n",
      "  y = column_or_1d(y, warn=True)\n",
      "c:\\Users\\Alex\\anaconda3\\lib\\site-packages\\sklearn\\utils\\validation.py:993: DataConversionWarning: A column-vector y was passed when a 1d array was expected. Please change the shape of y to (n_samples, ), for example using ravel().\n",
      "  y = column_or_1d(y, warn=True)\n",
      "c:\\Users\\Alex\\anaconda3\\lib\\site-packages\\sklearn\\utils\\validation.py:993: DataConversionWarning: A column-vector y was passed when a 1d array was expected. Please change the shape of y to (n_samples, ), for example using ravel().\n",
      "  y = column_or_1d(y, warn=True)\n",
      "c:\\Users\\Alex\\anaconda3\\lib\\site-packages\\sklearn\\utils\\validation.py:993: DataConversionWarning: A column-vector y was passed when a 1d array was expected. Please change the shape of y to (n_samples, ), for example using ravel().\n",
      "  y = column_or_1d(y, warn=True)\n",
      "c:\\Users\\Alex\\anaconda3\\lib\\site-packages\\sklearn\\utils\\validation.py:993: DataConversionWarning: A column-vector y was passed when a 1d array was expected. Please change the shape of y to (n_samples, ), for example using ravel().\n",
      "  y = column_or_1d(y, warn=True)\n",
      "c:\\Users\\Alex\\anaconda3\\lib\\site-packages\\sklearn\\utils\\validation.py:993: DataConversionWarning: A column-vector y was passed when a 1d array was expected. Please change the shape of y to (n_samples, ), for example using ravel().\n",
      "  y = column_or_1d(y, warn=True)\n",
      "c:\\Users\\Alex\\anaconda3\\lib\\site-packages\\sklearn\\utils\\validation.py:993: DataConversionWarning: A column-vector y was passed when a 1d array was expected. Please change the shape of y to (n_samples, ), for example using ravel().\n",
      "  y = column_or_1d(y, warn=True)\n",
      "c:\\Users\\Alex\\anaconda3\\lib\\site-packages\\sklearn\\utils\\validation.py:993: DataConversionWarning: A column-vector y was passed when a 1d array was expected. Please change the shape of y to (n_samples, ), for example using ravel().\n",
      "  y = column_or_1d(y, warn=True)\n",
      "c:\\Users\\Alex\\anaconda3\\lib\\site-packages\\sklearn\\utils\\validation.py:993: DataConversionWarning: A column-vector y was passed when a 1d array was expected. Please change the shape of y to (n_samples, ), for example using ravel().\n",
      "  y = column_or_1d(y, warn=True)\n",
      "c:\\Users\\Alex\\anaconda3\\lib\\site-packages\\sklearn\\model_selection\\_validation.py:680: DataConversionWarning: A column-vector y was passed when a 1d array was expected. Please change the shape of y to (n_samples,), for example using ravel().\n",
      "  estimator.fit(X_train, y_train, **fit_params)\n",
      "c:\\Users\\Alex\\anaconda3\\lib\\site-packages\\sklearn\\model_selection\\_validation.py:680: DataConversionWarning: A column-vector y was passed when a 1d array was expected. Please change the shape of y to (n_samples,), for example using ravel().\n",
      "  estimator.fit(X_train, y_train, **fit_params)\n",
      "c:\\Users\\Alex\\anaconda3\\lib\\site-packages\\sklearn\\model_selection\\_validation.py:680: DataConversionWarning: A column-vector y was passed when a 1d array was expected. Please change the shape of y to (n_samples,), for example using ravel().\n",
      "  estimator.fit(X_train, y_train, **fit_params)\n",
      "c:\\Users\\Alex\\anaconda3\\lib\\site-packages\\sklearn\\model_selection\\_validation.py:680: DataConversionWarning: A column-vector y was passed when a 1d array was expected. Please change the shape of y to (n_samples,), for example using ravel().\n",
      "  estimator.fit(X_train, y_train, **fit_params)\n",
      "c:\\Users\\Alex\\anaconda3\\lib\\site-packages\\sklearn\\model_selection\\_validation.py:680: DataConversionWarning: A column-vector y was passed when a 1d array was expected. Please change the shape of y to (n_samples,), for example using ravel().\n",
      "  estimator.fit(X_train, y_train, **fit_params)\n",
      "c:\\Users\\Alex\\anaconda3\\lib\\site-packages\\sklearn\\utils\\validation.py:993: DataConversionWarning: A column-vector y was passed when a 1d array was expected. Please change the shape of y to (n_samples, ), for example using ravel().\n",
      "  y = column_or_1d(y, warn=True)\n",
      "c:\\Users\\Alex\\anaconda3\\lib\\site-packages\\sklearn\\utils\\validation.py:993: DataConversionWarning: A column-vector y was passed when a 1d array was expected. Please change the shape of y to (n_samples, ), for example using ravel().\n",
      "  y = column_or_1d(y, warn=True)\n",
      "c:\\Users\\Alex\\anaconda3\\lib\\site-packages\\sklearn\\utils\\validation.py:993: DataConversionWarning: A column-vector y was passed when a 1d array was expected. Please change the shape of y to (n_samples, ), for example using ravel().\n",
      "  y = column_or_1d(y, warn=True)\n",
      "c:\\Users\\Alex\\anaconda3\\lib\\site-packages\\sklearn\\utils\\validation.py:993: DataConversionWarning: A column-vector y was passed when a 1d array was expected. Please change the shape of y to (n_samples, ), for example using ravel().\n",
      "  y = column_or_1d(y, warn=True)\n",
      "c:\\Users\\Alex\\anaconda3\\lib\\site-packages\\sklearn\\utils\\validation.py:993: DataConversionWarning: A column-vector y was passed when a 1d array was expected. Please change the shape of y to (n_samples, ), for example using ravel().\n",
      "  y = column_or_1d(y, warn=True)\n"
     ]
    }
   ],
   "source": [
    "scores_array_filtered = perform_cross_val_all_models(filtered_model_dictionary, X_filtered_train, y_filtered_train)"
   ]
  },
  {
   "cell_type": "code",
   "execution_count": 121,
   "metadata": {},
   "outputs": [
    {
     "name": "stdout",
     "output_type": "stream",
     "text": [
      "knn Accuracy: 0.91 (+/- 0.01)\n",
      "svm Accuracy: 0.71 (+/- 0.02)\n",
      "svm_rbf Accuracy: 0.77 (+/- 0.02)\n",
      "rf Accuracy: 0.93 (+/- 0.01)\n",
      "nb Accuracy: 0.70 (+/- 0.03)\n"
     ]
    }
   ],
   "source": [
    "for cv_tuple in scores_array_filtered:\n",
    "    print(\"%s Accuracy: %0.2f (+/- %0.2f)\" % (cv_tuple[0], cv_tuple[1].mean(), cv_tuple[1].std() * 2))"
   ]
  },
  {
   "cell_type": "code",
   "execution_count": 122,
   "metadata": {},
   "outputs": [
    {
     "name": "stdout",
     "output_type": "stream",
     "text": [
      "Classification report for knn\n"
     ]
    },
    {
     "name": "stderr",
     "output_type": "stream",
     "text": [
      "c:\\Users\\Alex\\anaconda3\\lib\\site-packages\\sklearn\\neighbors\\_classification.py:228: FutureWarning: Unlike other reduction functions (e.g. `skew`, `kurtosis`), the default behavior of `mode` typically preserves the axis it acts along. In SciPy 1.11.0, this behavior will change: the default value of `keepdims` will become False, the `axis` over which the statistic is taken will be eliminated, and the value None will no longer be accepted. Set `keepdims` to True or False to avoid this warning.\n",
      "  mode, _ = stats.mode(_y[neigh_ind, k], axis=1)\n"
     ]
    },
    {
     "name": "stdout",
     "output_type": "stream",
     "text": [
      "              precision    recall  f1-score   support\n",
      "\n",
      "           0       0.96      0.88      0.92      1352\n",
      "           1       0.89      0.97      0.92      1351\n",
      "\n",
      "    accuracy                           0.92      2703\n",
      "   macro avg       0.92      0.92      0.92      2703\n",
      "weighted avg       0.92      0.92      0.92      2703\n",
      "\n",
      "=====================================================\n",
      "Classification report for svm\n",
      "              precision    recall  f1-score   support\n",
      "\n",
      "           0       0.69      0.72      0.70      1352\n",
      "           1       0.71      0.68      0.69      1351\n",
      "\n",
      "    accuracy                           0.70      2703\n",
      "   macro avg       0.70      0.70      0.70      2703\n",
      "weighted avg       0.70      0.70      0.70      2703\n",
      "\n",
      "=====================================================\n",
      "Classification report for svm_rbf\n",
      "              precision    recall  f1-score   support\n",
      "\n",
      "           0       0.70      0.89      0.78      1352\n",
      "           1       0.85      0.62      0.72      1351\n",
      "\n",
      "    accuracy                           0.76      2703\n",
      "   macro avg       0.78      0.76      0.75      2703\n",
      "weighted avg       0.78      0.76      0.75      2703\n",
      "\n",
      "=====================================================\n",
      "Classification report for rf\n",
      "              precision    recall  f1-score   support\n",
      "\n",
      "           0       0.96      0.92      0.94      1352\n",
      "           1       0.92      0.96      0.94      1351\n",
      "\n",
      "    accuracy                           0.94      2703\n",
      "   macro avg       0.94      0.94      0.94      2703\n",
      "weighted avg       0.94      0.94      0.94      2703\n",
      "\n",
      "=====================================================\n",
      "Classification report for nb\n",
      "              precision    recall  f1-score   support\n",
      "\n",
      "           0       0.65      0.85      0.74      1352\n",
      "           1       0.78      0.55      0.64      1351\n",
      "\n",
      "    accuracy                           0.70      2703\n",
      "   macro avg       0.72      0.70      0.69      2703\n",
      "weighted avg       0.72      0.70      0.69      2703\n",
      "\n",
      "=====================================================\n"
     ]
    }
   ],
   "source": [
    "print_all_classification_reports(filtered_model_dictionary, X_filtered_test, y_filtered_test)"
   ]
  },
  {
   "cell_type": "code",
   "execution_count": 123,
   "metadata": {},
   "outputs": [
    {
     "name": "stdout",
     "output_type": "stream",
     "text": [
      "Classification report for knn\n"
     ]
    },
    {
     "name": "stderr",
     "output_type": "stream",
     "text": [
      "c:\\Users\\Alex\\anaconda3\\lib\\site-packages\\sklearn\\neighbors\\_classification.py:228: FutureWarning: Unlike other reduction functions (e.g. `skew`, `kurtosis`), the default behavior of `mode` typically preserves the axis it acts along. In SciPy 1.11.0, this behavior will change: the default value of `keepdims` will become False, the `axis` over which the statistic is taken will be eliminated, and the value None will no longer be accepted. Set `keepdims` to True or False to avoid this warning.\n",
      "  mode, _ = stats.mode(_y[neigh_ind, k], axis=1)\n"
     ]
    },
    {
     "name": "stdout",
     "output_type": "stream",
     "text": [
      "              precision    recall  f1-score   support\n",
      "\n",
      "           0       0.99      0.90      0.94      4054\n",
      "           1       0.91      0.99      0.95      4055\n",
      "\n",
      "    accuracy                           0.95      8109\n",
      "   macro avg       0.95      0.95      0.95      8109\n",
      "weighted avg       0.95      0.95      0.95      8109\n",
      "\n",
      "=====================================================\n",
      "Classification report for svm\n",
      "              precision    recall  f1-score   support\n",
      "\n",
      "           0       0.71      0.71      0.71      4054\n",
      "           1       0.71      0.70      0.71      4055\n",
      "\n",
      "    accuracy                           0.71      8109\n",
      "   macro avg       0.71      0.71      0.71      8109\n",
      "weighted avg       0.71      0.71      0.71      8109\n",
      "\n",
      "=====================================================\n",
      "Classification report for svm_rbf\n",
      "              precision    recall  f1-score   support\n",
      "\n",
      "           0       0.72      0.90      0.80      4054\n",
      "           1       0.87      0.64      0.74      4055\n",
      "\n",
      "    accuracy                           0.77      8109\n",
      "   macro avg       0.79      0.77      0.77      8109\n",
      "weighted avg       0.79      0.77      0.77      8109\n",
      "\n",
      "=====================================================\n",
      "Classification report for rf\n",
      "              precision    recall  f1-score   support\n",
      "\n",
      "           0       1.00      1.00      1.00      4054\n",
      "           1       1.00      1.00      1.00      4055\n",
      "\n",
      "    accuracy                           1.00      8109\n",
      "   macro avg       1.00      1.00      1.00      8109\n",
      "weighted avg       1.00      1.00      1.00      8109\n",
      "\n",
      "=====================================================\n",
      "Classification report for nb\n",
      "              precision    recall  f1-score   support\n",
      "\n",
      "           0       0.66      0.83      0.74      4054\n",
      "           1       0.77      0.57      0.66      4055\n",
      "\n",
      "    accuracy                           0.70      8109\n",
      "   macro avg       0.72      0.70      0.70      8109\n",
      "weighted avg       0.72      0.70      0.70      8109\n",
      "\n",
      "=====================================================\n"
     ]
    }
   ],
   "source": [
    "print_all_classification_reports_training(filtered_model_dictionary, X_filtered_train, y_filtered_train)"
   ]
  },
  {
   "cell_type": "code",
   "execution_count": 124,
   "metadata": {},
   "outputs": [],
   "source": [
    "from joblib import dump, load\n",
    "# save clf using joblib\n",
    "# dump(rf_model, 'New Models/rf_filtered_normalised.joblib')\n",
    "# dump(rf_model_filtered, 'New Models/EXP4_RF_FILTERED_FIXED.joblib')"
   ]
  },
  {
   "cell_type": "markdown",
   "metadata": {},
   "source": [
    "### Deep Learning"
   ]
  },
  {
   "cell_type": "markdown",
   "metadata": {},
   "source": [
    "#### The models below are trained using data which went through low-pass filter"
   ]
  },
  {
   "cell_type": "code",
   "execution_count": 125,
   "metadata": {},
   "outputs": [
    {
     "data": {
      "text/plain": [
       "((10812, 92, 6), (10812,))"
      ]
     },
     "execution_count": 125,
     "metadata": {},
     "output_type": "execute_result"
    }
   ],
   "source": [
    "X_raw_filtered_smote, y_raw_filtered_smote = feature_util_UPFall.generate_windows_SMOTE(X_filtered, y_filtered)\n",
    "X_raw_filtered_smote.shape, y_raw_filtered_smote.shape"
   ]
  },
  {
   "cell_type": "code",
   "execution_count": 126,
   "metadata": {},
   "outputs": [
    {
     "data": {
      "text/plain": [
       "((8109, 92, 6), (2703, 92, 6), (8109,))"
      ]
     },
     "execution_count": 126,
     "metadata": {},
     "output_type": "execute_result"
    }
   ],
   "source": [
    "# X_raw_filtered_train, X_raw_filtered_test, y_raw_filtered_train, y_raw_filtered_test = train_test_split(X_filtered, y_filtered, test_size=0.25, random_state=0, stratify=y_filtered)\n",
    "X_raw_filtered_train, X_raw_filtered_test, y_raw_filtered_train, y_raw_filtered_test = train_test_split(X_raw_filtered_smote, y_raw_filtered_smote, test_size=0.25, random_state=0, stratify=y_raw_filtered_smote)\n",
    "X_raw_filtered_train.shape, X_raw_filtered_test.shape, y_raw_filtered_train.shape"
   ]
  },
  {
   "cell_type": "code",
   "execution_count": 127,
   "metadata": {},
   "outputs": [
    {
     "data": {
      "text/plain": [
       "(92, 6)"
      ]
     },
     "execution_count": 127,
     "metadata": {},
     "output_type": "execute_result"
    }
   ],
   "source": [
    "X_raw_filtered_train[0].shape"
   ]
  },
  {
   "cell_type": "code",
   "execution_count": 128,
   "metadata": {},
   "outputs": [],
   "source": [
    "X_raw_filtered_train = X_raw_filtered_train.reshape(X_TRAIN_SIZE, X_TRAIN_WINDOW_SIZE, 6, 1)\n",
    "X_raw_filtered_test = X_raw_filtered_test.reshape(X_TEST_SIZE, X_TEST_WINDOW_SIZE, 6, 1)"
   ]
  },
  {
   "cell_type": "code",
   "execution_count": 129,
   "metadata": {},
   "outputs": [
    {
     "data": {
      "text/plain": [
       "((92, 6, 1), (92, 6, 1))"
      ]
     },
     "execution_count": 129,
     "metadata": {},
     "output_type": "execute_result"
    }
   ],
   "source": [
    "X_raw_filtered_train[0].shape, X_raw_filtered_test[0].shape"
   ]
  },
  {
   "cell_type": "code",
   "execution_count": 130,
   "metadata": {},
   "outputs": [],
   "source": [
    "import tensorflow as tf\n",
    "from tensorflow.keras import Sequential\n",
    "from tensorflow.keras.layers import Flatten, Dense, Dropout, BatchNormalization\n",
    "from tensorflow.keras.layers import Conv2D, MaxPool2D\n",
    "from tensorflow.keras.optimizers import Adam"
   ]
  },
  {
   "cell_type": "code",
   "execution_count": 131,
   "metadata": {},
   "outputs": [],
   "source": [
    "cnn_model_filtered = Sequential()\n",
    "cnn_model_filtered.add(Conv2D(16, (2, 2), activation='relu', input_shape=X_raw_filtered_train[0].shape))\n",
    "cnn_model_filtered.add(Conv2D(32, (2, 2), activation='relu'))\n",
    "cnn_model_filtered.add(Flatten())\n",
    "cnn_model_filtered.add(Dense(64, activation='relu'))\n",
    "cnn_model_filtered.add(Dropout(0.5))\n",
    "cnn_model_filtered.add(Dense(2, activation='softmax'))"
   ]
  },
  {
   "cell_type": "code",
   "execution_count": 132,
   "metadata": {},
   "outputs": [],
   "source": [
    "cnn_model_filtered.compile(optimizer=Adam(learning_rate=0.001), loss='sparse_categorical_crossentropy', metrics=['accuracy'])"
   ]
  },
  {
   "cell_type": "code",
   "execution_count": 133,
   "metadata": {},
   "outputs": [
    {
     "name": "stdout",
     "output_type": "stream",
     "text": [
      "Epoch 1/15\n",
      "254/254 [==============================] - 5s 16ms/step - loss: 0.5291 - accuracy: 0.7287 - val_loss: 0.4184 - val_accuracy: 0.7873\n",
      "Epoch 2/15\n",
      "254/254 [==============================] - 4s 17ms/step - loss: 0.4013 - accuracy: 0.8064 - val_loss: 0.3334 - val_accuracy: 0.8454\n",
      "Epoch 3/15\n",
      "254/254 [==============================] - 4s 15ms/step - loss: 0.3333 - accuracy: 0.8435 - val_loss: 0.2821 - val_accuracy: 0.8709\n",
      "Epoch 4/15\n",
      "254/254 [==============================] - 4s 14ms/step - loss: 0.2975 - accuracy: 0.8653 - val_loss: 0.2740 - val_accuracy: 0.8853\n",
      "Epoch 5/15\n",
      "254/254 [==============================] - 4s 14ms/step - loss: 0.2623 - accuracy: 0.8809 - val_loss: 0.2673 - val_accuracy: 0.8775\n",
      "Epoch 6/15\n",
      "254/254 [==============================] - 4s 14ms/step - loss: 0.2478 - accuracy: 0.8896 - val_loss: 0.2372 - val_accuracy: 0.9012\n",
      "Epoch 7/15\n",
      "254/254 [==============================] - 4s 14ms/step - loss: 0.2317 - accuracy: 0.8974 - val_loss: 0.2170 - val_accuracy: 0.9160\n",
      "Epoch 8/15\n",
      "254/254 [==============================] - 4s 15ms/step - loss: 0.2066 - accuracy: 0.9044 - val_loss: 0.2177 - val_accuracy: 0.9134\n",
      "Epoch 9/15\n",
      "254/254 [==============================] - 4s 14ms/step - loss: 0.1991 - accuracy: 0.9142 - val_loss: 0.2136 - val_accuracy: 0.9245\n",
      "Epoch 10/15\n",
      "254/254 [==============================] - 4s 16ms/step - loss: 0.1947 - accuracy: 0.9148 - val_loss: 0.1977 - val_accuracy: 0.9249\n",
      "Epoch 11/15\n",
      "254/254 [==============================] - 6s 24ms/step - loss: 0.1748 - accuracy: 0.9245 - val_loss: 0.1915 - val_accuracy: 0.9386\n",
      "Epoch 12/15\n",
      "254/254 [==============================] - 6s 25ms/step - loss: 0.1677 - accuracy: 0.9271 - val_loss: 0.1771 - val_accuracy: 0.9364\n",
      "Epoch 13/15\n",
      "254/254 [==============================] - 6s 24ms/step - loss: 0.1626 - accuracy: 0.9295 - val_loss: 0.1818 - val_accuracy: 0.9308\n",
      "Epoch 14/15\n",
      "254/254 [==============================] - 4s 16ms/step - loss: 0.1603 - accuracy: 0.9306 - val_loss: 0.1804 - val_accuracy: 0.9412\n",
      "Epoch 15/15\n",
      "254/254 [==============================] - 4s 15ms/step - loss: 0.1460 - accuracy: 0.9321 - val_loss: 0.1757 - val_accuracy: 0.9386\n"
     ]
    }
   ],
   "source": [
    "history_filtered = cnn_model_filtered.fit(X_raw_filtered_train, y_raw_filtered_train, epochs=NUMBER_OF_EPOCHS, validation_data=(X_raw_filtered_test, y_raw_filtered_test), verbose=1)"
   ]
  },
  {
   "cell_type": "code",
   "execution_count": 134,
   "metadata": {},
   "outputs": [
    {
     "data": {
      "image/png": "[encoded data removed]",
      "text/plain": [
       "<Figure size 640x480 with 1 Axes>"
      ]
     },
     "metadata": {},
     "output_type": "display_data"
    },
    {
     "data": {
      "image/png": "[encoded data removed]",
      "text/plain": [
       "<Figure size 640x480 with 1 Axes>"
      ]
     },
     "metadata": {},
     "output_type": "display_data"
    }
   ],
   "source": [
    "plot_learning_curve(history_filtered, NUMBER_OF_EPOCHS)"
   ]
  },
  {
   "cell_type": "code",
   "execution_count": 135,
   "metadata": {},
   "outputs": [
    {
     "name": "stdout",
     "output_type": "stream",
     "text": [
      "85/85 [==============================] - 0s 3ms/step\n",
      "[[1293   59]\n",
      " [ 107 1244]]\n",
      "0.9385867554568997\n",
      "0.9385867554568997\n"
     ]
    }
   ],
   "source": [
    "# predicted_cnn = cnn_model.predict_classes(X_raw_test)\n",
    "predicted_cnn_filtered = np.argmax(cnn_model_filtered.predict(X_raw_filtered_test), axis=-1)\n",
    "\n",
    "# Print metrics\n",
    "print(confusion_matrix(y_raw_filtered_test, predicted_cnn_filtered))\n",
    "print(accuracy_score(y_raw_filtered_test, predicted_cnn_filtered))\n",
    "print(f1_score(y_raw_filtered_test, predicted_cnn_filtered, average='micro'))\n",
    "# ConfusionMatrixDisplay.from_predictions(y_raw_test, predicted_cnn)"
   ]
  },
  {
   "cell_type": "code",
   "execution_count": 136,
   "metadata": {},
   "outputs": [
    {
     "name": "stdout",
     "output_type": "stream",
     "text": [
      "              precision    recall  f1-score   support\n",
      "\n",
      "           0       0.92      0.96      0.94      1352\n",
      "           1       0.95      0.92      0.94      1351\n",
      "\n",
      "    accuracy                           0.94      2703\n",
      "   macro avg       0.94      0.94      0.94      2703\n",
      "weighted avg       0.94      0.94      0.94      2703\n",
      "\n"
     ]
    }
   ],
   "source": [
    "from sklearn.metrics import classification_report\n",
    "\n",
    "print(classification_report(y_raw_filtered_test, predicted_cnn_filtered))"
   ]
  },
  {
   "cell_type": "code",
   "execution_count": 137,
   "metadata": {},
   "outputs": [
    {
     "name": "stdout",
     "output_type": "stream",
     "text": [
      "85/85 [==============================] - 0s 3ms/step - loss: 0.1757 - accuracy: 0.9386\n",
      "test loss, test acc:  [0.17573325335979462, 0.9385867714881897]\n"
     ]
    }
   ],
   "source": [
    "results_filtered = cnn_model_filtered.evaluate(X_raw_filtered_test, y_raw_filtered_test)\n",
    "print(\"test loss, test acc: \", results_filtered)"
   ]
  },
  {
   "cell_type": "code",
   "execution_count": 204,
   "metadata": {},
   "outputs": [
    {
     "name": "stdout",
     "output_type": "stream",
     "text": [
      "0.939819085597992\n"
     ]
    }
   ],
   "source": [
    "cnn_filtered_cv_metrics = feature_util_UPFall.cross_val_cnn(X_raw_filtered_train, y_raw_filtered_train, X_raw_filtered_train[0].shape, NUMBER_OF_EPOCHS, 5)\n",
    "feature_util_UPFall.compute_cnn_cross_val_mean(cnn_filtered_cv_metrics)"
   ]
  },
  {
   "attachments": {},
   "cell_type": "markdown",
   "metadata": {},
   "source": [
    "## III - Filtered and Normalised"
   ]
  },
  {
   "cell_type": "code",
   "execution_count": 138,
   "metadata": {},
   "outputs": [
    {
     "data": {
      "text/html": [
       "<div>\n",
       "<style scoped>\n",
       "    .dataframe tbody tr th:only-of-type {\n",
       "        vertical-align: middle;\n",
       "    }\n",
       "\n",
       "    .dataframe tbody tr th {\n",
       "        vertical-align: top;\n",
       "    }\n",
       "\n",
       "    .dataframe thead th {\n",
       "        text-align: right;\n",
       "    }\n",
       "</style>\n",
       "<table border=\"1\" class=\"dataframe\">\n",
       "  <thead>\n",
       "    <tr style=\"text-align: right;\">\n",
       "      <th></th>\n",
       "      <th>acc_x</th>\n",
       "      <th>acc_y</th>\n",
       "      <th>acc_z</th>\n",
       "      <th>gyro_x</th>\n",
       "      <th>gyro_y</th>\n",
       "      <th>gyro_z</th>\n",
       "      <th>outcome</th>\n",
       "    </tr>\n",
       "  </thead>\n",
       "  <tbody>\n",
       "    <tr>\n",
       "      <th>0</th>\n",
       "      <td>0.342280</td>\n",
       "      <td>0.395239</td>\n",
       "      <td>0.569756</td>\n",
       "      <td>0.414420</td>\n",
       "      <td>0.503240</td>\n",
       "      <td>0.582203</td>\n",
       "      <td>1</td>\n",
       "    </tr>\n",
       "    <tr>\n",
       "      <th>1</th>\n",
       "      <td>0.328154</td>\n",
       "      <td>0.393832</td>\n",
       "      <td>0.571100</td>\n",
       "      <td>0.436878</td>\n",
       "      <td>0.513690</td>\n",
       "      <td>0.604337</td>\n",
       "      <td>1</td>\n",
       "    </tr>\n",
       "    <tr>\n",
       "      <th>2</th>\n",
       "      <td>0.296528</td>\n",
       "      <td>0.384230</td>\n",
       "      <td>0.571769</td>\n",
       "      <td>0.446508</td>\n",
       "      <td>0.528152</td>\n",
       "      <td>0.619588</td>\n",
       "      <td>1</td>\n",
       "    </tr>\n",
       "    <tr>\n",
       "      <th>3</th>\n",
       "      <td>0.280850</td>\n",
       "      <td>0.381679</td>\n",
       "      <td>0.568642</td>\n",
       "      <td>0.449625</td>\n",
       "      <td>0.530032</td>\n",
       "      <td>0.585209</td>\n",
       "      <td>1</td>\n",
       "    </tr>\n",
       "    <tr>\n",
       "      <th>4</th>\n",
       "      <td>0.309602</td>\n",
       "      <td>0.396962</td>\n",
       "      <td>0.564188</td>\n",
       "      <td>0.451869</td>\n",
       "      <td>0.512113</td>\n",
       "      <td>0.493265</td>\n",
       "      <td>1</td>\n",
       "    </tr>\n",
       "    <tr>\n",
       "      <th>...</th>\n",
       "      <td>...</td>\n",
       "      <td>...</td>\n",
       "      <td>...</td>\n",
       "      <td>...</td>\n",
       "      <td>...</td>\n",
       "      <td>...</td>\n",
       "      <td>...</td>\n",
       "    </tr>\n",
       "    <tr>\n",
       "      <th>294673</th>\n",
       "      <td>0.482159</td>\n",
       "      <td>0.492373</td>\n",
       "      <td>0.616383</td>\n",
       "      <td>0.443908</td>\n",
       "      <td>0.481392</td>\n",
       "      <td>0.398619</td>\n",
       "      <td>0</td>\n",
       "    </tr>\n",
       "    <tr>\n",
       "      <th>294674</th>\n",
       "      <td>0.482580</td>\n",
       "      <td>0.492422</td>\n",
       "      <td>0.616059</td>\n",
       "      <td>0.444348</td>\n",
       "      <td>0.481040</td>\n",
       "      <td>0.398623</td>\n",
       "      <td>0</td>\n",
       "    </tr>\n",
       "    <tr>\n",
       "      <th>294675</th>\n",
       "      <td>0.483554</td>\n",
       "      <td>0.493055</td>\n",
       "      <td>0.615580</td>\n",
       "      <td>0.444464</td>\n",
       "      <td>0.480968</td>\n",
       "      <td>0.398894</td>\n",
       "      <td>0</td>\n",
       "    </tr>\n",
       "    <tr>\n",
       "      <th>294676</th>\n",
       "      <td>0.483649</td>\n",
       "      <td>0.493335</td>\n",
       "      <td>0.615281</td>\n",
       "      <td>0.443988</td>\n",
       "      <td>0.480805</td>\n",
       "      <td>0.399036</td>\n",
       "      <td>0</td>\n",
       "    </tr>\n",
       "    <tr>\n",
       "      <th>294677</th>\n",
       "      <td>0.482617</td>\n",
       "      <td>0.492367</td>\n",
       "      <td>0.615250</td>\n",
       "      <td>0.443215</td>\n",
       "      <td>0.480325</td>\n",
       "      <td>0.398669</td>\n",
       "      <td>0</td>\n",
       "    </tr>\n",
       "  </tbody>\n",
       "</table>\n",
       "<p>294678 rows × 7 columns</p>\n",
       "</div>"
      ],
      "text/plain": [
       "           acc_x     acc_y     acc_z    gyro_x    gyro_y    gyro_z  outcome\n",
       "0       0.342280  0.395239  0.569756  0.414420  0.503240  0.582203        1\n",
       "1       0.328154  0.393832  0.571100  0.436878  0.513690  0.604337        1\n",
       "2       0.296528  0.384230  0.571769  0.446508  0.528152  0.619588        1\n",
       "3       0.280850  0.381679  0.568642  0.449625  0.530032  0.585209        1\n",
       "4       0.309602  0.396962  0.564188  0.451869  0.512113  0.493265        1\n",
       "...          ...       ...       ...       ...       ...       ...      ...\n",
       "294673  0.482159  0.492373  0.616383  0.443908  0.481392  0.398619        0\n",
       "294674  0.482580  0.492422  0.616059  0.444348  0.481040  0.398623        0\n",
       "294675  0.483554  0.493055  0.615580  0.444464  0.480968  0.398894        0\n",
       "294676  0.483649  0.493335  0.615281  0.443988  0.480805  0.399036        0\n",
       "294677  0.482617  0.492367  0.615250  0.443215  0.480325  0.398669        0\n",
       "\n",
       "[294678 rows x 7 columns]"
      ]
     },
     "execution_count": 138,
     "metadata": {},
     "output_type": "execute_result"
    }
   ],
   "source": [
    "df_binary_combined_filtered_normalised = feature_util_UPFall.normalise_df(df_binary_combined_filtered.drop(['outcome'], axis=1))\n",
    "df_binary_combined_filtered_normalised['outcome'] = df_binary_combined_filtered['outcome']\n",
    "df_binary_combined_filtered_normalised"
   ]
  },
  {
   "cell_type": "code",
   "execution_count": 139,
   "metadata": {},
   "outputs": [
    {
     "name": "stderr",
     "output_type": "stream",
     "text": [
      "c:\\Users\\Alex\\OneDrive - The University of Nottingham\\Comp Sci\\Year 3\\Dissertation\\Code\\feature_util_UPFall.py:32: FutureWarning: Unlike other reduction functions (e.g. `skew`, `kurtosis`), the default behavior of `mode` typically preserves the axis it acts along. In SciPy 1.11.0, this behavior will change: the default value of `keepdims` will become False, the `axis` over which the statistic is taken will be eliminated, and the value None will no longer be accepted. Set `keepdims` to True or False to avoid this warning.\n",
      "  label = stats.mode(df['outcome'][i: i + frame_size])[0][0]\n"
     ]
    },
    {
     "data": {
      "text/plain": [
       "(6405, 22)"
      ]
     },
     "execution_count": 139,
     "metadata": {},
     "output_type": "execute_result"
    }
   ],
   "source": [
    "X_filtered_normalised, y_filtered_normalised = feature_util_UPFall.get_frames_with_gyro(df_binary_combined_filtered_normalised, frame_size, hop_size, True)\n",
    "features_filtered_normalised = feature_util_UPFall.extract_features_with_gyro(X_filtered_normalised)\n",
    "features_filtered_normalised.shape"
   ]
  },
  {
   "cell_type": "code",
   "execution_count": 140,
   "metadata": {},
   "outputs": [],
   "source": [
    "feature_filtered_normalised_df = pd.DataFrame(features_filtered_normalised)\n",
    "\n",
    "y_filtered_normalised_df = pd.DataFrame(y_filtered)\n",
    "y_filtered_normalised_df = y_filtered_normalised_df.rename(mapper={0:\"outcome\"}, axis=1)\n",
    "y_filtered_normalised_df\n",
    "feature_and_outcome_filtered_normalised_df = pd.concat([feature_filtered_normalised_df, y_filtered_normalised_df], axis=1)"
   ]
  },
  {
   "cell_type": "code",
   "execution_count": 141,
   "metadata": {},
   "outputs": [
    {
     "data": {
      "text/plain": [
       "outcome\n",
       "0          5406\n",
       "1          5406\n",
       "dtype: int64"
      ]
     },
     "execution_count": 141,
     "metadata": {},
     "output_type": "execute_result"
    }
   ],
   "source": [
    "sm = SMOTE(random_state=42)\n",
    "\n",
    "X_filtered_normalised_res, y_filtered_normalised_res = sm.fit_resample(feature_filtered_normalised_df, y_filtered_normalised_df)\n",
    "y_filtered_normalised_res.value_counts()"
   ]
  },
  {
   "cell_type": "code",
   "execution_count": 142,
   "metadata": {},
   "outputs": [],
   "source": [
    "X_filtered_normalised_train, X_filtered_normalised_test, y_filtered_normalised_train, y_filtered_normalised_test = train_test_split(X_filtered_normalised_res, y_filtered_normalised_res, test_size=0.25, random_state=0, stratify=y_filtered_normalised_res)"
   ]
  },
  {
   "cell_type": "code",
   "execution_count": 143,
   "metadata": {},
   "outputs": [
    {
     "data": {
      "text/plain": [
       "((8109, 22), (2703, 22), (8109, 1), (2703, 1))"
      ]
     },
     "execution_count": 143,
     "metadata": {},
     "output_type": "execute_result"
    }
   ],
   "source": [
    "X_filtered_normalised_train.shape, X_filtered_normalised_test.shape, y_filtered_normalised_train.shape, y_filtered_normalised_test.shape"
   ]
  },
  {
   "cell_type": "code",
   "execution_count": 144,
   "metadata": {},
   "outputs": [
    {
     "data": {
      "text/plain": [
       "{0: 4054, 1: 4055}"
      ]
     },
     "execution_count": 144,
     "metadata": {},
     "output_type": "execute_result"
    }
   ],
   "source": [
    "unique, counts = np.unique(y_filtered_train, return_counts=True)\n",
    "dict(zip(unique, counts))"
   ]
  },
  {
   "cell_type": "markdown",
   "metadata": {},
   "source": [
    "### Traditional Machine Learning Methods"
   ]
  },
  {
   "cell_type": "code",
   "execution_count": 145,
   "metadata": {},
   "outputs": [],
   "source": [
    "filtered_normalised_model_name_array = []\n",
    "filtered_normalised_model_acc_array = []"
   ]
  },
  {
   "cell_type": "code",
   "execution_count": 146,
   "metadata": {},
   "outputs": [
    {
     "name": "stderr",
     "output_type": "stream",
     "text": [
      "c:\\Users\\Alex\\anaconda3\\lib\\site-packages\\sklearn\\neighbors\\_classification.py:198: DataConversionWarning: A column-vector y was passed when a 1d array was expected. Please change the shape of y to (n_samples,), for example using ravel().\n",
      "  return self._fit(X, y)\n"
     ]
    },
    {
     "data": {
      "text/plain": [
       "KNeighborsClassifier()"
      ]
     },
     "execution_count": 146,
     "metadata": {},
     "output_type": "execute_result"
    }
   ],
   "source": [
    "knn_model_filtered_normalised = KNeighborsClassifier(n_neighbors=5)\n",
    "knn_model_filtered_normalised.fit(X_filtered_normalised_train, y_filtered_normalised_train)"
   ]
  },
  {
   "cell_type": "code",
   "execution_count": 147,
   "metadata": {},
   "outputs": [
    {
     "name": "stdout",
     "output_type": "stream",
     "text": [
      "[[1146  206]\n",
      " [  58 1293]]\n",
      "0.902330743618202\n",
      "0.902330743618202\n"
     ]
    },
    {
     "name": "stderr",
     "output_type": "stream",
     "text": [
      "c:\\Users\\Alex\\anaconda3\\lib\\site-packages\\sklearn\\neighbors\\_classification.py:228: FutureWarning: Unlike other reduction functions (e.g. `skew`, `kurtosis`), the default behavior of `mode` typically preserves the axis it acts along. In SciPy 1.11.0, this behavior will change: the default value of `keepdims` will become False, the `axis` over which the statistic is taken will be eliminated, and the value None will no longer be accepted. Set `keepdims` to True or False to avoid this warning.\n",
      "  mode, _ = stats.mode(_y[neigh_ind, k], axis=1)\n"
     ]
    }
   ],
   "source": [
    "# Predict on the test set\n",
    "predicted_knn_filtered_normalised = knn_model_filtered_normalised.predict(X_filtered_normalised_test)\n",
    "\n",
    "# Print metrics\n",
    "print(confusion_matrix(y_filtered_normalised_test, predicted_knn_filtered_normalised))\n",
    "print(accuracy_score(y_filtered_normalised_test, predicted_knn_filtered_normalised))\n",
    "print(f1_score(y_filtered_normalised_test, predicted_knn_filtered_normalised, average='micro'))\n",
    "# compare_trad_models(\"knn\", accuracy_score(y_test, predicted))\n",
    "filtered_normalised_model_name_array.append(\"knn\")\n",
    "filtered_normalised_model_acc_array.append(accuracy_score(y_filtered_normalised_test, predicted_knn_filtered_normalised))"
   ]
  },
  {
   "cell_type": "code",
   "execution_count": 148,
   "metadata": {},
   "outputs": [],
   "source": [
    "# from sklearn.model_selection import GridSearchCV\n",
    "\n",
    "# max_features_range = np.arange(1, 6, 1)\n",
    "# n_estimators_range = np.arange(10, 210, 10)\n",
    "# n_neighbors_range = np.arange(1, 100, 1)\n",
    "# # param_grid = dict(max_features = max_features_range, n_estimators = n_estimators_range, n_neighbors = n_neighbors_range)\n",
    "# param_grid = dict(n_neighbors = n_neighbors_range)\n",
    "\n",
    "# knnTest = KNeighborsClassifier(n_neighbors=5)\n",
    "\n",
    "# grid = GridSearchCV(estimator=knnTest, param_grid=param_grid, scoring='accuracy', cv=5)\n",
    "\n",
    "# grid.fit(X_train, y_train)\n",
    "# print(\"The best parameters are %s with a score of %f\" % (grid.best_params_, grid.best_score_))"
   ]
  },
  {
   "cell_type": "code",
   "execution_count": 149,
   "metadata": {},
   "outputs": [
    {
     "name": "stderr",
     "output_type": "stream",
     "text": [
      "c:\\Users\\Alex\\anaconda3\\lib\\site-packages\\sklearn\\utils\\validation.py:993: DataConversionWarning: A column-vector y was passed when a 1d array was expected. Please change the shape of y to (n_samples, ), for example using ravel().\n",
      "  y = column_or_1d(y, warn=True)\n"
     ]
    },
    {
     "data": {
      "text/plain": [
       "SVC(C=1, kernel='linear', random_state=0)"
      ]
     },
     "execution_count": 149,
     "metadata": {},
     "output_type": "execute_result"
    }
   ],
   "source": [
    "svm_model_filtered_normalised = svm.SVC(kernel='linear', C=1, random_state=0)\n",
    "# gaussian\n",
    "svm_model_filtered_normalised.fit(X_filtered_normalised_train, y_filtered_normalised_train)"
   ]
  },
  {
   "cell_type": "code",
   "execution_count": 150,
   "metadata": {},
   "outputs": [
    {
     "name": "stdout",
     "output_type": "stream",
     "text": [
      "[[1078  274]\n",
      " [ 495  856]]\n",
      "0.7155012948575656\n",
      "0.7155012948575658\n"
     ]
    }
   ],
   "source": [
    "# Predict on the test set\n",
    "predicted_svm_filtered_normalised = svm_model_filtered_normalised.predict(X_filtered_normalised_test)\n",
    "\n",
    "# Print metrics\n",
    "print(confusion_matrix(y_filtered_normalised_test, predicted_svm_filtered_normalised))\n",
    "print(accuracy_score(y_filtered_normalised_test, predicted_svm_filtered_normalised))\n",
    "print(f1_score(y_filtered_normalised_test, predicted_svm_filtered_normalised, average='micro'))\n",
    "# compare_trad_models(\"knn\", accuracy_score(y_test, predicted))\n",
    "filtered_normalised_model_name_array.append(\"svm\")\n",
    "filtered_normalised_model_acc_array.append(accuracy_score(y_filtered_normalised_test, predicted_svm_filtered_normalised))"
   ]
  },
  {
   "cell_type": "code",
   "execution_count": 151,
   "metadata": {},
   "outputs": [
    {
     "name": "stderr",
     "output_type": "stream",
     "text": [
      "c:\\Users\\Alex\\anaconda3\\lib\\site-packages\\sklearn\\utils\\validation.py:993: DataConversionWarning: A column-vector y was passed when a 1d array was expected. Please change the shape of y to (n_samples, ), for example using ravel().\n",
      "  y = column_or_1d(y, warn=True)\n"
     ]
    },
    {
     "data": {
      "text/plain": [
       "SVC(C=1, random_state=0)"
      ]
     },
     "execution_count": 151,
     "metadata": {},
     "output_type": "execute_result"
    }
   ],
   "source": [
    "svm_rbf_model_filtered_normalised = svm.SVC(kernel='rbf', C=1, random_state=0)\n",
    "svm_rbf_model_filtered_normalised.fit(X_filtered_normalised_train, y_filtered_normalised_train)"
   ]
  },
  {
   "cell_type": "code",
   "execution_count": 152,
   "metadata": {},
   "outputs": [
    {
     "name": "stdout",
     "output_type": "stream",
     "text": [
      "[[1150  202]\n",
      " [ 549  802]]\n",
      "0.7221605623381429\n",
      "0.7221605623381429\n"
     ]
    }
   ],
   "source": [
    "# Predict on the test set\n",
    "predicted_svm_rbf_filtered_normalised = svm_rbf_model_filtered_normalised.predict(X_filtered_normalised_test)\n",
    "\n",
    "# Print metrics\n",
    "print(confusion_matrix(y_filtered_normalised_test, predicted_svm_rbf_filtered_normalised))\n",
    "print(accuracy_score(y_filtered_normalised_test, predicted_svm_rbf_filtered_normalised))\n",
    "print(f1_score(y_filtered_normalised_test, predicted_svm_rbf_filtered_normalised, average='micro'))\n",
    "# compare_trad_models(\"knn\", accuracy_score(y_test, predicted))\n",
    "filtered_normalised_model_name_array.append(\"svm_rbf\")\n",
    "filtered_normalised_model_acc_array.append(accuracy_score(y_filtered_normalised_test, predicted_svm_rbf_filtered_normalised))"
   ]
  },
  {
   "cell_type": "code",
   "execution_count": 153,
   "metadata": {},
   "outputs": [
    {
     "name": "stderr",
     "output_type": "stream",
     "text": [
      "C:\\Users\\Alex\\AppData\\Local\\Temp\\ipykernel_29220\\1829240526.py:2: DataConversionWarning: A column-vector y was passed when a 1d array was expected. Please change the shape of y to (n_samples,), for example using ravel().\n",
      "  rf_model_filtered_normalised.fit(X_filtered_train, y_filtered_normalised_train)\n"
     ]
    },
    {
     "data": {
      "text/plain": [
       "RandomForestClassifier(random_state=42)"
      ]
     },
     "execution_count": 153,
     "metadata": {},
     "output_type": "execute_result"
    }
   ],
   "source": [
    "rf_model_filtered_normalised = RandomForestClassifier(n_estimators = 100, random_state = 42)\n",
    "rf_model_filtered_normalised.fit(X_filtered_train, y_filtered_normalised_train)"
   ]
  },
  {
   "cell_type": "code",
   "execution_count": 154,
   "metadata": {},
   "outputs": [
    {
     "name": "stdout",
     "output_type": "stream",
     "text": [
      "[[749 603]\n",
      " [980 371]]\n",
      "0.41435442101368847\n",
      "0.41435442101368847\n"
     ]
    }
   ],
   "source": [
    "# Predict on the test set\n",
    "predicted_rf_filtered_normalised = rf_model_filtered_normalised.predict(X_filtered_normalised_test)\n",
    "\n",
    "# Print metrics\n",
    "print(confusion_matrix(y_filtered_normalised_test, predicted_rf_filtered_normalised))\n",
    "print(accuracy_score(y_filtered_normalised_test, predicted_rf_filtered_normalised))\n",
    "print(f1_score(y_filtered_normalised_test, predicted_rf_filtered_normalised, average='micro'))\n",
    "# compare_trad_models(\"knn\", accuracy_score(y_test, predicted))\n",
    "filtered_normalised_model_name_array.append(\"rf\")\n",
    "filtered_normalised_model_acc_array.append(accuracy_score(y_filtered_normalised_test, predicted_rf_filtered_normalised))"
   ]
  },
  {
   "cell_type": "code",
   "execution_count": 155,
   "metadata": {},
   "outputs": [
    {
     "name": "stderr",
     "output_type": "stream",
     "text": [
      "c:\\Users\\Alex\\anaconda3\\lib\\site-packages\\sklearn\\utils\\validation.py:993: DataConversionWarning: A column-vector y was passed when a 1d array was expected. Please change the shape of y to (n_samples, ), for example using ravel().\n",
      "  y = column_or_1d(y, warn=True)\n"
     ]
    },
    {
     "data": {
      "text/plain": [
       "GaussianNB()"
      ]
     },
     "execution_count": 155,
     "metadata": {},
     "output_type": "execute_result"
    }
   ],
   "source": [
    "nb_model_filtered_normalised = GaussianNB()\n",
    "nb_model_filtered_normalised.fit(X_filtered_normalised_train, y_filtered_normalised_train)"
   ]
  },
  {
   "cell_type": "code",
   "execution_count": 156,
   "metadata": {},
   "outputs": [
    {
     "name": "stdout",
     "output_type": "stream",
     "text": [
      "[[1202  150]\n",
      " [ 842  509]]\n",
      "0.6330003699593045\n",
      "0.6330003699593045\n"
     ]
    }
   ],
   "source": [
    "# Predict on the test set\n",
    "predicted_nb_filtered_normalised = nb_model_filtered_normalised.predict(X_filtered_normalised_test)\n",
    "\n",
    "# Print metrics\n",
    "print(confusion_matrix(y_filtered_normalised_test, predicted_nb_filtered_normalised))\n",
    "print(accuracy_score(y_filtered_normalised_test, predicted_nb_filtered_normalised))\n",
    "print(f1_score(y_filtered_normalised_test, predicted_nb_filtered_normalised, average='micro'))\n",
    "# compare_trad_models(\"knn\", accuracy_score(y_test, predicted))\n",
    "filtered_normalised_model_name_array.append(\"nb\")\n",
    "filtered_normalised_model_acc_array.append(accuracy_score(y_filtered_normalised_test, predicted_nb_filtered_normalised))"
   ]
  },
  {
   "cell_type": "code",
   "execution_count": 157,
   "metadata": {},
   "outputs": [
    {
     "name": "stdout",
     "output_type": "stream",
     "text": [
      "Best model: knn, Accuracy: 0.902330743618202\n"
     ]
    }
   ],
   "source": [
    "best_trad_model_acc_filtered_normalised = max(filtered_normalised_model_acc_array)\n",
    "index = filtered_normalised_model_acc_array.index(max(filtered_normalised_model_acc_array))\n",
    "best_trad_model_filtered_normalised = filtered_normalised_model_name_array[index]\n",
    "print(f\"Best model: {best_trad_model_filtered_normalised}, Accuracy: {best_trad_model_acc_filtered_normalised}\")"
   ]
  },
  {
   "cell_type": "code",
   "execution_count": 158,
   "metadata": {},
   "outputs": [
    {
     "name": "stdout",
     "output_type": "stream",
     "text": [
      "name: knn, accuracy: 0.902330743618202\n",
      "name: svm, accuracy: 0.7155012948575656\n",
      "name: svm_rbf, accuracy: 0.7221605623381429\n",
      "name: rf, accuracy: 0.41435442101368847\n",
      "name: nb, accuracy: 0.6330003699593045\n"
     ]
    }
   ],
   "source": [
    "for i in range(0, len(filtered_normalised_model_name_array)):\n",
    "    print(f\"name: {filtered_normalised_model_name_array[i]}, accuracy: {filtered_normalised_model_acc_array[i]}\")"
   ]
  },
  {
   "cell_type": "code",
   "execution_count": 159,
   "metadata": {},
   "outputs": [],
   "source": [
    "filtered_normalised_model_dictionary = {\"knn\": knn_model_filtered_normalised,\n",
    "                             \"svm\": svm_model_filtered_normalised,\n",
    "                             \"svm_rbf\": svm_rbf_model_filtered_normalised,\n",
    "                             \"rf\": rf_model_filtered_normalised,\n",
    "                             \"nb\": nb_model_filtered_normalised}"
   ]
  },
  {
   "cell_type": "code",
   "execution_count": 160,
   "metadata": {},
   "outputs": [
    {
     "name": "stderr",
     "output_type": "stream",
     "text": [
      "c:\\Users\\Alex\\anaconda3\\lib\\site-packages\\sklearn\\neighbors\\_classification.py:198: DataConversionWarning: A column-vector y was passed when a 1d array was expected. Please change the shape of y to (n_samples,), for example using ravel().\n",
      "  return self._fit(X, y)\n",
      "c:\\Users\\Alex\\anaconda3\\lib\\site-packages\\sklearn\\neighbors\\_classification.py:228: FutureWarning: Unlike other reduction functions (e.g. `skew`, `kurtosis`), the default behavior of `mode` typically preserves the axis it acts along. In SciPy 1.11.0, this behavior will change: the default value of `keepdims` will become False, the `axis` over which the statistic is taken will be eliminated, and the value None will no longer be accepted. Set `keepdims` to True or False to avoid this warning.\n",
      "  mode, _ = stats.mode(_y[neigh_ind, k], axis=1)\n",
      "c:\\Users\\Alex\\anaconda3\\lib\\site-packages\\sklearn\\neighbors\\_classification.py:198: DataConversionWarning: A column-vector y was passed when a 1d array was expected. Please change the shape of y to (n_samples,), for example using ravel().\n",
      "  return self._fit(X, y)\n",
      "c:\\Users\\Alex\\anaconda3\\lib\\site-packages\\sklearn\\neighbors\\_classification.py:228: FutureWarning: Unlike other reduction functions (e.g. `skew`, `kurtosis`), the default behavior of `mode` typically preserves the axis it acts along. In SciPy 1.11.0, this behavior will change: the default value of `keepdims` will become False, the `axis` over which the statistic is taken will be eliminated, and the value None will no longer be accepted. Set `keepdims` to True or False to avoid this warning.\n",
      "  mode, _ = stats.mode(_y[neigh_ind, k], axis=1)\n",
      "c:\\Users\\Alex\\anaconda3\\lib\\site-packages\\sklearn\\neighbors\\_classification.py:198: DataConversionWarning: A column-vector y was passed when a 1d array was expected. Please change the shape of y to (n_samples,), for example using ravel().\n",
      "  return self._fit(X, y)\n",
      "c:\\Users\\Alex\\anaconda3\\lib\\site-packages\\sklearn\\neighbors\\_classification.py:228: FutureWarning: Unlike other reduction functions (e.g. `skew`, `kurtosis`), the default behavior of `mode` typically preserves the axis it acts along. In SciPy 1.11.0, this behavior will change: the default value of `keepdims` will become False, the `axis` over which the statistic is taken will be eliminated, and the value None will no longer be accepted. Set `keepdims` to True or False to avoid this warning.\n",
      "  mode, _ = stats.mode(_y[neigh_ind, k], axis=1)\n",
      "c:\\Users\\Alex\\anaconda3\\lib\\site-packages\\sklearn\\neighbors\\_classification.py:198: DataConversionWarning: A column-vector y was passed when a 1d array was expected. Please change the shape of y to (n_samples,), for example using ravel().\n",
      "  return self._fit(X, y)\n",
      "c:\\Users\\Alex\\anaconda3\\lib\\site-packages\\sklearn\\neighbors\\_classification.py:228: FutureWarning: Unlike other reduction functions (e.g. `skew`, `kurtosis`), the default behavior of `mode` typically preserves the axis it acts along. In SciPy 1.11.0, this behavior will change: the default value of `keepdims` will become False, the `axis` over which the statistic is taken will be eliminated, and the value None will no longer be accepted. Set `keepdims` to True or False to avoid this warning.\n",
      "  mode, _ = stats.mode(_y[neigh_ind, k], axis=1)\n",
      "c:\\Users\\Alex\\anaconda3\\lib\\site-packages\\sklearn\\neighbors\\_classification.py:198: DataConversionWarning: A column-vector y was passed when a 1d array was expected. Please change the shape of y to (n_samples,), for example using ravel().\n",
      "  return self._fit(X, y)\n",
      "c:\\Users\\Alex\\anaconda3\\lib\\site-packages\\sklearn\\neighbors\\_classification.py:228: FutureWarning: Unlike other reduction functions (e.g. `skew`, `kurtosis`), the default behavior of `mode` typically preserves the axis it acts along. In SciPy 1.11.0, this behavior will change: the default value of `keepdims` will become False, the `axis` over which the statistic is taken will be eliminated, and the value None will no longer be accepted. Set `keepdims` to True or False to avoid this warning.\n",
      "  mode, _ = stats.mode(_y[neigh_ind, k], axis=1)\n",
      "c:\\Users\\Alex\\anaconda3\\lib\\site-packages\\sklearn\\utils\\validation.py:993: DataConversionWarning: A column-vector y was passed when a 1d array was expected. Please change the shape of y to (n_samples, ), for example using ravel().\n",
      "  y = column_or_1d(y, warn=True)\n",
      "c:\\Users\\Alex\\anaconda3\\lib\\site-packages\\sklearn\\utils\\validation.py:993: DataConversionWarning: A column-vector y was passed when a 1d array was expected. Please change the shape of y to (n_samples, ), for example using ravel().\n",
      "  y = column_or_1d(y, warn=True)\n",
      "c:\\Users\\Alex\\anaconda3\\lib\\site-packages\\sklearn\\utils\\validation.py:993: DataConversionWarning: A column-vector y was passed when a 1d array was expected. Please change the shape of y to (n_samples, ), for example using ravel().\n",
      "  y = column_or_1d(y, warn=True)\n",
      "c:\\Users\\Alex\\anaconda3\\lib\\site-packages\\sklearn\\utils\\validation.py:993: DataConversionWarning: A column-vector y was passed when a 1d array was expected. Please change the shape of y to (n_samples, ), for example using ravel().\n",
      "  y = column_or_1d(y, warn=True)\n",
      "c:\\Users\\Alex\\anaconda3\\lib\\site-packages\\sklearn\\utils\\validation.py:993: DataConversionWarning: A column-vector y was passed when a 1d array was expected. Please change the shape of y to (n_samples, ), for example using ravel().\n",
      "  y = column_or_1d(y, warn=True)\n",
      "c:\\Users\\Alex\\anaconda3\\lib\\site-packages\\sklearn\\utils\\validation.py:993: DataConversionWarning: A column-vector y was passed when a 1d array was expected. Please change the shape of y to (n_samples, ), for example using ravel().\n",
      "  y = column_or_1d(y, warn=True)\n",
      "c:\\Users\\Alex\\anaconda3\\lib\\site-packages\\sklearn\\utils\\validation.py:993: DataConversionWarning: A column-vector y was passed when a 1d array was expected. Please change the shape of y to (n_samples, ), for example using ravel().\n",
      "  y = column_or_1d(y, warn=True)\n",
      "c:\\Users\\Alex\\anaconda3\\lib\\site-packages\\sklearn\\utils\\validation.py:993: DataConversionWarning: A column-vector y was passed when a 1d array was expected. Please change the shape of y to (n_samples, ), for example using ravel().\n",
      "  y = column_or_1d(y, warn=True)\n",
      "c:\\Users\\Alex\\anaconda3\\lib\\site-packages\\sklearn\\utils\\validation.py:993: DataConversionWarning: A column-vector y was passed when a 1d array was expected. Please change the shape of y to (n_samples, ), for example using ravel().\n",
      "  y = column_or_1d(y, warn=True)\n",
      "c:\\Users\\Alex\\anaconda3\\lib\\site-packages\\sklearn\\utils\\validation.py:993: DataConversionWarning: A column-vector y was passed when a 1d array was expected. Please change the shape of y to (n_samples, ), for example using ravel().\n",
      "  y = column_or_1d(y, warn=True)\n",
      "c:\\Users\\Alex\\anaconda3\\lib\\site-packages\\sklearn\\model_selection\\_validation.py:680: DataConversionWarning: A column-vector y was passed when a 1d array was expected. Please change the shape of y to (n_samples,), for example using ravel().\n",
      "  estimator.fit(X_train, y_train, **fit_params)\n",
      "c:\\Users\\Alex\\anaconda3\\lib\\site-packages\\sklearn\\model_selection\\_validation.py:680: DataConversionWarning: A column-vector y was passed when a 1d array was expected. Please change the shape of y to (n_samples,), for example using ravel().\n",
      "  estimator.fit(X_train, y_train, **fit_params)\n",
      "c:\\Users\\Alex\\anaconda3\\lib\\site-packages\\sklearn\\model_selection\\_validation.py:680: DataConversionWarning: A column-vector y was passed when a 1d array was expected. Please change the shape of y to (n_samples,), for example using ravel().\n",
      "  estimator.fit(X_train, y_train, **fit_params)\n",
      "c:\\Users\\Alex\\anaconda3\\lib\\site-packages\\sklearn\\model_selection\\_validation.py:680: DataConversionWarning: A column-vector y was passed when a 1d array was expected. Please change the shape of y to (n_samples,), for example using ravel().\n",
      "  estimator.fit(X_train, y_train, **fit_params)\n",
      "c:\\Users\\Alex\\anaconda3\\lib\\site-packages\\sklearn\\model_selection\\_validation.py:680: DataConversionWarning: A column-vector y was passed when a 1d array was expected. Please change the shape of y to (n_samples,), for example using ravel().\n",
      "  estimator.fit(X_train, y_train, **fit_params)\n",
      "c:\\Users\\Alex\\anaconda3\\lib\\site-packages\\sklearn\\utils\\validation.py:993: DataConversionWarning: A column-vector y was passed when a 1d array was expected. Please change the shape of y to (n_samples, ), for example using ravel().\n",
      "  y = column_or_1d(y, warn=True)\n",
      "c:\\Users\\Alex\\anaconda3\\lib\\site-packages\\sklearn\\utils\\validation.py:993: DataConversionWarning: A column-vector y was passed when a 1d array was expected. Please change the shape of y to (n_samples, ), for example using ravel().\n",
      "  y = column_or_1d(y, warn=True)\n",
      "c:\\Users\\Alex\\anaconda3\\lib\\site-packages\\sklearn\\utils\\validation.py:993: DataConversionWarning: A column-vector y was passed when a 1d array was expected. Please change the shape of y to (n_samples, ), for example using ravel().\n",
      "  y = column_or_1d(y, warn=True)\n",
      "c:\\Users\\Alex\\anaconda3\\lib\\site-packages\\sklearn\\utils\\validation.py:993: DataConversionWarning: A column-vector y was passed when a 1d array was expected. Please change the shape of y to (n_samples, ), for example using ravel().\n",
      "  y = column_or_1d(y, warn=True)\n",
      "c:\\Users\\Alex\\anaconda3\\lib\\site-packages\\sklearn\\utils\\validation.py:993: DataConversionWarning: A column-vector y was passed when a 1d array was expected. Please change the shape of y to (n_samples, ), for example using ravel().\n",
      "  y = column_or_1d(y, warn=True)\n"
     ]
    }
   ],
   "source": [
    "scores_array_filtered_normalised = perform_cross_val_all_models(filtered_normalised_model_dictionary, X_filtered_normalised_train, y_filtered_normalised_train)"
   ]
  },
  {
   "cell_type": "code",
   "execution_count": 161,
   "metadata": {},
   "outputs": [
    {
     "name": "stdout",
     "output_type": "stream",
     "text": [
      "knn Accuracy: 0.90 (+/- 0.01)\n",
      "svm Accuracy: 0.72 (+/- 0.03)\n",
      "svm_rbf Accuracy: 0.73 (+/- 0.02)\n",
      "rf Accuracy: 0.93 (+/- 0.01)\n",
      "nb Accuracy: 0.64 (+/- 0.02)\n"
     ]
    }
   ],
   "source": [
    "for cv_tuple in scores_array_filtered_normalised:\n",
    "    print(\"%s Accuracy: %0.2f (+/- %0.2f)\" % (cv_tuple[0], cv_tuple[1].mean(), cv_tuple[1].std() * 2))"
   ]
  },
  {
   "cell_type": "code",
   "execution_count": 162,
   "metadata": {},
   "outputs": [
    {
     "name": "stdout",
     "output_type": "stream",
     "text": [
      "Classification report for knn\n"
     ]
    },
    {
     "name": "stderr",
     "output_type": "stream",
     "text": [
      "c:\\Users\\Alex\\anaconda3\\lib\\site-packages\\sklearn\\neighbors\\_classification.py:228: FutureWarning: Unlike other reduction functions (e.g. `skew`, `kurtosis`), the default behavior of `mode` typically preserves the axis it acts along. In SciPy 1.11.0, this behavior will change: the default value of `keepdims` will become False, the `axis` over which the statistic is taken will be eliminated, and the value None will no longer be accepted. Set `keepdims` to True or False to avoid this warning.\n",
      "  mode, _ = stats.mode(_y[neigh_ind, k], axis=1)\n"
     ]
    },
    {
     "name": "stdout",
     "output_type": "stream",
     "text": [
      "              precision    recall  f1-score   support\n",
      "\n",
      "           0       0.95      0.85      0.90      1352\n",
      "           1       0.86      0.96      0.91      1351\n",
      "\n",
      "    accuracy                           0.90      2703\n",
      "   macro avg       0.91      0.90      0.90      2703\n",
      "weighted avg       0.91      0.90      0.90      2703\n",
      "\n",
      "=====================================================\n",
      "Classification report for svm\n",
      "              precision    recall  f1-score   support\n",
      "\n",
      "           0       0.69      0.80      0.74      1352\n",
      "           1       0.76      0.63      0.69      1351\n",
      "\n",
      "    accuracy                           0.72      2703\n",
      "   macro avg       0.72      0.72      0.71      2703\n",
      "weighted avg       0.72      0.72      0.71      2703\n",
      "\n",
      "=====================================================\n",
      "Classification report for svm_rbf\n",
      "              precision    recall  f1-score   support\n",
      "\n",
      "           0       0.68      0.85      0.75      1352\n",
      "           1       0.80      0.59      0.68      1351\n",
      "\n",
      "    accuracy                           0.72      2703\n",
      "   macro avg       0.74      0.72      0.72      2703\n",
      "weighted avg       0.74      0.72      0.72      2703\n",
      "\n",
      "=====================================================\n",
      "Classification report for rf\n",
      "              precision    recall  f1-score   support\n",
      "\n",
      "           0       0.43      0.55      0.49      1352\n",
      "           1       0.38      0.27      0.32      1351\n",
      "\n",
      "    accuracy                           0.41      2703\n",
      "   macro avg       0.41      0.41      0.40      2703\n",
      "weighted avg       0.41      0.41      0.40      2703\n",
      "\n",
      "=====================================================\n",
      "Classification report for nb\n",
      "              precision    recall  f1-score   support\n",
      "\n",
      "           0       0.59      0.89      0.71      1352\n",
      "           1       0.77      0.38      0.51      1351\n",
      "\n",
      "    accuracy                           0.63      2703\n",
      "   macro avg       0.68      0.63      0.61      2703\n",
      "weighted avg       0.68      0.63      0.61      2703\n",
      "\n",
      "=====================================================\n"
     ]
    }
   ],
   "source": [
    "print_all_classification_reports(filtered_normalised_model_dictionary, X_filtered_normalised_test, y_filtered_normalised_test)"
   ]
  },
  {
   "cell_type": "code",
   "execution_count": 163,
   "metadata": {},
   "outputs": [
    {
     "name": "stdout",
     "output_type": "stream",
     "text": [
      "Classification report for knn\n"
     ]
    },
    {
     "name": "stderr",
     "output_type": "stream",
     "text": [
      "c:\\Users\\Alex\\anaconda3\\lib\\site-packages\\sklearn\\neighbors\\_classification.py:228: FutureWarning: Unlike other reduction functions (e.g. `skew`, `kurtosis`), the default behavior of `mode` typically preserves the axis it acts along. In SciPy 1.11.0, this behavior will change: the default value of `keepdims` will become False, the `axis` over which the statistic is taken will be eliminated, and the value None will no longer be accepted. Set `keepdims` to True or False to avoid this warning.\n",
      "  mode, _ = stats.mode(_y[neigh_ind, k], axis=1)\n"
     ]
    },
    {
     "name": "stdout",
     "output_type": "stream",
     "text": [
      "              precision    recall  f1-score   support\n",
      "\n",
      "           0       0.98      0.88      0.93      4054\n",
      "           1       0.90      0.98      0.94      4055\n",
      "\n",
      "    accuracy                           0.93      8109\n",
      "   macro avg       0.94      0.93      0.93      8109\n",
      "weighted avg       0.94      0.93      0.93      8109\n",
      "\n",
      "=====================================================\n",
      "Classification report for svm\n",
      "              precision    recall  f1-score   support\n",
      "\n",
      "           0       0.69      0.80      0.74      4054\n",
      "           1       0.76      0.64      0.69      4055\n",
      "\n",
      "    accuracy                           0.72      8109\n",
      "   macro avg       0.72      0.72      0.71      8109\n",
      "weighted avg       0.72      0.72      0.71      8109\n",
      "\n",
      "=====================================================\n",
      "Classification report for svm_rbf\n",
      "              precision    recall  f1-score   support\n",
      "\n",
      "           0       0.68      0.85      0.76      4054\n",
      "           1       0.81      0.61      0.69      4055\n",
      "\n",
      "    accuracy                           0.73      8109\n",
      "   macro avg       0.75      0.73      0.73      8109\n",
      "weighted avg       0.75      0.73      0.73      8109\n",
      "\n",
      "=====================================================\n",
      "Classification report for rf\n",
      "              precision    recall  f1-score   support\n",
      "\n",
      "           0       0.43      0.54      0.48      4054\n",
      "           1       0.38      0.29      0.33      4055\n",
      "\n",
      "    accuracy                           0.41      8109\n",
      "   macro avg       0.41      0.41      0.40      8109\n",
      "weighted avg       0.41      0.41      0.40      8109\n",
      "\n",
      "=====================================================\n",
      "Classification report for nb\n",
      "              precision    recall  f1-score   support\n",
      "\n",
      "           0       0.59      0.89      0.71      4054\n",
      "           1       0.77      0.38      0.51      4055\n",
      "\n",
      "    accuracy                           0.63      8109\n",
      "   macro avg       0.68      0.63      0.61      8109\n",
      "weighted avg       0.68      0.63      0.61      8109\n",
      "\n",
      "=====================================================\n"
     ]
    }
   ],
   "source": [
    "print_all_classification_reports_training(filtered_normalised_model_dictionary, X_filtered_normalised_train, y_filtered_normalised_train)"
   ]
  },
  {
   "cell_type": "code",
   "execution_count": 164,
   "metadata": {},
   "outputs": [],
   "source": [
    "from joblib import dump, load\n",
    "# save clf using joblib\n",
    "# dump(rf_model, 'New Models/rf_filtered_normalised.joblib')"
   ]
  },
  {
   "cell_type": "markdown",
   "metadata": {},
   "source": [
    "### Deep Learning"
   ]
  },
  {
   "cell_type": "markdown",
   "metadata": {},
   "source": [
    "#### The models below are trained using data which went through low-pass filter"
   ]
  },
  {
   "cell_type": "code",
   "execution_count": 165,
   "metadata": {},
   "outputs": [
    {
     "data": {
      "text/plain": [
       "((10812, 92, 6), (10812,))"
      ]
     },
     "execution_count": 165,
     "metadata": {},
     "output_type": "execute_result"
    }
   ],
   "source": [
    "X_raw_filtered_normalised_smote, y_raw_filtered_normalised_smote = feature_util_UPFall.generate_windows_SMOTE(X_filtered_normalised, y_filtered_normalised)\n",
    "X_raw_filtered_normalised_smote.shape, y_raw_filtered_normalised_smote.shape"
   ]
  },
  {
   "cell_type": "code",
   "execution_count": 166,
   "metadata": {},
   "outputs": [
    {
     "data": {
      "text/plain": [
       "((8109, 92, 6), (2703, 92, 6), (8109,))"
      ]
     },
     "execution_count": 166,
     "metadata": {},
     "output_type": "execute_result"
    }
   ],
   "source": [
    "# X_raw_filtered_normalised_train, X_raw_filtered_normalised_test, y_raw_filtered_normalised_train, y_raw_filtered_normalised_test = train_test_split(X_filtered_normalised, y_filtered_normalised, test_size=0.25, random_state=0, stratify=y_filtered_normalised)\n",
    "X_raw_filtered_normalised_train, X_raw_filtered_normalised_test, y_raw_filtered_normalised_train, y_raw_filtered_normalised_test = train_test_split(X_raw_filtered_normalised_smote, y_raw_filtered_normalised_smote, test_size=0.25, random_state=0, stratify=y_raw_filtered_normalised_smote)\n",
    "X_raw_filtered_normalised_train.shape, X_raw_filtered_normalised_test.shape, y_raw_filtered_normalised_train.shape"
   ]
  },
  {
   "cell_type": "code",
   "execution_count": 167,
   "metadata": {},
   "outputs": [
    {
     "data": {
      "text/plain": [
       "(92, 6)"
      ]
     },
     "execution_count": 167,
     "metadata": {},
     "output_type": "execute_result"
    }
   ],
   "source": [
    "X_raw_filtered_normalised_train[0].shape"
   ]
  },
  {
   "cell_type": "code",
   "execution_count": 168,
   "metadata": {},
   "outputs": [],
   "source": [
    "X_raw_filtered_normalised_train = X_raw_filtered_normalised_train.reshape(X_TRAIN_SIZE, X_TRAIN_WINDOW_SIZE, 6, 1)\n",
    "X_raw_filtered_normalised_test = X_raw_filtered_normalised_test.reshape(X_TEST_SIZE, X_TEST_WINDOW_SIZE, 6, 1)"
   ]
  },
  {
   "cell_type": "code",
   "execution_count": 169,
   "metadata": {},
   "outputs": [
    {
     "data": {
      "text/plain": [
       "((92, 6, 1), (92, 6, 1))"
      ]
     },
     "execution_count": 169,
     "metadata": {},
     "output_type": "execute_result"
    }
   ],
   "source": [
    "X_raw_filtered_normalised_train[0].shape, X_raw_filtered_normalised_test[0].shape"
   ]
  },
  {
   "cell_type": "code",
   "execution_count": 170,
   "metadata": {},
   "outputs": [],
   "source": [
    "import tensorflow as tf\n",
    "from tensorflow.keras import Sequential\n",
    "from tensorflow.keras.layers import Flatten, Dense, Dropout, BatchNormalization\n",
    "from tensorflow.keras.layers import Conv2D, MaxPool2D\n",
    "from tensorflow.keras.optimizers import Adam"
   ]
  },
  {
   "cell_type": "code",
   "execution_count": 171,
   "metadata": {},
   "outputs": [],
   "source": [
    "cnn_model_filtered_normalised = Sequential()\n",
    "cnn_model_filtered_normalised.add(Conv2D(16, (2, 2), activation='relu', input_shape=X_raw_filtered_normalised_train[0].shape))\n",
    "cnn_model_filtered_normalised.add(Conv2D(32, (2, 2), activation='relu'))\n",
    "cnn_model_filtered_normalised.add(Flatten())\n",
    "cnn_model_filtered_normalised.add(Dense(64, activation='relu'))\n",
    "cnn_model_filtered_normalised.add(Dense(2, activation='softmax'))"
   ]
  },
  {
   "cell_type": "code",
   "execution_count": 172,
   "metadata": {},
   "outputs": [],
   "source": [
    "cnn_model_filtered_normalised.compile(optimizer=Adam(learning_rate=0.001), loss='sparse_categorical_crossentropy', metrics=['accuracy'])"
   ]
  },
  {
   "cell_type": "code",
   "execution_count": 173,
   "metadata": {},
   "outputs": [
    {
     "name": "stdout",
     "output_type": "stream",
     "text": [
      "Epoch 1/15\n",
      "254/254 [==============================] - 5s 16ms/step - loss: 0.6888 - accuracy: 0.5101 - val_loss: 0.6774 - val_accuracy: 0.5505\n",
      "Epoch 2/15\n",
      "254/254 [==============================] - 3s 14ms/step - loss: 0.6637 - accuracy: 0.5606 - val_loss: 0.6782 - val_accuracy: 0.5087\n",
      "Epoch 3/15\n",
      "254/254 [==============================] - 4s 16ms/step - loss: 0.6403 - accuracy: 0.5967 - val_loss: 0.6105 - val_accuracy: 0.6722\n",
      "Epoch 4/15\n",
      "254/254 [==============================] - 4s 17ms/step - loss: 0.5780 - accuracy: 0.6748 - val_loss: 0.6212 - val_accuracy: 0.5938\n",
      "Epoch 5/15\n",
      "254/254 [==============================] - 4s 17ms/step - loss: 0.5298 - accuracy: 0.7129 - val_loss: 0.5104 - val_accuracy: 0.7211\n",
      "Epoch 6/15\n",
      "254/254 [==============================] - 4s 18ms/step - loss: 0.4812 - accuracy: 0.7408 - val_loss: 0.4993 - val_accuracy: 0.7321\n",
      "Epoch 7/15\n",
      "254/254 [==============================] - 4s 16ms/step - loss: 0.4511 - accuracy: 0.7673 - val_loss: 0.5463 - val_accuracy: 0.7155\n",
      "Epoch 8/15\n",
      "254/254 [==============================] - 4s 15ms/step - loss: 0.4294 - accuracy: 0.7832 - val_loss: 0.4693 - val_accuracy: 0.7765\n",
      "Epoch 9/15\n",
      "254/254 [==============================] - 4s 16ms/step - loss: 0.3951 - accuracy: 0.8070 - val_loss: 0.4448 - val_accuracy: 0.7643\n",
      "Epoch 10/15\n",
      "254/254 [==============================] - 6s 24ms/step - loss: 0.3819 - accuracy: 0.8160 - val_loss: 0.4219 - val_accuracy: 0.7987\n",
      "Epoch 11/15\n",
      "254/254 [==============================] - 4s 17ms/step - loss: 0.3550 - accuracy: 0.8319 - val_loss: 0.4198 - val_accuracy: 0.8187\n",
      "Epoch 12/15\n",
      "254/254 [==============================] - 4s 17ms/step - loss: 0.3425 - accuracy: 0.8370 - val_loss: 0.4429 - val_accuracy: 0.7673\n",
      "Epoch 13/15\n",
      "254/254 [==============================] - 4s 16ms/step - loss: 0.3287 - accuracy: 0.8482 - val_loss: 0.3729 - val_accuracy: 0.8187\n",
      "Epoch 14/15\n",
      "254/254 [==============================] - 4s 16ms/step - loss: 0.3035 - accuracy: 0.8636 - val_loss: 0.3952 - val_accuracy: 0.8135\n",
      "Epoch 15/15\n",
      "254/254 [==============================] - 4s 15ms/step - loss: 0.2958 - accuracy: 0.8668 - val_loss: 0.3428 - val_accuracy: 0.8520\n"
     ]
    }
   ],
   "source": [
    "history_filtered_normalised = cnn_model_filtered_normalised.fit(X_raw_filtered_normalised_train, y_raw_filtered_normalised_train, epochs=NUMBER_OF_EPOCHS, validation_data=(X_raw_filtered_normalised_test, y_raw_filtered_normalised_test), verbose=1)"
   ]
  },
  {
   "cell_type": "code",
   "execution_count": 174,
   "metadata": {},
   "outputs": [
    {
     "data": {
      "image/png": "[encoded data removed]",
      "text/plain": [
       "<Figure size 640x480 with 1 Axes>"
      ]
     },
     "metadata": {},
     "output_type": "display_data"
    },
    {
     "data": {
      "image/png": "[encoded data removed]",
      "text/plain": [
       "<Figure size 640x480 with 1 Axes>"
      ]
     },
     "metadata": {},
     "output_type": "display_data"
    }
   ],
   "source": [
    "plot_learning_curve(history_filtered_normalised, NUMBER_OF_EPOCHS)"
   ]
  },
  {
   "cell_type": "code",
   "execution_count": 175,
   "metadata": {},
   "outputs": [
    {
     "name": "stdout",
     "output_type": "stream",
     "text": [
      "85/85 [==============================] - 0s 3ms/step\n",
      "[[1190  162]\n",
      " [ 238 1113]]\n",
      "0.852016278209397\n",
      "0.852016278209397\n"
     ]
    }
   ],
   "source": [
    "# predicted_cnn = cnn_model.predict_classes(X_raw_test)\n",
    "predicted_cnn_filtered_normalised = np.argmax(cnn_model_filtered_normalised.predict(X_raw_filtered_normalised_test), axis=-1)\n",
    "\n",
    "# Print metrics\n",
    "print(confusion_matrix(y_raw_filtered_normalised_test, predicted_cnn_filtered_normalised))\n",
    "print(accuracy_score(y_raw_filtered_normalised_test, predicted_cnn_filtered_normalised))\n",
    "print(f1_score(y_raw_filtered_normalised_test, predicted_cnn_filtered_normalised, average='micro'))\n",
    "# ConfusionMatrixDisplay.from_predictions(y_raw_test, predicted_cnn)"
   ]
  },
  {
   "cell_type": "code",
   "execution_count": 176,
   "metadata": {},
   "outputs": [
    {
     "name": "stdout",
     "output_type": "stream",
     "text": [
      "              precision    recall  f1-score   support\n",
      "\n",
      "           0       0.83      0.88      0.86      1352\n",
      "           1       0.87      0.82      0.85      1351\n",
      "\n",
      "    accuracy                           0.85      2703\n",
      "   macro avg       0.85      0.85      0.85      2703\n",
      "weighted avg       0.85      0.85      0.85      2703\n",
      "\n"
     ]
    }
   ],
   "source": [
    "from sklearn.metrics import classification_report\n",
    "\n",
    "print(classification_report(y_raw_filtered_normalised_test, predicted_cnn_filtered_normalised))"
   ]
  },
  {
   "cell_type": "code",
   "execution_count": 177,
   "metadata": {},
   "outputs": [
    {
     "name": "stdout",
     "output_type": "stream",
     "text": [
      "85/85 [==============================] - 0s 3ms/step - loss: 0.7481 - accuracy: 0.4750\n",
      "test loss, test acc:  [0.7481103539466858, 0.47502774000167847]\n"
     ]
    }
   ],
   "source": [
    "results_filtered_normalised = cnn_model_filtered.evaluate(X_raw_filtered_normalised_test, y_raw_filtered_normalised_test)\n",
    "print(\"test loss, test acc: \", results_filtered_normalised)"
   ]
  },
  {
   "cell_type": "code",
   "execution_count": 205,
   "metadata": {},
   "outputs": [
    {
     "name": "stdout",
     "output_type": "stream",
     "text": [
      "0.8216768145561218\n"
     ]
    }
   ],
   "source": [
    "cnn_filtered_normalised_cv_metrics = feature_util_UPFall.cross_val_cnn(X_raw_filtered_normalised_train, y_raw_filtered_normalised_train, X_raw_filtered_normalised_train[0].shape, NUMBER_OF_EPOCHS, 5)\n",
    "feature_util_UPFall.compute_cnn_cross_val_mean(cnn_filtered_normalised_cv_metrics)"
   ]
  }
 ],
 "metadata": {
  "kernelspec": {
   "display_name": "base",
   "language": "python",
   "name": "python3"
  },
  "language_info": {
   "codemirror_mode": {
    "name": "ipython",
    "version": 3
   },
   "file_extension": ".py",
   "mimetype": "text/x-python",
   "name": "python",
   "nbconvert_exporter": "python",
   "pygments_lexer": "ipython3",
   "version": "3.9.16"
  },
  "orig_nbformat": 4
 },
 "nbformat": 4,
 "nbformat_minor": 2
}
