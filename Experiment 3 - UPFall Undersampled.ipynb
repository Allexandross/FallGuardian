{
 "cells": [
  {
   "cell_type": "code",
   "execution_count": 1,
   "metadata": {},
   "outputs": [],
   "source": [
    "%load_ext autoreload\n",
    "%autoreload 2\n",
    "import pandas as pd\n",
    "import numpy as np\n",
    "import feature_util_UPFall\n",
    "import seaborn as sns\n",
    "from sklearn.model_selection import train_test_split"
   ]
  },
  {
   "attachments": {},
   "cell_type": "markdown",
   "metadata": {},
   "source": [
    "## I - Unfiltered"
   ]
  },
  {
   "cell_type": "code",
   "execution_count": 2,
   "metadata": {},
   "outputs": [
    {
     "data": {
      "text/html": [
       "<div>\n",
       "<style scoped>\n",
       "    .dataframe tbody tr th:only-of-type {\n",
       "        vertical-align: middle;\n",
       "    }\n",
       "\n",
       "    .dataframe tbody tr th {\n",
       "        vertical-align: top;\n",
       "    }\n",
       "\n",
       "    .dataframe thead th {\n",
       "        text-align: right;\n",
       "    }\n",
       "</style>\n",
       "<table border=\"1\" class=\"dataframe\">\n",
       "  <thead>\n",
       "    <tr style=\"text-align: right;\">\n",
       "      <th></th>\n",
       "      <th>acc_x_axis</th>\n",
       "      <th>acc_y_axis</th>\n",
       "      <th>acc_z_axis</th>\n",
       "      <th>ang_vel_x_axis</th>\n",
       "      <th>ang_vel_y_axis</th>\n",
       "      <th>ang_vel_z_axis</th>\n",
       "      <th>Activity</th>\n",
       "      <th>Trial</th>\n",
       "      <th>Tag</th>\n",
       "    </tr>\n",
       "  </thead>\n",
       "  <tbody>\n",
       "    <tr>\n",
       "      <th>0</th>\n",
       "      <td>-1.240</td>\n",
       "      <td>-0.557</td>\n",
       "      <td>0.227</td>\n",
       "      <td>-75.854</td>\n",
       "      <td>44.024</td>\n",
       "      <td>315.915</td>\n",
       "      <td>1</td>\n",
       "      <td>1</td>\n",
       "      <td>7</td>\n",
       "    </tr>\n",
       "    <tr>\n",
       "      <th>1</th>\n",
       "      <td>-1.240</td>\n",
       "      <td>-0.557</td>\n",
       "      <td>0.227</td>\n",
       "      <td>-28.780</td>\n",
       "      <td>55.549</td>\n",
       "      <td>344.146</td>\n",
       "      <td>1</td>\n",
       "      <td>1</td>\n",
       "      <td>7</td>\n",
       "    </tr>\n",
       "    <tr>\n",
       "      <th>2</th>\n",
       "      <td>-1.884</td>\n",
       "      <td>-0.687</td>\n",
       "      <td>0.251</td>\n",
       "      <td>27.256</td>\n",
       "      <td>87.134</td>\n",
       "      <td>372.012</td>\n",
       "      <td>1</td>\n",
       "      <td>1</td>\n",
       "      <td>7</td>\n",
       "    </tr>\n",
       "    <tr>\n",
       "      <th>3</th>\n",
       "      <td>-1.884</td>\n",
       "      <td>-0.687</td>\n",
       "      <td>0.251</td>\n",
       "      <td>2.866</td>\n",
       "      <td>117.683</td>\n",
       "      <td>356.463</td>\n",
       "      <td>1</td>\n",
       "      <td>1</td>\n",
       "      <td>7</td>\n",
       "    </tr>\n",
       "    <tr>\n",
       "      <th>4</th>\n",
       "      <td>-1.597</td>\n",
       "      <td>-0.646</td>\n",
       "      <td>0.112</td>\n",
       "      <td>10.000</td>\n",
       "      <td>30.671</td>\n",
       "      <td>126.768</td>\n",
       "      <td>1</td>\n",
       "      <td>1</td>\n",
       "      <td>7</td>\n",
       "    </tr>\n",
       "    <tr>\n",
       "      <th>...</th>\n",
       "      <td>...</td>\n",
       "      <td>...</td>\n",
       "      <td>...</td>\n",
       "      <td>...</td>\n",
       "      <td>...</td>\n",
       "      <td>...</td>\n",
       "      <td>...</td>\n",
       "      <td>...</td>\n",
       "      <td>...</td>\n",
       "    </tr>\n",
       "    <tr>\n",
       "      <th>294673</th>\n",
       "      <td>0.310</td>\n",
       "      <td>0.545</td>\n",
       "      <td>0.835</td>\n",
       "      <td>1.220</td>\n",
       "      <td>3.537</td>\n",
       "      <td>-1.220</td>\n",
       "      <td>11</td>\n",
       "      <td>3</td>\n",
       "      <td>11</td>\n",
       "    </tr>\n",
       "    <tr>\n",
       "      <th>294674</th>\n",
       "      <td>0.304</td>\n",
       "      <td>0.549</td>\n",
       "      <td>0.833</td>\n",
       "      <td>0.976</td>\n",
       "      <td>2.317</td>\n",
       "      <td>-1.159</td>\n",
       "      <td>11</td>\n",
       "      <td>3</td>\n",
       "      <td>11</td>\n",
       "    </tr>\n",
       "    <tr>\n",
       "      <th>294675</th>\n",
       "      <td>0.318</td>\n",
       "      <td>0.555</td>\n",
       "      <td>0.824</td>\n",
       "      <td>3.598</td>\n",
       "      <td>2.866</td>\n",
       "      <td>-1.402</td>\n",
       "      <td>11</td>\n",
       "      <td>3</td>\n",
       "      <td>11</td>\n",
       "    </tr>\n",
       "    <tr>\n",
       "      <th>294676</th>\n",
       "      <td>0.321</td>\n",
       "      <td>0.561</td>\n",
       "      <td>0.822</td>\n",
       "      <td>-0.183</td>\n",
       "      <td>2.073</td>\n",
       "      <td>0.000</td>\n",
       "      <td>11</td>\n",
       "      <td>3</td>\n",
       "      <td>11</td>\n",
       "    </tr>\n",
       "    <tr>\n",
       "      <th>294677</th>\n",
       "      <td>0.308</td>\n",
       "      <td>0.548</td>\n",
       "      <td>0.821</td>\n",
       "      <td>-1.037</td>\n",
       "      <td>1.341</td>\n",
       "      <td>-1.220</td>\n",
       "      <td>11</td>\n",
       "      <td>3</td>\n",
       "      <td>11</td>\n",
       "    </tr>\n",
       "  </tbody>\n",
       "</table>\n",
       "<p>294678 rows × 9 columns</p>\n",
       "</div>"
      ],
      "text/plain": [
       "        acc_x_axis  acc_y_axis  acc_z_axis  ang_vel_x_axis  ang_vel_y_axis  \\\n",
       "0           -1.240      -0.557       0.227         -75.854          44.024   \n",
       "1           -1.240      -0.557       0.227         -28.780          55.549   \n",
       "2           -1.884      -0.687       0.251          27.256          87.134   \n",
       "3           -1.884      -0.687       0.251           2.866         117.683   \n",
       "4           -1.597      -0.646       0.112          10.000          30.671   \n",
       "...            ...         ...         ...             ...             ...   \n",
       "294673       0.310       0.545       0.835           1.220           3.537   \n",
       "294674       0.304       0.549       0.833           0.976           2.317   \n",
       "294675       0.318       0.555       0.824           3.598           2.866   \n",
       "294676       0.321       0.561       0.822          -0.183           2.073   \n",
       "294677       0.308       0.548       0.821          -1.037           1.341   \n",
       "\n",
       "        ang_vel_z_axis  Activity  Trial  Tag  \n",
       "0              315.915         1      1    7  \n",
       "1              344.146         1      1    7  \n",
       "2              372.012         1      1    7  \n",
       "3              356.463         1      1    7  \n",
       "4              126.768         1      1    7  \n",
       "...                ...       ...    ...  ...  \n",
       "294673          -1.220        11      3   11  \n",
       "294674          -1.159        11      3   11  \n",
       "294675          -1.402        11      3   11  \n",
       "294676           0.000        11      3   11  \n",
       "294677          -1.220        11      3   11  \n",
       "\n",
       "[294678 rows x 9 columns]"
      ]
     },
     "execution_count": 2,
     "metadata": {},
     "output_type": "execute_result"
    }
   ],
   "source": [
    "df = pd.read_csv(\"New Datasets/UPFallWristData.csv\")\n",
    "df\n"
   ]
  },
  {
   "cell_type": "code",
   "execution_count": 3,
   "metadata": {},
   "outputs": [
    {
     "data": {
      "text/plain": [
       "<AxesSubplot: >"
      ]
     },
     "execution_count": 3,
     "metadata": {},
     "output_type": "execute_result"
    },
    {
     "data": {
      "image/png": "[encoded data removed]",
      "text/plain": [
       "<Figure size 640x480 with 1 Axes>"
      ]
     },
     "metadata": {},
     "output_type": "display_data"
    }
   ],
   "source": [
    "# sns.lineplot(data=df[(df['Activity'] == 1)].loc[300:400, ['acc_x_axis', 'acc_y_axis', 'acc_z_axis', 'Activity', 'Trial']])\n",
    "sns.lineplot(data=df[(df['Activity'] == 1)].loc[0:200, ['acc_x_axis', 'acc_y_axis', 'acc_z_axis']])"
   ]
  },
  {
   "cell_type": "code",
   "execution_count": 4,
   "metadata": {},
   "outputs": [
    {
     "data": {
      "text/plain": [
       "<AxesSubplot: >"
      ]
     },
     "execution_count": 4,
     "metadata": {},
     "output_type": "execute_result"
    },
    {
     "data": {
      "image/png": "[encoded data removed]",
      "text/plain": [
       "<Figure size 640x480 with 2 Axes>"
      ]
     },
     "metadata": {},
     "output_type": "display_data"
    }
   ],
   "source": [
    "import matplotlib.pyplot as plt\n",
    "fig, axs = plt.subplots(2)\n",
    "\n",
    "sns.lineplot(data=df[(df['Activity'] == 1)].loc[0:200, ['acc_x_axis', 'acc_y_axis', 'acc_z_axis']], ax=axs[0])\n",
    "sns.lineplot(data=df[(df['Activity'] == 1)].loc[0:200, ['ang_vel_x_axis', 'ang_vel_y_axis', 'ang_vel_z_axis']], ax=axs[1])"
   ]
  },
  {
   "cell_type": "code",
   "execution_count": 5,
   "metadata": {},
   "outputs": [
    {
     "data": {
      "text/plain": [
       "6     54568\n",
       "7     54032\n",
       "8     53689\n",
       "11    50872\n",
       "1     45951\n",
       "10    26694\n",
       "9      8872\n",
       "Name: Activity, dtype: int64"
      ]
     },
     "execution_count": 5,
     "metadata": {},
     "output_type": "execute_result"
    }
   ],
   "source": [
    "df_falls_renamed = df.copy()\n",
    "df_falls_renamed.loc[(df_falls_renamed['Activity'] == 2) |\n",
    "                     (df_falls_renamed['Activity'] == 3) |\n",
    "                     (df_falls_renamed['Activity'] == 4) |\n",
    "                     (df_falls_renamed['Activity'] == 5),\n",
    "                     'Activity'] = 1\n",
    "\n",
    "df_falls_renamed['Activity'].value_counts()"
   ]
  },
  {
   "cell_type": "code",
   "execution_count": 6,
   "metadata": {},
   "outputs": [
    {
     "data": {
      "text/plain": [
       "0    248727\n",
       "1     45951\n",
       "Name: Activity, dtype: int64"
      ]
     },
     "execution_count": 6,
     "metadata": {},
     "output_type": "execute_result"
    }
   ],
   "source": [
    "df_binary = df_falls_renamed.copy()\n",
    "df_binary.loc[(df_binary['Activity'] == 6) |\n",
    "                     (df_binary['Activity'] == 7) |\n",
    "                     (df_binary['Activity'] == 8) |\n",
    "                     (df_binary['Activity'] == 9) |\n",
    "                     (df_binary['Activity'] == 10) |\n",
    "                     (df_binary['Activity'] == 11),\n",
    "                     'Activity'] = 0\n",
    "df_binary['Activity'].value_counts()"
   ]
  },
  {
   "cell_type": "code",
   "execution_count": 7,
   "metadata": {},
   "outputs": [],
   "source": [
    "Fs = 18.4 # Hz\n",
    "frame_size = int(Fs * 5) # 100 Hz and 5s window\n",
    "hop_size = int(frame_size * 0.5) # 50% overlap\n",
    "# hop_size = int(frame_size * 1) # 50% overlap"
   ]
  },
  {
   "cell_type": "code",
   "execution_count": 8,
   "metadata": {},
   "outputs": [],
   "source": [
    "# df_ticwatch = pd.read_csv(\"New Datasets/ticwatch_dataset_gyro.csv\", index_col=0)\n",
    "# df_ticwatch = df_ticwatch.drop(columns=['timestamp'], axis=1)\n",
    "# df_ticwatch['outcome'] = 0\n",
    "# df_ticwatch"
   ]
  },
  {
   "cell_type": "code",
   "execution_count": 9,
   "metadata": {},
   "outputs": [],
   "source": [
    "df_binary = df_binary.drop(columns=['Trial', 'Tag'])\n",
    "df_binary = df_binary.rename(mapper={'acc_x_axis':'acc_x',\n",
    "                                     'acc_y_axis':'acc_y',\n",
    "                                     'acc_z_axis':'acc_z',\n",
    "                                     'ang_vel_x_axis':'gyro_x',\n",
    "                                     'ang_vel_y_axis':'gyro_y',\n",
    "                                     'ang_vel_z_axis':'gyro_z',\n",
    "                                     'Activity':'outcome'}, axis=1)"
   ]
  },
  {
   "cell_type": "code",
   "execution_count": 10,
   "metadata": {},
   "outputs": [
    {
     "name": "stderr",
     "output_type": "stream",
     "text": [
      "c:\\Users\\Alex\\OneDrive - The University of Nottingham\\Comp Sci\\Year 3\\Dissertation\\Code\\feature_util_UPFall.py:32: FutureWarning: Unlike other reduction functions (e.g. `skew`, `kurtosis`), the default behavior of `mode` typically preserves the axis it acts along. In SciPy 1.11.0, this behavior will change: the default value of `keepdims` will become False, the `axis` over which the statistic is taken will be eliminated, and the value None will no longer be accepted. Set `keepdims` to True or False to avoid this warning.\n",
      "  label = stats.mode(df['outcome'][i: i + frame_size])[0][0]\n"
     ]
    }
   ],
   "source": [
    "# df_binary_combined_unfiltered = pd.concat([df_binary, df_ticwatch]).reset_index(drop=True)\n",
    "df_binary_combined_unfiltered = df_binary\n",
    "df_binary_combined_unfiltered\n",
    "# df_binary_combined_filtered = feature_util_UPFall.apply_filter(df_binary_combined.drop(columns=['outcome']), Fs)\n",
    "# df_binary_combined_filtered['outcome'] = df_binary_combined['outcome']\n",
    "\n",
    "binary_frames, y_binary = feature_util_UPFall.get_frames_with_gyro(df_binary_combined_unfiltered, frame_size, hop_size, True)\n",
    "binary_features = feature_util_UPFall.extract_features_with_gyro(binary_frames)\n",
    "binary_features_df = pd.DataFrame(binary_features)\n",
    "y_binary_df = pd.DataFrame(y_binary, columns=['outcome'])\n",
    "binary_features_and_outcome = pd.concat([binary_features_df, y_binary_df], axis=1)"
   ]
  },
  {
   "cell_type": "code",
   "execution_count": 11,
   "metadata": {},
   "outputs": [
    {
     "data": {
      "text/plain": [
       "outcome\n",
       "0          999\n",
       "1          999\n",
       "dtype: int64"
      ]
     },
     "execution_count": 11,
     "metadata": {},
     "output_type": "execute_result"
    }
   ],
   "source": [
    "binary_falls = binary_features_and_outcome[binary_features_and_outcome['outcome'] == 1]\n",
    "binary_non_falls = binary_features_and_outcome[binary_features_and_outcome['outcome'] == 0]\n",
    "\n",
    "undersampled_non_falls = binary_non_falls.sample(n=len(binary_falls), random_state=42)\n",
    "binary_balanced = pd.concat([binary_falls, undersampled_non_falls])\n",
    "binary_balanced = binary_balanced.sample(frac=1, random_state=42)\n",
    "binary_balanced_x = binary_balanced.drop(columns=['outcome'], axis=1)\n",
    "binary_balanced_y = binary_balanced.loc[:, ['outcome']]\n",
    "binary_balanced_y.value_counts()"
   ]
  },
  {
   "cell_type": "code",
   "execution_count": 12,
   "metadata": {},
   "outputs": [],
   "source": [
    "X_train, X_test, y_train, y_test = train_test_split(binary_balanced_x, binary_balanced_y, test_size=0.25, random_state=0, stratify=binary_balanced_y)"
   ]
  },
  {
   "cell_type": "code",
   "execution_count": 13,
   "metadata": {},
   "outputs": [
    {
     "data": {
      "text/plain": [
       "((1498, 22), (500, 22), (1498, 1), (500, 1))"
      ]
     },
     "execution_count": 13,
     "metadata": {},
     "output_type": "execute_result"
    }
   ],
   "source": [
    "X_train.shape, X_test.shape, y_train.shape, y_test.shape"
   ]
  },
  {
   "cell_type": "code",
   "execution_count": 14,
   "metadata": {},
   "outputs": [
    {
     "data": {
      "text/plain": [
       "{0: 749, 1: 749}"
      ]
     },
     "execution_count": 14,
     "metadata": {},
     "output_type": "execute_result"
    }
   ],
   "source": [
    "unique, counts = np.unique(y_train, return_counts=True)\n",
    "dict(zip(unique, counts))"
   ]
  },
  {
   "attachments": {},
   "cell_type": "markdown",
   "metadata": {},
   "source": [
    "### Traditional Machine Learning Methods"
   ]
  },
  {
   "cell_type": "code",
   "execution_count": 15,
   "metadata": {},
   "outputs": [],
   "source": [
    "model_name_array = []\n",
    "model_acc_array = []"
   ]
  },
  {
   "cell_type": "code",
   "execution_count": 16,
   "metadata": {},
   "outputs": [],
   "source": [
    "from sklearn.neighbors import KNeighborsClassifier"
   ]
  },
  {
   "cell_type": "code",
   "execution_count": 17,
   "metadata": {},
   "outputs": [
    {
     "name": "stderr",
     "output_type": "stream",
     "text": [
      "c:\\Users\\Alex\\anaconda3\\lib\\site-packages\\sklearn\\neighbors\\_classification.py:198: DataConversionWarning: A column-vector y was passed when a 1d array was expected. Please change the shape of y to (n_samples,), for example using ravel().\n",
      "  return self._fit(X, y)\n"
     ]
    },
    {
     "data": {
      "text/plain": [
       "KNeighborsClassifier()"
      ]
     },
     "execution_count": 17,
     "metadata": {},
     "output_type": "execute_result"
    }
   ],
   "source": [
    "knn_model = KNeighborsClassifier(n_neighbors=5)\n",
    "knn_model.fit(X_train, y_train)"
   ]
  },
  {
   "cell_type": "code",
   "execution_count": 18,
   "metadata": {},
   "outputs": [],
   "source": [
    "from sklearn.metrics import accuracy_score, f1_score, confusion_matrix"
   ]
  },
  {
   "cell_type": "code",
   "execution_count": 19,
   "metadata": {},
   "outputs": [
    {
     "name": "stdout",
     "output_type": "stream",
     "text": [
      "[[212  38]\n",
      " [ 63 187]]\n",
      "0.798\n",
      "0.798\n"
     ]
    },
    {
     "name": "stderr",
     "output_type": "stream",
     "text": [
      "c:\\Users\\Alex\\anaconda3\\lib\\site-packages\\sklearn\\neighbors\\_classification.py:228: FutureWarning: Unlike other reduction functions (e.g. `skew`, `kurtosis`), the default behavior of `mode` typically preserves the axis it acts along. In SciPy 1.11.0, this behavior will change: the default value of `keepdims` will become False, the `axis` over which the statistic is taken will be eliminated, and the value None will no longer be accepted. Set `keepdims` to True or False to avoid this warning.\n",
      "  mode, _ = stats.mode(_y[neigh_ind, k], axis=1)\n"
     ]
    }
   ],
   "source": [
    "# Predict on the test set\n",
    "predicted = knn_model.predict(X_test)\n",
    "\n",
    "# Print metrics\n",
    "print(confusion_matrix(y_test, predicted))\n",
    "print(accuracy_score(y_test, predicted))\n",
    "print(f1_score(y_test, predicted, average='micro'))\n",
    "# compare_trad_models(\"knn\", accuracy_score(y_test, predicted))\n",
    "model_name_array.append(\"knn\")\n",
    "model_acc_array.append(accuracy_score(y_test, predicted))"
   ]
  },
  {
   "cell_type": "code",
   "execution_count": 20,
   "metadata": {},
   "outputs": [],
   "source": [
    "# from sklearn.model_selection import GridSearchCV\n",
    "\n",
    "# max_features_range = np.arange(1, 6, 1)\n",
    "# n_estimators_range = np.arange(10, 210, 10)\n",
    "# n_neighbors_range = np.arange(1, 100, 1)\n",
    "# # param_grid = dict(max_features = max_features_range, n_estimators = n_estimators_range, n_neighbors = n_neighbors_range)\n",
    "# param_grid = dict(n_neighbors = n_neighbors_range)\n",
    "\n",
    "# knnTest = KNeighborsClassifier(n_neighbors=5)\n",
    "\n",
    "# grid = GridSearchCV(estimator=knnTest, param_grid=param_grid, scoring='accuracy', cv=5)\n",
    "\n",
    "# grid.fit(X_train, y_train)\n",
    "# print(\"The best parameters are %s with a score of %f\" % (grid.best_params_, grid.best_score_))"
   ]
  },
  {
   "cell_type": "code",
   "execution_count": 21,
   "metadata": {},
   "outputs": [],
   "source": [
    "from sklearn import svm"
   ]
  },
  {
   "cell_type": "code",
   "execution_count": 22,
   "metadata": {},
   "outputs": [
    {
     "name": "stderr",
     "output_type": "stream",
     "text": [
      "c:\\Users\\Alex\\anaconda3\\lib\\site-packages\\sklearn\\utils\\validation.py:993: DataConversionWarning: A column-vector y was passed when a 1d array was expected. Please change the shape of y to (n_samples, ), for example using ravel().\n",
      "  y = column_or_1d(y, warn=True)\n"
     ]
    },
    {
     "data": {
      "text/plain": [
       "SVC(C=1, kernel='linear', random_state=0)"
      ]
     },
     "execution_count": 22,
     "metadata": {},
     "output_type": "execute_result"
    }
   ],
   "source": [
    "svm_model = svm.SVC(kernel='linear', C=1, random_state=0)\n",
    "# gaussian\n",
    "svm_model.fit(X_train, y_train)"
   ]
  },
  {
   "cell_type": "code",
   "execution_count": 23,
   "metadata": {},
   "outputs": [
    {
     "name": "stdout",
     "output_type": "stream",
     "text": [
      "[[164  86]\n",
      " [ 82 168]]\n",
      "0.664\n",
      "0.664\n"
     ]
    }
   ],
   "source": [
    "# Predict on the test set\n",
    "predicted_svm = svm_model.predict(X_test)\n",
    "\n",
    "# Print metrics\n",
    "print(confusion_matrix(y_test, predicted_svm))\n",
    "print(accuracy_score(y_test, predicted_svm))\n",
    "print(f1_score(y_test, predicted_svm, average='micro'))\n",
    "\n",
    "model_name_array.append(\"svm\")\n",
    "model_acc_array.append(accuracy_score(y_test, predicted_svm))"
   ]
  },
  {
   "cell_type": "code",
   "execution_count": 24,
   "metadata": {},
   "outputs": [
    {
     "name": "stderr",
     "output_type": "stream",
     "text": [
      "c:\\Users\\Alex\\anaconda3\\lib\\site-packages\\sklearn\\utils\\validation.py:993: DataConversionWarning: A column-vector y was passed when a 1d array was expected. Please change the shape of y to (n_samples, ), for example using ravel().\n",
      "  y = column_or_1d(y, warn=True)\n"
     ]
    },
    {
     "data": {
      "text/plain": [
       "SVC(C=1, random_state=0)"
      ]
     },
     "execution_count": 24,
     "metadata": {},
     "output_type": "execute_result"
    }
   ],
   "source": [
    "svm_rbf_model = svm.SVC(kernel='rbf', C=1, random_state=0)\n",
    "svm_rbf_model.fit(X_train, y_train)"
   ]
  },
  {
   "cell_type": "code",
   "execution_count": 25,
   "metadata": {},
   "outputs": [
    {
     "name": "stdout",
     "output_type": "stream",
     "text": [
      "[[223  27]\n",
      " [104 146]]\n",
      "0.738\n",
      "0.738\n"
     ]
    }
   ],
   "source": [
    "# Predict on the test set\n",
    "predicted_svm_rbf = svm_rbf_model.predict(X_test)\n",
    "\n",
    "# Print metrics\n",
    "print(confusion_matrix(y_test, predicted_svm_rbf))\n",
    "print(accuracy_score(y_test, predicted_svm_rbf))\n",
    "print(f1_score(y_test, predicted_svm_rbf, average='micro'))\n",
    "model_name_array.append(\"svm_rbf\")\n",
    "model_acc_array.append(accuracy_score(y_test, predicted_svm_rbf))\n"
   ]
  },
  {
   "cell_type": "code",
   "execution_count": 26,
   "metadata": {},
   "outputs": [],
   "source": [
    "from sklearn.ensemble import RandomForestClassifier"
   ]
  },
  {
   "cell_type": "code",
   "execution_count": 27,
   "metadata": {},
   "outputs": [
    {
     "name": "stderr",
     "output_type": "stream",
     "text": [
      "C:\\Users\\Alex\\AppData\\Local\\Temp\\ipykernel_35204\\2856838272.py:2: DataConversionWarning: A column-vector y was passed when a 1d array was expected. Please change the shape of y to (n_samples,), for example using ravel().\n",
      "  rf_model.fit(X_train, y_train)\n"
     ]
    },
    {
     "data": {
      "text/plain": [
       "RandomForestClassifier(random_state=42)"
      ]
     },
     "execution_count": 27,
     "metadata": {},
     "output_type": "execute_result"
    }
   ],
   "source": [
    "rf_model = RandomForestClassifier(n_estimators = 100, random_state = 42)\n",
    "rf_model.fit(X_train, y_train)"
   ]
  },
  {
   "cell_type": "code",
   "execution_count": 28,
   "metadata": {},
   "outputs": [
    {
     "name": "stdout",
     "output_type": "stream",
     "text": [
      "[[213  37]\n",
      " [ 33 217]]\n",
      "0.86\n",
      "0.8599999999999999\n"
     ]
    }
   ],
   "source": [
    "# Predict on the test set\n",
    "predicted_rf = rf_model.predict(X_test)\n",
    "\n",
    "# Print metrics\n",
    "print(confusion_matrix(y_test, predicted_rf))\n",
    "print(accuracy_score(y_test, predicted_rf))\n",
    "print(f1_score(y_test, predicted_rf, average='micro'))\n",
    "model_name_array.append(\"rf\")\n",
    "model_acc_array.append(accuracy_score(y_test, predicted_rf))"
   ]
  },
  {
   "cell_type": "code",
   "execution_count": 29,
   "metadata": {},
   "outputs": [],
   "source": [
    "from sklearn.naive_bayes import GaussianNB"
   ]
  },
  {
   "cell_type": "code",
   "execution_count": 30,
   "metadata": {},
   "outputs": [
    {
     "name": "stderr",
     "output_type": "stream",
     "text": [
      "c:\\Users\\Alex\\anaconda3\\lib\\site-packages\\sklearn\\utils\\validation.py:993: DataConversionWarning: A column-vector y was passed when a 1d array was expected. Please change the shape of y to (n_samples, ), for example using ravel().\n",
      "  y = column_or_1d(y, warn=True)\n"
     ]
    },
    {
     "data": {
      "text/plain": [
       "GaussianNB()"
      ]
     },
     "execution_count": 30,
     "metadata": {},
     "output_type": "execute_result"
    }
   ],
   "source": [
    "nb_model = GaussianNB()\n",
    "nb_model.fit(X_train, y_train)"
   ]
  },
  {
   "cell_type": "code",
   "execution_count": 31,
   "metadata": {},
   "outputs": [
    {
     "name": "stdout",
     "output_type": "stream",
     "text": [
      "[[228  22]\n",
      " [137 113]]\n",
      "0.682\n",
      "0.682\n"
     ]
    }
   ],
   "source": [
    "# Predict on the test set\n",
    "predicted_nb = nb_model.predict(X_test)\n",
    "\n",
    "# Print metrics\n",
    "print(confusion_matrix(y_test, predicted_nb))\n",
    "print(accuracy_score(y_test, predicted_nb))\n",
    "print(f1_score(y_test, predicted_nb, average='micro'))\n",
    "model_name_array.append(\"nb\")\n",
    "model_acc_array.append(accuracy_score(y_test, predicted_nb))\n"
   ]
  },
  {
   "cell_type": "code",
   "execution_count": 32,
   "metadata": {},
   "outputs": [
    {
     "name": "stdout",
     "output_type": "stream",
     "text": [
      "Best model: rf, Accuracy: 0.86\n"
     ]
    }
   ],
   "source": [
    "best_trad_model_acc = max(model_acc_array)\n",
    "index = model_acc_array.index(max(model_acc_array))\n",
    "best_trad_model = model_name_array[index]\n",
    "print(f\"Best model: {best_trad_model}, Accuracy: {best_trad_model_acc}\")\n",
    "# model_acc_array"
   ]
  },
  {
   "cell_type": "code",
   "execution_count": 33,
   "metadata": {},
   "outputs": [
    {
     "name": "stdout",
     "output_type": "stream",
     "text": [
      "name: knn, accuracy: 0.798\n",
      "name: svm, accuracy: 0.664\n",
      "name: svm_rbf, accuracy: 0.738\n",
      "name: rf, accuracy: 0.86\n",
      "name: nb, accuracy: 0.682\n"
     ]
    }
   ],
   "source": [
    "for i in range(0, len(model_name_array)):\n",
    "    print(f\"name: {model_name_array[i]}, accuracy: {model_acc_array[i]}\")"
   ]
  },
  {
   "cell_type": "code",
   "execution_count": 34,
   "metadata": {},
   "outputs": [
    {
     "data": {
      "text/plain": [
       "{0: 749, 1: 749}"
      ]
     },
     "execution_count": 34,
     "metadata": {},
     "output_type": "execute_result"
    }
   ],
   "source": [
    "unique, counts = np.unique(y_train, return_counts=True)\n",
    "dict(zip(unique, counts))"
   ]
  },
  {
   "cell_type": "code",
   "execution_count": 35,
   "metadata": {},
   "outputs": [],
   "source": [
    "from sklearn.model_selection import KFold\n",
    "from sklearn.model_selection import cross_val_score"
   ]
  },
  {
   "cell_type": "code",
   "execution_count": 36,
   "metadata": {},
   "outputs": [],
   "source": [
    "unfiltered_model_dictionary = {\"knn\": knn_model,\n",
    "                             \"svm\": svm_model,\n",
    "                             \"svm_rbf\": svm_rbf_model,\n",
    "                             \"rf\": rf_model,\n",
    "                             \"nb\": nb_model}"
   ]
  },
  {
   "cell_type": "code",
   "execution_count": 37,
   "metadata": {},
   "outputs": [],
   "source": [
    "def perform_cross_val_all_models(model_dictionary, X_train, y_train, num_folds=5):\n",
    "    cv = KFold(n_splits=num_folds, shuffle=True, random_state=42)\n",
    "    scores_array = []\n",
    "\n",
    "    for model_name in model_dictionary:\n",
    "        model = model_dictionary[model_name]\n",
    "        scores = cross_val_score(model, X_train, y_train, cv=cv)\n",
    "        scores_array.append((model_name, scores))\n",
    "    \n",
    "    return scores_array"
   ]
  },
  {
   "cell_type": "code",
   "execution_count": 38,
   "metadata": {},
   "outputs": [
    {
     "name": "stderr",
     "output_type": "stream",
     "text": [
      "c:\\Users\\Alex\\anaconda3\\lib\\site-packages\\sklearn\\neighbors\\_classification.py:198: DataConversionWarning: A column-vector y was passed when a 1d array was expected. Please change the shape of y to (n_samples,), for example using ravel().\n",
      "  return self._fit(X, y)\n",
      "c:\\Users\\Alex\\anaconda3\\lib\\site-packages\\sklearn\\neighbors\\_classification.py:228: FutureWarning: Unlike other reduction functions (e.g. `skew`, `kurtosis`), the default behavior of `mode` typically preserves the axis it acts along. In SciPy 1.11.0, this behavior will change: the default value of `keepdims` will become False, the `axis` over which the statistic is taken will be eliminated, and the value None will no longer be accepted. Set `keepdims` to True or False to avoid this warning.\n",
      "  mode, _ = stats.mode(_y[neigh_ind, k], axis=1)\n",
      "c:\\Users\\Alex\\anaconda3\\lib\\site-packages\\sklearn\\neighbors\\_classification.py:198: DataConversionWarning: A column-vector y was passed when a 1d array was expected. Please change the shape of y to (n_samples,), for example using ravel().\n",
      "  return self._fit(X, y)\n",
      "c:\\Users\\Alex\\anaconda3\\lib\\site-packages\\sklearn\\neighbors\\_classification.py:228: FutureWarning: Unlike other reduction functions (e.g. `skew`, `kurtosis`), the default behavior of `mode` typically preserves the axis it acts along. In SciPy 1.11.0, this behavior will change: the default value of `keepdims` will become False, the `axis` over which the statistic is taken will be eliminated, and the value None will no longer be accepted. Set `keepdims` to True or False to avoid this warning.\n",
      "  mode, _ = stats.mode(_y[neigh_ind, k], axis=1)\n",
      "c:\\Users\\Alex\\anaconda3\\lib\\site-packages\\sklearn\\neighbors\\_classification.py:198: DataConversionWarning: A column-vector y was passed when a 1d array was expected. Please change the shape of y to (n_samples,), for example using ravel().\n",
      "  return self._fit(X, y)\n",
      "c:\\Users\\Alex\\anaconda3\\lib\\site-packages\\sklearn\\neighbors\\_classification.py:228: FutureWarning: Unlike other reduction functions (e.g. `skew`, `kurtosis`), the default behavior of `mode` typically preserves the axis it acts along. In SciPy 1.11.0, this behavior will change: the default value of `keepdims` will become False, the `axis` over which the statistic is taken will be eliminated, and the value None will no longer be accepted. Set `keepdims` to True or False to avoid this warning.\n",
      "  mode, _ = stats.mode(_y[neigh_ind, k], axis=1)\n",
      "c:\\Users\\Alex\\anaconda3\\lib\\site-packages\\sklearn\\neighbors\\_classification.py:198: DataConversionWarning: A column-vector y was passed when a 1d array was expected. Please change the shape of y to (n_samples,), for example using ravel().\n",
      "  return self._fit(X, y)\n",
      "c:\\Users\\Alex\\anaconda3\\lib\\site-packages\\sklearn\\neighbors\\_classification.py:228: FutureWarning: Unlike other reduction functions (e.g. `skew`, `kurtosis`), the default behavior of `mode` typically preserves the axis it acts along. In SciPy 1.11.0, this behavior will change: the default value of `keepdims` will become False, the `axis` over which the statistic is taken will be eliminated, and the value None will no longer be accepted. Set `keepdims` to True or False to avoid this warning.\n",
      "  mode, _ = stats.mode(_y[neigh_ind, k], axis=1)\n",
      "c:\\Users\\Alex\\anaconda3\\lib\\site-packages\\sklearn\\neighbors\\_classification.py:198: DataConversionWarning: A column-vector y was passed when a 1d array was expected. Please change the shape of y to (n_samples,), for example using ravel().\n",
      "  return self._fit(X, y)\n",
      "c:\\Users\\Alex\\anaconda3\\lib\\site-packages\\sklearn\\neighbors\\_classification.py:228: FutureWarning: Unlike other reduction functions (e.g. `skew`, `kurtosis`), the default behavior of `mode` typically preserves the axis it acts along. In SciPy 1.11.0, this behavior will change: the default value of `keepdims` will become False, the `axis` over which the statistic is taken will be eliminated, and the value None will no longer be accepted. Set `keepdims` to True or False to avoid this warning.\n",
      "  mode, _ = stats.mode(_y[neigh_ind, k], axis=1)\n",
      "c:\\Users\\Alex\\anaconda3\\lib\\site-packages\\sklearn\\utils\\validation.py:993: DataConversionWarning: A column-vector y was passed when a 1d array was expected. Please change the shape of y to (n_samples, ), for example using ravel().\n",
      "  y = column_or_1d(y, warn=True)\n",
      "c:\\Users\\Alex\\anaconda3\\lib\\site-packages\\sklearn\\utils\\validation.py:993: DataConversionWarning: A column-vector y was passed when a 1d array was expected. Please change the shape of y to (n_samples, ), for example using ravel().\n",
      "  y = column_or_1d(y, warn=True)\n",
      "c:\\Users\\Alex\\anaconda3\\lib\\site-packages\\sklearn\\utils\\validation.py:993: DataConversionWarning: A column-vector y was passed when a 1d array was expected. Please change the shape of y to (n_samples, ), for example using ravel().\n",
      "  y = column_or_1d(y, warn=True)\n",
      "c:\\Users\\Alex\\anaconda3\\lib\\site-packages\\sklearn\\utils\\validation.py:993: DataConversionWarning: A column-vector y was passed when a 1d array was expected. Please change the shape of y to (n_samples, ), for example using ravel().\n",
      "  y = column_or_1d(y, warn=True)\n",
      "c:\\Users\\Alex\\anaconda3\\lib\\site-packages\\sklearn\\utils\\validation.py:993: DataConversionWarning: A column-vector y was passed when a 1d array was expected. Please change the shape of y to (n_samples, ), for example using ravel().\n",
      "  y = column_or_1d(y, warn=True)\n",
      "c:\\Users\\Alex\\anaconda3\\lib\\site-packages\\sklearn\\utils\\validation.py:993: DataConversionWarning: A column-vector y was passed when a 1d array was expected. Please change the shape of y to (n_samples, ), for example using ravel().\n",
      "  y = column_or_1d(y, warn=True)\n",
      "c:\\Users\\Alex\\anaconda3\\lib\\site-packages\\sklearn\\utils\\validation.py:993: DataConversionWarning: A column-vector y was passed when a 1d array was expected. Please change the shape of y to (n_samples, ), for example using ravel().\n",
      "  y = column_or_1d(y, warn=True)\n",
      "c:\\Users\\Alex\\anaconda3\\lib\\site-packages\\sklearn\\utils\\validation.py:993: DataConversionWarning: A column-vector y was passed when a 1d array was expected. Please change the shape of y to (n_samples, ), for example using ravel().\n",
      "  y = column_or_1d(y, warn=True)\n",
      "c:\\Users\\Alex\\anaconda3\\lib\\site-packages\\sklearn\\utils\\validation.py:993: DataConversionWarning: A column-vector y was passed when a 1d array was expected. Please change the shape of y to (n_samples, ), for example using ravel().\n",
      "  y = column_or_1d(y, warn=True)\n",
      "c:\\Users\\Alex\\anaconda3\\lib\\site-packages\\sklearn\\utils\\validation.py:993: DataConversionWarning: A column-vector y was passed when a 1d array was expected. Please change the shape of y to (n_samples, ), for example using ravel().\n",
      "  y = column_or_1d(y, warn=True)\n",
      "c:\\Users\\Alex\\anaconda3\\lib\\site-packages\\sklearn\\model_selection\\_validation.py:680: DataConversionWarning: A column-vector y was passed when a 1d array was expected. Please change the shape of y to (n_samples,), for example using ravel().\n",
      "  estimator.fit(X_train, y_train, **fit_params)\n",
      "c:\\Users\\Alex\\anaconda3\\lib\\site-packages\\sklearn\\model_selection\\_validation.py:680: DataConversionWarning: A column-vector y was passed when a 1d array was expected. Please change the shape of y to (n_samples,), for example using ravel().\n",
      "  estimator.fit(X_train, y_train, **fit_params)\n",
      "c:\\Users\\Alex\\anaconda3\\lib\\site-packages\\sklearn\\model_selection\\_validation.py:680: DataConversionWarning: A column-vector y was passed when a 1d array was expected. Please change the shape of y to (n_samples,), for example using ravel().\n",
      "  estimator.fit(X_train, y_train, **fit_params)\n",
      "c:\\Users\\Alex\\anaconda3\\lib\\site-packages\\sklearn\\model_selection\\_validation.py:680: DataConversionWarning: A column-vector y was passed when a 1d array was expected. Please change the shape of y to (n_samples,), for example using ravel().\n",
      "  estimator.fit(X_train, y_train, **fit_params)\n",
      "c:\\Users\\Alex\\anaconda3\\lib\\site-packages\\sklearn\\model_selection\\_validation.py:680: DataConversionWarning: A column-vector y was passed when a 1d array was expected. Please change the shape of y to (n_samples,), for example using ravel().\n",
      "  estimator.fit(X_train, y_train, **fit_params)\n",
      "c:\\Users\\Alex\\anaconda3\\lib\\site-packages\\sklearn\\utils\\validation.py:993: DataConversionWarning: A column-vector y was passed when a 1d array was expected. Please change the shape of y to (n_samples, ), for example using ravel().\n",
      "  y = column_or_1d(y, warn=True)\n",
      "c:\\Users\\Alex\\anaconda3\\lib\\site-packages\\sklearn\\utils\\validation.py:993: DataConversionWarning: A column-vector y was passed when a 1d array was expected. Please change the shape of y to (n_samples, ), for example using ravel().\n",
      "  y = column_or_1d(y, warn=True)\n",
      "c:\\Users\\Alex\\anaconda3\\lib\\site-packages\\sklearn\\utils\\validation.py:993: DataConversionWarning: A column-vector y was passed when a 1d array was expected. Please change the shape of y to (n_samples, ), for example using ravel().\n",
      "  y = column_or_1d(y, warn=True)\n",
      "c:\\Users\\Alex\\anaconda3\\lib\\site-packages\\sklearn\\utils\\validation.py:993: DataConversionWarning: A column-vector y was passed when a 1d array was expected. Please change the shape of y to (n_samples, ), for example using ravel().\n",
      "  y = column_or_1d(y, warn=True)\n",
      "c:\\Users\\Alex\\anaconda3\\lib\\site-packages\\sklearn\\utils\\validation.py:993: DataConversionWarning: A column-vector y was passed when a 1d array was expected. Please change the shape of y to (n_samples, ), for example using ravel().\n",
      "  y = column_or_1d(y, warn=True)\n"
     ]
    }
   ],
   "source": [
    "scores_array = perform_cross_val_all_models(unfiltered_model_dictionary, X_train, y_train)"
   ]
  },
  {
   "cell_type": "code",
   "execution_count": 39,
   "metadata": {},
   "outputs": [
    {
     "name": "stdout",
     "output_type": "stream",
     "text": [
      "knn Accuracy: 0.79 (+/- 0.03)\n",
      "svm Accuracy: 0.68 (+/- 0.04)\n",
      "svm_rbf Accuracy: 0.75 (+/- 0.02)\n",
      "rf Accuracy: 0.83 (+/- 0.02)\n",
      "nb Accuracy: 0.68 (+/- 0.01)\n"
     ]
    }
   ],
   "source": [
    "for cv_tuple in scores_array:\n",
    "    print(\"%s Accuracy: %0.2f (+/- %0.2f)\" % (cv_tuple[0], cv_tuple[1].mean(), cv_tuple[1].std() * 2))"
   ]
  },
  {
   "cell_type": "code",
   "execution_count": 40,
   "metadata": {},
   "outputs": [],
   "source": [
    "from sklearn.metrics import classification_report"
   ]
  },
  {
   "cell_type": "code",
   "execution_count": 41,
   "metadata": {},
   "outputs": [],
   "source": [
    "def print_all_classification_reports(model_dictionary, X_test, y_test): # broken!!! only works for filtered data. TODO: change X_test and y_test to params\n",
    "        for model_name in model_dictionary:\n",
    "                print(\"Classification report for %s\" % model_name)\n",
    "                model = model_dictionary[model_name]\n",
    "                predicted = model.predict(X_test)\n",
    "                print(classification_report(y_test, predicted))\n",
    "                print(\"=====================================================\")"
   ]
  },
  {
   "cell_type": "code",
   "execution_count": 42,
   "metadata": {},
   "outputs": [
    {
     "name": "stdout",
     "output_type": "stream",
     "text": [
      "Classification report for knn\n",
      "              precision    recall  f1-score   support\n",
      "\n",
      "           0       0.77      0.85      0.81       250\n",
      "           1       0.83      0.75      0.79       250\n",
      "\n",
      "    accuracy                           0.80       500\n",
      "   macro avg       0.80      0.80      0.80       500\n",
      "weighted avg       0.80      0.80      0.80       500\n",
      "\n",
      "=====================================================\n",
      "Classification report for svm\n",
      "              precision    recall  f1-score   support\n",
      "\n",
      "           0       0.67      0.66      0.66       250\n",
      "           1       0.66      0.67      0.67       250\n",
      "\n",
      "    accuracy                           0.66       500\n",
      "   macro avg       0.66      0.66      0.66       500\n",
      "weighted avg       0.66      0.66      0.66       500\n",
      "\n",
      "=====================================================\n",
      "Classification report for svm_rbf\n",
      "              precision    recall  f1-score   support\n",
      "\n",
      "           0       0.68      0.89      0.77       250\n",
      "           1       0.84      0.58      0.69       250\n",
      "\n",
      "    accuracy                           0.74       500\n",
      "   macro avg       0.76      0.74      0.73       500\n",
      "weighted avg       0.76      0.74      0.73       500\n",
      "\n",
      "=====================================================\n",
      "Classification report for rf\n",
      "              precision    recall  f1-score   support\n",
      "\n",
      "           0       0.87      0.85      0.86       250\n",
      "           1       0.85      0.87      0.86       250\n",
      "\n",
      "    accuracy                           0.86       500\n",
      "   macro avg       0.86      0.86      0.86       500\n",
      "weighted avg       0.86      0.86      0.86       500\n",
      "\n",
      "=====================================================\n",
      "Classification report for nb\n",
      "              precision    recall  f1-score   support\n",
      "\n",
      "           0       0.62      0.91      0.74       250\n",
      "           1       0.84      0.45      0.59       250\n",
      "\n",
      "    accuracy                           0.68       500\n",
      "   macro avg       0.73      0.68      0.66       500\n",
      "weighted avg       0.73      0.68      0.66       500\n",
      "\n",
      "=====================================================\n"
     ]
    },
    {
     "name": "stderr",
     "output_type": "stream",
     "text": [
      "c:\\Users\\Alex\\anaconda3\\lib\\site-packages\\sklearn\\neighbors\\_classification.py:228: FutureWarning: Unlike other reduction functions (e.g. `skew`, `kurtosis`), the default behavior of `mode` typically preserves the axis it acts along. In SciPy 1.11.0, this behavior will change: the default value of `keepdims` will become False, the `axis` over which the statistic is taken will be eliminated, and the value None will no longer be accepted. Set `keepdims` to True or False to avoid this warning.\n",
      "  mode, _ = stats.mode(_y[neigh_ind, k], axis=1)\n"
     ]
    }
   ],
   "source": [
    "print_all_classification_reports(unfiltered_model_dictionary, X_test, y_test)"
   ]
  },
  {
   "cell_type": "code",
   "execution_count": 43,
   "metadata": {},
   "outputs": [],
   "source": [
    "def print_all_classification_reports_training(model_dictionary, X_train, y_train):\n",
    "        for model_name in model_dictionary:\n",
    "                print(\"Classification report for %s\" % model_name)\n",
    "                model = model_dictionary[model_name]\n",
    "                predicted = model.predict(X_train)\n",
    "                print(classification_report(y_train, predicted))\n",
    "                print(\"=====================================================\")"
   ]
  },
  {
   "cell_type": "code",
   "execution_count": 44,
   "metadata": {},
   "outputs": [
    {
     "name": "stdout",
     "output_type": "stream",
     "text": [
      "Classification report for knn\n",
      "              precision    recall  f1-score   support\n",
      "\n",
      "           0       0.84      0.91      0.87       749\n",
      "           1       0.90      0.82      0.86       749\n",
      "\n",
      "    accuracy                           0.87      1498\n",
      "   macro avg       0.87      0.87      0.87      1498\n",
      "weighted avg       0.87      0.87      0.87      1498\n",
      "\n",
      "=====================================================\n",
      "Classification report for svm\n",
      "              precision    recall  f1-score   support\n",
      "\n",
      "           0       0.68      0.68      0.68       749\n",
      "           1       0.68      0.67      0.68       749\n",
      "\n",
      "    accuracy                           0.68      1498\n",
      "   macro avg       0.68      0.68      0.68      1498\n",
      "weighted avg       0.68      0.68      0.68      1498\n",
      "\n",
      "=====================================================\n",
      "Classification report for svm_rbf\n"
     ]
    },
    {
     "name": "stderr",
     "output_type": "stream",
     "text": [
      "c:\\Users\\Alex\\anaconda3\\lib\\site-packages\\sklearn\\neighbors\\_classification.py:228: FutureWarning: Unlike other reduction functions (e.g. `skew`, `kurtosis`), the default behavior of `mode` typically preserves the axis it acts along. In SciPy 1.11.0, this behavior will change: the default value of `keepdims` will become False, the `axis` over which the statistic is taken will be eliminated, and the value None will no longer be accepted. Set `keepdims` to True or False to avoid this warning.\n",
      "  mode, _ = stats.mode(_y[neigh_ind, k], axis=1)\n"
     ]
    },
    {
     "name": "stdout",
     "output_type": "stream",
     "text": [
      "              precision    recall  f1-score   support\n",
      "\n",
      "           0       0.70      0.90      0.79       749\n",
      "           1       0.86      0.62      0.72       749\n",
      "\n",
      "    accuracy                           0.76      1498\n",
      "   macro avg       0.78      0.76      0.75      1498\n",
      "weighted avg       0.78      0.76      0.75      1498\n",
      "\n",
      "=====================================================\n",
      "Classification report for rf\n",
      "              precision    recall  f1-score   support\n",
      "\n",
      "           0       1.00      1.00      1.00       749\n",
      "           1       1.00      1.00      1.00       749\n",
      "\n",
      "    accuracy                           1.00      1498\n",
      "   macro avg       1.00      1.00      1.00      1498\n",
      "weighted avg       1.00      1.00      1.00      1498\n",
      "\n",
      "=====================================================\n",
      "Classification report for nb\n",
      "              precision    recall  f1-score   support\n",
      "\n",
      "           0       0.63      0.89      0.74       749\n",
      "           1       0.81      0.47      0.60       749\n",
      "\n",
      "    accuracy                           0.68      1498\n",
      "   macro avg       0.72      0.68      0.67      1498\n",
      "weighted avg       0.72      0.68      0.67      1498\n",
      "\n",
      "=====================================================\n"
     ]
    }
   ],
   "source": [
    "print_all_classification_reports_training(unfiltered_model_dictionary, X_train, y_train)"
   ]
  },
  {
   "cell_type": "code",
   "execution_count": 154,
   "metadata": {},
   "outputs": [
    {
     "data": {
      "text/plain": [
       "['Final Models/exp3_rf_unfiltered.joblib']"
      ]
     },
     "execution_count": 154,
     "metadata": {},
     "output_type": "execute_result"
    }
   ],
   "source": [
    "from joblib import dump, load\n",
    "# save clf using joblib\n",
    "# dump(rf_model, 'New Models/rf_filtered_normalised.joblib')\n",
    "# dump(rf_model, 'Final Models/exp3_rf_unfiltered.joblib')"
   ]
  },
  {
   "attachments": {},
   "cell_type": "markdown",
   "metadata": {},
   "source": [
    "### Deep Learning"
   ]
  },
  {
   "cell_type": "markdown",
   "metadata": {},
   "source": [
    "#### The models below are trained using data which went through low-pass filter"
   ]
  },
  {
   "cell_type": "code",
   "execution_count": 46,
   "metadata": {},
   "outputs": [
    {
     "data": {
      "text/plain": [
       "((6405, 92, 6), (6405,))"
      ]
     },
     "execution_count": 46,
     "metadata": {},
     "output_type": "execute_result"
    }
   ],
   "source": [
    "binary_frames.shape, y_binary.shape"
   ]
  },
  {
   "cell_type": "code",
   "execution_count": 47,
   "metadata": {},
   "outputs": [
    {
     "data": {
      "text/plain": [
       "((1998, 92, 6), (1998,))"
      ]
     },
     "execution_count": 47,
     "metadata": {},
     "output_type": "execute_result"
    }
   ],
   "source": [
    "X_undersampled, y_undersampled = feature_util_UPFall.balance_windows_undersample(binary_frames, y_binary)\n",
    "X_undersampled.shape, y_undersampled.shape"
   ]
  },
  {
   "cell_type": "code",
   "execution_count": 48,
   "metadata": {},
   "outputs": [
    {
     "data": {
      "text/plain": [
       "((1498, 92, 6), (500, 92, 6), (1498,))"
      ]
     },
     "execution_count": 48,
     "metadata": {},
     "output_type": "execute_result"
    }
   ],
   "source": [
    "# X_raw_train, X_raw_test, y_raw_train, y_raw_test = train_test_split(binary_frames, y_binary, test_size=0.25, random_state=0, stratify=y_binary)\n",
    "X_raw_train, X_raw_test, y_raw_train, y_raw_test = train_test_split(X_undersampled, y_undersampled, test_size=0.25, random_state=0, stratify=y_undersampled)\n",
    "X_raw_train.shape, X_raw_test.shape, y_raw_train.shape"
   ]
  },
  {
   "cell_type": "code",
   "execution_count": 49,
   "metadata": {},
   "outputs": [
    {
     "data": {
      "text/plain": [
       "(92, 6)"
      ]
     },
     "execution_count": 49,
     "metadata": {},
     "output_type": "execute_result"
    }
   ],
   "source": [
    "X_raw_train[0].shape"
   ]
  },
  {
   "cell_type": "code",
   "execution_count": 50,
   "metadata": {},
   "outputs": [],
   "source": [
    "# X_TRAIN_SIZE = 12277\n",
    "# X_TEST_SIZE = 4093\n",
    "X_TRAIN_SIZE = X_raw_train.shape[0]\n",
    "X_TEST_SIZE = X_raw_test.shape[0]\n",
    "X_TRAIN_WINDOW_SIZE = X_raw_train.shape[1]\n",
    "X_TEST_WINDOW_SIZE = X_raw_test.shape[1]"
   ]
  },
  {
   "cell_type": "code",
   "execution_count": 51,
   "metadata": {},
   "outputs": [],
   "source": [
    "from sklearn.tree import DecisionTreeClassifier\n",
    "\n",
    "# X = data_unfiltered[[\"x_ax\", \"y_ax\", \"z_ax\"]]\n",
    "# y = data_unfiltered[\"outcome\"]\n",
    "# # y = data[\"AnyFall\"]"
   ]
  },
  {
   "cell_type": "code",
   "execution_count": 52,
   "metadata": {},
   "outputs": [],
   "source": [
    "X_raw_train = X_raw_train.reshape(X_TRAIN_SIZE, X_TRAIN_WINDOW_SIZE, 6, 1)\n",
    "X_raw_test = X_raw_test.reshape(X_TEST_SIZE, X_TEST_WINDOW_SIZE, 6, 1)"
   ]
  },
  {
   "cell_type": "code",
   "execution_count": 53,
   "metadata": {},
   "outputs": [
    {
     "data": {
      "text/plain": [
       "((92, 6, 1), (92, 6, 1))"
      ]
     },
     "execution_count": 53,
     "metadata": {},
     "output_type": "execute_result"
    }
   ],
   "source": [
    "X_raw_train[0].shape, X_raw_test[0].shape"
   ]
  },
  {
   "cell_type": "code",
   "execution_count": 54,
   "metadata": {},
   "outputs": [],
   "source": [
    "import tensorflow as tf\n",
    "from tensorflow.keras import Sequential\n",
    "from tensorflow.keras.layers import Flatten, Dense, Dropout, BatchNormalization\n",
    "from tensorflow.keras.layers import Conv2D, MaxPool2D\n",
    "from tensorflow.keras.optimizers import Adam"
   ]
  },
  {
   "cell_type": "code",
   "execution_count": 55,
   "metadata": {},
   "outputs": [],
   "source": [
    "cnn_model = Sequential()\n",
    "cnn_model.add(Conv2D(16, (2, 2), activation='relu', input_shape=X_raw_train[0].shape))\n",
    "cnn_model.add(Conv2D(32, (2, 2), activation='relu'))\n",
    "cnn_model.add(Flatten())\n",
    "cnn_model.add(Dense(64, activation='relu'))\n",
    "cnn_model.add(Dense(2, activation='softmax'))"
   ]
  },
  {
   "cell_type": "code",
   "execution_count": 56,
   "metadata": {},
   "outputs": [],
   "source": [
    "cnn_model.compile(optimizer=Adam(learning_rate=0.001), loss='sparse_categorical_crossentropy', metrics=['accuracy'])"
   ]
  },
  {
   "cell_type": "code",
   "execution_count": 57,
   "metadata": {},
   "outputs": [],
   "source": [
    "NUMBER_OF_EPOCHS = 15"
   ]
  },
  {
   "cell_type": "code",
   "execution_count": 58,
   "metadata": {},
   "outputs": [
    {
     "name": "stdout",
     "output_type": "stream",
     "text": [
      "Epoch 1/15\n",
      "47/47 [==============================] - 2s 23ms/step - loss: 0.5792 - accuracy: 0.6996 - val_loss: 0.4851 - val_accuracy: 0.7740\n",
      "Epoch 2/15\n",
      "47/47 [==============================] - 1s 15ms/step - loss: 0.4344 - accuracy: 0.7784 - val_loss: 0.4117 - val_accuracy: 0.8040\n",
      "Epoch 3/15\n",
      "47/47 [==============================] - 1s 17ms/step - loss: 0.3642 - accuracy: 0.8338 - val_loss: 0.3796 - val_accuracy: 0.8200\n",
      "Epoch 4/15\n",
      "47/47 [==============================] - 1s 16ms/step - loss: 0.3128 - accuracy: 0.8545 - val_loss: 0.3801 - val_accuracy: 0.8340\n",
      "Epoch 5/15\n",
      "47/47 [==============================] - 1s 15ms/step - loss: 0.2831 - accuracy: 0.8678 - val_loss: 0.3815 - val_accuracy: 0.8460\n",
      "Epoch 6/15\n",
      "47/47 [==============================] - 1s 15ms/step - loss: 0.2579 - accuracy: 0.8872 - val_loss: 0.3784 - val_accuracy: 0.8420\n",
      "Epoch 7/15\n",
      "47/47 [==============================] - 1s 15ms/step - loss: 0.2367 - accuracy: 0.8952 - val_loss: 0.3634 - val_accuracy: 0.8540\n",
      "Epoch 8/15\n",
      "47/47 [==============================] - 1s 16ms/step - loss: 0.2019 - accuracy: 0.9192 - val_loss: 0.3698 - val_accuracy: 0.8520\n",
      "Epoch 9/15\n",
      "47/47 [==============================] - 1s 17ms/step - loss: 0.1858 - accuracy: 0.9226 - val_loss: 0.4005 - val_accuracy: 0.8680\n",
      "Epoch 10/15\n",
      "47/47 [==============================] - 1s 14ms/step - loss: 0.1708 - accuracy: 0.9326 - val_loss: 0.3914 - val_accuracy: 0.8540\n",
      "Epoch 11/15\n",
      "47/47 [==============================] - 1s 16ms/step - loss: 0.1684 - accuracy: 0.9372 - val_loss: 0.4032 - val_accuracy: 0.8620\n",
      "Epoch 12/15\n",
      "47/47 [==============================] - 1s 15ms/step - loss: 0.1653 - accuracy: 0.9346 - val_loss: 0.4527 - val_accuracy: 0.8500\n",
      "Epoch 13/15\n",
      "47/47 [==============================] - 1s 14ms/step - loss: 0.1570 - accuracy: 0.9359 - val_loss: 0.4006 - val_accuracy: 0.8700\n",
      "Epoch 14/15\n",
      "47/47 [==============================] - 1s 16ms/step - loss: 0.1433 - accuracy: 0.9419 - val_loss: 0.4171 - val_accuracy: 0.8500\n",
      "Epoch 15/15\n",
      "47/47 [==============================] - 1s 16ms/step - loss: 0.1482 - accuracy: 0.9346 - val_loss: 0.4749 - val_accuracy: 0.8620\n"
     ]
    }
   ],
   "source": [
    "history = cnn_model.fit(X_raw_train, y_raw_train, epochs=NUMBER_OF_EPOCHS, validation_data=(X_raw_test, y_raw_test), verbose=1)"
   ]
  },
  {
   "cell_type": "code",
   "execution_count": 59,
   "metadata": {},
   "outputs": [],
   "source": [
    "# cnn_model_bal = Sequential()\n",
    "# cnn_model_bal.add(Conv2D(16, (2, 2), activation='relu', input_shape=X_raw_train[0].shape))\n",
    "# cnn_model_bal.add(Dropout(0.1))\n",
    "\n",
    "# cnn_model_bal.add(Conv2D(32, (2, 2), activation='relu'))\n",
    "# cnn_model_bal.add(Dropout(0.2))\n",
    "\n",
    "# cnn_model_bal.add(Flatten())\n",
    "\n",
    "# cnn_model_bal.add(Dense(64, activation='relu'))\n",
    "# cnn_model_bal.add(Dropout(0.5))\n",
    "\n",
    "# cnn_model_bal.add(Dense(6, activation='softmax'))\n",
    "# cnn_model_bal.compile(optimizer=Adam(learning_rate=0.001), loss='sparse_categorical_crossentropy', metrics=['accuracy'])\n",
    "\n",
    "# X_raw_train, X_raw_test, y_raw_train, y_raw_test = train_test_split(X_unfiltered, y_unfiltered, test_size=0.25, random_state=0, stratify=y_unfiltered)\n",
    "# X_raw_train.shape, X_raw_test.shape, y_raw_train.shape\n",
    "\n",
    "# X_bal_cnn, y_bal_cnn = feature_util_UPFall.balance_windows(X_unfiltered, y_unfiltered)\n",
    "# X_bal_train, X_bal_test, y_bal_train, y_bal_test = train_test_split(X_bal_cnn, y_bal_cnn, test_size=0.25, random_state=0, stratify=y_bal_cnn)\n",
    "\n",
    "# history_bal = cnn_model_bal.fit(X_bal_train, y_bal_train, epochs=NUMBER_OF_EPOCHS, validation_data=(X_bal_test, y_bal_test), verbose=1)"
   ]
  },
  {
   "cell_type": "code",
   "execution_count": 60,
   "metadata": {},
   "outputs": [],
   "source": [
    "import matplotlib.pyplot as plt"
   ]
  },
  {
   "cell_type": "code",
   "execution_count": 61,
   "metadata": {},
   "outputs": [],
   "source": [
    "def plot_learning_curve(history, epochs):\n",
    "    epoch_range = range(1, epochs + 1)\n",
    "    plt.plot(epoch_range, history.history['accuracy'])\n",
    "    plt.plot(epoch_range, history.history['val_accuracy'])\n",
    "    plt.title('Model Accuracy')\n",
    "    plt.ylabel('Accuracy')\n",
    "    plt.xlabel('Epoch')\n",
    "    plt.legend(['Train', 'Val'], loc='upper left')\n",
    "    plt.show()\n",
    "\n",
    "    plt.plot(epoch_range, history.history['loss'])\n",
    "    plt.plot(epoch_range, history.history['val_loss'])\n",
    "    plt.title('Model Loss')\n",
    "    plt.ylabel('Loss')\n",
    "    plt.xlabel('Epoch')\n",
    "    plt.legend(['Train', 'Val'], loc='upper left')\n",
    "    plt.show()"
   ]
  },
  {
   "cell_type": "code",
   "execution_count": 62,
   "metadata": {},
   "outputs": [
    {
     "data": {
      "image/png": "[encoded data removed]",
      "text/plain": [
       "<Figure size 640x480 with 1 Axes>"
      ]
     },
     "metadata": {},
     "output_type": "display_data"
    },
    {
     "data": {
      "image/png": "[encoded data removed]",
      "text/plain": [
       "<Figure size 640x480 with 1 Axes>"
      ]
     },
     "metadata": {},
     "output_type": "display_data"
    }
   ],
   "source": [
    "plot_learning_curve(history, NUMBER_OF_EPOCHS)"
   ]
  },
  {
   "cell_type": "code",
   "execution_count": 63,
   "metadata": {},
   "outputs": [],
   "source": [
    "from sklearn.metrics import ConfusionMatrixDisplay"
   ]
  },
  {
   "cell_type": "code",
   "execution_count": 64,
   "metadata": {},
   "outputs": [
    {
     "name": "stdout",
     "output_type": "stream",
     "text": [
      "16/16 [==============================] - 0s 3ms/step\n",
      "[[234  16]\n",
      " [ 53 197]]\n",
      "0.862\n",
      "0.8619999999999999\n"
     ]
    }
   ],
   "source": [
    "# predicted_cnn = cnn_model.predict_classes(X_raw_test)\n",
    "predicted_cnn = np.argmax(cnn_model.predict(X_raw_test), axis=-1)\n",
    "\n",
    "# Print metrics\n",
    "print(confusion_matrix(y_raw_test, predicted_cnn))\n",
    "print(accuracy_score(y_raw_test, predicted_cnn))\n",
    "print(f1_score(y_raw_test, predicted_cnn, average='micro'))\n",
    "# ConfusionMatrixDisplay.from_predictions(y_raw_test, predicted_cnn)"
   ]
  },
  {
   "cell_type": "code",
   "execution_count": 65,
   "metadata": {},
   "outputs": [
    {
     "name": "stdout",
     "output_type": "stream",
     "text": [
      "              precision    recall  f1-score   support\n",
      "\n",
      "           0       0.82      0.94      0.87       250\n",
      "           1       0.92      0.79      0.85       250\n",
      "\n",
      "    accuracy                           0.86       500\n",
      "   macro avg       0.87      0.86      0.86       500\n",
      "weighted avg       0.87      0.86      0.86       500\n",
      "\n"
     ]
    }
   ],
   "source": [
    "from sklearn.metrics import classification_report\n",
    "\n",
    "print(classification_report(y_raw_test, predicted_cnn))"
   ]
  },
  {
   "cell_type": "code",
   "execution_count": 66,
   "metadata": {},
   "outputs": [],
   "source": [
    "# results = cnn_model.evaluate(X_raw_test, y_raw_test)\n",
    "# print(\"test loss, test acc: \", results)"
   ]
  },
  {
   "cell_type": "code",
   "execution_count": 151,
   "metadata": {},
   "outputs": [
    {
     "name": "stdout",
     "output_type": "stream",
     "text": [
      "0.8290947675704956\n"
     ]
    }
   ],
   "source": [
    "cnn_unfiltered_cv_metrics = feature_util_UPFall.cross_val_cnn(X_raw_train, y_raw_train, X_raw_train[0].shape, NUMBER_OF_EPOCHS, 5)\n",
    "feature_util_UPFall.compute_cnn_cross_val_mean(cnn_unfiltered_cv_metrics)"
   ]
  },
  {
   "attachments": {},
   "cell_type": "markdown",
   "metadata": {},
   "source": [
    "## II - Filtered"
   ]
  },
  {
   "cell_type": "code",
   "execution_count": 67,
   "metadata": {},
   "outputs": [
    {
     "name": "stdout",
     "output_type": "stream",
     "text": [
      "low cutoff 5 Hz\n"
     ]
    },
    {
     "data": {
      "text/html": [
       "<div>\n",
       "<style scoped>\n",
       "    .dataframe tbody tr th:only-of-type {\n",
       "        vertical-align: middle;\n",
       "    }\n",
       "\n",
       "    .dataframe tbody tr th {\n",
       "        vertical-align: top;\n",
       "    }\n",
       "\n",
       "    .dataframe thead th {\n",
       "        text-align: right;\n",
       "    }\n",
       "</style>\n",
       "<table border=\"1\" class=\"dataframe\">\n",
       "  <thead>\n",
       "    <tr style=\"text-align: right;\">\n",
       "      <th></th>\n",
       "      <th>acc_x</th>\n",
       "      <th>acc_y</th>\n",
       "      <th>acc_z</th>\n",
       "      <th>gyro_x</th>\n",
       "      <th>gyro_y</th>\n",
       "      <th>gyro_z</th>\n",
       "      <th>outcome</th>\n",
       "    </tr>\n",
       "  </thead>\n",
       "  <tbody>\n",
       "    <tr>\n",
       "      <th>0</th>\n",
       "      <td>-1.239993</td>\n",
       "      <td>-0.557012</td>\n",
       "      <td>0.227003</td>\n",
       "      <td>-75.855628</td>\n",
       "      <td>44.024217</td>\n",
       "      <td>315.910160</td>\n",
       "      <td>1</td>\n",
       "    </tr>\n",
       "    <tr>\n",
       "      <th>1</th>\n",
       "      <td>-1.395815</td>\n",
       "      <td>-0.573027</td>\n",
       "      <td>0.244548</td>\n",
       "      <td>-17.510872</td>\n",
       "      <td>63.490971</td>\n",
       "      <td>354.156199</td>\n",
       "      <td>1</td>\n",
       "    </tr>\n",
       "    <tr>\n",
       "      <th>2</th>\n",
       "      <td>-1.744661</td>\n",
       "      <td>-0.682261</td>\n",
       "      <td>0.253276</td>\n",
       "      <td>7.506246</td>\n",
       "      <td>90.429294</td>\n",
       "      <td>380.509092</td>\n",
       "      <td>1</td>\n",
       "    </tr>\n",
       "    <tr>\n",
       "      <th>3</th>\n",
       "      <td>-1.917599</td>\n",
       "      <td>-0.711281</td>\n",
       "      <td>0.212457</td>\n",
       "      <td>15.604800</td>\n",
       "      <td>93.930676</td>\n",
       "      <td>321.103727</td>\n",
       "      <td>1</td>\n",
       "    </tr>\n",
       "    <tr>\n",
       "      <th>4</th>\n",
       "      <td>-1.600448</td>\n",
       "      <td>-0.537416</td>\n",
       "      <td>0.154293</td>\n",
       "      <td>21.432435</td>\n",
       "      <td>60.552806</td>\n",
       "      <td>162.230385</td>\n",
       "      <td>1</td>\n",
       "    </tr>\n",
       "    <tr>\n",
       "      <th>...</th>\n",
       "      <td>...</td>\n",
       "      <td>...</td>\n",
       "      <td>...</td>\n",
       "      <td>...</td>\n",
       "      <td>...</td>\n",
       "      <td>...</td>\n",
       "      <td>...</td>\n",
       "    </tr>\n",
       "    <tr>\n",
       "      <th>294673</th>\n",
       "      <td>0.302927</td>\n",
       "      <td>0.548072</td>\n",
       "      <td>0.835784</td>\n",
       "      <td>0.751494</td>\n",
       "      <td>3.327992</td>\n",
       "      <td>-1.311439</td>\n",
       "      <td>0</td>\n",
       "    </tr>\n",
       "    <tr>\n",
       "      <th>294674</th>\n",
       "      <td>0.307568</td>\n",
       "      <td>0.548625</td>\n",
       "      <td>0.831561</td>\n",
       "      <td>1.894530</td>\n",
       "      <td>2.672211</td>\n",
       "      <td>-1.305462</td>\n",
       "      <td>0</td>\n",
       "    </tr>\n",
       "    <tr>\n",
       "      <th>294675</th>\n",
       "      <td>0.318312</td>\n",
       "      <td>0.555836</td>\n",
       "      <td>0.825309</td>\n",
       "      <td>2.196824</td>\n",
       "      <td>2.538146</td>\n",
       "      <td>-0.837104</td>\n",
       "      <td>0</td>\n",
       "    </tr>\n",
       "    <tr>\n",
       "      <th>294676</th>\n",
       "      <td>0.319360</td>\n",
       "      <td>0.559022</td>\n",
       "      <td>0.821402</td>\n",
       "      <td>0.958866</td>\n",
       "      <td>2.235342</td>\n",
       "      <td>-0.590168</td>\n",
       "      <td>0</td>\n",
       "    </tr>\n",
       "    <tr>\n",
       "      <th>294677</th>\n",
       "      <td>0.307983</td>\n",
       "      <td>0.548010</td>\n",
       "      <td>0.821002</td>\n",
       "      <td>-1.049999</td>\n",
       "      <td>1.341387</td>\n",
       "      <td>-1.225663</td>\n",
       "      <td>0</td>\n",
       "    </tr>\n",
       "  </tbody>\n",
       "</table>\n",
       "<p>294678 rows × 7 columns</p>\n",
       "</div>"
      ],
      "text/plain": [
       "           acc_x     acc_y     acc_z     gyro_x     gyro_y      gyro_z  \\\n",
       "0      -1.239993 -0.557012  0.227003 -75.855628  44.024217  315.910160   \n",
       "1      -1.395815 -0.573027  0.244548 -17.510872  63.490971  354.156199   \n",
       "2      -1.744661 -0.682261  0.253276   7.506246  90.429294  380.509092   \n",
       "3      -1.917599 -0.711281  0.212457  15.604800  93.930676  321.103727   \n",
       "4      -1.600448 -0.537416  0.154293  21.432435  60.552806  162.230385   \n",
       "...          ...       ...       ...        ...        ...         ...   \n",
       "294673  0.302927  0.548072  0.835784   0.751494   3.327992   -1.311439   \n",
       "294674  0.307568  0.548625  0.831561   1.894530   2.672211   -1.305462   \n",
       "294675  0.318312  0.555836  0.825309   2.196824   2.538146   -0.837104   \n",
       "294676  0.319360  0.559022  0.821402   0.958866   2.235342   -0.590168   \n",
       "294677  0.307983  0.548010  0.821002  -1.049999   1.341387   -1.225663   \n",
       "\n",
       "        outcome  \n",
       "0             1  \n",
       "1             1  \n",
       "2             1  \n",
       "3             1  \n",
       "4             1  \n",
       "...         ...  \n",
       "294673        0  \n",
       "294674        0  \n",
       "294675        0  \n",
       "294676        0  \n",
       "294677        0  \n",
       "\n",
       "[294678 rows x 7 columns]"
      ]
     },
     "execution_count": 67,
     "metadata": {},
     "output_type": "execute_result"
    }
   ],
   "source": [
    "df_binary_combined_filtered = feature_util_UPFall.apply_filter(df_binary_combined_unfiltered.drop(['outcome'], axis=1), Fs)\n",
    "df_binary_combined_filtered['outcome'] = df_binary_combined_unfiltered['outcome']\n",
    "df_binary_combined_filtered"
   ]
  },
  {
   "cell_type": "code",
   "execution_count": 68,
   "metadata": {},
   "outputs": [
    {
     "name": "stderr",
     "output_type": "stream",
     "text": [
      "c:\\Users\\Alex\\OneDrive - The University of Nottingham\\Comp Sci\\Year 3\\Dissertation\\Code\\feature_util_UPFall.py:32: FutureWarning: Unlike other reduction functions (e.g. `skew`, `kurtosis`), the default behavior of `mode` typically preserves the axis it acts along. In SciPy 1.11.0, this behavior will change: the default value of `keepdims` will become False, the `axis` over which the statistic is taken will be eliminated, and the value None will no longer be accepted. Set `keepdims` to True or False to avoid this warning.\n",
      "  label = stats.mode(df['outcome'][i: i + frame_size])[0][0]\n"
     ]
    },
    {
     "data": {
      "text/plain": [
       "(6405, 22)"
      ]
     },
     "execution_count": 68,
     "metadata": {},
     "output_type": "execute_result"
    }
   ],
   "source": [
    "X_filtered, y_filtered = feature_util_UPFall.get_frames_with_gyro(df_binary_combined_filtered, frame_size, hop_size, True)\n",
    "features_filtered = feature_util_UPFall.extract_features_with_gyro(X_filtered)\n",
    "features_filtered.shape"
   ]
  },
  {
   "cell_type": "code",
   "execution_count": 69,
   "metadata": {},
   "outputs": [],
   "source": [
    "feature_filtered_df = pd.DataFrame(features_filtered)\n",
    "\n",
    "y_filtered_df = pd.DataFrame(y_filtered)\n",
    "y_filtered_df = y_filtered_df.rename(mapper={0:\"outcome\"}, axis=1)\n",
    "y_filtered_df\n",
    "feature_and_outcome_filtered_df = pd.concat([feature_filtered_df, y_filtered_df], axis=1)"
   ]
  },
  {
   "cell_type": "code",
   "execution_count": 70,
   "metadata": {},
   "outputs": [
    {
     "data": {
      "text/plain": [
       "0    5406\n",
       "1     999\n",
       "Name: outcome, dtype: int64"
      ]
     },
     "execution_count": 70,
     "metadata": {},
     "output_type": "execute_result"
    }
   ],
   "source": [
    "feature_and_outcome_filtered_df['outcome'].value_counts()"
   ]
  },
  {
   "cell_type": "code",
   "execution_count": 71,
   "metadata": {},
   "outputs": [
    {
     "data": {
      "text/html": [
       "<div>\n",
       "<style scoped>\n",
       "    .dataframe tbody tr th:only-of-type {\n",
       "        vertical-align: middle;\n",
       "    }\n",
       "\n",
       "    .dataframe tbody tr th {\n",
       "        vertical-align: top;\n",
       "    }\n",
       "\n",
       "    .dataframe thead th {\n",
       "        text-align: right;\n",
       "    }\n",
       "</style>\n",
       "<table border=\"1\" class=\"dataframe\">\n",
       "  <thead>\n",
       "    <tr style=\"text-align: right;\">\n",
       "      <th></th>\n",
       "      <th>0</th>\n",
       "      <th>1</th>\n",
       "      <th>2</th>\n",
       "      <th>3</th>\n",
       "      <th>4</th>\n",
       "      <th>5</th>\n",
       "      <th>6</th>\n",
       "      <th>7</th>\n",
       "      <th>8</th>\n",
       "      <th>9</th>\n",
       "      <th>...</th>\n",
       "      <th>13</th>\n",
       "      <th>14</th>\n",
       "      <th>15</th>\n",
       "      <th>16</th>\n",
       "      <th>17</th>\n",
       "      <th>18</th>\n",
       "      <th>19</th>\n",
       "      <th>20</th>\n",
       "      <th>21</th>\n",
       "      <th>outcome</th>\n",
       "    </tr>\n",
       "  </thead>\n",
       "  <tbody>\n",
       "    <tr>\n",
       "      <th>3341</th>\n",
       "      <td>0.341367</td>\n",
       "      <td>0.341687</td>\n",
       "      <td>0.354032</td>\n",
       "      <td>0.515093</td>\n",
       "      <td>0.514474</td>\n",
       "      <td>0.507070</td>\n",
       "      <td>-1.503141</td>\n",
       "      <td>-1.503758</td>\n",
       "      <td>-1.466368</td>\n",
       "      <td>1.732506</td>\n",
       "      <td>...</td>\n",
       "      <td>0.368386</td>\n",
       "      <td>0.508040</td>\n",
       "      <td>0.517224</td>\n",
       "      <td>0.516856</td>\n",
       "      <td>-1.466369</td>\n",
       "      <td>-1.524798</td>\n",
       "      <td>-1.525282</td>\n",
       "      <td>1.738116</td>\n",
       "      <td>0.438457</td>\n",
       "      <td>0</td>\n",
       "    </tr>\n",
       "    <tr>\n",
       "      <th>6293</th>\n",
       "      <td>0.001175</td>\n",
       "      <td>-0.015456</td>\n",
       "      <td>-0.036232</td>\n",
       "      <td>0.560187</td>\n",
       "      <td>0.572161</td>\n",
       "      <td>0.595137</td>\n",
       "      <td>-1.112336</td>\n",
       "      <td>-1.039357</td>\n",
       "      <td>-0.966954</td>\n",
       "      <td>2.042366</td>\n",
       "      <td>...</td>\n",
       "      <td>0.019360</td>\n",
       "      <td>0.605057</td>\n",
       "      <td>0.573466</td>\n",
       "      <td>0.557313</td>\n",
       "      <td>-1.120865</td>\n",
       "      <td>-1.211275</td>\n",
       "      <td>-1.195503</td>\n",
       "      <td>1.639455</td>\n",
       "      <td>0.033858</td>\n",
       "      <td>0</td>\n",
       "    </tr>\n",
       "    <tr>\n",
       "      <th>4059</th>\n",
       "      <td>-0.368729</td>\n",
       "      <td>-0.345996</td>\n",
       "      <td>-0.373329</td>\n",
       "      <td>0.825933</td>\n",
       "      <td>0.805356</td>\n",
       "      <td>0.795684</td>\n",
       "      <td>2.406424</td>\n",
       "      <td>1.511112</td>\n",
       "      <td>2.814929</td>\n",
       "      <td>4.016918</td>\n",
       "      <td>...</td>\n",
       "      <td>-0.398463</td>\n",
       "      <td>0.846226</td>\n",
       "      <td>0.871069</td>\n",
       "      <td>0.839508</td>\n",
       "      <td>2.324767</td>\n",
       "      <td>2.004680</td>\n",
       "      <td>1.491748</td>\n",
       "      <td>4.512328</td>\n",
       "      <td>0.183490</td>\n",
       "      <td>0</td>\n",
       "    </tr>\n",
       "    <tr>\n",
       "      <th>161</th>\n",
       "      <td>-0.375385</td>\n",
       "      <td>-0.374542</td>\n",
       "      <td>-0.356853</td>\n",
       "      <td>0.491423</td>\n",
       "      <td>0.491454</td>\n",
       "      <td>0.484016</td>\n",
       "      <td>-1.508063</td>\n",
       "      <td>-1.524948</td>\n",
       "      <td>-1.470259</td>\n",
       "      <td>1.737571</td>\n",
       "      <td>...</td>\n",
       "      <td>-0.346937</td>\n",
       "      <td>0.485964</td>\n",
       "      <td>0.493435</td>\n",
       "      <td>0.492008</td>\n",
       "      <td>-1.461716</td>\n",
       "      <td>-1.484790</td>\n",
       "      <td>-1.478194</td>\n",
       "      <td>1.848466</td>\n",
       "      <td>0.292443</td>\n",
       "      <td>0</td>\n",
       "    </tr>\n",
       "    <tr>\n",
       "      <th>1580</th>\n",
       "      <td>0.391666</td>\n",
       "      <td>0.393049</td>\n",
       "      <td>0.419220</td>\n",
       "      <td>0.425922</td>\n",
       "      <td>0.426836</td>\n",
       "      <td>0.432482</td>\n",
       "      <td>-1.520940</td>\n",
       "      <td>-1.513195</td>\n",
       "      <td>-1.502550</td>\n",
       "      <td>1.683492</td>\n",
       "      <td>...</td>\n",
       "      <td>0.399500</td>\n",
       "      <td>0.432046</td>\n",
       "      <td>0.424441</td>\n",
       "      <td>0.421744</td>\n",
       "      <td>-1.501052</td>\n",
       "      <td>-1.487309</td>\n",
       "      <td>-1.493255</td>\n",
       "      <td>1.779119</td>\n",
       "      <td>0.071617</td>\n",
       "      <td>1</td>\n",
       "    </tr>\n",
       "    <tr>\n",
       "      <th>...</th>\n",
       "      <td>...</td>\n",
       "      <td>...</td>\n",
       "      <td>...</td>\n",
       "      <td>...</td>\n",
       "      <td>...</td>\n",
       "      <td>...</td>\n",
       "      <td>...</td>\n",
       "      <td>...</td>\n",
       "      <td>...</td>\n",
       "      <td>...</td>\n",
       "      <td>...</td>\n",
       "      <td>...</td>\n",
       "      <td>...</td>\n",
       "      <td>...</td>\n",
       "      <td>...</td>\n",
       "      <td>...</td>\n",
       "      <td>...</td>\n",
       "      <td>...</td>\n",
       "      <td>...</td>\n",
       "      <td>...</td>\n",
       "      <td>...</td>\n",
       "    </tr>\n",
       "    <tr>\n",
       "      <th>768</th>\n",
       "      <td>-0.053125</td>\n",
       "      <td>-0.046243</td>\n",
       "      <td>-0.006582</td>\n",
       "      <td>0.554495</td>\n",
       "      <td>0.551905</td>\n",
       "      <td>0.551676</td>\n",
       "      <td>-0.968651</td>\n",
       "      <td>-0.960233</td>\n",
       "      <td>-1.063879</td>\n",
       "      <td>1.763272</td>\n",
       "      <td>...</td>\n",
       "      <td>-0.048439</td>\n",
       "      <td>0.563834</td>\n",
       "      <td>0.572048</td>\n",
       "      <td>0.563274</td>\n",
       "      <td>-1.092340</td>\n",
       "      <td>-1.054889</td>\n",
       "      <td>-0.983018</td>\n",
       "      <td>1.836545</td>\n",
       "      <td>0.148420</td>\n",
       "      <td>1</td>\n",
       "    </tr>\n",
       "    <tr>\n",
       "      <th>1587</th>\n",
       "      <td>0.350666</td>\n",
       "      <td>0.388675</td>\n",
       "      <td>0.425035</td>\n",
       "      <td>0.529872</td>\n",
       "      <td>0.515836</td>\n",
       "      <td>0.562168</td>\n",
       "      <td>0.650296</td>\n",
       "      <td>-0.716891</td>\n",
       "      <td>2.979671</td>\n",
       "      <td>3.072991</td>\n",
       "      <td>...</td>\n",
       "      <td>0.327204</td>\n",
       "      <td>0.572950</td>\n",
       "      <td>0.625647</td>\n",
       "      <td>0.642220</td>\n",
       "      <td>2.755943</td>\n",
       "      <td>0.988817</td>\n",
       "      <td>1.483855</td>\n",
       "      <td>3.458907</td>\n",
       "      <td>0.020284</td>\n",
       "      <td>1</td>\n",
       "    </tr>\n",
       "    <tr>\n",
       "      <th>698</th>\n",
       "      <td>-0.295592</td>\n",
       "      <td>-0.295505</td>\n",
       "      <td>-0.288744</td>\n",
       "      <td>0.455133</td>\n",
       "      <td>0.454841</td>\n",
       "      <td>0.457971</td>\n",
       "      <td>-1.459284</td>\n",
       "      <td>-1.459384</td>\n",
       "      <td>-1.471702</td>\n",
       "      <td>1.602906</td>\n",
       "      <td>...</td>\n",
       "      <td>-0.313006</td>\n",
       "      <td>0.456415</td>\n",
       "      <td>0.460302</td>\n",
       "      <td>0.462056</td>\n",
       "      <td>-1.472044</td>\n",
       "      <td>-1.558620</td>\n",
       "      <td>-1.557949</td>\n",
       "      <td>1.606411</td>\n",
       "      <td>0.238345</td>\n",
       "      <td>0</td>\n",
       "    </tr>\n",
       "    <tr>\n",
       "      <th>2688</th>\n",
       "      <td>0.282414</td>\n",
       "      <td>0.244846</td>\n",
       "      <td>0.314236</td>\n",
       "      <td>0.604113</td>\n",
       "      <td>0.644256</td>\n",
       "      <td>0.561888</td>\n",
       "      <td>0.385703</td>\n",
       "      <td>1.031172</td>\n",
       "      <td>-0.207721</td>\n",
       "      <td>2.671703</td>\n",
       "      <td>...</td>\n",
       "      <td>0.368167</td>\n",
       "      <td>0.535970</td>\n",
       "      <td>0.534090</td>\n",
       "      <td>0.554445</td>\n",
       "      <td>-0.772236</td>\n",
       "      <td>-0.625432</td>\n",
       "      <td>-0.552083</td>\n",
       "      <td>2.367953</td>\n",
       "      <td>0.062314</td>\n",
       "      <td>1</td>\n",
       "    </tr>\n",
       "    <tr>\n",
       "      <th>764</th>\n",
       "      <td>-0.049648</td>\n",
       "      <td>-0.044688</td>\n",
       "      <td>-0.023412</td>\n",
       "      <td>0.623247</td>\n",
       "      <td>0.627862</td>\n",
       "      <td>0.609819</td>\n",
       "      <td>-0.998053</td>\n",
       "      <td>-0.990336</td>\n",
       "      <td>-1.002076</td>\n",
       "      <td>1.795871</td>\n",
       "      <td>...</td>\n",
       "      <td>-0.034479</td>\n",
       "      <td>0.599348</td>\n",
       "      <td>0.610185</td>\n",
       "      <td>0.615017</td>\n",
       "      <td>-1.009788</td>\n",
       "      <td>-1.030600</td>\n",
       "      <td>-0.975360</td>\n",
       "      <td>1.777908</td>\n",
       "      <td>0.079031</td>\n",
       "      <td>1</td>\n",
       "    </tr>\n",
       "  </tbody>\n",
       "</table>\n",
       "<p>1998 rows × 23 columns</p>\n",
       "</div>"
      ],
      "text/plain": [
       "             0         1         2         3         4         5         6  \\\n",
       "3341  0.341367  0.341687  0.354032  0.515093  0.514474  0.507070 -1.503141   \n",
       "6293  0.001175 -0.015456 -0.036232  0.560187  0.572161  0.595137 -1.112336   \n",
       "4059 -0.368729 -0.345996 -0.373329  0.825933  0.805356  0.795684  2.406424   \n",
       "161  -0.375385 -0.374542 -0.356853  0.491423  0.491454  0.484016 -1.508063   \n",
       "1580  0.391666  0.393049  0.419220  0.425922  0.426836  0.432482 -1.520940   \n",
       "...        ...       ...       ...       ...       ...       ...       ...   \n",
       "768  -0.053125 -0.046243 -0.006582  0.554495  0.551905  0.551676 -0.968651   \n",
       "1587  0.350666  0.388675  0.425035  0.529872  0.515836  0.562168  0.650296   \n",
       "698  -0.295592 -0.295505 -0.288744  0.455133  0.454841  0.457971 -1.459284   \n",
       "2688  0.282414  0.244846  0.314236  0.604113  0.644256  0.561888  0.385703   \n",
       "764  -0.049648 -0.044688 -0.023412  0.623247  0.627862  0.609819 -0.998053   \n",
       "\n",
       "             7         8         9  ...        13        14        15  \\\n",
       "3341 -1.503758 -1.466368  1.732506  ...  0.368386  0.508040  0.517224   \n",
       "6293 -1.039357 -0.966954  2.042366  ...  0.019360  0.605057  0.573466   \n",
       "4059  1.511112  2.814929  4.016918  ... -0.398463  0.846226  0.871069   \n",
       "161  -1.524948 -1.470259  1.737571  ... -0.346937  0.485964  0.493435   \n",
       "1580 -1.513195 -1.502550  1.683492  ...  0.399500  0.432046  0.424441   \n",
       "...        ...       ...       ...  ...       ...       ...       ...   \n",
       "768  -0.960233 -1.063879  1.763272  ... -0.048439  0.563834  0.572048   \n",
       "1587 -0.716891  2.979671  3.072991  ...  0.327204  0.572950  0.625647   \n",
       "698  -1.459384 -1.471702  1.602906  ... -0.313006  0.456415  0.460302   \n",
       "2688  1.031172 -0.207721  2.671703  ...  0.368167  0.535970  0.534090   \n",
       "764  -0.990336 -1.002076  1.795871  ... -0.034479  0.599348  0.610185   \n",
       "\n",
       "            16        17        18        19        20        21  outcome  \n",
       "3341  0.516856 -1.466369 -1.524798 -1.525282  1.738116  0.438457        0  \n",
       "6293  0.557313 -1.120865 -1.211275 -1.195503  1.639455  0.033858        0  \n",
       "4059  0.839508  2.324767  2.004680  1.491748  4.512328  0.183490        0  \n",
       "161   0.492008 -1.461716 -1.484790 -1.478194  1.848466  0.292443        0  \n",
       "1580  0.421744 -1.501052 -1.487309 -1.493255  1.779119  0.071617        1  \n",
       "...        ...       ...       ...       ...       ...       ...      ...  \n",
       "768   0.563274 -1.092340 -1.054889 -0.983018  1.836545  0.148420        1  \n",
       "1587  0.642220  2.755943  0.988817  1.483855  3.458907  0.020284        1  \n",
       "698   0.462056 -1.472044 -1.558620 -1.557949  1.606411  0.238345        0  \n",
       "2688  0.554445 -0.772236 -0.625432 -0.552083  2.367953  0.062314        1  \n",
       "764   0.615017 -1.009788 -1.030600 -0.975360  1.777908  0.079031        1  \n",
       "\n",
       "[1998 rows x 23 columns]"
      ]
     },
     "execution_count": 71,
     "metadata": {},
     "output_type": "execute_result"
    }
   ],
   "source": [
    "falls_filtered_df = feature_and_outcome_filtered_df[feature_and_outcome_filtered_df['outcome'] == 1]\n",
    "not_falls_filtered_df = feature_and_outcome_filtered_df[feature_and_outcome_filtered_df['outcome'] == 0]\n",
    "\n",
    "undersampled_not_falls_filtered = not_falls_filtered_df.sample(n=len(falls_filtered_df), random_state=42)\n",
    "balanced_features_filtered = pd.concat([undersampled_not_falls_filtered, falls_filtered_df])\n",
    "balanced_features_filtered = balanced_features_filtered.sample(frac=1, random_state=42)\n",
    "balanced_features_filtered"
   ]
  },
  {
   "cell_type": "code",
   "execution_count": 72,
   "metadata": {},
   "outputs": [
    {
     "data": {
      "text/plain": [
       "outcome\n",
       "0          999\n",
       "1          999\n",
       "dtype: int64"
      ]
     },
     "execution_count": 72,
     "metadata": {},
     "output_type": "execute_result"
    }
   ],
   "source": [
    "features_filtered_shuffled = balanced_features_filtered.drop(columns=['outcome'])\n",
    "features_filtered_shuffled\n",
    "\n",
    "outcome_filtered_shuffled = balanced_features_filtered.loc[:,['outcome']]\n",
    "outcome_filtered_shuffled.value_counts()"
   ]
  },
  {
   "cell_type": "code",
   "execution_count": 73,
   "metadata": {},
   "outputs": [],
   "source": [
    "X_filtered_train, X_filtered_test, y_filtered_train, y_filtered_test = train_test_split(features_filtered_shuffled, outcome_filtered_shuffled, test_size=0.25, random_state=0, stratify=outcome_filtered_shuffled)"
   ]
  },
  {
   "cell_type": "code",
   "execution_count": 74,
   "metadata": {},
   "outputs": [
    {
     "data": {
      "text/plain": [
       "((1498, 22), (500, 22), (1498, 1), (500, 1))"
      ]
     },
     "execution_count": 74,
     "metadata": {},
     "output_type": "execute_result"
    }
   ],
   "source": [
    "X_filtered_train.shape, X_filtered_test.shape, y_filtered_train.shape, y_filtered_test.shape"
   ]
  },
  {
   "cell_type": "code",
   "execution_count": 75,
   "metadata": {},
   "outputs": [
    {
     "data": {
      "text/plain": [
       "{0: 749, 1: 749}"
      ]
     },
     "execution_count": 75,
     "metadata": {},
     "output_type": "execute_result"
    }
   ],
   "source": [
    "unique, counts = np.unique(y_filtered_train, return_counts=True)\n",
    "dict(zip(unique, counts))"
   ]
  },
  {
   "cell_type": "markdown",
   "metadata": {},
   "source": [
    "### Traditional Machine Learning Methods"
   ]
  },
  {
   "cell_type": "code",
   "execution_count": 76,
   "metadata": {},
   "outputs": [],
   "source": [
    "filtered_model_name_array = []\n",
    "filtered_model_acc_array = []"
   ]
  },
  {
   "cell_type": "code",
   "execution_count": 77,
   "metadata": {},
   "outputs": [
    {
     "name": "stderr",
     "output_type": "stream",
     "text": [
      "c:\\Users\\Alex\\anaconda3\\lib\\site-packages\\sklearn\\neighbors\\_classification.py:198: DataConversionWarning: A column-vector y was passed when a 1d array was expected. Please change the shape of y to (n_samples,), for example using ravel().\n",
      "  return self._fit(X, y)\n"
     ]
    },
    {
     "data": {
      "text/plain": [
       "KNeighborsClassifier()"
      ]
     },
     "execution_count": 77,
     "metadata": {},
     "output_type": "execute_result"
    }
   ],
   "source": [
    "knn_model_filtered = KNeighborsClassifier(n_neighbors=5)\n",
    "knn_model_filtered.fit(X_filtered_train, y_filtered_train)"
   ]
  },
  {
   "cell_type": "code",
   "execution_count": 78,
   "metadata": {},
   "outputs": [
    {
     "name": "stdout",
     "output_type": "stream",
     "text": [
      "[[216  34]\n",
      " [ 64 186]]\n",
      "0.804\n",
      "0.804\n"
     ]
    },
    {
     "name": "stderr",
     "output_type": "stream",
     "text": [
      "c:\\Users\\Alex\\anaconda3\\lib\\site-packages\\sklearn\\neighbors\\_classification.py:228: FutureWarning: Unlike other reduction functions (e.g. `skew`, `kurtosis`), the default behavior of `mode` typically preserves the axis it acts along. In SciPy 1.11.0, this behavior will change: the default value of `keepdims` will become False, the `axis` over which the statistic is taken will be eliminated, and the value None will no longer be accepted. Set `keepdims` to True or False to avoid this warning.\n",
      "  mode, _ = stats.mode(_y[neigh_ind, k], axis=1)\n"
     ]
    }
   ],
   "source": [
    "# Predict on the test set\n",
    "predicted_knn_filtered = knn_model_filtered.predict(X_filtered_test)\n",
    "\n",
    "# Print metrics\n",
    "print(confusion_matrix(y_filtered_test, predicted_knn_filtered))\n",
    "print(accuracy_score(y_filtered_test, predicted_knn_filtered))\n",
    "print(f1_score(y_filtered_test, predicted_knn_filtered, average='micro'))\n",
    "# compare_trad_models(\"knn\", accuracy_score(y_test, predicted))\n",
    "filtered_model_name_array.append(\"knn\")\n",
    "filtered_model_acc_array.append(accuracy_score(y_filtered_test, predicted_knn_filtered))"
   ]
  },
  {
   "cell_type": "code",
   "execution_count": 79,
   "metadata": {},
   "outputs": [],
   "source": [
    "# from sklearn.model_selection import GridSearchCV\n",
    "\n",
    "# max_features_range = np.arange(1, 6, 1)\n",
    "# n_estimators_range = np.arange(10, 210, 10)\n",
    "# n_neighbors_range = np.arange(1, 100, 1)\n",
    "# # param_grid = dict(max_features = max_features_range, n_estimators = n_estimators_range, n_neighbors = n_neighbors_range)\n",
    "# param_grid = dict(n_neighbors = n_neighbors_range)\n",
    "\n",
    "# knnTest = KNeighborsClassifier(n_neighbors=5)\n",
    "\n",
    "# grid = GridSearchCV(estimator=knnTest, param_grid=param_grid, scoring='accuracy', cv=5)\n",
    "\n",
    "# grid.fit(X_train, y_train)\n",
    "# print(\"The best parameters are %s with a score of %f\" % (grid.best_params_, grid.best_score_))"
   ]
  },
  {
   "cell_type": "code",
   "execution_count": 80,
   "metadata": {},
   "outputs": [
    {
     "name": "stderr",
     "output_type": "stream",
     "text": [
      "c:\\Users\\Alex\\anaconda3\\lib\\site-packages\\sklearn\\utils\\validation.py:993: DataConversionWarning: A column-vector y was passed when a 1d array was expected. Please change the shape of y to (n_samples, ), for example using ravel().\n",
      "  y = column_or_1d(y, warn=True)\n"
     ]
    },
    {
     "data": {
      "text/plain": [
       "SVC(C=1, kernel='linear', random_state=0)"
      ]
     },
     "execution_count": 80,
     "metadata": {},
     "output_type": "execute_result"
    }
   ],
   "source": [
    "svm_model_filtered = svm.SVC(kernel='linear', C=1, random_state=0)\n",
    "# gaussian\n",
    "svm_model_filtered.fit(X_filtered_train, y_filtered_train)"
   ]
  },
  {
   "cell_type": "code",
   "execution_count": 81,
   "metadata": {},
   "outputs": [
    {
     "name": "stdout",
     "output_type": "stream",
     "text": [
      "[[201  49]\n",
      " [103 147]]\n",
      "0.696\n",
      "0.696\n"
     ]
    }
   ],
   "source": [
    "# Predict on the test set\n",
    "predicted_svm_filtered = svm_model_filtered.predict(X_filtered_test)\n",
    "\n",
    "# Print metrics\n",
    "print(confusion_matrix(y_filtered_test, predicted_svm_filtered))\n",
    "print(accuracy_score(y_filtered_test, predicted_svm_filtered))\n",
    "print(f1_score(y_filtered_test, predicted_svm_filtered, average='micro'))\n",
    "# compare_trad_models(\"knn\", accuracy_score(y_test, predicted))\n",
    "filtered_model_name_array.append(\"svm\")\n",
    "filtered_model_acc_array.append(accuracy_score(y_filtered_test, predicted_svm_filtered))"
   ]
  },
  {
   "cell_type": "code",
   "execution_count": 82,
   "metadata": {},
   "outputs": [
    {
     "name": "stderr",
     "output_type": "stream",
     "text": [
      "c:\\Users\\Alex\\anaconda3\\lib\\site-packages\\sklearn\\utils\\validation.py:993: DataConversionWarning: A column-vector y was passed when a 1d array was expected. Please change the shape of y to (n_samples, ), for example using ravel().\n",
      "  y = column_or_1d(y, warn=True)\n"
     ]
    },
    {
     "data": {
      "text/plain": [
       "SVC(C=1, random_state=0)"
      ]
     },
     "execution_count": 82,
     "metadata": {},
     "output_type": "execute_result"
    }
   ],
   "source": [
    "svm_rbf_model_filtered = svm.SVC(kernel='rbf', C=1, random_state=0)\n",
    "svm_rbf_model_filtered.fit(X_filtered_train, y_filtered_train)"
   ]
  },
  {
   "cell_type": "code",
   "execution_count": 83,
   "metadata": {},
   "outputs": [
    {
     "name": "stdout",
     "output_type": "stream",
     "text": [
      "[[223  27]\n",
      " [100 150]]\n",
      "0.746\n",
      "0.746\n"
     ]
    }
   ],
   "source": [
    "# Predict on the test set\n",
    "predicted_svm_rbf_filtered = svm_rbf_model_filtered.predict(X_filtered_test)\n",
    "\n",
    "# Print metrics\n",
    "print(confusion_matrix(y_filtered_test, predicted_svm_rbf_filtered))\n",
    "print(accuracy_score(y_filtered_test, predicted_svm_rbf_filtered))\n",
    "print(f1_score(y_filtered_test, predicted_svm_rbf_filtered, average='micro'))\n",
    "# compare_trad_models(\"knn\", accuracy_score(y_test, predicted))\n",
    "filtered_model_name_array.append(\"svm_rbf\")\n",
    "filtered_model_acc_array.append(accuracy_score(y_filtered_test, predicted_svm_rbf_filtered))"
   ]
  },
  {
   "cell_type": "code",
   "execution_count": 84,
   "metadata": {},
   "outputs": [
    {
     "name": "stderr",
     "output_type": "stream",
     "text": [
      "C:\\Users\\Alex\\AppData\\Local\\Temp\\ipykernel_35204\\3673001609.py:2: DataConversionWarning: A column-vector y was passed when a 1d array was expected. Please change the shape of y to (n_samples,), for example using ravel().\n",
      "  rf_model_filtered.fit(X_filtered_train, y_filtered_train)\n"
     ]
    },
    {
     "data": {
      "text/plain": [
       "RandomForestClassifier(random_state=42)"
      ]
     },
     "execution_count": 84,
     "metadata": {},
     "output_type": "execute_result"
    }
   ],
   "source": [
    "rf_model_filtered = RandomForestClassifier(n_estimators = 100, random_state = 42)\n",
    "rf_model_filtered.fit(X_filtered_train, y_filtered_train)"
   ]
  },
  {
   "cell_type": "code",
   "execution_count": 85,
   "metadata": {},
   "outputs": [
    {
     "name": "stdout",
     "output_type": "stream",
     "text": [
      "[[215  35]\n",
      " [ 37 213]]\n",
      "0.856\n",
      "0.856\n"
     ]
    }
   ],
   "source": [
    "# Predict on the test set\n",
    "predicted_rf_filtered = rf_model_filtered.predict(X_filtered_test)\n",
    "\n",
    "# Print metrics\n",
    "print(confusion_matrix(y_filtered_test, predicted_rf_filtered))\n",
    "print(accuracy_score(y_filtered_test, predicted_rf_filtered))\n",
    "print(f1_score(y_filtered_test, predicted_rf_filtered, average='micro'))\n",
    "# compare_trad_models(\"knn\", accuracy_score(y_test, predicted))\n",
    "filtered_model_name_array.append(\"rf\")\n",
    "filtered_model_acc_array.append(accuracy_score(y_filtered_test, predicted_rf_filtered))"
   ]
  },
  {
   "cell_type": "code",
   "execution_count": 86,
   "metadata": {},
   "outputs": [
    {
     "name": "stderr",
     "output_type": "stream",
     "text": [
      "c:\\Users\\Alex\\anaconda3\\lib\\site-packages\\sklearn\\utils\\validation.py:993: DataConversionWarning: A column-vector y was passed when a 1d array was expected. Please change the shape of y to (n_samples, ), for example using ravel().\n",
      "  y = column_or_1d(y, warn=True)\n"
     ]
    },
    {
     "data": {
      "text/plain": [
       "GaussianNB()"
      ]
     },
     "execution_count": 86,
     "metadata": {},
     "output_type": "execute_result"
    }
   ],
   "source": [
    "nb_model_filtered = GaussianNB()\n",
    "nb_model_filtered.fit(X_filtered_train, y_filtered_train)"
   ]
  },
  {
   "cell_type": "code",
   "execution_count": 87,
   "metadata": {},
   "outputs": [
    {
     "name": "stdout",
     "output_type": "stream",
     "text": [
      "[[222  28]\n",
      " [150 100]]\n",
      "0.644\n",
      "0.644\n"
     ]
    }
   ],
   "source": [
    "# Predict on the test set\n",
    "predicted_nb_filtered = nb_model_filtered.predict(X_filtered_test)\n",
    "\n",
    "# Print metrics\n",
    "print(confusion_matrix(y_filtered_test, predicted_nb_filtered))\n",
    "print(accuracy_score(y_filtered_test, predicted_nb_filtered))\n",
    "print(f1_score(y_filtered_test, predicted_nb_filtered, average='micro'))\n",
    "# compare_trad_models(\"knn\", accuracy_score(y_test, predicted))\n",
    "filtered_model_name_array.append(\"nb\")\n",
    "filtered_model_acc_array.append(accuracy_score(y_filtered_test, predicted_nb_filtered))"
   ]
  },
  {
   "cell_type": "code",
   "execution_count": 88,
   "metadata": {},
   "outputs": [
    {
     "name": "stdout",
     "output_type": "stream",
     "text": [
      "Best model: rf, Accuracy: 0.856\n"
     ]
    }
   ],
   "source": [
    "best_trad_model_acc_filtered = max(filtered_model_acc_array)\n",
    "index = filtered_model_acc_array.index(max(filtered_model_acc_array))\n",
    "best_trad_model_filtered = filtered_model_name_array[index]\n",
    "print(f\"Best model: {best_trad_model_filtered}, Accuracy: {best_trad_model_acc_filtered}\")"
   ]
  },
  {
   "cell_type": "code",
   "execution_count": 89,
   "metadata": {},
   "outputs": [
    {
     "name": "stdout",
     "output_type": "stream",
     "text": [
      "name: knn, accuracy: 0.804\n",
      "name: svm, accuracy: 0.696\n",
      "name: svm_rbf, accuracy: 0.746\n",
      "name: rf, accuracy: 0.856\n",
      "name: nb, accuracy: 0.644\n"
     ]
    }
   ],
   "source": [
    "for i in range(0, len(filtered_model_name_array)):\n",
    "    print(f\"name: {filtered_model_name_array[i]}, accuracy: {filtered_model_acc_array[i]}\")"
   ]
  },
  {
   "cell_type": "code",
   "execution_count": 90,
   "metadata": {},
   "outputs": [],
   "source": [
    "filtered_model_dictionary = {\"knn\": knn_model_filtered,\n",
    "                             \"svm\": svm_model_filtered,\n",
    "                             \"svm_rbf\": svm_rbf_model_filtered,\n",
    "                             \"rf\": rf_model_filtered,\n",
    "                             \"nb\": nb_model_filtered}"
   ]
  },
  {
   "cell_type": "code",
   "execution_count": 91,
   "metadata": {},
   "outputs": [
    {
     "name": "stderr",
     "output_type": "stream",
     "text": [
      "c:\\Users\\Alex\\anaconda3\\lib\\site-packages\\sklearn\\neighbors\\_classification.py:198: DataConversionWarning: A column-vector y was passed when a 1d array was expected. Please change the shape of y to (n_samples,), for example using ravel().\n",
      "  return self._fit(X, y)\n",
      "c:\\Users\\Alex\\anaconda3\\lib\\site-packages\\sklearn\\neighbors\\_classification.py:228: FutureWarning: Unlike other reduction functions (e.g. `skew`, `kurtosis`), the default behavior of `mode` typically preserves the axis it acts along. In SciPy 1.11.0, this behavior will change: the default value of `keepdims` will become False, the `axis` over which the statistic is taken will be eliminated, and the value None will no longer be accepted. Set `keepdims` to True or False to avoid this warning.\n",
      "  mode, _ = stats.mode(_y[neigh_ind, k], axis=1)\n",
      "c:\\Users\\Alex\\anaconda3\\lib\\site-packages\\sklearn\\neighbors\\_classification.py:198: DataConversionWarning: A column-vector y was passed when a 1d array was expected. Please change the shape of y to (n_samples,), for example using ravel().\n",
      "  return self._fit(X, y)\n",
      "c:\\Users\\Alex\\anaconda3\\lib\\site-packages\\sklearn\\neighbors\\_classification.py:228: FutureWarning: Unlike other reduction functions (e.g. `skew`, `kurtosis`), the default behavior of `mode` typically preserves the axis it acts along. In SciPy 1.11.0, this behavior will change: the default value of `keepdims` will become False, the `axis` over which the statistic is taken will be eliminated, and the value None will no longer be accepted. Set `keepdims` to True or False to avoid this warning.\n",
      "  mode, _ = stats.mode(_y[neigh_ind, k], axis=1)\n",
      "c:\\Users\\Alex\\anaconda3\\lib\\site-packages\\sklearn\\neighbors\\_classification.py:198: DataConversionWarning: A column-vector y was passed when a 1d array was expected. Please change the shape of y to (n_samples,), for example using ravel().\n",
      "  return self._fit(X, y)\n",
      "c:\\Users\\Alex\\anaconda3\\lib\\site-packages\\sklearn\\neighbors\\_classification.py:228: FutureWarning: Unlike other reduction functions (e.g. `skew`, `kurtosis`), the default behavior of `mode` typically preserves the axis it acts along. In SciPy 1.11.0, this behavior will change: the default value of `keepdims` will become False, the `axis` over which the statistic is taken will be eliminated, and the value None will no longer be accepted. Set `keepdims` to True or False to avoid this warning.\n",
      "  mode, _ = stats.mode(_y[neigh_ind, k], axis=1)\n",
      "c:\\Users\\Alex\\anaconda3\\lib\\site-packages\\sklearn\\neighbors\\_classification.py:198: DataConversionWarning: A column-vector y was passed when a 1d array was expected. Please change the shape of y to (n_samples,), for example using ravel().\n",
      "  return self._fit(X, y)\n",
      "c:\\Users\\Alex\\anaconda3\\lib\\site-packages\\sklearn\\neighbors\\_classification.py:228: FutureWarning: Unlike other reduction functions (e.g. `skew`, `kurtosis`), the default behavior of `mode` typically preserves the axis it acts along. In SciPy 1.11.0, this behavior will change: the default value of `keepdims` will become False, the `axis` over which the statistic is taken will be eliminated, and the value None will no longer be accepted. Set `keepdims` to True or False to avoid this warning.\n",
      "  mode, _ = stats.mode(_y[neigh_ind, k], axis=1)\n",
      "c:\\Users\\Alex\\anaconda3\\lib\\site-packages\\sklearn\\neighbors\\_classification.py:198: DataConversionWarning: A column-vector y was passed when a 1d array was expected. Please change the shape of y to (n_samples,), for example using ravel().\n",
      "  return self._fit(X, y)\n",
      "c:\\Users\\Alex\\anaconda3\\lib\\site-packages\\sklearn\\neighbors\\_classification.py:228: FutureWarning: Unlike other reduction functions (e.g. `skew`, `kurtosis`), the default behavior of `mode` typically preserves the axis it acts along. In SciPy 1.11.0, this behavior will change: the default value of `keepdims` will become False, the `axis` over which the statistic is taken will be eliminated, and the value None will no longer be accepted. Set `keepdims` to True or False to avoid this warning.\n",
      "  mode, _ = stats.mode(_y[neigh_ind, k], axis=1)\n",
      "c:\\Users\\Alex\\anaconda3\\lib\\site-packages\\sklearn\\utils\\validation.py:993: DataConversionWarning: A column-vector y was passed when a 1d array was expected. Please change the shape of y to (n_samples, ), for example using ravel().\n",
      "  y = column_or_1d(y, warn=True)\n",
      "c:\\Users\\Alex\\anaconda3\\lib\\site-packages\\sklearn\\utils\\validation.py:993: DataConversionWarning: A column-vector y was passed when a 1d array was expected. Please change the shape of y to (n_samples, ), for example using ravel().\n",
      "  y = column_or_1d(y, warn=True)\n",
      "c:\\Users\\Alex\\anaconda3\\lib\\site-packages\\sklearn\\utils\\validation.py:993: DataConversionWarning: A column-vector y was passed when a 1d array was expected. Please change the shape of y to (n_samples, ), for example using ravel().\n",
      "  y = column_or_1d(y, warn=True)\n",
      "c:\\Users\\Alex\\anaconda3\\lib\\site-packages\\sklearn\\utils\\validation.py:993: DataConversionWarning: A column-vector y was passed when a 1d array was expected. Please change the shape of y to (n_samples, ), for example using ravel().\n",
      "  y = column_or_1d(y, warn=True)\n",
      "c:\\Users\\Alex\\anaconda3\\lib\\site-packages\\sklearn\\utils\\validation.py:993: DataConversionWarning: A column-vector y was passed when a 1d array was expected. Please change the shape of y to (n_samples, ), for example using ravel().\n",
      "  y = column_or_1d(y, warn=True)\n",
      "c:\\Users\\Alex\\anaconda3\\lib\\site-packages\\sklearn\\utils\\validation.py:993: DataConversionWarning: A column-vector y was passed when a 1d array was expected. Please change the shape of y to (n_samples, ), for example using ravel().\n",
      "  y = column_or_1d(y, warn=True)\n",
      "c:\\Users\\Alex\\anaconda3\\lib\\site-packages\\sklearn\\utils\\validation.py:993: DataConversionWarning: A column-vector y was passed when a 1d array was expected. Please change the shape of y to (n_samples, ), for example using ravel().\n",
      "  y = column_or_1d(y, warn=True)\n",
      "c:\\Users\\Alex\\anaconda3\\lib\\site-packages\\sklearn\\utils\\validation.py:993: DataConversionWarning: A column-vector y was passed when a 1d array was expected. Please change the shape of y to (n_samples, ), for example using ravel().\n",
      "  y = column_or_1d(y, warn=True)\n",
      "c:\\Users\\Alex\\anaconda3\\lib\\site-packages\\sklearn\\utils\\validation.py:993: DataConversionWarning: A column-vector y was passed when a 1d array was expected. Please change the shape of y to (n_samples, ), for example using ravel().\n",
      "  y = column_or_1d(y, warn=True)\n",
      "c:\\Users\\Alex\\anaconda3\\lib\\site-packages\\sklearn\\utils\\validation.py:993: DataConversionWarning: A column-vector y was passed when a 1d array was expected. Please change the shape of y to (n_samples, ), for example using ravel().\n",
      "  y = column_or_1d(y, warn=True)\n",
      "c:\\Users\\Alex\\anaconda3\\lib\\site-packages\\sklearn\\model_selection\\_validation.py:680: DataConversionWarning: A column-vector y was passed when a 1d array was expected. Please change the shape of y to (n_samples,), for example using ravel().\n",
      "  estimator.fit(X_train, y_train, **fit_params)\n",
      "c:\\Users\\Alex\\anaconda3\\lib\\site-packages\\sklearn\\model_selection\\_validation.py:680: DataConversionWarning: A column-vector y was passed when a 1d array was expected. Please change the shape of y to (n_samples,), for example using ravel().\n",
      "  estimator.fit(X_train, y_train, **fit_params)\n",
      "c:\\Users\\Alex\\anaconda3\\lib\\site-packages\\sklearn\\model_selection\\_validation.py:680: DataConversionWarning: A column-vector y was passed when a 1d array was expected. Please change the shape of y to (n_samples,), for example using ravel().\n",
      "  estimator.fit(X_train, y_train, **fit_params)\n",
      "c:\\Users\\Alex\\anaconda3\\lib\\site-packages\\sklearn\\model_selection\\_validation.py:680: DataConversionWarning: A column-vector y was passed when a 1d array was expected. Please change the shape of y to (n_samples,), for example using ravel().\n",
      "  estimator.fit(X_train, y_train, **fit_params)\n",
      "c:\\Users\\Alex\\anaconda3\\lib\\site-packages\\sklearn\\model_selection\\_validation.py:680: DataConversionWarning: A column-vector y was passed when a 1d array was expected. Please change the shape of y to (n_samples,), for example using ravel().\n",
      "  estimator.fit(X_train, y_train, **fit_params)\n",
      "c:\\Users\\Alex\\anaconda3\\lib\\site-packages\\sklearn\\utils\\validation.py:993: DataConversionWarning: A column-vector y was passed when a 1d array was expected. Please change the shape of y to (n_samples, ), for example using ravel().\n",
      "  y = column_or_1d(y, warn=True)\n",
      "c:\\Users\\Alex\\anaconda3\\lib\\site-packages\\sklearn\\utils\\validation.py:993: DataConversionWarning: A column-vector y was passed when a 1d array was expected. Please change the shape of y to (n_samples, ), for example using ravel().\n",
      "  y = column_or_1d(y, warn=True)\n",
      "c:\\Users\\Alex\\anaconda3\\lib\\site-packages\\sklearn\\utils\\validation.py:993: DataConversionWarning: A column-vector y was passed when a 1d array was expected. Please change the shape of y to (n_samples, ), for example using ravel().\n",
      "  y = column_or_1d(y, warn=True)\n",
      "c:\\Users\\Alex\\anaconda3\\lib\\site-packages\\sklearn\\utils\\validation.py:993: DataConversionWarning: A column-vector y was passed when a 1d array was expected. Please change the shape of y to (n_samples, ), for example using ravel().\n",
      "  y = column_or_1d(y, warn=True)\n",
      "c:\\Users\\Alex\\anaconda3\\lib\\site-packages\\sklearn\\utils\\validation.py:993: DataConversionWarning: A column-vector y was passed when a 1d array was expected. Please change the shape of y to (n_samples, ), for example using ravel().\n",
      "  y = column_or_1d(y, warn=True)\n"
     ]
    }
   ],
   "source": [
    "scores_array_filtered = perform_cross_val_all_models(filtered_model_dictionary, X_filtered_train, y_filtered_train)"
   ]
  },
  {
   "cell_type": "code",
   "execution_count": 92,
   "metadata": {},
   "outputs": [
    {
     "name": "stdout",
     "output_type": "stream",
     "text": [
      "knn Accuracy: 0.81 (+/- 0.05)\n",
      "svm Accuracy: 0.68 (+/- 0.07)\n",
      "svm_rbf Accuracy: 0.76 (+/- 0.03)\n",
      "rf Accuracy: 0.83 (+/- 0.03)\n",
      "nb Accuracy: 0.66 (+/- 0.01)\n"
     ]
    }
   ],
   "source": [
    "for cv_tuple in scores_array_filtered:\n",
    "    print(\"%s Accuracy: %0.2f (+/- %0.2f)\" % (cv_tuple[0], cv_tuple[1].mean(), cv_tuple[1].std() * 2))"
   ]
  },
  {
   "cell_type": "code",
   "execution_count": 93,
   "metadata": {},
   "outputs": [
    {
     "name": "stdout",
     "output_type": "stream",
     "text": [
      "Classification report for knn\n",
      "              precision    recall  f1-score   support\n",
      "\n",
      "           0       0.77      0.86      0.82       250\n",
      "           1       0.85      0.74      0.79       250\n",
      "\n",
      "    accuracy                           0.80       500\n",
      "   macro avg       0.81      0.80      0.80       500\n",
      "weighted avg       0.81      0.80      0.80       500\n",
      "\n",
      "=====================================================\n",
      "Classification report for svm\n",
      "              precision    recall  f1-score   support\n",
      "\n",
      "           0       0.66      0.80      0.73       250\n",
      "           1       0.75      0.59      0.66       250\n",
      "\n",
      "    accuracy                           0.70       500\n",
      "   macro avg       0.71      0.70      0.69       500\n",
      "weighted avg       0.71      0.70      0.69       500\n",
      "\n",
      "=====================================================\n",
      "Classification report for svm_rbf\n",
      "              precision    recall  f1-score   support\n",
      "\n",
      "           0       0.69      0.89      0.78       250\n",
      "           1       0.85      0.60      0.70       250\n",
      "\n",
      "    accuracy                           0.75       500\n",
      "   macro avg       0.77      0.75      0.74       500\n",
      "weighted avg       0.77      0.75      0.74       500\n",
      "\n",
      "=====================================================\n",
      "Classification report for rf\n",
      "              precision    recall  f1-score   support\n",
      "\n",
      "           0       0.85      0.86      0.86       250\n",
      "           1       0.86      0.85      0.86       250\n",
      "\n",
      "    accuracy                           0.86       500\n",
      "   macro avg       0.86      0.86      0.86       500\n",
      "weighted avg       0.86      0.86      0.86       500\n",
      "\n",
      "=====================================================\n",
      "Classification report for nb\n",
      "              precision    recall  f1-score   support\n",
      "\n",
      "           0       0.60      0.89      0.71       250\n",
      "           1       0.78      0.40      0.53       250\n",
      "\n",
      "    accuracy                           0.64       500\n",
      "   macro avg       0.69      0.64      0.62       500\n",
      "weighted avg       0.69      0.64      0.62       500\n",
      "\n",
      "=====================================================\n"
     ]
    },
    {
     "name": "stderr",
     "output_type": "stream",
     "text": [
      "c:\\Users\\Alex\\anaconda3\\lib\\site-packages\\sklearn\\neighbors\\_classification.py:228: FutureWarning: Unlike other reduction functions (e.g. `skew`, `kurtosis`), the default behavior of `mode` typically preserves the axis it acts along. In SciPy 1.11.0, this behavior will change: the default value of `keepdims` will become False, the `axis` over which the statistic is taken will be eliminated, and the value None will no longer be accepted. Set `keepdims` to True or False to avoid this warning.\n",
      "  mode, _ = stats.mode(_y[neigh_ind, k], axis=1)\n"
     ]
    }
   ],
   "source": [
    "print_all_classification_reports(filtered_model_dictionary, X_filtered_test, y_filtered_test)"
   ]
  },
  {
   "cell_type": "code",
   "execution_count": 94,
   "metadata": {},
   "outputs": [
    {
     "name": "stdout",
     "output_type": "stream",
     "text": [
      "Classification report for knn\n",
      "              precision    recall  f1-score   support\n",
      "\n",
      "           0       0.85      0.91      0.88       749\n",
      "           1       0.90      0.84      0.87       749\n",
      "\n",
      "    accuracy                           0.88      1498\n",
      "   macro avg       0.88      0.88      0.88      1498\n",
      "weighted avg       0.88      0.88      0.88      1498\n",
      "\n",
      "=====================================================\n",
      "Classification report for svm\n",
      "              precision    recall  f1-score   support\n",
      "\n",
      "           0       0.67      0.80      0.73       749\n",
      "           1       0.75      0.60      0.67       749\n",
      "\n",
      "    accuracy                           0.70      1498\n",
      "   macro avg       0.71      0.70      0.70      1498\n",
      "weighted avg       0.71      0.70      0.70      1498\n",
      "\n",
      "=====================================================\n",
      "Classification report for svm_rbf\n"
     ]
    },
    {
     "name": "stderr",
     "output_type": "stream",
     "text": [
      "c:\\Users\\Alex\\anaconda3\\lib\\site-packages\\sklearn\\neighbors\\_classification.py:228: FutureWarning: Unlike other reduction functions (e.g. `skew`, `kurtosis`), the default behavior of `mode` typically preserves the axis it acts along. In SciPy 1.11.0, this behavior will change: the default value of `keepdims` will become False, the `axis` over which the statistic is taken will be eliminated, and the value None will no longer be accepted. Set `keepdims` to True or False to avoid this warning.\n",
      "  mode, _ = stats.mode(_y[neigh_ind, k], axis=1)\n"
     ]
    },
    {
     "name": "stdout",
     "output_type": "stream",
     "text": [
      "              precision    recall  f1-score   support\n",
      "\n",
      "           0       0.71      0.90      0.79       749\n",
      "           1       0.86      0.63      0.73       749\n",
      "\n",
      "    accuracy                           0.76      1498\n",
      "   macro avg       0.78      0.76      0.76      1498\n",
      "weighted avg       0.78      0.76      0.76      1498\n",
      "\n",
      "=====================================================\n",
      "Classification report for rf\n",
      "              precision    recall  f1-score   support\n",
      "\n",
      "           0       1.00      1.00      1.00       749\n",
      "           1       1.00      1.00      1.00       749\n",
      "\n",
      "    accuracy                           1.00      1498\n",
      "   macro avg       1.00      1.00      1.00      1498\n",
      "weighted avg       1.00      1.00      1.00      1498\n",
      "\n",
      "=====================================================\n",
      "Classification report for nb\n",
      "              precision    recall  f1-score   support\n",
      "\n",
      "           0       0.61      0.88      0.72       749\n",
      "           1       0.79      0.44      0.57       749\n",
      "\n",
      "    accuracy                           0.66      1498\n",
      "   macro avg       0.70      0.66      0.65      1498\n",
      "weighted avg       0.70      0.66      0.65      1498\n",
      "\n",
      "=====================================================\n"
     ]
    }
   ],
   "source": [
    "print_all_classification_reports_training(filtered_model_dictionary, X_filtered_train, y_filtered_train)"
   ]
  },
  {
   "cell_type": "code",
   "execution_count": 95,
   "metadata": {},
   "outputs": [],
   "source": [
    "from joblib import dump, load\n",
    "# save clf using joblib\n",
    "# dump(rf_model, 'New Models/rf_filtered_normalised.joblib')"
   ]
  },
  {
   "cell_type": "markdown",
   "metadata": {},
   "source": [
    "### Deep Learning"
   ]
  },
  {
   "cell_type": "markdown",
   "metadata": {},
   "source": [
    "#### The models below are trained using data which went through low-pass filter"
   ]
  },
  {
   "cell_type": "code",
   "execution_count": 96,
   "metadata": {},
   "outputs": [
    {
     "data": {
      "text/plain": [
       "((1998, 92, 6), (1998,))"
      ]
     },
     "execution_count": 96,
     "metadata": {},
     "output_type": "execute_result"
    }
   ],
   "source": [
    "X_filtered_undersampled, y_filtered_undersampled = feature_util_UPFall.balance_windows_undersample(X_filtered, y_filtered)\n",
    "X_filtered_undersampled.shape, y_filtered_undersampled.shape"
   ]
  },
  {
   "cell_type": "code",
   "execution_count": 97,
   "metadata": {},
   "outputs": [
    {
     "data": {
      "text/plain": [
       "((1498, 92, 6), (500, 92, 6), (1498,))"
      ]
     },
     "execution_count": 97,
     "metadata": {},
     "output_type": "execute_result"
    }
   ],
   "source": [
    "# X_raw_filtered_train, X_raw_filtered_test, y_raw_filtered_train, y_raw_filtered_test = train_test_split(X_filtered, y_filtered, test_size=0.25, random_state=0, stratify=y_filtered)\n",
    "X_raw_filtered_train, X_raw_filtered_test, y_raw_filtered_train, y_raw_filtered_test = train_test_split(X_filtered_undersampled, y_filtered_undersampled, test_size=0.25, random_state=0, stratify=y_filtered_undersampled)\n",
    "X_raw_filtered_train.shape, X_raw_filtered_test.shape, y_raw_filtered_train.shape"
   ]
  },
  {
   "cell_type": "code",
   "execution_count": 98,
   "metadata": {},
   "outputs": [
    {
     "data": {
      "text/plain": [
       "(92, 6)"
      ]
     },
     "execution_count": 98,
     "metadata": {},
     "output_type": "execute_result"
    }
   ],
   "source": [
    "X_raw_filtered_train[0].shape"
   ]
  },
  {
   "cell_type": "code",
   "execution_count": 99,
   "metadata": {},
   "outputs": [],
   "source": [
    "X_raw_filtered_train = X_raw_filtered_train.reshape(X_TRAIN_SIZE, X_TRAIN_WINDOW_SIZE, 6, 1)\n",
    "X_raw_filtered_test = X_raw_filtered_test.reshape(X_TEST_SIZE, X_TEST_WINDOW_SIZE, 6, 1)"
   ]
  },
  {
   "cell_type": "code",
   "execution_count": 100,
   "metadata": {},
   "outputs": [
    {
     "data": {
      "text/plain": [
       "((92, 6, 1), (92, 6, 1))"
      ]
     },
     "execution_count": 100,
     "metadata": {},
     "output_type": "execute_result"
    }
   ],
   "source": [
    "X_raw_filtered_train[0].shape, X_raw_filtered_test[0].shape"
   ]
  },
  {
   "cell_type": "code",
   "execution_count": 101,
   "metadata": {},
   "outputs": [],
   "source": [
    "import tensorflow as tf\n",
    "from tensorflow.keras import Sequential\n",
    "from tensorflow.keras.layers import Flatten, Dense, Dropout, BatchNormalization\n",
    "from tensorflow.keras.layers import Conv2D, MaxPool2D\n",
    "from tensorflow.keras.optimizers import Adam"
   ]
  },
  {
   "cell_type": "code",
   "execution_count": 102,
   "metadata": {},
   "outputs": [],
   "source": [
    "cnn_model_filtered = Sequential()\n",
    "cnn_model_filtered.add(Conv2D(16, (2, 2), activation='relu', input_shape=X_raw_filtered_train[0].shape))\n",
    "cnn_model_filtered.add(Conv2D(32, (2, 2), activation='relu'))\n",
    "cnn_model_filtered.add(Flatten())\n",
    "cnn_model_filtered.add(Dense(64, activation='relu'))\n",
    "cnn_model_filtered.add(Dense(2, activation='softmax'))"
   ]
  },
  {
   "cell_type": "code",
   "execution_count": 103,
   "metadata": {},
   "outputs": [],
   "source": [
    "cnn_model_filtered.compile(optimizer=Adam(learning_rate=0.001), loss='sparse_categorical_crossentropy', metrics=['accuracy'])"
   ]
  },
  {
   "cell_type": "code",
   "execution_count": 104,
   "metadata": {},
   "outputs": [
    {
     "name": "stdout",
     "output_type": "stream",
     "text": [
      "Epoch 1/15\n",
      "47/47 [==============================] - 2s 19ms/step - loss: 0.5654 - accuracy: 0.7096 - val_loss: 0.4619 - val_accuracy: 0.7680\n",
      "Epoch 2/15\n",
      "47/47 [==============================] - 1s 15ms/step - loss: 0.4250 - accuracy: 0.7957 - val_loss: 0.4202 - val_accuracy: 0.8020\n",
      "Epoch 3/15\n",
      "47/47 [==============================] - 1s 15ms/step - loss: 0.3656 - accuracy: 0.8111 - val_loss: 0.3887 - val_accuracy: 0.8320\n",
      "Epoch 4/15\n",
      "47/47 [==============================] - 1s 15ms/step - loss: 0.3175 - accuracy: 0.8598 - val_loss: 0.4247 - val_accuracy: 0.8260\n",
      "Epoch 5/15\n",
      "47/47 [==============================] - 1s 18ms/step - loss: 0.2840 - accuracy: 0.8718 - val_loss: 0.3747 - val_accuracy: 0.8300\n",
      "Epoch 6/15\n",
      "47/47 [==============================] - 1s 17ms/step - loss: 0.2568 - accuracy: 0.8725 - val_loss: 0.3644 - val_accuracy: 0.8560\n",
      "Epoch 7/15\n",
      "47/47 [==============================] - 1s 15ms/step - loss: 0.2282 - accuracy: 0.8979 - val_loss: 0.3686 - val_accuracy: 0.8420\n",
      "Epoch 8/15\n",
      "47/47 [==============================] - 1s 20ms/step - loss: 0.2104 - accuracy: 0.9092 - val_loss: 0.3585 - val_accuracy: 0.8660\n",
      "Epoch 9/15\n",
      "47/47 [==============================] - 1s 15ms/step - loss: 0.1897 - accuracy: 0.9132 - val_loss: 0.3793 - val_accuracy: 0.8720\n",
      "Epoch 10/15\n",
      "47/47 [==============================] - 1s 15ms/step - loss: 0.1795 - accuracy: 0.9232 - val_loss: 0.3958 - val_accuracy: 0.8700\n",
      "Epoch 11/15\n",
      "47/47 [==============================] - 1s 15ms/step - loss: 0.1772 - accuracy: 0.9226 - val_loss: 0.3890 - val_accuracy: 0.8660\n",
      "Epoch 12/15\n",
      "47/47 [==============================] - 1s 14ms/step - loss: 0.1575 - accuracy: 0.9292 - val_loss: 0.4481 - val_accuracy: 0.8520\n",
      "Epoch 13/15\n",
      "47/47 [==============================] - 1s 15ms/step - loss: 0.1491 - accuracy: 0.9366 - val_loss: 0.4327 - val_accuracy: 0.8560\n",
      "Epoch 14/15\n",
      "47/47 [==============================] - 1s 15ms/step - loss: 0.1386 - accuracy: 0.9479 - val_loss: 0.4823 - val_accuracy: 0.8500\n",
      "Epoch 15/15\n",
      "47/47 [==============================] - 1s 14ms/step - loss: 0.1344 - accuracy: 0.9479 - val_loss: 0.5762 - val_accuracy: 0.8600\n"
     ]
    }
   ],
   "source": [
    "history_filtered = cnn_model_filtered.fit(X_raw_filtered_train, y_raw_filtered_train, epochs=NUMBER_OF_EPOCHS, validation_data=(X_raw_filtered_test, y_raw_filtered_test), verbose=1)"
   ]
  },
  {
   "cell_type": "code",
   "execution_count": 105,
   "metadata": {},
   "outputs": [
    {
     "data": {
      "image/png": "[encoded data removed]",
      "text/plain": [
       "<Figure size 640x480 with 1 Axes>"
      ]
     },
     "metadata": {},
     "output_type": "display_data"
    },
    {
     "data": {
      "image/png": "[encoded data removed]",
      "text/plain": [
       "<Figure size 640x480 with 1 Axes>"
      ]
     },
     "metadata": {},
     "output_type": "display_data"
    }
   ],
   "source": [
    "plot_learning_curve(history_filtered, NUMBER_OF_EPOCHS)"
   ]
  },
  {
   "cell_type": "code",
   "execution_count": 106,
   "metadata": {},
   "outputs": [
    {
     "name": "stdout",
     "output_type": "stream",
     "text": [
      "16/16 [==============================] - 0s 3ms/step\n",
      "[[209  41]\n",
      " [ 29 221]]\n",
      "0.86\n",
      "0.8599999999999999\n"
     ]
    }
   ],
   "source": [
    "# predicted_cnn = cnn_model.predict_classes(X_raw_test)\n",
    "predicted_cnn_filtered = np.argmax(cnn_model_filtered.predict(X_raw_filtered_test), axis=-1)\n",
    "\n",
    "# Print metrics\n",
    "print(confusion_matrix(y_raw_filtered_test, predicted_cnn_filtered))\n",
    "print(accuracy_score(y_raw_filtered_test, predicted_cnn_filtered))\n",
    "print(f1_score(y_raw_filtered_test, predicted_cnn_filtered, average='micro'))\n",
    "# ConfusionMatrixDisplay.from_predictions(y_raw_test, predicted_cnn)"
   ]
  },
  {
   "cell_type": "code",
   "execution_count": 107,
   "metadata": {},
   "outputs": [
    {
     "name": "stdout",
     "output_type": "stream",
     "text": [
      "              precision    recall  f1-score   support\n",
      "\n",
      "           0       0.88      0.84      0.86       250\n",
      "           1       0.84      0.88      0.86       250\n",
      "\n",
      "    accuracy                           0.86       500\n",
      "   macro avg       0.86      0.86      0.86       500\n",
      "weighted avg       0.86      0.86      0.86       500\n",
      "\n"
     ]
    }
   ],
   "source": [
    "from sklearn.metrics import classification_report\n",
    "\n",
    "print(classification_report(y_raw_filtered_test, predicted_cnn_filtered))"
   ]
  },
  {
   "cell_type": "code",
   "execution_count": 108,
   "metadata": {},
   "outputs": [
    {
     "name": "stdout",
     "output_type": "stream",
     "text": [
      "16/16 [==============================] - 0s 3ms/step - loss: 0.5762 - accuracy: 0.8600\n",
      "test loss, test acc:  [0.5761905312538147, 0.8600000143051147]\n"
     ]
    }
   ],
   "source": [
    "results_filtered = cnn_model_filtered.evaluate(X_raw_filtered_test, y_raw_filtered_test)\n",
    "print(\"test loss, test acc: \", results_filtered)"
   ]
  },
  {
   "cell_type": "code",
   "execution_count": 152,
   "metadata": {},
   "outputs": [
    {
     "name": "stdout",
     "output_type": "stream",
     "text": [
      "0.8357569694519043\n"
     ]
    }
   ],
   "source": [
    "cnn_filtered_cv_metrics = feature_util_UPFall.cross_val_cnn(X_raw_filtered_train, y_raw_filtered_train, X_raw_filtered_train[0].shape, NUMBER_OF_EPOCHS, 5)\n",
    "feature_util_UPFall.compute_cnn_cross_val_mean(cnn_filtered_cv_metrics)"
   ]
  },
  {
   "cell_type": "code",
   "execution_count": 155,
   "metadata": {},
   "outputs": [
    {
     "name": "stderr",
     "output_type": "stream",
     "text": [
      "WARNING:absl:Found untraced functions such as _jit_compiled_convolution_op, _jit_compiled_convolution_op, _update_step_xla while saving (showing 3 of 3). These functions will not be directly callable after loading.\n"
     ]
    },
    {
     "name": "stdout",
     "output_type": "stream",
     "text": [
      "INFO:tensorflow:Assets written to: Final Models/exp3_cnn_filtered\\assets\n"
     ]
    },
    {
     "name": "stderr",
     "output_type": "stream",
     "text": [
      "INFO:tensorflow:Assets written to: Final Models/exp3_cnn_filtered\\assets\n"
     ]
    }
   ],
   "source": [
    "# cnn_model_filtered.save('Final Models/exp3_cnn_filtered')"
   ]
  },
  {
   "attachments": {},
   "cell_type": "markdown",
   "metadata": {},
   "source": [
    "## III - Filtered and Normalised"
   ]
  },
  {
   "cell_type": "code",
   "execution_count": 109,
   "metadata": {},
   "outputs": [
    {
     "data": {
      "text/html": [
       "<div>\n",
       "<style scoped>\n",
       "    .dataframe tbody tr th:only-of-type {\n",
       "        vertical-align: middle;\n",
       "    }\n",
       "\n",
       "    .dataframe tbody tr th {\n",
       "        vertical-align: top;\n",
       "    }\n",
       "\n",
       "    .dataframe thead th {\n",
       "        text-align: right;\n",
       "    }\n",
       "</style>\n",
       "<table border=\"1\" class=\"dataframe\">\n",
       "  <thead>\n",
       "    <tr style=\"text-align: right;\">\n",
       "      <th></th>\n",
       "      <th>acc_x</th>\n",
       "      <th>acc_y</th>\n",
       "      <th>acc_z</th>\n",
       "      <th>gyro_x</th>\n",
       "      <th>gyro_y</th>\n",
       "      <th>gyro_z</th>\n",
       "      <th>outcome</th>\n",
       "    </tr>\n",
       "  </thead>\n",
       "  <tbody>\n",
       "    <tr>\n",
       "      <th>0</th>\n",
       "      <td>0.342280</td>\n",
       "      <td>0.395239</td>\n",
       "      <td>0.569756</td>\n",
       "      <td>0.414420</td>\n",
       "      <td>0.503240</td>\n",
       "      <td>0.582203</td>\n",
       "      <td>1</td>\n",
       "    </tr>\n",
       "    <tr>\n",
       "      <th>1</th>\n",
       "      <td>0.328154</td>\n",
       "      <td>0.393832</td>\n",
       "      <td>0.571100</td>\n",
       "      <td>0.436878</td>\n",
       "      <td>0.513690</td>\n",
       "      <td>0.604337</td>\n",
       "      <td>1</td>\n",
       "    </tr>\n",
       "    <tr>\n",
       "      <th>2</th>\n",
       "      <td>0.296528</td>\n",
       "      <td>0.384230</td>\n",
       "      <td>0.571769</td>\n",
       "      <td>0.446508</td>\n",
       "      <td>0.528152</td>\n",
       "      <td>0.619588</td>\n",
       "      <td>1</td>\n",
       "    </tr>\n",
       "    <tr>\n",
       "      <th>3</th>\n",
       "      <td>0.280850</td>\n",
       "      <td>0.381679</td>\n",
       "      <td>0.568642</td>\n",
       "      <td>0.449625</td>\n",
       "      <td>0.530032</td>\n",
       "      <td>0.585209</td>\n",
       "      <td>1</td>\n",
       "    </tr>\n",
       "    <tr>\n",
       "      <th>4</th>\n",
       "      <td>0.309602</td>\n",
       "      <td>0.396962</td>\n",
       "      <td>0.564188</td>\n",
       "      <td>0.451869</td>\n",
       "      <td>0.512113</td>\n",
       "      <td>0.493265</td>\n",
       "      <td>1</td>\n",
       "    </tr>\n",
       "    <tr>\n",
       "      <th>...</th>\n",
       "      <td>...</td>\n",
       "      <td>...</td>\n",
       "      <td>...</td>\n",
       "      <td>...</td>\n",
       "      <td>...</td>\n",
       "      <td>...</td>\n",
       "      <td>...</td>\n",
       "    </tr>\n",
       "    <tr>\n",
       "      <th>294673</th>\n",
       "      <td>0.482159</td>\n",
       "      <td>0.492373</td>\n",
       "      <td>0.616383</td>\n",
       "      <td>0.443908</td>\n",
       "      <td>0.481392</td>\n",
       "      <td>0.398619</td>\n",
       "      <td>0</td>\n",
       "    </tr>\n",
       "    <tr>\n",
       "      <th>294674</th>\n",
       "      <td>0.482580</td>\n",
       "      <td>0.492422</td>\n",
       "      <td>0.616059</td>\n",
       "      <td>0.444348</td>\n",
       "      <td>0.481040</td>\n",
       "      <td>0.398623</td>\n",
       "      <td>0</td>\n",
       "    </tr>\n",
       "    <tr>\n",
       "      <th>294675</th>\n",
       "      <td>0.483554</td>\n",
       "      <td>0.493055</td>\n",
       "      <td>0.615580</td>\n",
       "      <td>0.444464</td>\n",
       "      <td>0.480968</td>\n",
       "      <td>0.398894</td>\n",
       "      <td>0</td>\n",
       "    </tr>\n",
       "    <tr>\n",
       "      <th>294676</th>\n",
       "      <td>0.483649</td>\n",
       "      <td>0.493335</td>\n",
       "      <td>0.615281</td>\n",
       "      <td>0.443988</td>\n",
       "      <td>0.480805</td>\n",
       "      <td>0.399036</td>\n",
       "      <td>0</td>\n",
       "    </tr>\n",
       "    <tr>\n",
       "      <th>294677</th>\n",
       "      <td>0.482617</td>\n",
       "      <td>0.492367</td>\n",
       "      <td>0.615250</td>\n",
       "      <td>0.443215</td>\n",
       "      <td>0.480325</td>\n",
       "      <td>0.398669</td>\n",
       "      <td>0</td>\n",
       "    </tr>\n",
       "  </tbody>\n",
       "</table>\n",
       "<p>294678 rows × 7 columns</p>\n",
       "</div>"
      ],
      "text/plain": [
       "           acc_x     acc_y     acc_z    gyro_x    gyro_y    gyro_z  outcome\n",
       "0       0.342280  0.395239  0.569756  0.414420  0.503240  0.582203        1\n",
       "1       0.328154  0.393832  0.571100  0.436878  0.513690  0.604337        1\n",
       "2       0.296528  0.384230  0.571769  0.446508  0.528152  0.619588        1\n",
       "3       0.280850  0.381679  0.568642  0.449625  0.530032  0.585209        1\n",
       "4       0.309602  0.396962  0.564188  0.451869  0.512113  0.493265        1\n",
       "...          ...       ...       ...       ...       ...       ...      ...\n",
       "294673  0.482159  0.492373  0.616383  0.443908  0.481392  0.398619        0\n",
       "294674  0.482580  0.492422  0.616059  0.444348  0.481040  0.398623        0\n",
       "294675  0.483554  0.493055  0.615580  0.444464  0.480968  0.398894        0\n",
       "294676  0.483649  0.493335  0.615281  0.443988  0.480805  0.399036        0\n",
       "294677  0.482617  0.492367  0.615250  0.443215  0.480325  0.398669        0\n",
       "\n",
       "[294678 rows x 7 columns]"
      ]
     },
     "execution_count": 109,
     "metadata": {},
     "output_type": "execute_result"
    }
   ],
   "source": [
    "df_binary_combined_filtered_normalised = feature_util_UPFall.normalise_df(df_binary_combined_filtered.drop(['outcome'], axis=1))\n",
    "df_binary_combined_filtered_normalised['outcome'] = df_binary_combined_filtered['outcome']\n",
    "df_binary_combined_filtered_normalised"
   ]
  },
  {
   "cell_type": "code",
   "execution_count": 110,
   "metadata": {},
   "outputs": [
    {
     "name": "stderr",
     "output_type": "stream",
     "text": [
      "c:\\Users\\Alex\\OneDrive - The University of Nottingham\\Comp Sci\\Year 3\\Dissertation\\Code\\feature_util_UPFall.py:32: FutureWarning: Unlike other reduction functions (e.g. `skew`, `kurtosis`), the default behavior of `mode` typically preserves the axis it acts along. In SciPy 1.11.0, this behavior will change: the default value of `keepdims` will become False, the `axis` over which the statistic is taken will be eliminated, and the value None will no longer be accepted. Set `keepdims` to True or False to avoid this warning.\n",
      "  label = stats.mode(df['outcome'][i: i + frame_size])[0][0]\n"
     ]
    },
    {
     "data": {
      "text/plain": [
       "(6405, 22)"
      ]
     },
     "execution_count": 110,
     "metadata": {},
     "output_type": "execute_result"
    }
   ],
   "source": [
    "X_filtered_normalised, y_filtered_normalised = feature_util_UPFall.get_frames_with_gyro(df_binary_combined_filtered_normalised, frame_size, hop_size, True)\n",
    "features_filtered_normalised = feature_util_UPFall.extract_features_with_gyro(X_filtered_normalised)\n",
    "features_filtered_normalised.shape"
   ]
  },
  {
   "cell_type": "code",
   "execution_count": 111,
   "metadata": {},
   "outputs": [],
   "source": [
    "feature_filtered_normalised_df = pd.DataFrame(features_filtered_normalised)\n",
    "\n",
    "y_filtered_normalised_df = pd.DataFrame(y_filtered)\n",
    "y_filtered_normalised_df = y_filtered_normalised_df.rename(mapper={0:\"outcome\"}, axis=1)\n",
    "y_filtered_normalised_df\n",
    "feature_and_outcome_filtered_normalised_df = pd.concat([feature_filtered_normalised_df, y_filtered_normalised_df], axis=1)"
   ]
  },
  {
   "cell_type": "code",
   "execution_count": 112,
   "metadata": {},
   "outputs": [
    {
     "data": {
      "text/plain": [
       "0    5406\n",
       "1     999\n",
       "Name: outcome, dtype: int64"
      ]
     },
     "execution_count": 112,
     "metadata": {},
     "output_type": "execute_result"
    }
   ],
   "source": [
    "feature_and_outcome_filtered_normalised_df['outcome'].value_counts()"
   ]
  },
  {
   "cell_type": "code",
   "execution_count": 113,
   "metadata": {},
   "outputs": [
    {
     "data": {
      "text/html": [
       "<div>\n",
       "<style scoped>\n",
       "    .dataframe tbody tr th:only-of-type {\n",
       "        vertical-align: middle;\n",
       "    }\n",
       "\n",
       "    .dataframe tbody tr th {\n",
       "        vertical-align: top;\n",
       "    }\n",
       "\n",
       "    .dataframe thead th {\n",
       "        text-align: right;\n",
       "    }\n",
       "</style>\n",
       "<table border=\"1\" class=\"dataframe\">\n",
       "  <thead>\n",
       "    <tr style=\"text-align: right;\">\n",
       "      <th></th>\n",
       "      <th>0</th>\n",
       "      <th>1</th>\n",
       "      <th>2</th>\n",
       "      <th>3</th>\n",
       "      <th>4</th>\n",
       "      <th>5</th>\n",
       "      <th>6</th>\n",
       "      <th>7</th>\n",
       "      <th>8</th>\n",
       "      <th>9</th>\n",
       "      <th>...</th>\n",
       "      <th>13</th>\n",
       "      <th>14</th>\n",
       "      <th>15</th>\n",
       "      <th>16</th>\n",
       "      <th>17</th>\n",
       "      <th>18</th>\n",
       "      <th>19</th>\n",
       "      <th>20</th>\n",
       "      <th>21</th>\n",
       "      <th>outcome</th>\n",
       "    </tr>\n",
       "  </thead>\n",
       "  <tbody>\n",
       "    <tr>\n",
       "      <th>3341</th>\n",
       "      <td>0.509195</td>\n",
       "      <td>0.509229</td>\n",
       "      <td>0.510101</td>\n",
       "      <td>0.084972</td>\n",
       "      <td>0.084892</td>\n",
       "      <td>0.084294</td>\n",
       "      <td>-1.458448</td>\n",
       "      <td>-1.458571</td>\n",
       "      <td>-1.455409</td>\n",
       "      <td>1.089425</td>\n",
       "      <td>...</td>\n",
       "      <td>0.513458</td>\n",
       "      <td>0.084376</td>\n",
       "      <td>0.086006</td>\n",
       "      <td>0.085998</td>\n",
       "      <td>-1.455414</td>\n",
       "      <td>-1.577947</td>\n",
       "      <td>-1.578112</td>\n",
       "      <td>1.089854</td>\n",
       "      <td>0.746878</td>\n",
       "      <td>0</td>\n",
       "    </tr>\n",
       "    <tr>\n",
       "      <th>6293</th>\n",
       "      <td>0.483223</td>\n",
       "      <td>0.481863</td>\n",
       "      <td>0.479714</td>\n",
       "      <td>0.075067</td>\n",
       "      <td>0.075692</td>\n",
       "      <td>0.078966</td>\n",
       "      <td>-1.690253</td>\n",
       "      <td>-1.650120</td>\n",
       "      <td>-1.650318</td>\n",
       "      <td>0.989015</td>\n",
       "      <td>...</td>\n",
       "      <td>0.486959</td>\n",
       "      <td>0.080470</td>\n",
       "      <td>0.077715</td>\n",
       "      <td>0.074909</td>\n",
       "      <td>-1.675270</td>\n",
       "      <td>-1.662334</td>\n",
       "      <td>-1.635824</td>\n",
       "      <td>1.007304</td>\n",
       "      <td>0.633375</td>\n",
       "      <td>0</td>\n",
       "    </tr>\n",
       "    <tr>\n",
       "      <th>4059</th>\n",
       "      <td>0.449525</td>\n",
       "      <td>0.451768</td>\n",
       "      <td>0.449136</td>\n",
       "      <td>0.101657</td>\n",
       "      <td>0.098383</td>\n",
       "      <td>0.097911</td>\n",
       "      <td>0.211955</td>\n",
       "      <td>-0.124777</td>\n",
       "      <td>0.347678</td>\n",
       "      <td>1.021423</td>\n",
       "      <td>...</td>\n",
       "      <td>0.448761</td>\n",
       "      <td>0.103235</td>\n",
       "      <td>0.108022</td>\n",
       "      <td>0.105559</td>\n",
       "      <td>0.175011</td>\n",
       "      <td>-0.063799</td>\n",
       "      <td>-0.303852</td>\n",
       "      <td>1.023497</td>\n",
       "      <td>0.381499</td>\n",
       "      <td>0</td>\n",
       "    </tr>\n",
       "    <tr>\n",
       "      <th>161</th>\n",
       "      <td>0.448403</td>\n",
       "      <td>0.448481</td>\n",
       "      <td>0.449850</td>\n",
       "      <td>0.086213</td>\n",
       "      <td>0.086140</td>\n",
       "      <td>0.085463</td>\n",
       "      <td>-1.457112</td>\n",
       "      <td>-1.461441</td>\n",
       "      <td>-1.457837</td>\n",
       "      <td>0.994168</td>\n",
       "      <td>...</td>\n",
       "      <td>0.453008</td>\n",
       "      <td>0.085658</td>\n",
       "      <td>0.087335</td>\n",
       "      <td>0.087255</td>\n",
       "      <td>-1.456146</td>\n",
       "      <td>-1.568423</td>\n",
       "      <td>-1.566712</td>\n",
       "      <td>0.999803</td>\n",
       "      <td>0.620021</td>\n",
       "      <td>0</td>\n",
       "    </tr>\n",
       "    <tr>\n",
       "      <th>1580</th>\n",
       "      <td>0.516060</td>\n",
       "      <td>0.516164</td>\n",
       "      <td>0.518232</td>\n",
       "      <td>0.056240</td>\n",
       "      <td>0.056422</td>\n",
       "      <td>0.055640</td>\n",
       "      <td>-1.520927</td>\n",
       "      <td>-1.523385</td>\n",
       "      <td>-1.456676</td>\n",
       "      <td>1.014291</td>\n",
       "      <td>...</td>\n",
       "      <td>0.518791</td>\n",
       "      <td>0.055762</td>\n",
       "      <td>0.056104</td>\n",
       "      <td>0.056140</td>\n",
       "      <td>-1.459705</td>\n",
       "      <td>-1.474936</td>\n",
       "      <td>-1.476004</td>\n",
       "      <td>1.014105</td>\n",
       "      <td>0.767538</td>\n",
       "      <td>1</td>\n",
       "    </tr>\n",
       "    <tr>\n",
       "      <th>...</th>\n",
       "      <td>...</td>\n",
       "      <td>...</td>\n",
       "      <td>...</td>\n",
       "      <td>...</td>\n",
       "      <td>...</td>\n",
       "      <td>...</td>\n",
       "      <td>...</td>\n",
       "      <td>...</td>\n",
       "      <td>...</td>\n",
       "      <td>...</td>\n",
       "      <td>...</td>\n",
       "      <td>...</td>\n",
       "      <td>...</td>\n",
       "      <td>...</td>\n",
       "      <td>...</td>\n",
       "      <td>...</td>\n",
       "      <td>...</td>\n",
       "      <td>...</td>\n",
       "      <td>...</td>\n",
       "      <td>...</td>\n",
       "      <td>...</td>\n",
       "    </tr>\n",
       "    <tr>\n",
       "      <th>768</th>\n",
       "      <td>0.479831</td>\n",
       "      <td>0.480372</td>\n",
       "      <td>0.483640</td>\n",
       "      <td>0.047713</td>\n",
       "      <td>0.048126</td>\n",
       "      <td>0.046003</td>\n",
       "      <td>0.043543</td>\n",
       "      <td>-0.004394</td>\n",
       "      <td>0.088956</td>\n",
       "      <td>0.973266</td>\n",
       "      <td>...</td>\n",
       "      <td>0.482393</td>\n",
       "      <td>0.047595</td>\n",
       "      <td>0.048285</td>\n",
       "      <td>0.048586</td>\n",
       "      <td>0.031921</td>\n",
       "      <td>0.491241</td>\n",
       "      <td>0.315381</td>\n",
       "      <td>0.973939</td>\n",
       "      <td>0.621060</td>\n",
       "      <td>1</td>\n",
       "    </tr>\n",
       "    <tr>\n",
       "      <th>1587</th>\n",
       "      <td>0.513058</td>\n",
       "      <td>0.516190</td>\n",
       "      <td>0.518941</td>\n",
       "      <td>0.057816</td>\n",
       "      <td>0.058313</td>\n",
       "      <td>0.062363</td>\n",
       "      <td>-0.834600</td>\n",
       "      <td>-0.205328</td>\n",
       "      <td>2.334407</td>\n",
       "      <td>1.155728</td>\n",
       "      <td>...</td>\n",
       "      <td>0.513005</td>\n",
       "      <td>0.063133</td>\n",
       "      <td>0.065813</td>\n",
       "      <td>0.066530</td>\n",
       "      <td>2.148200</td>\n",
       "      <td>0.525096</td>\n",
       "      <td>-0.002534</td>\n",
       "      <td>1.212570</td>\n",
       "      <td>0.666167</td>\n",
       "      <td>1</td>\n",
       "    </tr>\n",
       "    <tr>\n",
       "      <th>698</th>\n",
       "      <td>0.460371</td>\n",
       "      <td>0.460377</td>\n",
       "      <td>0.460746</td>\n",
       "      <td>0.017242</td>\n",
       "      <td>0.017263</td>\n",
       "      <td>0.017075</td>\n",
       "      <td>-1.508163</td>\n",
       "      <td>-1.504441</td>\n",
       "      <td>-1.456974</td>\n",
       "      <td>0.836943</td>\n",
       "      <td>...</td>\n",
       "      <td>0.461195</td>\n",
       "      <td>0.017125</td>\n",
       "      <td>0.017394</td>\n",
       "      <td>0.017323</td>\n",
       "      <td>-1.459734</td>\n",
       "      <td>-1.515478</td>\n",
       "      <td>-1.515559</td>\n",
       "      <td>0.837878</td>\n",
       "      <td>0.759569</td>\n",
       "      <td>0</td>\n",
       "    </tr>\n",
       "    <tr>\n",
       "      <th>2688</th>\n",
       "      <td>0.506575</td>\n",
       "      <td>0.503394</td>\n",
       "      <td>0.509226</td>\n",
       "      <td>0.075304</td>\n",
       "      <td>0.078267</td>\n",
       "      <td>0.072361</td>\n",
       "      <td>-0.685889</td>\n",
       "      <td>-0.323129</td>\n",
       "      <td>-0.787883</td>\n",
       "      <td>1.074140</td>\n",
       "      <td>...</td>\n",
       "      <td>0.515959</td>\n",
       "      <td>0.071246</td>\n",
       "      <td>0.071228</td>\n",
       "      <td>0.071867</td>\n",
       "      <td>-1.003463</td>\n",
       "      <td>-1.116688</td>\n",
       "      <td>-1.147560</td>\n",
       "      <td>1.072564</td>\n",
       "      <td>0.692598</td>\n",
       "      <td>1</td>\n",
       "    </tr>\n",
       "    <tr>\n",
       "      <th>764</th>\n",
       "      <td>0.475733</td>\n",
       "      <td>0.476118</td>\n",
       "      <td>0.477810</td>\n",
       "      <td>0.096052</td>\n",
       "      <td>0.096377</td>\n",
       "      <td>0.095107</td>\n",
       "      <td>-1.292539</td>\n",
       "      <td>-1.298347</td>\n",
       "      <td>-1.300208</td>\n",
       "      <td>1.079819</td>\n",
       "      <td>...</td>\n",
       "      <td>0.479204</td>\n",
       "      <td>0.094190</td>\n",
       "      <td>0.095706</td>\n",
       "      <td>0.095954</td>\n",
       "      <td>-1.302870</td>\n",
       "      <td>-1.402639</td>\n",
       "      <td>-1.375349</td>\n",
       "      <td>1.077534</td>\n",
       "      <td>0.626467</td>\n",
       "      <td>1</td>\n",
       "    </tr>\n",
       "  </tbody>\n",
       "</table>\n",
       "<p>1998 rows × 23 columns</p>\n",
       "</div>"
      ],
      "text/plain": [
       "             0         1         2         3         4         5         6  \\\n",
       "3341  0.509195  0.509229  0.510101  0.084972  0.084892  0.084294 -1.458448   \n",
       "6293  0.483223  0.481863  0.479714  0.075067  0.075692  0.078966 -1.690253   \n",
       "4059  0.449525  0.451768  0.449136  0.101657  0.098383  0.097911  0.211955   \n",
       "161   0.448403  0.448481  0.449850  0.086213  0.086140  0.085463 -1.457112   \n",
       "1580  0.516060  0.516164  0.518232  0.056240  0.056422  0.055640 -1.520927   \n",
       "...        ...       ...       ...       ...       ...       ...       ...   \n",
       "768   0.479831  0.480372  0.483640  0.047713  0.048126  0.046003  0.043543   \n",
       "1587  0.513058  0.516190  0.518941  0.057816  0.058313  0.062363 -0.834600   \n",
       "698   0.460371  0.460377  0.460746  0.017242  0.017263  0.017075 -1.508163   \n",
       "2688  0.506575  0.503394  0.509226  0.075304  0.078267  0.072361 -0.685889   \n",
       "764   0.475733  0.476118  0.477810  0.096052  0.096377  0.095107 -1.292539   \n",
       "\n",
       "             7         8         9  ...        13        14        15  \\\n",
       "3341 -1.458571 -1.455409  1.089425  ...  0.513458  0.084376  0.086006   \n",
       "6293 -1.650120 -1.650318  0.989015  ...  0.486959  0.080470  0.077715   \n",
       "4059 -0.124777  0.347678  1.021423  ...  0.448761  0.103235  0.108022   \n",
       "161  -1.461441 -1.457837  0.994168  ...  0.453008  0.085658  0.087335   \n",
       "1580 -1.523385 -1.456676  1.014291  ...  0.518791  0.055762  0.056104   \n",
       "...        ...       ...       ...  ...       ...       ...       ...   \n",
       "768  -0.004394  0.088956  0.973266  ...  0.482393  0.047595  0.048285   \n",
       "1587 -0.205328  2.334407  1.155728  ...  0.513005  0.063133  0.065813   \n",
       "698  -1.504441 -1.456974  0.836943  ...  0.461195  0.017125  0.017394   \n",
       "2688 -0.323129 -0.787883  1.074140  ...  0.515959  0.071246  0.071228   \n",
       "764  -1.298347 -1.300208  1.079819  ...  0.479204  0.094190  0.095706   \n",
       "\n",
       "            16        17        18        19        20        21  outcome  \n",
       "3341  0.085998 -1.455414 -1.577947 -1.578112  1.089854  0.746878        0  \n",
       "6293  0.074909 -1.675270 -1.662334 -1.635824  1.007304  0.633375        0  \n",
       "4059  0.105559  0.175011 -0.063799 -0.303852  1.023497  0.381499        0  \n",
       "161   0.087255 -1.456146 -1.568423 -1.566712  0.999803  0.620021        0  \n",
       "1580  0.056140 -1.459705 -1.474936 -1.476004  1.014105  0.767538        1  \n",
       "...        ...       ...       ...       ...       ...       ...      ...  \n",
       "768   0.048586  0.031921  0.491241  0.315381  0.973939  0.621060        1  \n",
       "1587  0.066530  2.148200  0.525096 -0.002534  1.212570  0.666167        1  \n",
       "698   0.017323 -1.459734 -1.515478 -1.515559  0.837878  0.759569        0  \n",
       "2688  0.071867 -1.003463 -1.116688 -1.147560  1.072564  0.692598        1  \n",
       "764   0.095954 -1.302870 -1.402639 -1.375349  1.077534  0.626467        1  \n",
       "\n",
       "[1998 rows x 23 columns]"
      ]
     },
     "execution_count": 113,
     "metadata": {},
     "output_type": "execute_result"
    }
   ],
   "source": [
    "falls_filtered_normalised_df = feature_and_outcome_filtered_normalised_df[feature_and_outcome_filtered_normalised_df['outcome'] == 1]\n",
    "not_falls_filtered_normalised_df = feature_and_outcome_filtered_normalised_df[feature_and_outcome_filtered_normalised_df['outcome'] == 0]\n",
    "\n",
    "undersampled_not_falls_filtered_normalised = not_falls_filtered_normalised_df.sample(n=len(falls_filtered_normalised_df), random_state=42)\n",
    "balanced_features_filtered_normalised = pd.concat([undersampled_not_falls_filtered_normalised, falls_filtered_normalised_df])\n",
    "balanced_features_filtered_normalised = balanced_features_filtered_normalised.sample(frac=1, random_state=42)\n",
    "balanced_features_filtered_normalised"
   ]
  },
  {
   "cell_type": "code",
   "execution_count": 114,
   "metadata": {},
   "outputs": [
    {
     "data": {
      "text/plain": [
       "outcome\n",
       "0          999\n",
       "1          999\n",
       "dtype: int64"
      ]
     },
     "execution_count": 114,
     "metadata": {},
     "output_type": "execute_result"
    }
   ],
   "source": [
    "features_filtered_normalised_shuffled = balanced_features_filtered_normalised.drop(columns=['outcome'])\n",
    "features_filtered_normalised_shuffled\n",
    "\n",
    "outcome_filtered_normalised_shuffled = balanced_features_filtered_normalised.loc[:,['outcome']]\n",
    "outcome_filtered_normalised_shuffled.value_counts()"
   ]
  },
  {
   "cell_type": "code",
   "execution_count": 115,
   "metadata": {},
   "outputs": [],
   "source": [
    "X_filtered_normalised_train, X_filtered_normalised_test, y_filtered_normalised_train, y_filtered_normalised_test = train_test_split(features_filtered_normalised_shuffled, outcome_filtered_normalised_shuffled, test_size=0.25, random_state=0, stratify=outcome_filtered_normalised_shuffled)"
   ]
  },
  {
   "cell_type": "code",
   "execution_count": 116,
   "metadata": {},
   "outputs": [
    {
     "data": {
      "text/plain": [
       "((1498, 22), (500, 22), (1498, 1), (500, 1))"
      ]
     },
     "execution_count": 116,
     "metadata": {},
     "output_type": "execute_result"
    }
   ],
   "source": [
    "X_filtered_normalised_train.shape, X_filtered_normalised_test.shape, y_filtered_normalised_train.shape, y_filtered_normalised_test.shape"
   ]
  },
  {
   "cell_type": "code",
   "execution_count": 117,
   "metadata": {},
   "outputs": [
    {
     "data": {
      "text/plain": [
       "{0: 749, 1: 749}"
      ]
     },
     "execution_count": 117,
     "metadata": {},
     "output_type": "execute_result"
    }
   ],
   "source": [
    "unique, counts = np.unique(y_filtered_train, return_counts=True)\n",
    "dict(zip(unique, counts))"
   ]
  },
  {
   "cell_type": "markdown",
   "metadata": {},
   "source": [
    "### Traditional Machine Learning Methods"
   ]
  },
  {
   "cell_type": "code",
   "execution_count": 118,
   "metadata": {},
   "outputs": [],
   "source": [
    "filtered_normalised_model_name_array = []\n",
    "filtered_normalised_model_acc_array = []"
   ]
  },
  {
   "cell_type": "code",
   "execution_count": 119,
   "metadata": {},
   "outputs": [
    {
     "name": "stderr",
     "output_type": "stream",
     "text": [
      "c:\\Users\\Alex\\anaconda3\\lib\\site-packages\\sklearn\\neighbors\\_classification.py:198: DataConversionWarning: A column-vector y was passed when a 1d array was expected. Please change the shape of y to (n_samples,), for example using ravel().\n",
      "  return self._fit(X, y)\n"
     ]
    },
    {
     "data": {
      "text/plain": [
       "KNeighborsClassifier()"
      ]
     },
     "execution_count": 119,
     "metadata": {},
     "output_type": "execute_result"
    }
   ],
   "source": [
    "knn_model_filtered_normalised = KNeighborsClassifier(n_neighbors=5)\n",
    "knn_model_filtered_normalised.fit(X_filtered_normalised_train, y_filtered_normalised_train)"
   ]
  },
  {
   "cell_type": "code",
   "execution_count": 120,
   "metadata": {},
   "outputs": [
    {
     "name": "stdout",
     "output_type": "stream",
     "text": [
      "[[205  45]\n",
      " [ 60 190]]\n",
      "0.79\n",
      "0.79\n"
     ]
    },
    {
     "name": "stderr",
     "output_type": "stream",
     "text": [
      "c:\\Users\\Alex\\anaconda3\\lib\\site-packages\\sklearn\\neighbors\\_classification.py:228: FutureWarning: Unlike other reduction functions (e.g. `skew`, `kurtosis`), the default behavior of `mode` typically preserves the axis it acts along. In SciPy 1.11.0, this behavior will change: the default value of `keepdims` will become False, the `axis` over which the statistic is taken will be eliminated, and the value None will no longer be accepted. Set `keepdims` to True or False to avoid this warning.\n",
      "  mode, _ = stats.mode(_y[neigh_ind, k], axis=1)\n"
     ]
    }
   ],
   "source": [
    "# Predict on the test set\n",
    "predicted_knn_filtered_normalised = knn_model_filtered_normalised.predict(X_filtered_normalised_test)\n",
    "\n",
    "# Print metrics\n",
    "print(confusion_matrix(y_filtered_normalised_test, predicted_knn_filtered_normalised))\n",
    "print(accuracy_score(y_filtered_normalised_test, predicted_knn_filtered_normalised))\n",
    "print(f1_score(y_filtered_normalised_test, predicted_knn_filtered_normalised, average='micro'))\n",
    "# compare_trad_models(\"knn\", accuracy_score(y_test, predicted))\n",
    "filtered_normalised_model_name_array.append(\"knn\")\n",
    "filtered_normalised_model_acc_array.append(accuracy_score(y_filtered_normalised_test, predicted_knn_filtered_normalised))"
   ]
  },
  {
   "cell_type": "code",
   "execution_count": 121,
   "metadata": {},
   "outputs": [],
   "source": [
    "# from sklearn.model_selection import GridSearchCV\n",
    "\n",
    "# max_features_range = np.arange(1, 6, 1)\n",
    "# n_estimators_range = np.arange(10, 210, 10)\n",
    "# n_neighbors_range = np.arange(1, 100, 1)\n",
    "# # param_grid = dict(max_features = max_features_range, n_estimators = n_estimators_range, n_neighbors = n_neighbors_range)\n",
    "# param_grid = dict(n_neighbors = n_neighbors_range)\n",
    "\n",
    "# knnTest = KNeighborsClassifier(n_neighbors=5)\n",
    "\n",
    "# grid = GridSearchCV(estimator=knnTest, param_grid=param_grid, scoring='accuracy', cv=5)\n",
    "\n",
    "# grid.fit(X_train, y_train)\n",
    "# print(\"The best parameters are %s with a score of %f\" % (grid.best_params_, grid.best_score_))"
   ]
  },
  {
   "cell_type": "code",
   "execution_count": 122,
   "metadata": {},
   "outputs": [
    {
     "name": "stderr",
     "output_type": "stream",
     "text": [
      "c:\\Users\\Alex\\anaconda3\\lib\\site-packages\\sklearn\\utils\\validation.py:993: DataConversionWarning: A column-vector y was passed when a 1d array was expected. Please change the shape of y to (n_samples, ), for example using ravel().\n",
      "  y = column_or_1d(y, warn=True)\n"
     ]
    },
    {
     "data": {
      "text/plain": [
       "SVC(C=1, kernel='linear', random_state=0)"
      ]
     },
     "execution_count": 122,
     "metadata": {},
     "output_type": "execute_result"
    }
   ],
   "source": [
    "svm_model_filtered_normalised = svm.SVC(kernel='linear', C=1, random_state=0)\n",
    "# gaussian\n",
    "svm_model_filtered_normalised.fit(X_filtered_normalised_train, y_filtered_normalised_train)"
   ]
  },
  {
   "cell_type": "code",
   "execution_count": 123,
   "metadata": {},
   "outputs": [
    {
     "name": "stdout",
     "output_type": "stream",
     "text": [
      "[[183  67]\n",
      " [ 82 168]]\n",
      "0.702\n",
      "0.702\n"
     ]
    }
   ],
   "source": [
    "# Predict on the test set\n",
    "predicted_svm_filtered_normalised = svm_model_filtered_normalised.predict(X_filtered_normalised_test)\n",
    "\n",
    "# Print metrics\n",
    "print(confusion_matrix(y_filtered_normalised_test, predicted_svm_filtered_normalised))\n",
    "print(accuracy_score(y_filtered_normalised_test, predicted_svm_filtered_normalised))\n",
    "print(f1_score(y_filtered_normalised_test, predicted_svm_filtered_normalised, average='micro'))\n",
    "# compare_trad_models(\"knn\", accuracy_score(y_test, predicted))\n",
    "filtered_normalised_model_name_array.append(\"svm\")\n",
    "filtered_normalised_model_acc_array.append(accuracy_score(y_filtered_normalised_test, predicted_svm_filtered_normalised))"
   ]
  },
  {
   "cell_type": "code",
   "execution_count": 124,
   "metadata": {},
   "outputs": [
    {
     "name": "stderr",
     "output_type": "stream",
     "text": [
      "c:\\Users\\Alex\\anaconda3\\lib\\site-packages\\sklearn\\utils\\validation.py:993: DataConversionWarning: A column-vector y was passed when a 1d array was expected. Please change the shape of y to (n_samples, ), for example using ravel().\n",
      "  y = column_or_1d(y, warn=True)\n"
     ]
    },
    {
     "data": {
      "text/plain": [
       "SVC(C=1, random_state=0)"
      ]
     },
     "execution_count": 124,
     "metadata": {},
     "output_type": "execute_result"
    }
   ],
   "source": [
    "svm_rbf_model_filtered_normalised = svm.SVC(kernel='rbf', C=1, random_state=0)\n",
    "svm_rbf_model_filtered_normalised.fit(X_filtered_normalised_train, y_filtered_normalised_train)"
   ]
  },
  {
   "cell_type": "code",
   "execution_count": 125,
   "metadata": {},
   "outputs": [
    {
     "name": "stdout",
     "output_type": "stream",
     "text": [
      "[[215  35]\n",
      " [119 131]]\n",
      "0.692\n",
      "0.692\n"
     ]
    }
   ],
   "source": [
    "# Predict on the test set\n",
    "predicted_svm_rbf_filtered_normalised = svm_rbf_model_filtered_normalised.predict(X_filtered_normalised_test)\n",
    "\n",
    "# Print metrics\n",
    "print(confusion_matrix(y_filtered_normalised_test, predicted_svm_rbf_filtered_normalised))\n",
    "print(accuracy_score(y_filtered_normalised_test, predicted_svm_rbf_filtered_normalised))\n",
    "print(f1_score(y_filtered_normalised_test, predicted_svm_rbf_filtered_normalised, average='micro'))\n",
    "# compare_trad_models(\"knn\", accuracy_score(y_test, predicted))\n",
    "filtered_normalised_model_name_array.append(\"svm_rbf\")\n",
    "filtered_normalised_model_acc_array.append(accuracy_score(y_filtered_normalised_test, predicted_svm_rbf_filtered_normalised))"
   ]
  },
  {
   "cell_type": "code",
   "execution_count": 126,
   "metadata": {},
   "outputs": [
    {
     "name": "stderr",
     "output_type": "stream",
     "text": [
      "C:\\Users\\Alex\\AppData\\Local\\Temp\\ipykernel_35204\\1829240526.py:2: DataConversionWarning: A column-vector y was passed when a 1d array was expected. Please change the shape of y to (n_samples,), for example using ravel().\n",
      "  rf_model_filtered_normalised.fit(X_filtered_train, y_filtered_normalised_train)\n"
     ]
    },
    {
     "data": {
      "text/plain": [
       "RandomForestClassifier(random_state=42)"
      ]
     },
     "execution_count": 126,
     "metadata": {},
     "output_type": "execute_result"
    }
   ],
   "source": [
    "rf_model_filtered_normalised = RandomForestClassifier(n_estimators = 100, random_state = 42)\n",
    "rf_model_filtered_normalised.fit(X_filtered_train, y_filtered_normalised_train)"
   ]
  },
  {
   "cell_type": "code",
   "execution_count": 127,
   "metadata": {},
   "outputs": [
    {
     "name": "stdout",
     "output_type": "stream",
     "text": [
      "[[ 13 237]\n",
      " [ 37 213]]\n",
      "0.452\n",
      "0.452\n"
     ]
    }
   ],
   "source": [
    "# Predict on the test set\n",
    "predicted_rf_filtered_normalised = rf_model_filtered_normalised.predict(X_filtered_normalised_test)\n",
    "\n",
    "# Print metrics\n",
    "print(confusion_matrix(y_filtered_normalised_test, predicted_rf_filtered_normalised))\n",
    "print(accuracy_score(y_filtered_normalised_test, predicted_rf_filtered_normalised))\n",
    "print(f1_score(y_filtered_normalised_test, predicted_rf_filtered_normalised, average='micro'))\n",
    "# compare_trad_models(\"knn\", accuracy_score(y_test, predicted))\n",
    "filtered_normalised_model_name_array.append(\"rf\")\n",
    "filtered_normalised_model_acc_array.append(accuracy_score(y_filtered_normalised_test, predicted_rf_filtered_normalised))"
   ]
  },
  {
   "cell_type": "code",
   "execution_count": 128,
   "metadata": {},
   "outputs": [
    {
     "name": "stderr",
     "output_type": "stream",
     "text": [
      "c:\\Users\\Alex\\anaconda3\\lib\\site-packages\\sklearn\\utils\\validation.py:993: DataConversionWarning: A column-vector y was passed when a 1d array was expected. Please change the shape of y to (n_samples, ), for example using ravel().\n",
      "  y = column_or_1d(y, warn=True)\n"
     ]
    },
    {
     "data": {
      "text/plain": [
       "GaussianNB()"
      ]
     },
     "execution_count": 128,
     "metadata": {},
     "output_type": "execute_result"
    }
   ],
   "source": [
    "nb_model_filtered_normalised = GaussianNB()\n",
    "nb_model_filtered_normalised.fit(X_filtered_normalised_train, y_filtered_normalised_train)"
   ]
  },
  {
   "cell_type": "code",
   "execution_count": 129,
   "metadata": {},
   "outputs": [
    {
     "name": "stdout",
     "output_type": "stream",
     "text": [
      "[[222  28]\n",
      " [171  79]]\n",
      "0.602\n",
      "0.602\n"
     ]
    }
   ],
   "source": [
    "# Predict on the test set\n",
    "predicted_nb_filtered_normalised = nb_model_filtered_normalised.predict(X_filtered_normalised_test)\n",
    "\n",
    "# Print metrics\n",
    "print(confusion_matrix(y_filtered_normalised_test, predicted_nb_filtered_normalised))\n",
    "print(accuracy_score(y_filtered_normalised_test, predicted_nb_filtered_normalised))\n",
    "print(f1_score(y_filtered_normalised_test, predicted_nb_filtered_normalised, average='micro'))\n",
    "# compare_trad_models(\"knn\", accuracy_score(y_test, predicted))\n",
    "filtered_normalised_model_name_array.append(\"nb\")\n",
    "filtered_normalised_model_acc_array.append(accuracy_score(y_filtered_normalised_test, predicted_nb_filtered_normalised))"
   ]
  },
  {
   "cell_type": "code",
   "execution_count": 130,
   "metadata": {},
   "outputs": [
    {
     "name": "stdout",
     "output_type": "stream",
     "text": [
      "Best model: knn, Accuracy: 0.79\n"
     ]
    }
   ],
   "source": [
    "best_trad_model_acc_filtered_normalised = max(filtered_normalised_model_acc_array)\n",
    "index = filtered_normalised_model_acc_array.index(max(filtered_normalised_model_acc_array))\n",
    "best_trad_model_filtered_normalised = filtered_normalised_model_name_array[index]\n",
    "print(f\"Best model: {best_trad_model_filtered_normalised}, Accuracy: {best_trad_model_acc_filtered_normalised}\")"
   ]
  },
  {
   "cell_type": "code",
   "execution_count": 131,
   "metadata": {},
   "outputs": [
    {
     "name": "stdout",
     "output_type": "stream",
     "text": [
      "name: knn, accuracy: 0.79\n",
      "name: svm, accuracy: 0.702\n",
      "name: svm_rbf, accuracy: 0.692\n",
      "name: rf, accuracy: 0.452\n",
      "name: nb, accuracy: 0.602\n"
     ]
    }
   ],
   "source": [
    "for i in range(0, len(filtered_normalised_model_name_array)):\n",
    "    print(f\"name: {filtered_normalised_model_name_array[i]}, accuracy: {filtered_normalised_model_acc_array[i]}\")"
   ]
  },
  {
   "cell_type": "code",
   "execution_count": 132,
   "metadata": {},
   "outputs": [],
   "source": [
    "filtered_normalised_model_dictionary = {\"knn\": knn_model_filtered_normalised,\n",
    "                             \"svm\": svm_model_filtered_normalised,\n",
    "                             \"svm_rbf\": svm_rbf_model_filtered_normalised,\n",
    "                             \"rf\": rf_model_filtered_normalised,\n",
    "                             \"nb\": nb_model_filtered_normalised}"
   ]
  },
  {
   "cell_type": "code",
   "execution_count": 133,
   "metadata": {},
   "outputs": [
    {
     "name": "stderr",
     "output_type": "stream",
     "text": [
      "c:\\Users\\Alex\\anaconda3\\lib\\site-packages\\sklearn\\neighbors\\_classification.py:198: DataConversionWarning: A column-vector y was passed when a 1d array was expected. Please change the shape of y to (n_samples,), for example using ravel().\n",
      "  return self._fit(X, y)\n",
      "c:\\Users\\Alex\\anaconda3\\lib\\site-packages\\sklearn\\neighbors\\_classification.py:228: FutureWarning: Unlike other reduction functions (e.g. `skew`, `kurtosis`), the default behavior of `mode` typically preserves the axis it acts along. In SciPy 1.11.0, this behavior will change: the default value of `keepdims` will become False, the `axis` over which the statistic is taken will be eliminated, and the value None will no longer be accepted. Set `keepdims` to True or False to avoid this warning.\n",
      "  mode, _ = stats.mode(_y[neigh_ind, k], axis=1)\n",
      "c:\\Users\\Alex\\anaconda3\\lib\\site-packages\\sklearn\\neighbors\\_classification.py:198: DataConversionWarning: A column-vector y was passed when a 1d array was expected. Please change the shape of y to (n_samples,), for example using ravel().\n",
      "  return self._fit(X, y)\n",
      "c:\\Users\\Alex\\anaconda3\\lib\\site-packages\\sklearn\\neighbors\\_classification.py:228: FutureWarning: Unlike other reduction functions (e.g. `skew`, `kurtosis`), the default behavior of `mode` typically preserves the axis it acts along. In SciPy 1.11.0, this behavior will change: the default value of `keepdims` will become False, the `axis` over which the statistic is taken will be eliminated, and the value None will no longer be accepted. Set `keepdims` to True or False to avoid this warning.\n",
      "  mode, _ = stats.mode(_y[neigh_ind, k], axis=1)\n",
      "c:\\Users\\Alex\\anaconda3\\lib\\site-packages\\sklearn\\neighbors\\_classification.py:198: DataConversionWarning: A column-vector y was passed when a 1d array was expected. Please change the shape of y to (n_samples,), for example using ravel().\n",
      "  return self._fit(X, y)\n",
      "c:\\Users\\Alex\\anaconda3\\lib\\site-packages\\sklearn\\neighbors\\_classification.py:228: FutureWarning: Unlike other reduction functions (e.g. `skew`, `kurtosis`), the default behavior of `mode` typically preserves the axis it acts along. In SciPy 1.11.0, this behavior will change: the default value of `keepdims` will become False, the `axis` over which the statistic is taken will be eliminated, and the value None will no longer be accepted. Set `keepdims` to True or False to avoid this warning.\n",
      "  mode, _ = stats.mode(_y[neigh_ind, k], axis=1)\n",
      "c:\\Users\\Alex\\anaconda3\\lib\\site-packages\\sklearn\\neighbors\\_classification.py:198: DataConversionWarning: A column-vector y was passed when a 1d array was expected. Please change the shape of y to (n_samples,), for example using ravel().\n",
      "  return self._fit(X, y)\n",
      "c:\\Users\\Alex\\anaconda3\\lib\\site-packages\\sklearn\\neighbors\\_classification.py:228: FutureWarning: Unlike other reduction functions (e.g. `skew`, `kurtosis`), the default behavior of `mode` typically preserves the axis it acts along. In SciPy 1.11.0, this behavior will change: the default value of `keepdims` will become False, the `axis` over which the statistic is taken will be eliminated, and the value None will no longer be accepted. Set `keepdims` to True or False to avoid this warning.\n",
      "  mode, _ = stats.mode(_y[neigh_ind, k], axis=1)\n",
      "c:\\Users\\Alex\\anaconda3\\lib\\site-packages\\sklearn\\neighbors\\_classification.py:198: DataConversionWarning: A column-vector y was passed when a 1d array was expected. Please change the shape of y to (n_samples,), for example using ravel().\n",
      "  return self._fit(X, y)\n",
      "c:\\Users\\Alex\\anaconda3\\lib\\site-packages\\sklearn\\neighbors\\_classification.py:228: FutureWarning: Unlike other reduction functions (e.g. `skew`, `kurtosis`), the default behavior of `mode` typically preserves the axis it acts along. In SciPy 1.11.0, this behavior will change: the default value of `keepdims` will become False, the `axis` over which the statistic is taken will be eliminated, and the value None will no longer be accepted. Set `keepdims` to True or False to avoid this warning.\n",
      "  mode, _ = stats.mode(_y[neigh_ind, k], axis=1)\n",
      "c:\\Users\\Alex\\anaconda3\\lib\\site-packages\\sklearn\\utils\\validation.py:993: DataConversionWarning: A column-vector y was passed when a 1d array was expected. Please change the shape of y to (n_samples, ), for example using ravel().\n",
      "  y = column_or_1d(y, warn=True)\n",
      "c:\\Users\\Alex\\anaconda3\\lib\\site-packages\\sklearn\\utils\\validation.py:993: DataConversionWarning: A column-vector y was passed when a 1d array was expected. Please change the shape of y to (n_samples, ), for example using ravel().\n",
      "  y = column_or_1d(y, warn=True)\n",
      "c:\\Users\\Alex\\anaconda3\\lib\\site-packages\\sklearn\\utils\\validation.py:993: DataConversionWarning: A column-vector y was passed when a 1d array was expected. Please change the shape of y to (n_samples, ), for example using ravel().\n",
      "  y = column_or_1d(y, warn=True)\n",
      "c:\\Users\\Alex\\anaconda3\\lib\\site-packages\\sklearn\\utils\\validation.py:993: DataConversionWarning: A column-vector y was passed when a 1d array was expected. Please change the shape of y to (n_samples, ), for example using ravel().\n",
      "  y = column_or_1d(y, warn=True)\n",
      "c:\\Users\\Alex\\anaconda3\\lib\\site-packages\\sklearn\\utils\\validation.py:993: DataConversionWarning: A column-vector y was passed when a 1d array was expected. Please change the shape of y to (n_samples, ), for example using ravel().\n",
      "  y = column_or_1d(y, warn=True)\n",
      "c:\\Users\\Alex\\anaconda3\\lib\\site-packages\\sklearn\\utils\\validation.py:993: DataConversionWarning: A column-vector y was passed when a 1d array was expected. Please change the shape of y to (n_samples, ), for example using ravel().\n",
      "  y = column_or_1d(y, warn=True)\n",
      "c:\\Users\\Alex\\anaconda3\\lib\\site-packages\\sklearn\\utils\\validation.py:993: DataConversionWarning: A column-vector y was passed when a 1d array was expected. Please change the shape of y to (n_samples, ), for example using ravel().\n",
      "  y = column_or_1d(y, warn=True)\n",
      "c:\\Users\\Alex\\anaconda3\\lib\\site-packages\\sklearn\\utils\\validation.py:993: DataConversionWarning: A column-vector y was passed when a 1d array was expected. Please change the shape of y to (n_samples, ), for example using ravel().\n",
      "  y = column_or_1d(y, warn=True)\n",
      "c:\\Users\\Alex\\anaconda3\\lib\\site-packages\\sklearn\\utils\\validation.py:993: DataConversionWarning: A column-vector y was passed when a 1d array was expected. Please change the shape of y to (n_samples, ), for example using ravel().\n",
      "  y = column_or_1d(y, warn=True)\n",
      "c:\\Users\\Alex\\anaconda3\\lib\\site-packages\\sklearn\\utils\\validation.py:993: DataConversionWarning: A column-vector y was passed when a 1d array was expected. Please change the shape of y to (n_samples, ), for example using ravel().\n",
      "  y = column_or_1d(y, warn=True)\n",
      "c:\\Users\\Alex\\anaconda3\\lib\\site-packages\\sklearn\\model_selection\\_validation.py:680: DataConversionWarning: A column-vector y was passed when a 1d array was expected. Please change the shape of y to (n_samples,), for example using ravel().\n",
      "  estimator.fit(X_train, y_train, **fit_params)\n",
      "c:\\Users\\Alex\\anaconda3\\lib\\site-packages\\sklearn\\model_selection\\_validation.py:680: DataConversionWarning: A column-vector y was passed when a 1d array was expected. Please change the shape of y to (n_samples,), for example using ravel().\n",
      "  estimator.fit(X_train, y_train, **fit_params)\n",
      "c:\\Users\\Alex\\anaconda3\\lib\\site-packages\\sklearn\\model_selection\\_validation.py:680: DataConversionWarning: A column-vector y was passed when a 1d array was expected. Please change the shape of y to (n_samples,), for example using ravel().\n",
      "  estimator.fit(X_train, y_train, **fit_params)\n",
      "c:\\Users\\Alex\\anaconda3\\lib\\site-packages\\sklearn\\model_selection\\_validation.py:680: DataConversionWarning: A column-vector y was passed when a 1d array was expected. Please change the shape of y to (n_samples,), for example using ravel().\n",
      "  estimator.fit(X_train, y_train, **fit_params)\n",
      "c:\\Users\\Alex\\anaconda3\\lib\\site-packages\\sklearn\\model_selection\\_validation.py:680: DataConversionWarning: A column-vector y was passed when a 1d array was expected. Please change the shape of y to (n_samples,), for example using ravel().\n",
      "  estimator.fit(X_train, y_train, **fit_params)\n",
      "c:\\Users\\Alex\\anaconda3\\lib\\site-packages\\sklearn\\utils\\validation.py:993: DataConversionWarning: A column-vector y was passed when a 1d array was expected. Please change the shape of y to (n_samples, ), for example using ravel().\n",
      "  y = column_or_1d(y, warn=True)\n",
      "c:\\Users\\Alex\\anaconda3\\lib\\site-packages\\sklearn\\utils\\validation.py:993: DataConversionWarning: A column-vector y was passed when a 1d array was expected. Please change the shape of y to (n_samples, ), for example using ravel().\n",
      "  y = column_or_1d(y, warn=True)\n",
      "c:\\Users\\Alex\\anaconda3\\lib\\site-packages\\sklearn\\utils\\validation.py:993: DataConversionWarning: A column-vector y was passed when a 1d array was expected. Please change the shape of y to (n_samples, ), for example using ravel().\n",
      "  y = column_or_1d(y, warn=True)\n",
      "c:\\Users\\Alex\\anaconda3\\lib\\site-packages\\sklearn\\utils\\validation.py:993: DataConversionWarning: A column-vector y was passed when a 1d array was expected. Please change the shape of y to (n_samples, ), for example using ravel().\n",
      "  y = column_or_1d(y, warn=True)\n",
      "c:\\Users\\Alex\\anaconda3\\lib\\site-packages\\sklearn\\utils\\validation.py:993: DataConversionWarning: A column-vector y was passed when a 1d array was expected. Please change the shape of y to (n_samples, ), for example using ravel().\n",
      "  y = column_or_1d(y, warn=True)\n"
     ]
    }
   ],
   "source": [
    "scores_array_filtered_normalised = perform_cross_val_all_models(filtered_normalised_model_dictionary, X_filtered_normalised_train, y_filtered_normalised_train)"
   ]
  },
  {
   "cell_type": "code",
   "execution_count": 134,
   "metadata": {},
   "outputs": [
    {
     "name": "stdout",
     "output_type": "stream",
     "text": [
      "knn Accuracy: 0.78 (+/- 0.03)\n",
      "svm Accuracy: 0.70 (+/- 0.04)\n",
      "svm_rbf Accuracy: 0.72 (+/- 0.04)\n",
      "rf Accuracy: 0.85 (+/- 0.05)\n",
      "nb Accuracy: 0.60 (+/- 0.07)\n"
     ]
    }
   ],
   "source": [
    "for cv_tuple in scores_array_filtered_normalised:\n",
    "    print(\"%s Accuracy: %0.2f (+/- %0.2f)\" % (cv_tuple[0], cv_tuple[1].mean(), cv_tuple[1].std() * 2))"
   ]
  },
  {
   "cell_type": "code",
   "execution_count": 135,
   "metadata": {},
   "outputs": [
    {
     "name": "stdout",
     "output_type": "stream",
     "text": [
      "Classification report for knn\n",
      "              precision    recall  f1-score   support\n",
      "\n",
      "           0       0.77      0.82      0.80       250\n",
      "           1       0.81      0.76      0.78       250\n",
      "\n",
      "    accuracy                           0.79       500\n",
      "   macro avg       0.79      0.79      0.79       500\n",
      "weighted avg       0.79      0.79      0.79       500\n",
      "\n",
      "=====================================================\n",
      "Classification report for svm\n",
      "              precision    recall  f1-score   support\n",
      "\n",
      "           0       0.69      0.73      0.71       250\n",
      "           1       0.71      0.67      0.69       250\n",
      "\n",
      "    accuracy                           0.70       500\n",
      "   macro avg       0.70      0.70      0.70       500\n",
      "weighted avg       0.70      0.70      0.70       500\n",
      "\n",
      "=====================================================\n",
      "Classification report for svm_rbf\n",
      "              precision    recall  f1-score   support\n",
      "\n",
      "           0       0.64      0.86      0.74       250\n",
      "           1       0.79      0.52      0.63       250\n",
      "\n",
      "    accuracy                           0.69       500\n",
      "   macro avg       0.72      0.69      0.68       500\n",
      "weighted avg       0.72      0.69      0.68       500\n",
      "\n",
      "=====================================================\n",
      "Classification report for rf\n"
     ]
    },
    {
     "name": "stderr",
     "output_type": "stream",
     "text": [
      "c:\\Users\\Alex\\anaconda3\\lib\\site-packages\\sklearn\\neighbors\\_classification.py:228: FutureWarning: Unlike other reduction functions (e.g. `skew`, `kurtosis`), the default behavior of `mode` typically preserves the axis it acts along. In SciPy 1.11.0, this behavior will change: the default value of `keepdims` will become False, the `axis` over which the statistic is taken will be eliminated, and the value None will no longer be accepted. Set `keepdims` to True or False to avoid this warning.\n",
      "  mode, _ = stats.mode(_y[neigh_ind, k], axis=1)\n"
     ]
    },
    {
     "name": "stdout",
     "output_type": "stream",
     "text": [
      "              precision    recall  f1-score   support\n",
      "\n",
      "           0       0.26      0.05      0.09       250\n",
      "           1       0.47      0.85      0.61       250\n",
      "\n",
      "    accuracy                           0.45       500\n",
      "   macro avg       0.37      0.45      0.35       500\n",
      "weighted avg       0.37      0.45      0.35       500\n",
      "\n",
      "=====================================================\n",
      "Classification report for nb\n",
      "              precision    recall  f1-score   support\n",
      "\n",
      "           0       0.56      0.89      0.69       250\n",
      "           1       0.74      0.32      0.44       250\n",
      "\n",
      "    accuracy                           0.60       500\n",
      "   macro avg       0.65      0.60      0.57       500\n",
      "weighted avg       0.65      0.60      0.57       500\n",
      "\n",
      "=====================================================\n"
     ]
    }
   ],
   "source": [
    "print_all_classification_reports(filtered_normalised_model_dictionary, X_filtered_normalised_test, y_filtered_normalised_test)"
   ]
  },
  {
   "cell_type": "code",
   "execution_count": 136,
   "metadata": {},
   "outputs": [
    {
     "name": "stdout",
     "output_type": "stream",
     "text": [
      "Classification report for knn\n"
     ]
    },
    {
     "name": "stderr",
     "output_type": "stream",
     "text": [
      "c:\\Users\\Alex\\anaconda3\\lib\\site-packages\\sklearn\\neighbors\\_classification.py:228: FutureWarning: Unlike other reduction functions (e.g. `skew`, `kurtosis`), the default behavior of `mode` typically preserves the axis it acts along. In SciPy 1.11.0, this behavior will change: the default value of `keepdims` will become False, the `axis` over which the statistic is taken will be eliminated, and the value None will no longer be accepted. Set `keepdims` to True or False to avoid this warning.\n",
      "  mode, _ = stats.mode(_y[neigh_ind, k], axis=1)\n"
     ]
    },
    {
     "name": "stdout",
     "output_type": "stream",
     "text": [
      "              precision    recall  f1-score   support\n",
      "\n",
      "           0       0.85      0.85      0.85       749\n",
      "           1       0.85      0.85      0.85       749\n",
      "\n",
      "    accuracy                           0.85      1498\n",
      "   macro avg       0.85      0.85      0.85      1498\n",
      "weighted avg       0.85      0.85      0.85      1498\n",
      "\n",
      "=====================================================\n",
      "Classification report for svm\n",
      "              precision    recall  f1-score   support\n",
      "\n",
      "           0       0.69      0.73      0.71       749\n",
      "           1       0.71      0.68      0.69       749\n",
      "\n",
      "    accuracy                           0.70      1498\n",
      "   macro avg       0.70      0.70      0.70      1498\n",
      "weighted avg       0.70      0.70      0.70      1498\n",
      "\n",
      "=====================================================\n",
      "Classification report for svm_rbf\n",
      "              precision    recall  f1-score   support\n",
      "\n",
      "           0       0.68      0.86      0.76       749\n",
      "           1       0.81      0.59      0.68       749\n",
      "\n",
      "    accuracy                           0.72      1498\n",
      "   macro avg       0.74      0.72      0.72      1498\n",
      "weighted avg       0.74      0.72      0.72      1498\n",
      "\n",
      "=====================================================\n",
      "Classification report for rf\n",
      "              precision    recall  f1-score   support\n",
      "\n",
      "           0       0.31      0.07      0.11       749\n",
      "           1       0.48      0.85      0.61       749\n",
      "\n",
      "    accuracy                           0.46      1498\n",
      "   macro avg       0.39      0.46      0.36      1498\n",
      "weighted avg       0.39      0.46      0.36      1498\n",
      "\n",
      "=====================================================\n",
      "Classification report for nb\n",
      "              precision    recall  f1-score   support\n",
      "\n",
      "           0       0.56      0.88      0.69       749\n",
      "           1       0.72      0.32      0.44       749\n",
      "\n",
      "    accuracy                           0.60      1498\n",
      "   macro avg       0.64      0.60      0.56      1498\n",
      "weighted avg       0.64      0.60      0.56      1498\n",
      "\n",
      "=====================================================\n"
     ]
    }
   ],
   "source": [
    "print_all_classification_reports_training(filtered_normalised_model_dictionary, X_filtered_normalised_train, y_filtered_normalised_train)"
   ]
  },
  {
   "cell_type": "code",
   "execution_count": 137,
   "metadata": {},
   "outputs": [],
   "source": [
    "from joblib import dump, load\n",
    "# save clf using joblib\n",
    "# dump(rf_model, 'New Models/rf_filtered_normalised.joblib')"
   ]
  },
  {
   "cell_type": "markdown",
   "metadata": {},
   "source": [
    "### Deep Learning"
   ]
  },
  {
   "cell_type": "markdown",
   "metadata": {},
   "source": [
    "#### The models below are trained using data which went through low-pass filter"
   ]
  },
  {
   "cell_type": "code",
   "execution_count": 138,
   "metadata": {},
   "outputs": [
    {
     "data": {
      "text/plain": [
       "((1998, 92, 6), (1998,))"
      ]
     },
     "execution_count": 138,
     "metadata": {},
     "output_type": "execute_result"
    }
   ],
   "source": [
    "X_filtered_normalised_undersampled, y_filtered_normalised_undersampled = feature_util_UPFall.balance_windows_undersample(X_filtered_normalised, y_filtered_normalised)\n",
    "X_filtered_normalised_undersampled.shape, y_filtered_normalised_undersampled.shape"
   ]
  },
  {
   "cell_type": "code",
   "execution_count": 139,
   "metadata": {},
   "outputs": [
    {
     "data": {
      "text/plain": [
       "((1498, 92, 6), (500, 92, 6), (1498,))"
      ]
     },
     "execution_count": 139,
     "metadata": {},
     "output_type": "execute_result"
    }
   ],
   "source": [
    "X_raw_filtered_normalised_train, X_raw_filtered_normalised_test, y_raw_filtered_normalised_train, y_raw_filtered_normalised_test = train_test_split(X_filtered_normalised_undersampled, y_filtered_normalised_undersampled, test_size=0.25, random_state=0, stratify=y_filtered_normalised_undersampled)\n",
    "X_raw_filtered_normalised_train.shape, X_raw_filtered_normalised_test.shape, y_raw_filtered_normalised_train.shape"
   ]
  },
  {
   "cell_type": "code",
   "execution_count": 140,
   "metadata": {},
   "outputs": [
    {
     "data": {
      "text/plain": [
       "(92, 6)"
      ]
     },
     "execution_count": 140,
     "metadata": {},
     "output_type": "execute_result"
    }
   ],
   "source": [
    "X_raw_filtered_normalised_train[0].shape"
   ]
  },
  {
   "cell_type": "code",
   "execution_count": 141,
   "metadata": {},
   "outputs": [],
   "source": [
    "X_raw_filtered_normalised_train = X_raw_filtered_normalised_train.reshape(X_TRAIN_SIZE, X_TRAIN_WINDOW_SIZE, 6, 1)\n",
    "X_raw_filtered_normalised_test = X_raw_filtered_normalised_test.reshape(X_TEST_SIZE, X_TEST_WINDOW_SIZE, 6, 1)"
   ]
  },
  {
   "cell_type": "code",
   "execution_count": 142,
   "metadata": {},
   "outputs": [
    {
     "data": {
      "text/plain": [
       "((92, 6, 1), (92, 6, 1))"
      ]
     },
     "execution_count": 142,
     "metadata": {},
     "output_type": "execute_result"
    }
   ],
   "source": [
    "X_raw_filtered_normalised_train[0].shape, X_raw_filtered_normalised_test[0].shape"
   ]
  },
  {
   "cell_type": "code",
   "execution_count": 143,
   "metadata": {},
   "outputs": [],
   "source": [
    "import tensorflow as tf\n",
    "from tensorflow.keras import Sequential\n",
    "from tensorflow.keras.layers import Flatten, Dense, Dropout, BatchNormalization\n",
    "from tensorflow.keras.layers import Conv2D, MaxPool2D\n",
    "from tensorflow.keras.optimizers import Adam"
   ]
  },
  {
   "cell_type": "code",
   "execution_count": 144,
   "metadata": {},
   "outputs": [],
   "source": [
    "cnn_model_filtered_normalised = Sequential()\n",
    "cnn_model_filtered_normalised.add(Conv2D(16, (2, 2), activation='relu', input_shape=X_raw_filtered_normalised_train[0].shape))\n",
    "cnn_model_filtered_normalised.add(Conv2D(32, (2, 2), activation='relu'))\n",
    "cnn_model_filtered_normalised.add(Flatten())\n",
    "cnn_model_filtered_normalised.add(Dense(64, activation='relu'))\n",
    "cnn_model_filtered_normalised.add(Dense(2, activation='softmax'))"
   ]
  },
  {
   "cell_type": "code",
   "execution_count": 145,
   "metadata": {},
   "outputs": [],
   "source": [
    "cnn_model_filtered_normalised.compile(optimizer=Adam(learning_rate=0.001), loss='sparse_categorical_crossentropy', metrics=['accuracy'])"
   ]
  },
  {
   "cell_type": "code",
   "execution_count": 146,
   "metadata": {},
   "outputs": [
    {
     "name": "stdout",
     "output_type": "stream",
     "text": [
      "Epoch 1/15\n",
      "47/47 [==============================] - 4s 31ms/step - loss: 0.7038 - accuracy: 0.4820 - val_loss: 0.6934 - val_accuracy: 0.5000\n",
      "Epoch 2/15\n",
      "47/47 [==============================] - 1s 27ms/step - loss: 0.6933 - accuracy: 0.4940 - val_loss: 0.6929 - val_accuracy: 0.5000\n",
      "Epoch 3/15\n",
      "47/47 [==============================] - 1s 27ms/step - loss: 0.6936 - accuracy: 0.5080 - val_loss: 0.6926 - val_accuracy: 0.5000\n",
      "Epoch 4/15\n",
      "47/47 [==============================] - 1s 27ms/step - loss: 0.6926 - accuracy: 0.5367 - val_loss: 0.6924 - val_accuracy: 0.5000\n",
      "Epoch 5/15\n",
      "47/47 [==============================] - 1s 27ms/step - loss: 0.6916 - accuracy: 0.5220 - val_loss: 0.6923 - val_accuracy: 0.5000\n",
      "Epoch 6/15\n",
      "47/47 [==============================] - 1s 22ms/step - loss: 0.6916 - accuracy: 0.5381 - val_loss: 0.6901 - val_accuracy: 0.5000\n",
      "Epoch 7/15\n",
      "47/47 [==============================] - 1s 28ms/step - loss: 0.6904 - accuracy: 0.5661 - val_loss: 0.6888 - val_accuracy: 0.5680\n",
      "Epoch 8/15\n",
      "47/47 [==============================] - 1s 29ms/step - loss: 0.6894 - accuracy: 0.5541 - val_loss: 0.6853 - val_accuracy: 0.5560\n",
      "Epoch 9/15\n",
      "47/47 [==============================] - 1s 28ms/step - loss: 0.6860 - accuracy: 0.5360 - val_loss: 0.6835 - val_accuracy: 0.5860\n",
      "Epoch 10/15\n",
      "47/47 [==============================] - 1s 30ms/step - loss: 0.6832 - accuracy: 0.5668 - val_loss: 0.6871 - val_accuracy: 0.5000\n",
      "Epoch 11/15\n",
      "47/47 [==============================] - 1s 24ms/step - loss: 0.6805 - accuracy: 0.5521 - val_loss: 0.6773 - val_accuracy: 0.4980\n",
      "Epoch 12/15\n",
      "47/47 [==============================] - 1s 28ms/step - loss: 0.6745 - accuracy: 0.5607 - val_loss: 0.6645 - val_accuracy: 0.6820\n",
      "Epoch 13/15\n",
      "47/47 [==============================] - 1s 28ms/step - loss: 0.6714 - accuracy: 0.5908 - val_loss: 0.6617 - val_accuracy: 0.6100\n",
      "Epoch 14/15\n",
      "47/47 [==============================] - 1s 29ms/step - loss: 0.6601 - accuracy: 0.5848 - val_loss: 0.6758 - val_accuracy: 0.5180\n",
      "Epoch 15/15\n",
      "47/47 [==============================] - 1s 29ms/step - loss: 0.6552 - accuracy: 0.6035 - val_loss: 0.6797 - val_accuracy: 0.5000\n"
     ]
    }
   ],
   "source": [
    "history_filtered_normalised = cnn_model_filtered_normalised.fit(X_raw_filtered_normalised_train, y_raw_filtered_normalised_train, epochs=NUMBER_OF_EPOCHS, validation_data=(X_raw_filtered_normalised_test, y_raw_filtered_normalised_test), verbose=1)"
   ]
  },
  {
   "cell_type": "code",
   "execution_count": 147,
   "metadata": {},
   "outputs": [
    {
     "data": {
      "image/png": "[encoded data removed]",
      "text/plain": [
       "<Figure size 640x480 with 1 Axes>"
      ]
     },
     "metadata": {},
     "output_type": "display_data"
    },
    {
     "data": {
      "image/png": "[encoded data removed]",
      "text/plain": [
       "<Figure size 640x480 with 1 Axes>"
      ]
     },
     "metadata": {},
     "output_type": "display_data"
    }
   ],
   "source": [
    "plot_learning_curve(history_filtered_normalised, NUMBER_OF_EPOCHS)"
   ]
  },
  {
   "cell_type": "code",
   "execution_count": 148,
   "metadata": {},
   "outputs": [
    {
     "name": "stdout",
     "output_type": "stream",
     "text": [
      "16/16 [==============================] - 0s 8ms/step\n",
      "[[202  48]\n",
      " [202  48]]\n",
      "0.5\n",
      "0.5\n"
     ]
    }
   ],
   "source": [
    "# predicted_cnn = cnn_model.predict_classes(X_raw_test)\n",
    "predicted_cnn_filtered_normalised = np.argmax(cnn_model_filtered_normalised.predict(X_raw_filtered_normalised_test), axis=-1)\n",
    "\n",
    "# Print metrics\n",
    "print(confusion_matrix(y_raw_filtered_normalised_test, predicted_cnn_filtered_normalised))\n",
    "print(accuracy_score(y_raw_filtered_normalised_test, predicted_cnn_filtered_normalised))\n",
    "print(f1_score(y_raw_filtered_normalised_test, predicted_cnn_filtered_normalised, average='micro'))\n",
    "# ConfusionMatrixDisplay.from_predictions(y_raw_test, predicted_cnn)"
   ]
  },
  {
   "cell_type": "code",
   "execution_count": 149,
   "metadata": {},
   "outputs": [
    {
     "name": "stdout",
     "output_type": "stream",
     "text": [
      "              precision    recall  f1-score   support\n",
      "\n",
      "           0       0.50      0.81      0.62       250\n",
      "           1       0.50      0.19      0.28       250\n",
      "\n",
      "    accuracy                           0.50       500\n",
      "   macro avg       0.50      0.50      0.45       500\n",
      "weighted avg       0.50      0.50      0.45       500\n",
      "\n"
     ]
    }
   ],
   "source": [
    "from sklearn.metrics import classification_report\n",
    "\n",
    "print(classification_report(y_raw_filtered_normalised_test, predicted_cnn_filtered_normalised))"
   ]
  },
  {
   "cell_type": "code",
   "execution_count": 150,
   "metadata": {},
   "outputs": [
    {
     "name": "stdout",
     "output_type": "stream",
     "text": [
      "16/16 [==============================] - 0s 8ms/step - loss: 0.7663 - accuracy: 0.4940\n",
      "test loss, test acc:  [0.7663061618804932, 0.49399998784065247]\n"
     ]
    }
   ],
   "source": [
    "results_filtered_normalised = cnn_model_filtered.evaluate(X_raw_filtered_normalised_test, y_raw_filtered_normalised_test)\n",
    "print(\"test loss, test acc: \", results_filtered_normalised)"
   ]
  },
  {
   "cell_type": "code",
   "execution_count": 153,
   "metadata": {},
   "outputs": [
    {
     "name": "stdout",
     "output_type": "stream",
     "text": [
      "0.661612045764923\n"
     ]
    }
   ],
   "source": [
    "cnn_filtered_normalised_cv_metrics = feature_util_UPFall.cross_val_cnn(X_raw_filtered_normalised_train, y_raw_filtered_normalised_train, X_raw_filtered_normalised_train[0].shape, NUMBER_OF_EPOCHS, 5)\n",
    "feature_util_UPFall.compute_cnn_cross_val_mean(cnn_filtered_normalised_cv_metrics)"
   ]
  }
 ],
 "metadata": {
  "kernelspec": {
   "display_name": "base",
   "language": "python",
   "name": "python3"
  },
  "language_info": {
   "codemirror_mode": {
    "name": "ipython",
    "version": 3
   },
   "file_extension": ".py",
   "mimetype": "text/x-python",
   "name": "python",
   "nbconvert_exporter": "python",
   "pygments_lexer": "ipython3",
   "version": "3.9.16"
  },
  "orig_nbformat": 4
 },
 "nbformat": 4,
 "nbformat_minor": 2
}
