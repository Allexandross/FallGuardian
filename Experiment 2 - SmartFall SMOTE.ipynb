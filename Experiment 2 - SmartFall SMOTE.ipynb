{
 "cells": [
  {
   "cell_type": "code",
   "execution_count": 61,
   "metadata": {},
   "outputs": [
    {
     "name": "stdout",
     "output_type": "stream",
     "text": [
      "The autoreload extension is already loaded. To reload it, use:\n",
      "  %reload_ext autoreload\n"
     ]
    }
   ],
   "source": [
    "%load_ext autoreload\n",
    "%autoreload 2\n",
    "import pandas as pd\n",
    "import numpy as np\n",
    "import feature_util"
   ]
  },
  {
   "attachments": {},
   "cell_type": "markdown",
   "metadata": {},
   "source": [
    "## I - Unfiltered"
   ]
  },
  {
   "cell_type": "code",
   "execution_count": 62,
   "metadata": {},
   "outputs": [
    {
     "data": {
      "text/html": [
       "<div>\n",
       "<style scoped>\n",
       "    .dataframe tbody tr th:only-of-type {\n",
       "        vertical-align: middle;\n",
       "    }\n",
       "\n",
       "    .dataframe tbody tr th {\n",
       "        vertical-align: top;\n",
       "    }\n",
       "\n",
       "    .dataframe thead th {\n",
       "        text-align: right;\n",
       "    }\n",
       "</style>\n",
       "<table border=\"1\" class=\"dataframe\">\n",
       "  <thead>\n",
       "    <tr style=\"text-align: right;\">\n",
       "      <th></th>\n",
       "      <th>x_ax</th>\n",
       "      <th>y_ax</th>\n",
       "      <th>z_ax</th>\n",
       "      <th>outcome</th>\n",
       "    </tr>\n",
       "  </thead>\n",
       "  <tbody>\n",
       "    <tr>\n",
       "      <th>0</th>\n",
       "      <td>1.058105</td>\n",
       "      <td>0.096436</td>\n",
       "      <td>0.113037</td>\n",
       "      <td>0</td>\n",
       "    </tr>\n",
       "    <tr>\n",
       "      <th>1</th>\n",
       "      <td>0.718506</td>\n",
       "      <td>0.233887</td>\n",
       "      <td>0.220703</td>\n",
       "      <td>0</td>\n",
       "    </tr>\n",
       "    <tr>\n",
       "      <th>2</th>\n",
       "      <td>0.718506</td>\n",
       "      <td>0.233887</td>\n",
       "      <td>0.220703</td>\n",
       "      <td>0</td>\n",
       "    </tr>\n",
       "    <tr>\n",
       "      <th>3</th>\n",
       "      <td>0.960205</td>\n",
       "      <td>0.190430</td>\n",
       "      <td>0.051270</td>\n",
       "      <td>0</td>\n",
       "    </tr>\n",
       "    <tr>\n",
       "      <th>4</th>\n",
       "      <td>0.960205</td>\n",
       "      <td>0.190430</td>\n",
       "      <td>0.051270</td>\n",
       "      <td>0</td>\n",
       "    </tr>\n",
       "    <tr>\n",
       "      <th>...</th>\n",
       "      <td>...</td>\n",
       "      <td>...</td>\n",
       "      <td>...</td>\n",
       "      <td>...</td>\n",
       "    </tr>\n",
       "    <tr>\n",
       "      <th>183801</th>\n",
       "      <td>0.867188</td>\n",
       "      <td>0.416016</td>\n",
       "      <td>0.086426</td>\n",
       "      <td>0</td>\n",
       "    </tr>\n",
       "    <tr>\n",
       "      <th>183802</th>\n",
       "      <td>0.780518</td>\n",
       "      <td>0.477539</td>\n",
       "      <td>0.062256</td>\n",
       "      <td>0</td>\n",
       "    </tr>\n",
       "    <tr>\n",
       "      <th>183803</th>\n",
       "      <td>0.653076</td>\n",
       "      <td>0.355469</td>\n",
       "      <td>0.117920</td>\n",
       "      <td>0</td>\n",
       "    </tr>\n",
       "    <tr>\n",
       "      <th>183804</th>\n",
       "      <td>0.675293</td>\n",
       "      <td>0.513672</td>\n",
       "      <td>-0.014160</td>\n",
       "      <td>0</td>\n",
       "    </tr>\n",
       "    <tr>\n",
       "      <th>183805</th>\n",
       "      <td>0.770020</td>\n",
       "      <td>0.625000</td>\n",
       "      <td>-0.142090</td>\n",
       "      <td>0</td>\n",
       "    </tr>\n",
       "  </tbody>\n",
       "</table>\n",
       "<p>183806 rows × 4 columns</p>\n",
       "</div>"
      ],
      "text/plain": [
       "            x_ax      y_ax      z_ax  outcome\n",
       "0       1.058105  0.096436  0.113037        0\n",
       "1       0.718506  0.233887  0.220703        0\n",
       "2       0.718506  0.233887  0.220703        0\n",
       "3       0.960205  0.190430  0.051270        0\n",
       "4       0.960205  0.190430  0.051270        0\n",
       "...          ...       ...       ...      ...\n",
       "183801  0.867188  0.416016  0.086426        0\n",
       "183802  0.780518  0.477539  0.062256        0\n",
       "183803  0.653076  0.355469  0.117920        0\n",
       "183804  0.675293  0.513672 -0.014160        0\n",
       "183805  0.770020  0.625000 -0.142090        0\n",
       "\n",
       "[183806 rows x 4 columns]"
      ]
     },
     "execution_count": 62,
     "metadata": {},
     "output_type": "execute_result"
    }
   ],
   "source": [
    "data_unfiltered = pd.read_csv(\"New Datasets/renamed_smartfall_training_dataset.csv\")\n",
    "data_unfiltered = pd.concat([data_unfiltered, pd.read_csv(\"New Datasets/renamed_smartfall_testing_dataset.csv\")], axis=0).reset_index(drop=True)\n",
    "# data = pd.read_csv(\"New Datasets/filtered_standardised_smartfall_testing_dataset.csv\")\n",
    "# data = pd.concat([data, pd.read_csv(\"New Datasets/filtered_standardised_smartfall_training_dataset.csv\")], axis=0).reset_index(drop=True)\n",
    "\n",
    "data_unfiltered = data_unfiltered.drop(['Unnamed: 0'], axis=1)\n",
    "data_unfiltered"
   ]
  },
  {
   "cell_type": "code",
   "execution_count": 63,
   "metadata": {},
   "outputs": [],
   "source": [
    "from sklearn.tree import DecisionTreeClassifier\n",
    "from sklearn.model_selection import train_test_split\n",
    "\n",
    "# X = data_unfiltered[[\"x_ax\", \"y_ax\", \"z_ax\"]]\n",
    "# y = data_unfiltered[\"outcome\"]\n",
    "# # y = data[\"AnyFall\"]"
   ]
  },
  {
   "cell_type": "code",
   "execution_count": 64,
   "metadata": {},
   "outputs": [],
   "source": [
    "import scipy.stats as stats"
   ]
  },
  {
   "cell_type": "code",
   "execution_count": 65,
   "metadata": {},
   "outputs": [],
   "source": [
    "Fs = 31.25\n",
    "frame_size = int(Fs * 1) # 31.25Hz and 1s window\n",
    "hop_size = int(frame_size * 0.5) # 50% overlap, i.e. 0.5s"
   ]
  },
  {
   "cell_type": "code",
   "execution_count": 66,
   "metadata": {},
   "outputs": [
    {
     "name": "stderr",
     "output_type": "stream",
     "text": [
      "c:\\Users\\Alex\\OneDrive - The University of Nottingham\\Comp Sci\\Year 3\\Dissertation\\Code\\feature_util.py:22: FutureWarning: Unlike other reduction functions (e.g. `skew`, `kurtosis`), the default behavior of `mode` typically preserves the axis it acts along. In SciPy 1.11.0, this behavior will change: the default value of `keepdims` will become False, the `axis` over which the statistic is taken will be eliminated, and the value None will no longer be accepted. Set `keepdims` to True or False to avoid this warning.\n",
      "  label = stats.mode(df['outcome'][i: i + frame_size])[0][0]\n"
     ]
    },
    {
     "data": {
      "text/plain": [
       "(12252, 11)"
      ]
     },
     "execution_count": 66,
     "metadata": {},
     "output_type": "execute_result"
    }
   ],
   "source": [
    "X_unfiltered, y_unfiltered = feature_util.get_frames(data_unfiltered, frame_size, hop_size, True)\n",
    "features_unfiltered = feature_util.extract_features(X_unfiltered)\n",
    "features_unfiltered.shape"
   ]
  },
  {
   "cell_type": "code",
   "execution_count": 67,
   "metadata": {},
   "outputs": [],
   "source": [
    "feature_df = pd.DataFrame(features_unfiltered)\n",
    "\n",
    "y_df = pd.DataFrame(y_unfiltered)\n",
    "y_df = y_df.rename(mapper={0:\"outcome\"}, axis=1)\n",
    "# y_df\n",
    "# feature_and_outcome_df = pd.concat([feature_df, y_df], axis=1)"
   ]
  },
  {
   "cell_type": "code",
   "execution_count": 68,
   "metadata": {},
   "outputs": [
    {
     "data": {
      "text/plain": [
       "outcome\n",
       "0          11390\n",
       "1          11390\n",
       "dtype: int64"
      ]
     },
     "execution_count": 68,
     "metadata": {},
     "output_type": "execute_result"
    }
   ],
   "source": [
    "from imblearn.over_sampling import SMOTE\n",
    "sm = SMOTE(random_state=42)\n",
    "\n",
    "X_unfiltered_res, y_unfiltered_res = sm.fit_resample(feature_df, y_df)\n",
    "y_unfiltered_res.value_counts()"
   ]
  },
  {
   "cell_type": "code",
   "execution_count": 69,
   "metadata": {},
   "outputs": [],
   "source": [
    "X_train, X_test, y_train, y_test = train_test_split(X_unfiltered_res, y_unfiltered_res, test_size=0.25, random_state=0, stratify=y_unfiltered_res)"
   ]
  },
  {
   "cell_type": "code",
   "execution_count": 70,
   "metadata": {},
   "outputs": [
    {
     "data": {
      "text/plain": [
       "((17085, 11), (5695, 11), (17085, 1), (5695, 1))"
      ]
     },
     "execution_count": 70,
     "metadata": {},
     "output_type": "execute_result"
    }
   ],
   "source": [
    "X_train.shape, X_test.shape, y_train.shape, y_test.shape"
   ]
  },
  {
   "cell_type": "code",
   "execution_count": 71,
   "metadata": {},
   "outputs": [
    {
     "data": {
      "text/plain": [
       "{0: 8542, 1: 8543}"
      ]
     },
     "execution_count": 71,
     "metadata": {},
     "output_type": "execute_result"
    }
   ],
   "source": [
    "unique, counts = np.unique(y_train, return_counts=True)\n",
    "dict(zip(unique, counts))"
   ]
  },
  {
   "attachments": {},
   "cell_type": "markdown",
   "metadata": {},
   "source": [
    "### Traditional Machine Learning Methods"
   ]
  },
  {
   "cell_type": "code",
   "execution_count": 72,
   "metadata": {},
   "outputs": [],
   "source": [
    "model_name_array = []\n",
    "model_acc_array = []"
   ]
  },
  {
   "cell_type": "code",
   "execution_count": 73,
   "metadata": {},
   "outputs": [],
   "source": [
    "from sklearn.neighbors import KNeighborsClassifier"
   ]
  },
  {
   "cell_type": "code",
   "execution_count": 74,
   "metadata": {},
   "outputs": [
    {
     "name": "stderr",
     "output_type": "stream",
     "text": [
      "c:\\Users\\Alex\\anaconda3\\lib\\site-packages\\sklearn\\neighbors\\_classification.py:198: DataConversionWarning: A column-vector y was passed when a 1d array was expected. Please change the shape of y to (n_samples,), for example using ravel().\n",
      "  return self._fit(X, y)\n"
     ]
    },
    {
     "data": {
      "text/plain": [
       "KNeighborsClassifier()"
      ]
     },
     "execution_count": 74,
     "metadata": {},
     "output_type": "execute_result"
    }
   ],
   "source": [
    "knn_model = KNeighborsClassifier(n_neighbors=5)\n",
    "knn_model.fit(X_train, y_train)"
   ]
  },
  {
   "cell_type": "code",
   "execution_count": 75,
   "metadata": {},
   "outputs": [],
   "source": [
    "from sklearn.metrics import accuracy_score, f1_score, confusion_matrix"
   ]
  },
  {
   "cell_type": "code",
   "execution_count": 76,
   "metadata": {},
   "outputs": [
    {
     "name": "stdout",
     "output_type": "stream",
     "text": [
      "[[2565  283]\n",
      " [  11 2836]]\n",
      "0.9483757682177348\n",
      "0.9483757682177348\n"
     ]
    },
    {
     "name": "stderr",
     "output_type": "stream",
     "text": [
      "c:\\Users\\Alex\\anaconda3\\lib\\site-packages\\sklearn\\neighbors\\_classification.py:228: FutureWarning: Unlike other reduction functions (e.g. `skew`, `kurtosis`), the default behavior of `mode` typically preserves the axis it acts along. In SciPy 1.11.0, this behavior will change: the default value of `keepdims` will become False, the `axis` over which the statistic is taken will be eliminated, and the value None will no longer be accepted. Set `keepdims` to True or False to avoid this warning.\n",
      "  mode, _ = stats.mode(_y[neigh_ind, k], axis=1)\n"
     ]
    }
   ],
   "source": [
    "# Predict on the test set\n",
    "predicted = knn_model.predict(X_test)\n",
    "\n",
    "# Print metrics\n",
    "print(confusion_matrix(y_test, predicted))\n",
    "print(accuracy_score(y_test, predicted))\n",
    "print(f1_score(y_test, predicted, average='micro'))\n",
    "# compare_trad_models(\"knn\", accuracy_score(y_test, predicted))\n",
    "model_name_array.append(\"knn\")\n",
    "model_acc_array.append(accuracy_score(y_test, predicted))"
   ]
  },
  {
   "cell_type": "code",
   "execution_count": 77,
   "metadata": {},
   "outputs": [],
   "source": [
    "# from sklearn.model_selection import GridSearchCV\n",
    "\n",
    "# max_features_range = np.arange(1, 6, 1)\n",
    "# n_estimators_range = np.arange(10, 210, 10)\n",
    "# n_neighbors_range = np.arange(1, 100, 1)\n",
    "# # param_grid = dict(max_features = max_features_range, n_estimators = n_estimators_range, n_neighbors = n_neighbors_range)\n",
    "# param_grid = dict(n_neighbors = n_neighbors_range)\n",
    "\n",
    "# knnTest = KNeighborsClassifier(n_neighbors=5)\n",
    "\n",
    "# grid = GridSearchCV(estimator=knnTest, param_grid=param_grid, scoring='accuracy', cv=5)\n",
    "\n",
    "# grid.fit(X_train, y_train)\n",
    "# print(\"The best parameters are %s with a score of %f\" % (grid.best_params_, grid.best_score_))"
   ]
  },
  {
   "cell_type": "code",
   "execution_count": 78,
   "metadata": {},
   "outputs": [],
   "source": [
    "from sklearn import svm"
   ]
  },
  {
   "cell_type": "code",
   "execution_count": 79,
   "metadata": {},
   "outputs": [
    {
     "name": "stderr",
     "output_type": "stream",
     "text": [
      "c:\\Users\\Alex\\anaconda3\\lib\\site-packages\\sklearn\\utils\\validation.py:993: DataConversionWarning: A column-vector y was passed when a 1d array was expected. Please change the shape of y to (n_samples, ), for example using ravel().\n",
      "  y = column_or_1d(y, warn=True)\n"
     ]
    },
    {
     "data": {
      "text/plain": [
       "SVC(C=1, kernel='linear', random_state=0)"
      ]
     },
     "execution_count": 79,
     "metadata": {},
     "output_type": "execute_result"
    }
   ],
   "source": [
    "svm_model = svm.SVC(kernel='linear', C=1, random_state=0)\n",
    "# gaussian\n",
    "svm_model.fit(X_train, y_train)"
   ]
  },
  {
   "cell_type": "code",
   "execution_count": 80,
   "metadata": {},
   "outputs": [
    {
     "name": "stdout",
     "output_type": "stream",
     "text": [
      "[[2602  246]\n",
      " [ 314 2533]]\n",
      "0.9016681299385426\n",
      "0.9016681299385426\n"
     ]
    }
   ],
   "source": [
    "# Predict on the test set\n",
    "predicted_svm = svm_model.predict(X_test)\n",
    "\n",
    "# Print metrics\n",
    "print(confusion_matrix(y_test, predicted_svm))\n",
    "print(accuracy_score(y_test, predicted_svm))\n",
    "print(f1_score(y_test, predicted_svm, average='micro'))\n",
    "\n",
    "model_name_array.append(\"svm\")\n",
    "model_acc_array.append(accuracy_score(y_test, predicted_svm))"
   ]
  },
  {
   "cell_type": "code",
   "execution_count": 81,
   "metadata": {},
   "outputs": [
    {
     "name": "stderr",
     "output_type": "stream",
     "text": [
      "c:\\Users\\Alex\\anaconda3\\lib\\site-packages\\sklearn\\utils\\validation.py:993: DataConversionWarning: A column-vector y was passed when a 1d array was expected. Please change the shape of y to (n_samples, ), for example using ravel().\n",
      "  y = column_or_1d(y, warn=True)\n"
     ]
    },
    {
     "data": {
      "text/plain": [
       "SVC(C=1, random_state=0)"
      ]
     },
     "execution_count": 81,
     "metadata": {},
     "output_type": "execute_result"
    }
   ],
   "source": [
    "svm_rbf_model = svm.SVC(kernel='rbf', C=1, random_state=0)\n",
    "svm_rbf_model.fit(X_train, y_train)"
   ]
  },
  {
   "cell_type": "code",
   "execution_count": 82,
   "metadata": {},
   "outputs": [
    {
     "name": "stdout",
     "output_type": "stream",
     "text": [
      "[[2549  299]\n",
      " [ 207 2640]]\n",
      "0.9111501316944688\n",
      "0.9111501316944688\n"
     ]
    }
   ],
   "source": [
    "# Predict on the test set\n",
    "predicted_svm_rbf = svm_rbf_model.predict(X_test)\n",
    "\n",
    "# Print metrics\n",
    "print(confusion_matrix(y_test, predicted_svm_rbf))\n",
    "print(accuracy_score(y_test, predicted_svm_rbf))\n",
    "print(f1_score(y_test, predicted_svm_rbf, average='micro'))\n",
    "model_name_array.append(\"svm_rbf\")\n",
    "model_acc_array.append(accuracy_score(y_test, predicted_svm_rbf))\n"
   ]
  },
  {
   "cell_type": "code",
   "execution_count": 83,
   "metadata": {},
   "outputs": [],
   "source": [
    "from sklearn.ensemble import RandomForestClassifier"
   ]
  },
  {
   "cell_type": "code",
   "execution_count": 84,
   "metadata": {},
   "outputs": [
    {
     "name": "stderr",
     "output_type": "stream",
     "text": [
      "C:\\Users\\Alex\\AppData\\Local\\Temp\\ipykernel_15992\\2856838272.py:2: DataConversionWarning: A column-vector y was passed when a 1d array was expected. Please change the shape of y to (n_samples,), for example using ravel().\n",
      "  rf_model.fit(X_train, y_train)\n"
     ]
    },
    {
     "data": {
      "text/plain": [
       "RandomForestClassifier(random_state=42)"
      ]
     },
     "execution_count": 84,
     "metadata": {},
     "output_type": "execute_result"
    }
   ],
   "source": [
    "rf_model = RandomForestClassifier(n_estimators = 100, random_state = 42)\n",
    "rf_model.fit(X_train, y_train)"
   ]
  },
  {
   "cell_type": "code",
   "execution_count": 85,
   "metadata": {},
   "outputs": [
    {
     "name": "stdout",
     "output_type": "stream",
     "text": [
      "[[2702  146]\n",
      " [  43 2804]]\n",
      "0.9668129938542581\n",
      "0.9668129938542581\n"
     ]
    }
   ],
   "source": [
    "# Predict on the test set\n",
    "predicted_rf = rf_model.predict(X_test)\n",
    "\n",
    "# Print metrics\n",
    "print(confusion_matrix(y_test, predicted_rf))\n",
    "print(accuracy_score(y_test, predicted_rf))\n",
    "print(f1_score(y_test, predicted_rf, average='micro'))\n",
    "model_name_array.append(\"rf\")\n",
    "model_acc_array.append(accuracy_score(y_test, predicted_rf))"
   ]
  },
  {
   "cell_type": "code",
   "execution_count": 86,
   "metadata": {},
   "outputs": [],
   "source": [
    "from sklearn.naive_bayes import GaussianNB"
   ]
  },
  {
   "cell_type": "code",
   "execution_count": 87,
   "metadata": {},
   "outputs": [
    {
     "name": "stderr",
     "output_type": "stream",
     "text": [
      "c:\\Users\\Alex\\anaconda3\\lib\\site-packages\\sklearn\\utils\\validation.py:993: DataConversionWarning: A column-vector y was passed when a 1d array was expected. Please change the shape of y to (n_samples, ), for example using ravel().\n",
      "  y = column_or_1d(y, warn=True)\n"
     ]
    },
    {
     "data": {
      "text/plain": [
       "GaussianNB()"
      ]
     },
     "execution_count": 87,
     "metadata": {},
     "output_type": "execute_result"
    }
   ],
   "source": [
    "nb_model = GaussianNB()\n",
    "nb_model.fit(X_train, y_train)"
   ]
  },
  {
   "cell_type": "code",
   "execution_count": 88,
   "metadata": {},
   "outputs": [
    {
     "name": "stdout",
     "output_type": "stream",
     "text": [
      "[[2655  193]\n",
      " [ 458 2389]]\n",
      "0.8856892010535558\n",
      "0.8856892010535556\n"
     ]
    }
   ],
   "source": [
    "# Predict on the test set\n",
    "predicted_nb = nb_model.predict(X_test)\n",
    "\n",
    "# Print metrics\n",
    "print(confusion_matrix(y_test, predicted_nb))\n",
    "print(accuracy_score(y_test, predicted_nb))\n",
    "print(f1_score(y_test, predicted_nb, average='micro'))\n",
    "model_name_array.append(\"nb\")\n",
    "model_acc_array.append(accuracy_score(y_test, predicted_nb))\n"
   ]
  },
  {
   "cell_type": "code",
   "execution_count": 89,
   "metadata": {},
   "outputs": [
    {
     "name": "stdout",
     "output_type": "stream",
     "text": [
      "Best model: rf, Accuracy: 0.9668129938542581\n"
     ]
    }
   ],
   "source": [
    "best_trad_model_acc = max(model_acc_array)\n",
    "index = model_acc_array.index(max(model_acc_array))\n",
    "best_trad_model = model_name_array[index]\n",
    "print(f\"Best model: {best_trad_model}, Accuracy: {best_trad_model_acc}\")\n",
    "# model_acc_array"
   ]
  },
  {
   "cell_type": "code",
   "execution_count": 90,
   "metadata": {},
   "outputs": [
    {
     "name": "stdout",
     "output_type": "stream",
     "text": [
      "name: knn, accuracy: 0.9483757682177348\n",
      "name: svm, accuracy: 0.9016681299385426\n",
      "name: svm_rbf, accuracy: 0.9111501316944688\n",
      "name: rf, accuracy: 0.9668129938542581\n",
      "name: nb, accuracy: 0.8856892010535558\n"
     ]
    }
   ],
   "source": [
    "for i in range(0, len(model_name_array)):\n",
    "    print(f\"name: {model_name_array[i]}, accuracy: {model_acc_array[i]}\")"
   ]
  },
  {
   "cell_type": "code",
   "execution_count": 91,
   "metadata": {},
   "outputs": [
    {
     "data": {
      "text/plain": [
       "{0: 8542, 1: 8543}"
      ]
     },
     "execution_count": 91,
     "metadata": {},
     "output_type": "execute_result"
    }
   ],
   "source": [
    "unique, counts = np.unique(y_train, return_counts=True)\n",
    "dict(zip(unique, counts))"
   ]
  },
  {
   "cell_type": "code",
   "execution_count": 92,
   "metadata": {},
   "outputs": [],
   "source": [
    "from sklearn.model_selection import KFold\n",
    "from sklearn.model_selection import cross_val_score"
   ]
  },
  {
   "cell_type": "code",
   "execution_count": 93,
   "metadata": {},
   "outputs": [],
   "source": [
    "unfiltered_model_dictionary = {\"knn\": knn_model,\n",
    "                             \"svm\": svm_model,\n",
    "                             \"svm_rbf\": svm_rbf_model,\n",
    "                             \"rf\": rf_model,\n",
    "                             \"nb\": nb_model}"
   ]
  },
  {
   "cell_type": "code",
   "execution_count": 94,
   "metadata": {},
   "outputs": [],
   "source": [
    "def perform_cross_val_all_models(model_dictionary, X_train, y_train, num_folds=5):\n",
    "    cv = KFold(n_splits=num_folds, shuffle=True, random_state=42)\n",
    "    scores_array = []\n",
    "\n",
    "    for model_name in model_dictionary:\n",
    "        model = model_dictionary[model_name]\n",
    "        scores = cross_val_score(model, X_train, y_train, cv=cv)\n",
    "        scores_array.append((model_name, scores))\n",
    "    \n",
    "    return scores_array"
   ]
  },
  {
   "cell_type": "code",
   "execution_count": 95,
   "metadata": {},
   "outputs": [
    {
     "name": "stderr",
     "output_type": "stream",
     "text": [
      "c:\\Users\\Alex\\anaconda3\\lib\\site-packages\\sklearn\\neighbors\\_classification.py:198: DataConversionWarning: A column-vector y was passed when a 1d array was expected. Please change the shape of y to (n_samples,), for example using ravel().\n",
      "  return self._fit(X, y)\n",
      "c:\\Users\\Alex\\anaconda3\\lib\\site-packages\\sklearn\\neighbors\\_classification.py:228: FutureWarning: Unlike other reduction functions (e.g. `skew`, `kurtosis`), the default behavior of `mode` typically preserves the axis it acts along. In SciPy 1.11.0, this behavior will change: the default value of `keepdims` will become False, the `axis` over which the statistic is taken will be eliminated, and the value None will no longer be accepted. Set `keepdims` to True or False to avoid this warning.\n",
      "  mode, _ = stats.mode(_y[neigh_ind, k], axis=1)\n",
      "c:\\Users\\Alex\\anaconda3\\lib\\site-packages\\sklearn\\neighbors\\_classification.py:198: DataConversionWarning: A column-vector y was passed when a 1d array was expected. Please change the shape of y to (n_samples,), for example using ravel().\n",
      "  return self._fit(X, y)\n",
      "c:\\Users\\Alex\\anaconda3\\lib\\site-packages\\sklearn\\neighbors\\_classification.py:228: FutureWarning: Unlike other reduction functions (e.g. `skew`, `kurtosis`), the default behavior of `mode` typically preserves the axis it acts along. In SciPy 1.11.0, this behavior will change: the default value of `keepdims` will become False, the `axis` over which the statistic is taken will be eliminated, and the value None will no longer be accepted. Set `keepdims` to True or False to avoid this warning.\n",
      "  mode, _ = stats.mode(_y[neigh_ind, k], axis=1)\n",
      "c:\\Users\\Alex\\anaconda3\\lib\\site-packages\\sklearn\\neighbors\\_classification.py:198: DataConversionWarning: A column-vector y was passed when a 1d array was expected. Please change the shape of y to (n_samples,), for example using ravel().\n",
      "  return self._fit(X, y)\n",
      "c:\\Users\\Alex\\anaconda3\\lib\\site-packages\\sklearn\\neighbors\\_classification.py:228: FutureWarning: Unlike other reduction functions (e.g. `skew`, `kurtosis`), the default behavior of `mode` typically preserves the axis it acts along. In SciPy 1.11.0, this behavior will change: the default value of `keepdims` will become False, the `axis` over which the statistic is taken will be eliminated, and the value None will no longer be accepted. Set `keepdims` to True or False to avoid this warning.\n",
      "  mode, _ = stats.mode(_y[neigh_ind, k], axis=1)\n",
      "c:\\Users\\Alex\\anaconda3\\lib\\site-packages\\sklearn\\neighbors\\_classification.py:198: DataConversionWarning: A column-vector y was passed when a 1d array was expected. Please change the shape of y to (n_samples,), for example using ravel().\n",
      "  return self._fit(X, y)\n",
      "c:\\Users\\Alex\\anaconda3\\lib\\site-packages\\sklearn\\neighbors\\_classification.py:228: FutureWarning: Unlike other reduction functions (e.g. `skew`, `kurtosis`), the default behavior of `mode` typically preserves the axis it acts along. In SciPy 1.11.0, this behavior will change: the default value of `keepdims` will become False, the `axis` over which the statistic is taken will be eliminated, and the value None will no longer be accepted. Set `keepdims` to True or False to avoid this warning.\n",
      "  mode, _ = stats.mode(_y[neigh_ind, k], axis=1)\n",
      "c:\\Users\\Alex\\anaconda3\\lib\\site-packages\\sklearn\\neighbors\\_classification.py:198: DataConversionWarning: A column-vector y was passed when a 1d array was expected. Please change the shape of y to (n_samples,), for example using ravel().\n",
      "  return self._fit(X, y)\n",
      "c:\\Users\\Alex\\anaconda3\\lib\\site-packages\\sklearn\\neighbors\\_classification.py:228: FutureWarning: Unlike other reduction functions (e.g. `skew`, `kurtosis`), the default behavior of `mode` typically preserves the axis it acts along. In SciPy 1.11.0, this behavior will change: the default value of `keepdims` will become False, the `axis` over which the statistic is taken will be eliminated, and the value None will no longer be accepted. Set `keepdims` to True or False to avoid this warning.\n",
      "  mode, _ = stats.mode(_y[neigh_ind, k], axis=1)\n",
      "c:\\Users\\Alex\\anaconda3\\lib\\site-packages\\sklearn\\utils\\validation.py:993: DataConversionWarning: A column-vector y was passed when a 1d array was expected. Please change the shape of y to (n_samples, ), for example using ravel().\n",
      "  y = column_or_1d(y, warn=True)\n",
      "c:\\Users\\Alex\\anaconda3\\lib\\site-packages\\sklearn\\utils\\validation.py:993: DataConversionWarning: A column-vector y was passed when a 1d array was expected. Please change the shape of y to (n_samples, ), for example using ravel().\n",
      "  y = column_or_1d(y, warn=True)\n",
      "c:\\Users\\Alex\\anaconda3\\lib\\site-packages\\sklearn\\utils\\validation.py:993: DataConversionWarning: A column-vector y was passed when a 1d array was expected. Please change the shape of y to (n_samples, ), for example using ravel().\n",
      "  y = column_or_1d(y, warn=True)\n",
      "c:\\Users\\Alex\\anaconda3\\lib\\site-packages\\sklearn\\utils\\validation.py:993: DataConversionWarning: A column-vector y was passed when a 1d array was expected. Please change the shape of y to (n_samples, ), for example using ravel().\n",
      "  y = column_or_1d(y, warn=True)\n",
      "c:\\Users\\Alex\\anaconda3\\lib\\site-packages\\sklearn\\utils\\validation.py:993: DataConversionWarning: A column-vector y was passed when a 1d array was expected. Please change the shape of y to (n_samples, ), for example using ravel().\n",
      "  y = column_or_1d(y, warn=True)\n",
      "c:\\Users\\Alex\\anaconda3\\lib\\site-packages\\sklearn\\utils\\validation.py:993: DataConversionWarning: A column-vector y was passed when a 1d array was expected. Please change the shape of y to (n_samples, ), for example using ravel().\n",
      "  y = column_or_1d(y, warn=True)\n",
      "c:\\Users\\Alex\\anaconda3\\lib\\site-packages\\sklearn\\utils\\validation.py:993: DataConversionWarning: A column-vector y was passed when a 1d array was expected. Please change the shape of y to (n_samples, ), for example using ravel().\n",
      "  y = column_or_1d(y, warn=True)\n",
      "c:\\Users\\Alex\\anaconda3\\lib\\site-packages\\sklearn\\utils\\validation.py:993: DataConversionWarning: A column-vector y was passed when a 1d array was expected. Please change the shape of y to (n_samples, ), for example using ravel().\n",
      "  y = column_or_1d(y, warn=True)\n",
      "c:\\Users\\Alex\\anaconda3\\lib\\site-packages\\sklearn\\utils\\validation.py:993: DataConversionWarning: A column-vector y was passed when a 1d array was expected. Please change the shape of y to (n_samples, ), for example using ravel().\n",
      "  y = column_or_1d(y, warn=True)\n",
      "c:\\Users\\Alex\\anaconda3\\lib\\site-packages\\sklearn\\utils\\validation.py:993: DataConversionWarning: A column-vector y was passed when a 1d array was expected. Please change the shape of y to (n_samples, ), for example using ravel().\n",
      "  y = column_or_1d(y, warn=True)\n",
      "c:\\Users\\Alex\\anaconda3\\lib\\site-packages\\sklearn\\model_selection\\_validation.py:680: DataConversionWarning: A column-vector y was passed when a 1d array was expected. Please change the shape of y to (n_samples,), for example using ravel().\n",
      "  estimator.fit(X_train, y_train, **fit_params)\n",
      "c:\\Users\\Alex\\anaconda3\\lib\\site-packages\\sklearn\\model_selection\\_validation.py:680: DataConversionWarning: A column-vector y was passed when a 1d array was expected. Please change the shape of y to (n_samples,), for example using ravel().\n",
      "  estimator.fit(X_train, y_train, **fit_params)\n",
      "c:\\Users\\Alex\\anaconda3\\lib\\site-packages\\sklearn\\model_selection\\_validation.py:680: DataConversionWarning: A column-vector y was passed when a 1d array was expected. Please change the shape of y to (n_samples,), for example using ravel().\n",
      "  estimator.fit(X_train, y_train, **fit_params)\n",
      "c:\\Users\\Alex\\anaconda3\\lib\\site-packages\\sklearn\\model_selection\\_validation.py:680: DataConversionWarning: A column-vector y was passed when a 1d array was expected. Please change the shape of y to (n_samples,), for example using ravel().\n",
      "  estimator.fit(X_train, y_train, **fit_params)\n",
      "c:\\Users\\Alex\\anaconda3\\lib\\site-packages\\sklearn\\model_selection\\_validation.py:680: DataConversionWarning: A column-vector y was passed when a 1d array was expected. Please change the shape of y to (n_samples,), for example using ravel().\n",
      "  estimator.fit(X_train, y_train, **fit_params)\n",
      "c:\\Users\\Alex\\anaconda3\\lib\\site-packages\\sklearn\\utils\\validation.py:993: DataConversionWarning: A column-vector y was passed when a 1d array was expected. Please change the shape of y to (n_samples, ), for example using ravel().\n",
      "  y = column_or_1d(y, warn=True)\n",
      "c:\\Users\\Alex\\anaconda3\\lib\\site-packages\\sklearn\\utils\\validation.py:993: DataConversionWarning: A column-vector y was passed when a 1d array was expected. Please change the shape of y to (n_samples, ), for example using ravel().\n",
      "  y = column_or_1d(y, warn=True)\n",
      "c:\\Users\\Alex\\anaconda3\\lib\\site-packages\\sklearn\\utils\\validation.py:993: DataConversionWarning: A column-vector y was passed when a 1d array was expected. Please change the shape of y to (n_samples, ), for example using ravel().\n",
      "  y = column_or_1d(y, warn=True)\n",
      "c:\\Users\\Alex\\anaconda3\\lib\\site-packages\\sklearn\\utils\\validation.py:993: DataConversionWarning: A column-vector y was passed when a 1d array was expected. Please change the shape of y to (n_samples, ), for example using ravel().\n",
      "  y = column_or_1d(y, warn=True)\n",
      "c:\\Users\\Alex\\anaconda3\\lib\\site-packages\\sklearn\\utils\\validation.py:993: DataConversionWarning: A column-vector y was passed when a 1d array was expected. Please change the shape of y to (n_samples, ), for example using ravel().\n",
      "  y = column_or_1d(y, warn=True)\n"
     ]
    }
   ],
   "source": [
    "scores_array = perform_cross_val_all_models(unfiltered_model_dictionary, X_train, y_train)"
   ]
  },
  {
   "cell_type": "code",
   "execution_count": 96,
   "metadata": {},
   "outputs": [
    {
     "name": "stdout",
     "output_type": "stream",
     "text": [
      "knn Accuracy: 0.95 (+/- 0.00)\n",
      "svm Accuracy: 0.90 (+/- 0.01)\n",
      "svm_rbf Accuracy: 0.91 (+/- 0.01)\n",
      "rf Accuracy: 0.96 (+/- 0.00)\n",
      "nb Accuracy: 0.89 (+/- 0.01)\n"
     ]
    }
   ],
   "source": [
    "for cv_tuple in scores_array:\n",
    "    print(\"%s Accuracy: %0.2f (+/- %0.2f)\" % (cv_tuple[0], cv_tuple[1].mean(), cv_tuple[1].std() * 2))"
   ]
  },
  {
   "cell_type": "code",
   "execution_count": 97,
   "metadata": {},
   "outputs": [],
   "source": [
    "from sklearn.metrics import classification_report"
   ]
  },
  {
   "cell_type": "code",
   "execution_count": 98,
   "metadata": {},
   "outputs": [],
   "source": [
    "def print_all_classification_reports(model_dictionary, X_test, y_test): # broken!!! only works for filtered data. TODO: change X_test and y_test to params\n",
    "        for model_name in model_dictionary:\n",
    "                print(\"Classification report for %s\" % model_name)\n",
    "                model = model_dictionary[model_name]\n",
    "                predicted = model.predict(X_test)\n",
    "                print(classification_report(y_test, predicted))\n",
    "                print(\"=====================================================\")"
   ]
  },
  {
   "cell_type": "code",
   "execution_count": 99,
   "metadata": {},
   "outputs": [
    {
     "name": "stdout",
     "output_type": "stream",
     "text": [
      "Classification report for knn\n"
     ]
    },
    {
     "name": "stderr",
     "output_type": "stream",
     "text": [
      "c:\\Users\\Alex\\anaconda3\\lib\\site-packages\\sklearn\\neighbors\\_classification.py:228: FutureWarning: Unlike other reduction functions (e.g. `skew`, `kurtosis`), the default behavior of `mode` typically preserves the axis it acts along. In SciPy 1.11.0, this behavior will change: the default value of `keepdims` will become False, the `axis` over which the statistic is taken will be eliminated, and the value None will no longer be accepted. Set `keepdims` to True or False to avoid this warning.\n",
      "  mode, _ = stats.mode(_y[neigh_ind, k], axis=1)\n"
     ]
    },
    {
     "name": "stdout",
     "output_type": "stream",
     "text": [
      "              precision    recall  f1-score   support\n",
      "\n",
      "           0       1.00      0.90      0.95      2848\n",
      "           1       0.91      1.00      0.95      2847\n",
      "\n",
      "    accuracy                           0.95      5695\n",
      "   macro avg       0.95      0.95      0.95      5695\n",
      "weighted avg       0.95      0.95      0.95      5695\n",
      "\n",
      "=====================================================\n",
      "Classification report for svm\n",
      "              precision    recall  f1-score   support\n",
      "\n",
      "           0       0.89      0.91      0.90      2848\n",
      "           1       0.91      0.89      0.90      2847\n",
      "\n",
      "    accuracy                           0.90      5695\n",
      "   macro avg       0.90      0.90      0.90      5695\n",
      "weighted avg       0.90      0.90      0.90      5695\n",
      "\n",
      "=====================================================\n",
      "Classification report for svm_rbf\n",
      "              precision    recall  f1-score   support\n",
      "\n",
      "           0       0.92      0.90      0.91      2848\n",
      "           1       0.90      0.93      0.91      2847\n",
      "\n",
      "    accuracy                           0.91      5695\n",
      "   macro avg       0.91      0.91      0.91      5695\n",
      "weighted avg       0.91      0.91      0.91      5695\n",
      "\n",
      "=====================================================\n",
      "Classification report for rf\n",
      "              precision    recall  f1-score   support\n",
      "\n",
      "           0       0.98      0.95      0.97      2848\n",
      "           1       0.95      0.98      0.97      2847\n",
      "\n",
      "    accuracy                           0.97      5695\n",
      "   macro avg       0.97      0.97      0.97      5695\n",
      "weighted avg       0.97      0.97      0.97      5695\n",
      "\n",
      "=====================================================\n",
      "Classification report for nb\n",
      "              precision    recall  f1-score   support\n",
      "\n",
      "           0       0.85      0.93      0.89      2848\n",
      "           1       0.93      0.84      0.88      2847\n",
      "\n",
      "    accuracy                           0.89      5695\n",
      "   macro avg       0.89      0.89      0.89      5695\n",
      "weighted avg       0.89      0.89      0.89      5695\n",
      "\n",
      "=====================================================\n"
     ]
    }
   ],
   "source": [
    "print_all_classification_reports(unfiltered_model_dictionary, X_test, y_test)"
   ]
  },
  {
   "cell_type": "code",
   "execution_count": 100,
   "metadata": {},
   "outputs": [],
   "source": [
    "def print_all_classification_reports_training(model_dictionary, X_train, y_train):\n",
    "        for model_name in model_dictionary:\n",
    "                print(\"Classification report for %s\" % model_name)\n",
    "                model = model_dictionary[model_name]\n",
    "                predicted = model.predict(X_train)\n",
    "                print(classification_report(y_train, predicted))\n",
    "                print(\"=====================================================\")"
   ]
  },
  {
   "cell_type": "code",
   "execution_count": 101,
   "metadata": {},
   "outputs": [
    {
     "name": "stdout",
     "output_type": "stream",
     "text": [
      "Classification report for knn\n"
     ]
    },
    {
     "name": "stderr",
     "output_type": "stream",
     "text": [
      "c:\\Users\\Alex\\anaconda3\\lib\\site-packages\\sklearn\\neighbors\\_classification.py:228: FutureWarning: Unlike other reduction functions (e.g. `skew`, `kurtosis`), the default behavior of `mode` typically preserves the axis it acts along. In SciPy 1.11.0, this behavior will change: the default value of `keepdims` will become False, the `axis` over which the statistic is taken will be eliminated, and the value None will no longer be accepted. Set `keepdims` to True or False to avoid this warning.\n",
      "  mode, _ = stats.mode(_y[neigh_ind, k], axis=1)\n"
     ]
    },
    {
     "name": "stdout",
     "output_type": "stream",
     "text": [
      "              precision    recall  f1-score   support\n",
      "\n",
      "           0       1.00      0.93      0.96      8542\n",
      "           1       0.93      1.00      0.96      8543\n",
      "\n",
      "    accuracy                           0.96     17085\n",
      "   macro avg       0.97      0.96      0.96     17085\n",
      "weighted avg       0.97      0.96      0.96     17085\n",
      "\n",
      "=====================================================\n",
      "Classification report for svm\n",
      "              precision    recall  f1-score   support\n",
      "\n",
      "           0       0.89      0.92      0.90      8542\n",
      "           1       0.92      0.89      0.90      8543\n",
      "\n",
      "    accuracy                           0.90     17085\n",
      "   macro avg       0.90      0.90      0.90     17085\n",
      "weighted avg       0.90      0.90      0.90     17085\n",
      "\n",
      "=====================================================\n",
      "Classification report for svm_rbf\n",
      "              precision    recall  f1-score   support\n",
      "\n",
      "           0       0.92      0.91      0.91      8542\n",
      "           1       0.91      0.92      0.92      8543\n",
      "\n",
      "    accuracy                           0.91     17085\n",
      "   macro avg       0.92      0.91      0.91     17085\n",
      "weighted avg       0.92      0.91      0.91     17085\n",
      "\n",
      "=====================================================\n",
      "Classification report for rf\n",
      "              precision    recall  f1-score   support\n",
      "\n",
      "           0       1.00      1.00      1.00      8542\n",
      "           1       1.00      1.00      1.00      8543\n",
      "\n",
      "    accuracy                           1.00     17085\n",
      "   macro avg       1.00      1.00      1.00     17085\n",
      "weighted avg       1.00      1.00      1.00     17085\n",
      "\n",
      "=====================================================\n",
      "Classification report for nb\n",
      "              precision    recall  f1-score   support\n",
      "\n",
      "           0       0.85      0.93      0.89      8542\n",
      "           1       0.93      0.84      0.88      8543\n",
      "\n",
      "    accuracy                           0.89     17085\n",
      "   macro avg       0.89      0.89      0.89     17085\n",
      "weighted avg       0.89      0.89      0.89     17085\n",
      "\n",
      "=====================================================\n"
     ]
    }
   ],
   "source": [
    "print_all_classification_reports_training(unfiltered_model_dictionary, X_train, y_train)"
   ]
  },
  {
   "cell_type": "code",
   "execution_count": 102,
   "metadata": {},
   "outputs": [],
   "source": [
    "from joblib import dump, load\n",
    "# save clf using joblib\n",
    "# dump(rf_model, 'New Models/rf_filtered_normalised.joblib')"
   ]
  },
  {
   "attachments": {},
   "cell_type": "markdown",
   "metadata": {},
   "source": [
    "### Deep Learning"
   ]
  },
  {
   "cell_type": "markdown",
   "metadata": {},
   "source": [
    "#### The models below are trained using data which went through low-pass filter"
   ]
  },
  {
   "cell_type": "code",
   "execution_count": 103,
   "metadata": {},
   "outputs": [
    {
     "data": {
      "text/plain": [
       "((22780, 31, 3), (22780,))"
      ]
     },
     "execution_count": 103,
     "metadata": {},
     "output_type": "execute_result"
    }
   ],
   "source": [
    "X_unfiltered_smote, y_unfiltered_smote = feature_util.generate_windows_SMOTE(X_unfiltered, y_unfiltered)\n",
    "X_unfiltered_smote.shape, y_unfiltered_smote.shape"
   ]
  },
  {
   "cell_type": "code",
   "execution_count": 104,
   "metadata": {},
   "outputs": [
    {
     "data": {
      "text/plain": [
       "((17085, 31, 3), (5695, 31, 3), (17085,))"
      ]
     },
     "execution_count": 104,
     "metadata": {},
     "output_type": "execute_result"
    }
   ],
   "source": [
    "# X_raw_train, X_raw_test, y_raw_train, y_raw_test = train_test_split(X_unfiltered, y_unfiltered, test_size=0.25, random_state=0, stratify=y_unfiltered)\n",
    "X_raw_train, X_raw_test, y_raw_train, y_raw_test = train_test_split(X_unfiltered_smote, y_unfiltered_smote, test_size=0.25, random_state=0, stratify=y_unfiltered_smote)\n",
    "X_raw_train.shape, X_raw_test.shape, y_raw_train.shape"
   ]
  },
  {
   "cell_type": "code",
   "execution_count": 105,
   "metadata": {},
   "outputs": [
    {
     "data": {
      "text/plain": [
       "(31, 3)"
      ]
     },
     "execution_count": 105,
     "metadata": {},
     "output_type": "execute_result"
    }
   ],
   "source": [
    "X_raw_train[0].shape"
   ]
  },
  {
   "cell_type": "code",
   "execution_count": 106,
   "metadata": {},
   "outputs": [],
   "source": [
    "X_TRAIN_SIZE = X_raw_train.shape[0]\n",
    "X_TEST_SIZE = X_raw_test.shape[0]\n",
    "X_TRAIN_WINDOW_SIZE = X_raw_train.shape[1]\n",
    "X_TEST_WINDOW_SIZE = X_raw_test.shape[1]"
   ]
  },
  {
   "cell_type": "code",
   "execution_count": 107,
   "metadata": {},
   "outputs": [],
   "source": [
    "X_raw_train = X_raw_train.reshape(X_TRAIN_SIZE, X_TRAIN_WINDOW_SIZE, 3, 1)\n",
    "X_raw_test = X_raw_test.reshape(X_TEST_SIZE, X_TEST_WINDOW_SIZE, 3, 1)"
   ]
  },
  {
   "cell_type": "code",
   "execution_count": 108,
   "metadata": {},
   "outputs": [
    {
     "data": {
      "text/plain": [
       "((31, 3, 1), (31, 3, 1))"
      ]
     },
     "execution_count": 108,
     "metadata": {},
     "output_type": "execute_result"
    }
   ],
   "source": [
    "X_raw_train[0].shape, X_raw_test[0].shape"
   ]
  },
  {
   "cell_type": "code",
   "execution_count": 109,
   "metadata": {},
   "outputs": [],
   "source": [
    "import tensorflow as tf\n",
    "from tensorflow.keras import Sequential\n",
    "from tensorflow.keras.layers import Flatten, Dense, Dropout, BatchNormalization\n",
    "from tensorflow.keras.layers import Conv2D, MaxPool2D\n",
    "from tensorflow.keras.optimizers import Adam"
   ]
  },
  {
   "cell_type": "code",
   "execution_count": 110,
   "metadata": {},
   "outputs": [],
   "source": [
    "cnn_model = Sequential()\n",
    "cnn_model.add(Conv2D(16, (2, 2), activation='relu', input_shape=X_raw_train[0].shape))\n",
    "cnn_model.add(Conv2D(32, (2, 2), activation='relu'))\n",
    "cnn_model.add(Flatten())\n",
    "cnn_model.add(Dense(64, activation='relu'))\n",
    "cnn_model.add(Dense(2, activation='softmax'))"
   ]
  },
  {
   "cell_type": "code",
   "execution_count": 111,
   "metadata": {},
   "outputs": [],
   "source": [
    "cnn_model.compile(optimizer=Adam(learning_rate=0.001), loss='sparse_categorical_crossentropy', metrics=['accuracy'])"
   ]
  },
  {
   "cell_type": "code",
   "execution_count": 112,
   "metadata": {},
   "outputs": [],
   "source": [
    "NUMBER_OF_EPOCHS = 15"
   ]
  },
  {
   "cell_type": "code",
   "execution_count": 113,
   "metadata": {},
   "outputs": [
    {
     "name": "stdout",
     "output_type": "stream",
     "text": [
      "Epoch 1/15\n",
      "534/534 [==============================] - 3s 3ms/step - loss: 0.1617 - accuracy: 0.9384 - val_loss: 0.0916 - val_accuracy: 0.9712\n",
      "Epoch 2/15\n",
      "534/534 [==============================] - 1s 3ms/step - loss: 0.0636 - accuracy: 0.9801 - val_loss: 0.0601 - val_accuracy: 0.9812\n",
      "Epoch 3/15\n",
      "534/534 [==============================] - 2s 3ms/step - loss: 0.0367 - accuracy: 0.9890 - val_loss: 0.0542 - val_accuracy: 0.9849\n",
      "Epoch 4/15\n",
      "534/534 [==============================] - 2s 3ms/step - loss: 0.0259 - accuracy: 0.9926 - val_loss: 0.0434 - val_accuracy: 0.9900\n",
      "Epoch 5/15\n",
      "534/534 [==============================] - 2s 3ms/step - loss: 0.0169 - accuracy: 0.9955 - val_loss: 0.0473 - val_accuracy: 0.9877\n",
      "Epoch 6/15\n",
      "534/534 [==============================] - 2s 3ms/step - loss: 0.0074 - accuracy: 0.9982 - val_loss: 0.0391 - val_accuracy: 0.9916\n",
      "Epoch 7/15\n",
      "534/534 [==============================] - 1s 3ms/step - loss: 0.0049 - accuracy: 0.9985 - val_loss: 0.0476 - val_accuracy: 0.9917\n",
      "Epoch 8/15\n",
      "534/534 [==============================] - 2s 3ms/step - loss: 0.0058 - accuracy: 0.9982 - val_loss: 0.0458 - val_accuracy: 0.9930\n",
      "Epoch 9/15\n",
      "534/534 [==============================] - 1s 3ms/step - loss: 0.0090 - accuracy: 0.9972 - val_loss: 0.0469 - val_accuracy: 0.9928\n",
      "Epoch 10/15\n",
      "534/534 [==============================] - 2s 3ms/step - loss: 0.0070 - accuracy: 0.9982 - val_loss: 0.0500 - val_accuracy: 0.9916\n",
      "Epoch 11/15\n",
      "534/534 [==============================] - 2s 3ms/step - loss: 0.0018 - accuracy: 0.9995 - val_loss: 0.0431 - val_accuracy: 0.9939\n",
      "Epoch 12/15\n",
      "534/534 [==============================] - 2s 3ms/step - loss: 4.7146e-04 - accuracy: 1.0000 - val_loss: 0.0483 - val_accuracy: 0.9942\n",
      "Epoch 13/15\n",
      "534/534 [==============================] - 2s 3ms/step - loss: 1.5594e-04 - accuracy: 1.0000 - val_loss: 0.0523 - val_accuracy: 0.9946\n",
      "Epoch 14/15\n",
      "534/534 [==============================] - 2s 3ms/step - loss: 9.9524e-05 - accuracy: 1.0000 - val_loss: 0.0551 - val_accuracy: 0.9944\n",
      "Epoch 15/15\n",
      "534/534 [==============================] - 2s 3ms/step - loss: 7.1617e-05 - accuracy: 1.0000 - val_loss: 0.0577 - val_accuracy: 0.9942\n"
     ]
    }
   ],
   "source": [
    "history = cnn_model.fit(X_raw_train, y_raw_train, epochs=NUMBER_OF_EPOCHS, validation_data=(X_raw_test, y_raw_test), verbose=1)"
   ]
  },
  {
   "cell_type": "code",
   "execution_count": 114,
   "metadata": {},
   "outputs": [],
   "source": [
    "import matplotlib.pyplot as plt"
   ]
  },
  {
   "cell_type": "code",
   "execution_count": 115,
   "metadata": {},
   "outputs": [],
   "source": [
    "def plot_learning_curve(history, epochs):\n",
    "    epoch_range = range(1, epochs + 1)\n",
    "    plt.plot(epoch_range, history.history['accuracy'])\n",
    "    plt.plot(epoch_range, history.history['val_accuracy'])\n",
    "    plt.title('Model Accuracy')\n",
    "    plt.ylabel('Accuracy')\n",
    "    plt.xlabel('Epoch')\n",
    "    plt.legend(['Train', 'Val'], loc='upper left')\n",
    "    plt.show()\n",
    "\n",
    "    plt.plot(epoch_range, history.history['loss'])\n",
    "    plt.plot(epoch_range, history.history['val_loss'])\n",
    "    plt.title('Model Loss')\n",
    "    plt.ylabel('Loss')\n",
    "    plt.xlabel('Epoch')\n",
    "    plt.legend(['Train', 'Val'], loc='upper left')\n",
    "    plt.show()"
   ]
  },
  {
   "cell_type": "code",
   "execution_count": 116,
   "metadata": {},
   "outputs": [
    {
     "data": {
      "image/png": "[encoded data removed]",
      "text/plain": [
       "<Figure size 640x480 with 1 Axes>"
      ]
     },
     "metadata": {},
     "output_type": "display_data"
    },
    {
     "data": {
      "image/png": "[encoded data removed]",
      "text/plain": [
       "<Figure size 640x480 with 1 Axes>"
      ]
     },
     "metadata": {},
     "output_type": "display_data"
    }
   ],
   "source": [
    "plot_learning_curve(history, NUMBER_OF_EPOCHS)"
   ]
  },
  {
   "cell_type": "code",
   "execution_count": 117,
   "metadata": {},
   "outputs": [],
   "source": [
    "from sklearn.metrics import ConfusionMatrixDisplay"
   ]
  },
  {
   "cell_type": "code",
   "execution_count": 118,
   "metadata": {},
   "outputs": [
    {
     "name": "stdout",
     "output_type": "stream",
     "text": [
      "178/178 [==============================] - 0s 2ms/step\n",
      "[[2815   33]\n",
      " [   0 2847]]\n",
      "0.9942054433713784\n",
      "0.9942054433713784\n"
     ]
    }
   ],
   "source": [
    "# predicted_cnn = cnn_model.predict_classes(X_raw_test)\n",
    "predicted_cnn = np.argmax(cnn_model.predict(X_raw_test), axis=-1)\n",
    "\n",
    "# Print metrics\n",
    "print(confusion_matrix(y_raw_test, predicted_cnn))\n",
    "print(accuracy_score(y_raw_test, predicted_cnn))\n",
    "print(f1_score(y_raw_test, predicted_cnn, average='micro'))\n",
    "# ConfusionMatrixDisplay.from_predictions(y_raw_test, predicted_cnn)"
   ]
  },
  {
   "cell_type": "code",
   "execution_count": 119,
   "metadata": {},
   "outputs": [
    {
     "name": "stdout",
     "output_type": "stream",
     "text": [
      "              precision    recall  f1-score   support\n",
      "\n",
      "           0       1.00      0.99      0.99      2848\n",
      "           1       0.99      1.00      0.99      2847\n",
      "\n",
      "    accuracy                           0.99      5695\n",
      "   macro avg       0.99      0.99      0.99      5695\n",
      "weighted avg       0.99      0.99      0.99      5695\n",
      "\n"
     ]
    }
   ],
   "source": [
    "from sklearn.metrics import classification_report\n",
    "\n",
    "print(classification_report(y_raw_test, predicted_cnn))"
   ]
  },
  {
   "cell_type": "code",
   "execution_count": 120,
   "metadata": {},
   "outputs": [
    {
     "name": "stdout",
     "output_type": "stream",
     "text": [
      "178/178 [==============================] - 0s 2ms/step - loss: 0.0577 - accuracy: 0.9942\n",
      "test loss, test acc:  [0.05772363767027855, 0.9942054152488708]\n"
     ]
    }
   ],
   "source": [
    "results = cnn_model.evaluate(X_raw_test, y_raw_test)\n",
    "print(\"test loss, test acc: \", results)"
   ]
  },
  {
   "cell_type": "code",
   "execution_count": 201,
   "metadata": {},
   "outputs": [
    {
     "name": "stdout",
     "output_type": "stream",
     "text": [
      "0.9923909783363343\n"
     ]
    }
   ],
   "source": [
    "cnn_unfiltered_cv_metrics = feature_util.cross_val_cnn(X_raw_train, y_raw_train, X_raw_train[0].shape, NUMBER_OF_EPOCHS, 5)\n",
    "feature_util.compute_cnn_cross_val_mean(cnn_unfiltered_cv_metrics)"
   ]
  },
  {
   "cell_type": "code",
   "execution_count": 205,
   "metadata": {},
   "outputs": [
    {
     "name": "stderr",
     "output_type": "stream",
     "text": [
      "WARNING:absl:Found untraced functions such as _jit_compiled_convolution_op, _jit_compiled_convolution_op, _update_step_xla while saving (showing 3 of 3). These functions will not be directly callable after loading.\n"
     ]
    },
    {
     "name": "stdout",
     "output_type": "stream",
     "text": [
      "INFO:tensorflow:Assets written to: Final Models/exp2_cnn_unfiltered\\assets\n"
     ]
    },
    {
     "name": "stderr",
     "output_type": "stream",
     "text": [
      "INFO:tensorflow:Assets written to: Final Models/exp2_cnn_unfiltered\\assets\n"
     ]
    }
   ],
   "source": [
    "# cnn_model.save('Final Models/exp2_cnn_unfiltered')"
   ]
  },
  {
   "attachments": {},
   "cell_type": "markdown",
   "metadata": {},
   "source": [
    "## II - Filtered"
   ]
  },
  {
   "cell_type": "code",
   "execution_count": 121,
   "metadata": {},
   "outputs": [
    {
     "data": {
      "text/html": [
       "<div>\n",
       "<style scoped>\n",
       "    .dataframe tbody tr th:only-of-type {\n",
       "        vertical-align: middle;\n",
       "    }\n",
       "\n",
       "    .dataframe tbody tr th {\n",
       "        vertical-align: top;\n",
       "    }\n",
       "\n",
       "    .dataframe thead th {\n",
       "        text-align: right;\n",
       "    }\n",
       "</style>\n",
       "<table border=\"1\" class=\"dataframe\">\n",
       "  <thead>\n",
       "    <tr style=\"text-align: right;\">\n",
       "      <th></th>\n",
       "      <th>x_ax</th>\n",
       "      <th>y_ax</th>\n",
       "      <th>z_ax</th>\n",
       "      <th>outcome</th>\n",
       "    </tr>\n",
       "  </thead>\n",
       "  <tbody>\n",
       "    <tr>\n",
       "      <th>0</th>\n",
       "      <td>1.058341</td>\n",
       "      <td>0.096574</td>\n",
       "      <td>0.112934</td>\n",
       "      <td>0</td>\n",
       "    </tr>\n",
       "    <tr>\n",
       "      <th>1</th>\n",
       "      <td>0.895934</td>\n",
       "      <td>0.178424</td>\n",
       "      <td>0.163770</td>\n",
       "      <td>0</td>\n",
       "    </tr>\n",
       "    <tr>\n",
       "      <th>2</th>\n",
       "      <td>0.813437</td>\n",
       "      <td>0.222202</td>\n",
       "      <td>0.169857</td>\n",
       "      <td>0</td>\n",
       "    </tr>\n",
       "    <tr>\n",
       "      <th>3</th>\n",
       "      <td>0.828629</td>\n",
       "      <td>0.216133</td>\n",
       "      <td>0.119465</td>\n",
       "      <td>0</td>\n",
       "    </tr>\n",
       "    <tr>\n",
       "      <th>4</th>\n",
       "      <td>0.894310</td>\n",
       "      <td>0.179974</td>\n",
       "      <td>0.040379</td>\n",
       "      <td>0</td>\n",
       "    </tr>\n",
       "    <tr>\n",
       "      <th>...</th>\n",
       "      <td>...</td>\n",
       "      <td>...</td>\n",
       "      <td>...</td>\n",
       "      <td>...</td>\n",
       "    </tr>\n",
       "    <tr>\n",
       "      <th>183801</th>\n",
       "      <td>0.855340</td>\n",
       "      <td>0.367065</td>\n",
       "      <td>0.089292</td>\n",
       "      <td>0</td>\n",
       "    </tr>\n",
       "    <tr>\n",
       "      <th>183802</th>\n",
       "      <td>0.750066</td>\n",
       "      <td>0.405776</td>\n",
       "      <td>0.084742</td>\n",
       "      <td>0</td>\n",
       "    </tr>\n",
       "    <tr>\n",
       "      <th>183803</th>\n",
       "      <td>0.692327</td>\n",
       "      <td>0.453963</td>\n",
       "      <td>0.054610</td>\n",
       "      <td>0</td>\n",
       "    </tr>\n",
       "    <tr>\n",
       "      <th>183804</th>\n",
       "      <td>0.705525</td>\n",
       "      <td>0.527850</td>\n",
       "      <td>-0.023513</td>\n",
       "      <td>0</td>\n",
       "    </tr>\n",
       "    <tr>\n",
       "      <th>183805</th>\n",
       "      <td>0.770298</td>\n",
       "      <td>0.624641</td>\n",
       "      <td>-0.140462</td>\n",
       "      <td>0</td>\n",
       "    </tr>\n",
       "  </tbody>\n",
       "</table>\n",
       "<p>183806 rows × 4 columns</p>\n",
       "</div>"
      ],
      "text/plain": [
       "            x_ax      y_ax      z_ax  outcome\n",
       "0       1.058341  0.096574  0.112934        0\n",
       "1       0.895934  0.178424  0.163770        0\n",
       "2       0.813437  0.222202  0.169857        0\n",
       "3       0.828629  0.216133  0.119465        0\n",
       "4       0.894310  0.179974  0.040379        0\n",
       "...          ...       ...       ...      ...\n",
       "183801  0.855340  0.367065  0.089292        0\n",
       "183802  0.750066  0.405776  0.084742        0\n",
       "183803  0.692327  0.453963  0.054610        0\n",
       "183804  0.705525  0.527850 -0.023513        0\n",
       "183805  0.770298  0.624641 -0.140462        0\n",
       "\n",
       "[183806 rows x 4 columns]"
      ]
     },
     "execution_count": 121,
     "metadata": {},
     "output_type": "execute_result"
    }
   ],
   "source": [
    "data_filtered = pd.read_csv(\"New Datasets/filtered_smartfall_training_dataset.csv\")\n",
    "data_filtered = pd.concat([data_filtered, pd.read_csv(\"New Datasets/filtered_smartfall_testing_dataset.csv\")], axis=0).reset_index(drop=True)\n",
    "\n",
    "data_filtered = data_filtered.drop(['Unnamed: 0'], axis=1)\n",
    "data_filtered"
   ]
  },
  {
   "cell_type": "code",
   "execution_count": 122,
   "metadata": {},
   "outputs": [
    {
     "name": "stderr",
     "output_type": "stream",
     "text": [
      "c:\\Users\\Alex\\OneDrive - The University of Nottingham\\Comp Sci\\Year 3\\Dissertation\\Code\\feature_util.py:22: FutureWarning: Unlike other reduction functions (e.g. `skew`, `kurtosis`), the default behavior of `mode` typically preserves the axis it acts along. In SciPy 1.11.0, this behavior will change: the default value of `keepdims` will become False, the `axis` over which the statistic is taken will be eliminated, and the value None will no longer be accepted. Set `keepdims` to True or False to avoid this warning.\n",
      "  label = stats.mode(df['outcome'][i: i + frame_size])[0][0]\n"
     ]
    },
    {
     "data": {
      "text/plain": [
       "(12252, 11)"
      ]
     },
     "execution_count": 122,
     "metadata": {},
     "output_type": "execute_result"
    }
   ],
   "source": [
    "X_filtered, y_filtered = feature_util.get_frames(data_filtered, frame_size, hop_size, True)\n",
    "features_filtered = feature_util.extract_features(X_filtered)\n",
    "features_filtered.shape"
   ]
  },
  {
   "cell_type": "code",
   "execution_count": 123,
   "metadata": {},
   "outputs": [],
   "source": [
    "feature_filtered_df = pd.DataFrame(features_filtered)\n",
    "\n",
    "y_filtered_df = pd.DataFrame(y_filtered)\n",
    "y_filtered_df = y_filtered_df.rename(mapper={0:\"outcome\"}, axis=1)\n",
    "# y_df\n",
    "# feature_and_outcome_df = pd.concat([feature_df, y_df], axis=1)"
   ]
  },
  {
   "cell_type": "code",
   "execution_count": 124,
   "metadata": {},
   "outputs": [
    {
     "data": {
      "text/plain": [
       "outcome\n",
       "0          11390\n",
       "1          11390\n",
       "dtype: int64"
      ]
     },
     "execution_count": 124,
     "metadata": {},
     "output_type": "execute_result"
    }
   ],
   "source": [
    "sm = SMOTE(random_state=42)\n",
    "\n",
    "X_filtered_res, y_filtered_res = sm.fit_resample(feature_filtered_df, y_filtered_df)\n",
    "y_filtered_res.value_counts()"
   ]
  },
  {
   "cell_type": "code",
   "execution_count": 125,
   "metadata": {},
   "outputs": [],
   "source": [
    "X_filtered_train, X_filtered_test, y_filtered_train, y_filtered_test = train_test_split(X_filtered_res, y_filtered_res, test_size=0.25, random_state=0, stratify=y_filtered_res)"
   ]
  },
  {
   "cell_type": "code",
   "execution_count": 126,
   "metadata": {},
   "outputs": [
    {
     "data": {
      "text/plain": [
       "((17085, 11), (5695, 11), (17085, 1), (5695, 1))"
      ]
     },
     "execution_count": 126,
     "metadata": {},
     "output_type": "execute_result"
    }
   ],
   "source": [
    "X_filtered_train.shape, X_filtered_test.shape, y_filtered_train.shape, y_filtered_test.shape"
   ]
  },
  {
   "cell_type": "code",
   "execution_count": 127,
   "metadata": {},
   "outputs": [
    {
     "data": {
      "text/plain": [
       "{0: 8542, 1: 8543}"
      ]
     },
     "execution_count": 127,
     "metadata": {},
     "output_type": "execute_result"
    }
   ],
   "source": [
    "unique, counts = np.unique(y_filtered_train, return_counts=True)\n",
    "dict(zip(unique, counts))"
   ]
  },
  {
   "cell_type": "markdown",
   "metadata": {},
   "source": [
    "### Traditional Machine Learning Methods"
   ]
  },
  {
   "cell_type": "code",
   "execution_count": 128,
   "metadata": {},
   "outputs": [],
   "source": [
    "filtered_model_name_array = []\n",
    "filtered_model_acc_array = []"
   ]
  },
  {
   "cell_type": "code",
   "execution_count": 129,
   "metadata": {},
   "outputs": [
    {
     "name": "stderr",
     "output_type": "stream",
     "text": [
      "c:\\Users\\Alex\\anaconda3\\lib\\site-packages\\sklearn\\neighbors\\_classification.py:198: DataConversionWarning: A column-vector y was passed when a 1d array was expected. Please change the shape of y to (n_samples,), for example using ravel().\n",
      "  return self._fit(X, y)\n"
     ]
    },
    {
     "data": {
      "text/plain": [
       "KNeighborsClassifier()"
      ]
     },
     "execution_count": 129,
     "metadata": {},
     "output_type": "execute_result"
    }
   ],
   "source": [
    "knn_model_filtered = KNeighborsClassifier(n_neighbors=5)\n",
    "knn_model_filtered.fit(X_filtered_train, y_filtered_train)"
   ]
  },
  {
   "cell_type": "code",
   "execution_count": 130,
   "metadata": {},
   "outputs": [
    {
     "name": "stdout",
     "output_type": "stream",
     "text": [
      "[[2547  301]\n",
      " [  18 2829]]\n",
      "0.9439859525899912\n",
      "0.9439859525899912\n"
     ]
    },
    {
     "name": "stderr",
     "output_type": "stream",
     "text": [
      "c:\\Users\\Alex\\anaconda3\\lib\\site-packages\\sklearn\\neighbors\\_classification.py:228: FutureWarning: Unlike other reduction functions (e.g. `skew`, `kurtosis`), the default behavior of `mode` typically preserves the axis it acts along. In SciPy 1.11.0, this behavior will change: the default value of `keepdims` will become False, the `axis` over which the statistic is taken will be eliminated, and the value None will no longer be accepted. Set `keepdims` to True or False to avoid this warning.\n",
      "  mode, _ = stats.mode(_y[neigh_ind, k], axis=1)\n"
     ]
    }
   ],
   "source": [
    "# Predict on the test set\n",
    "predicted_knn_filtered = knn_model_filtered.predict(X_filtered_test)\n",
    "\n",
    "# Print metrics\n",
    "print(confusion_matrix(y_filtered_test, predicted_knn_filtered))\n",
    "print(accuracy_score(y_filtered_test, predicted_knn_filtered))\n",
    "print(f1_score(y_filtered_test, predicted_knn_filtered, average='micro'))\n",
    "# compare_trad_models(\"knn\", accuracy_score(y_test, predicted))\n",
    "filtered_model_name_array.append(\"knn\")\n",
    "filtered_model_acc_array.append(accuracy_score(y_filtered_test, predicted_knn_filtered))"
   ]
  },
  {
   "cell_type": "code",
   "execution_count": 131,
   "metadata": {},
   "outputs": [],
   "source": [
    "# from sklearn.model_selection import GridSearchCV\n",
    "\n",
    "# max_features_range = np.arange(1, 6, 1)\n",
    "# n_estimators_range = np.arange(10, 210, 10)\n",
    "# n_neighbors_range = np.arange(1, 100, 1)\n",
    "# # param_grid = dict(max_features = max_features_range, n_estimators = n_estimators_range, n_neighbors = n_neighbors_range)\n",
    "# param_grid = dict(n_neighbors = n_neighbors_range)\n",
    "\n",
    "# knnTest = KNeighborsClassifier(n_neighbors=5)\n",
    "\n",
    "# grid = GridSearchCV(estimator=knnTest, param_grid=param_grid, scoring='accuracy', cv=5)\n",
    "\n",
    "# grid.fit(X_train, y_train)\n",
    "# print(\"The best parameters are %s with a score of %f\" % (grid.best_params_, grid.best_score_))"
   ]
  },
  {
   "cell_type": "code",
   "execution_count": 132,
   "metadata": {},
   "outputs": [
    {
     "name": "stderr",
     "output_type": "stream",
     "text": [
      "c:\\Users\\Alex\\anaconda3\\lib\\site-packages\\sklearn\\utils\\validation.py:993: DataConversionWarning: A column-vector y was passed when a 1d array was expected. Please change the shape of y to (n_samples, ), for example using ravel().\n",
      "  y = column_or_1d(y, warn=True)\n"
     ]
    },
    {
     "data": {
      "text/plain": [
       "SVC(C=1, kernel='linear', random_state=0)"
      ]
     },
     "execution_count": 132,
     "metadata": {},
     "output_type": "execute_result"
    }
   ],
   "source": [
    "svm_model_filtered = svm.SVC(kernel='linear', C=1, random_state=0)\n",
    "# gaussian\n",
    "svm_model_filtered.fit(X_filtered_train, y_filtered_train)"
   ]
  },
  {
   "cell_type": "code",
   "execution_count": 133,
   "metadata": {},
   "outputs": [
    {
     "name": "stdout",
     "output_type": "stream",
     "text": [
      "[[2534  314]\n",
      " [ 252 2595]]\n",
      "0.9006145741878842\n",
      "0.9006145741878842\n"
     ]
    }
   ],
   "source": [
    "# Predict on the test set\n",
    "predicted_svm_filtered = svm_model_filtered.predict(X_filtered_test)\n",
    "\n",
    "# Print metrics\n",
    "print(confusion_matrix(y_filtered_test, predicted_svm_filtered))\n",
    "print(accuracy_score(y_filtered_test, predicted_svm_filtered))\n",
    "print(f1_score(y_filtered_test, predicted_svm_filtered, average='micro'))\n",
    "# compare_trad_models(\"knn\", accuracy_score(y_test, predicted))\n",
    "filtered_model_name_array.append(\"svm\")\n",
    "filtered_model_acc_array.append(accuracy_score(y_filtered_test, predicted_svm_filtered))"
   ]
  },
  {
   "cell_type": "code",
   "execution_count": 134,
   "metadata": {},
   "outputs": [
    {
     "name": "stderr",
     "output_type": "stream",
     "text": [
      "c:\\Users\\Alex\\anaconda3\\lib\\site-packages\\sklearn\\utils\\validation.py:993: DataConversionWarning: A column-vector y was passed when a 1d array was expected. Please change the shape of y to (n_samples, ), for example using ravel().\n",
      "  y = column_or_1d(y, warn=True)\n"
     ]
    },
    {
     "data": {
      "text/plain": [
       "SVC(C=1, random_state=0)"
      ]
     },
     "execution_count": 134,
     "metadata": {},
     "output_type": "execute_result"
    }
   ],
   "source": [
    "svm_rbf_model_filtered = svm.SVC(kernel='rbf', C=1, random_state=0)\n",
    "svm_rbf_model_filtered.fit(X_filtered_train, y_filtered_train)"
   ]
  },
  {
   "cell_type": "code",
   "execution_count": 135,
   "metadata": {},
   "outputs": [
    {
     "name": "stdout",
     "output_type": "stream",
     "text": [
      "[[2487  361]\n",
      " [ 181 2666]]\n",
      "0.904828797190518\n",
      "0.904828797190518\n"
     ]
    }
   ],
   "source": [
    "# Predict on the test set\n",
    "predicted_svm_rbf_filtered = svm_rbf_model_filtered.predict(X_filtered_test)\n",
    "\n",
    "# Print metrics\n",
    "print(confusion_matrix(y_filtered_test, predicted_svm_rbf_filtered))\n",
    "print(accuracy_score(y_filtered_test, predicted_svm_rbf_filtered))\n",
    "print(f1_score(y_filtered_test, predicted_svm_rbf_filtered, average='micro'))\n",
    "# compare_trad_models(\"knn\", accuracy_score(y_test, predicted))\n",
    "filtered_model_name_array.append(\"svm_rbf\")\n",
    "filtered_model_acc_array.append(accuracy_score(y_filtered_test, predicted_svm_rbf_filtered))"
   ]
  },
  {
   "cell_type": "code",
   "execution_count": 136,
   "metadata": {},
   "outputs": [
    {
     "name": "stderr",
     "output_type": "stream",
     "text": [
      "C:\\Users\\Alex\\AppData\\Local\\Temp\\ipykernel_15992\\3673001609.py:2: DataConversionWarning: A column-vector y was passed when a 1d array was expected. Please change the shape of y to (n_samples,), for example using ravel().\n",
      "  rf_model_filtered.fit(X_filtered_train, y_filtered_train)\n"
     ]
    },
    {
     "data": {
      "text/plain": [
       "RandomForestClassifier(random_state=42)"
      ]
     },
     "execution_count": 136,
     "metadata": {},
     "output_type": "execute_result"
    }
   ],
   "source": [
    "rf_model_filtered = RandomForestClassifier(n_estimators = 100, random_state = 42)\n",
    "rf_model_filtered.fit(X_filtered_train, y_filtered_train)"
   ]
  },
  {
   "cell_type": "code",
   "execution_count": 137,
   "metadata": {},
   "outputs": [
    {
     "name": "stdout",
     "output_type": "stream",
     "text": [
      "[[2658  190]\n",
      " [  51 2796]]\n",
      "0.9576821773485513\n",
      "0.9576821773485513\n"
     ]
    }
   ],
   "source": [
    "# Predict on the test set\n",
    "predicted_rf_filtered = rf_model_filtered.predict(X_filtered_test)\n",
    "\n",
    "# Print metrics\n",
    "print(confusion_matrix(y_filtered_test, predicted_rf_filtered))\n",
    "print(accuracy_score(y_filtered_test, predicted_rf_filtered))\n",
    "print(f1_score(y_filtered_test, predicted_rf_filtered, average='micro'))\n",
    "# compare_trad_models(\"knn\", accuracy_score(y_test, predicted))\n",
    "filtered_model_name_array.append(\"rf\")\n",
    "filtered_model_acc_array.append(accuracy_score(y_filtered_test, predicted_rf_filtered))"
   ]
  },
  {
   "cell_type": "code",
   "execution_count": 138,
   "metadata": {},
   "outputs": [
    {
     "name": "stderr",
     "output_type": "stream",
     "text": [
      "c:\\Users\\Alex\\anaconda3\\lib\\site-packages\\sklearn\\utils\\validation.py:993: DataConversionWarning: A column-vector y was passed when a 1d array was expected. Please change the shape of y to (n_samples, ), for example using ravel().\n",
      "  y = column_or_1d(y, warn=True)\n"
     ]
    },
    {
     "data": {
      "text/plain": [
       "GaussianNB()"
      ]
     },
     "execution_count": 138,
     "metadata": {},
     "output_type": "execute_result"
    }
   ],
   "source": [
    "nb_model_filtered = GaussianNB()\n",
    "nb_model_filtered.fit(X_filtered_train, y_filtered_train)"
   ]
  },
  {
   "cell_type": "code",
   "execution_count": 139,
   "metadata": {},
   "outputs": [
    {
     "name": "stdout",
     "output_type": "stream",
     "text": [
      "[[2626  222]\n",
      " [ 644 2203]]\n",
      "0.8479367866549605\n",
      "0.8479367866549605\n"
     ]
    }
   ],
   "source": [
    "# Predict on the test set\n",
    "predicted_nb_filtered = nb_model_filtered.predict(X_filtered_test)\n",
    "\n",
    "# Print metrics\n",
    "print(confusion_matrix(y_filtered_test, predicted_nb_filtered))\n",
    "print(accuracy_score(y_filtered_test, predicted_nb_filtered))\n",
    "print(f1_score(y_filtered_test, predicted_nb_filtered, average='micro'))\n",
    "# compare_trad_models(\"knn\", accuracy_score(y_test, predicted))\n",
    "filtered_model_name_array.append(\"nb\")\n",
    "filtered_model_acc_array.append(accuracy_score(y_filtered_test, predicted_nb_filtered))"
   ]
  },
  {
   "cell_type": "code",
   "execution_count": 140,
   "metadata": {},
   "outputs": [
    {
     "name": "stdout",
     "output_type": "stream",
     "text": [
      "Best model: rf, Accuracy: 0.9576821773485513\n"
     ]
    }
   ],
   "source": [
    "best_trad_model_acc_filtered = max(filtered_model_acc_array)\n",
    "index = filtered_model_acc_array.index(max(filtered_model_acc_array))\n",
    "best_trad_model_filtered = filtered_model_name_array[index]\n",
    "print(f\"Best model: {best_trad_model_filtered}, Accuracy: {best_trad_model_acc_filtered}\")"
   ]
  },
  {
   "cell_type": "code",
   "execution_count": 141,
   "metadata": {},
   "outputs": [
    {
     "name": "stdout",
     "output_type": "stream",
     "text": [
      "name: knn, accuracy: 0.9439859525899912\n",
      "name: svm, accuracy: 0.9006145741878842\n",
      "name: svm_rbf, accuracy: 0.904828797190518\n",
      "name: rf, accuracy: 0.9576821773485513\n",
      "name: nb, accuracy: 0.8479367866549605\n"
     ]
    }
   ],
   "source": [
    "for i in range(0, len(filtered_model_name_array)):\n",
    "    print(f\"name: {filtered_model_name_array[i]}, accuracy: {filtered_model_acc_array[i]}\")"
   ]
  },
  {
   "cell_type": "code",
   "execution_count": 142,
   "metadata": {},
   "outputs": [],
   "source": [
    "filtered_model_dictionary = {\"knn\": knn_model_filtered,\n",
    "                             \"svm\": svm_model_filtered,\n",
    "                             \"svm_rbf\": svm_rbf_model_filtered,\n",
    "                             \"rf\": rf_model_filtered,\n",
    "                             \"nb\": nb_model_filtered}"
   ]
  },
  {
   "cell_type": "code",
   "execution_count": 143,
   "metadata": {},
   "outputs": [
    {
     "name": "stderr",
     "output_type": "stream",
     "text": [
      "c:\\Users\\Alex\\anaconda3\\lib\\site-packages\\sklearn\\neighbors\\_classification.py:198: DataConversionWarning: A column-vector y was passed when a 1d array was expected. Please change the shape of y to (n_samples,), for example using ravel().\n",
      "  return self._fit(X, y)\n",
      "c:\\Users\\Alex\\anaconda3\\lib\\site-packages\\sklearn\\neighbors\\_classification.py:228: FutureWarning: Unlike other reduction functions (e.g. `skew`, `kurtosis`), the default behavior of `mode` typically preserves the axis it acts along. In SciPy 1.11.0, this behavior will change: the default value of `keepdims` will become False, the `axis` over which the statistic is taken will be eliminated, and the value None will no longer be accepted. Set `keepdims` to True or False to avoid this warning.\n",
      "  mode, _ = stats.mode(_y[neigh_ind, k], axis=1)\n",
      "c:\\Users\\Alex\\anaconda3\\lib\\site-packages\\sklearn\\neighbors\\_classification.py:198: DataConversionWarning: A column-vector y was passed when a 1d array was expected. Please change the shape of y to (n_samples,), for example using ravel().\n",
      "  return self._fit(X, y)\n",
      "c:\\Users\\Alex\\anaconda3\\lib\\site-packages\\sklearn\\neighbors\\_classification.py:228: FutureWarning: Unlike other reduction functions (e.g. `skew`, `kurtosis`), the default behavior of `mode` typically preserves the axis it acts along. In SciPy 1.11.0, this behavior will change: the default value of `keepdims` will become False, the `axis` over which the statistic is taken will be eliminated, and the value None will no longer be accepted. Set `keepdims` to True or False to avoid this warning.\n",
      "  mode, _ = stats.mode(_y[neigh_ind, k], axis=1)\n",
      "c:\\Users\\Alex\\anaconda3\\lib\\site-packages\\sklearn\\neighbors\\_classification.py:198: DataConversionWarning: A column-vector y was passed when a 1d array was expected. Please change the shape of y to (n_samples,), for example using ravel().\n",
      "  return self._fit(X, y)\n",
      "c:\\Users\\Alex\\anaconda3\\lib\\site-packages\\sklearn\\neighbors\\_classification.py:228: FutureWarning: Unlike other reduction functions (e.g. `skew`, `kurtosis`), the default behavior of `mode` typically preserves the axis it acts along. In SciPy 1.11.0, this behavior will change: the default value of `keepdims` will become False, the `axis` over which the statistic is taken will be eliminated, and the value None will no longer be accepted. Set `keepdims` to True or False to avoid this warning.\n",
      "  mode, _ = stats.mode(_y[neigh_ind, k], axis=1)\n",
      "c:\\Users\\Alex\\anaconda3\\lib\\site-packages\\sklearn\\neighbors\\_classification.py:198: DataConversionWarning: A column-vector y was passed when a 1d array was expected. Please change the shape of y to (n_samples,), for example using ravel().\n",
      "  return self._fit(X, y)\n",
      "c:\\Users\\Alex\\anaconda3\\lib\\site-packages\\sklearn\\neighbors\\_classification.py:228: FutureWarning: Unlike other reduction functions (e.g. `skew`, `kurtosis`), the default behavior of `mode` typically preserves the axis it acts along. In SciPy 1.11.0, this behavior will change: the default value of `keepdims` will become False, the `axis` over which the statistic is taken will be eliminated, and the value None will no longer be accepted. Set `keepdims` to True or False to avoid this warning.\n",
      "  mode, _ = stats.mode(_y[neigh_ind, k], axis=1)\n",
      "c:\\Users\\Alex\\anaconda3\\lib\\site-packages\\sklearn\\neighbors\\_classification.py:198: DataConversionWarning: A column-vector y was passed when a 1d array was expected. Please change the shape of y to (n_samples,), for example using ravel().\n",
      "  return self._fit(X, y)\n",
      "c:\\Users\\Alex\\anaconda3\\lib\\site-packages\\sklearn\\neighbors\\_classification.py:228: FutureWarning: Unlike other reduction functions (e.g. `skew`, `kurtosis`), the default behavior of `mode` typically preserves the axis it acts along. In SciPy 1.11.0, this behavior will change: the default value of `keepdims` will become False, the `axis` over which the statistic is taken will be eliminated, and the value None will no longer be accepted. Set `keepdims` to True or False to avoid this warning.\n",
      "  mode, _ = stats.mode(_y[neigh_ind, k], axis=1)\n",
      "c:\\Users\\Alex\\anaconda3\\lib\\site-packages\\sklearn\\utils\\validation.py:993: DataConversionWarning: A column-vector y was passed when a 1d array was expected. Please change the shape of y to (n_samples, ), for example using ravel().\n",
      "  y = column_or_1d(y, warn=True)\n",
      "c:\\Users\\Alex\\anaconda3\\lib\\site-packages\\sklearn\\utils\\validation.py:993: DataConversionWarning: A column-vector y was passed when a 1d array was expected. Please change the shape of y to (n_samples, ), for example using ravel().\n",
      "  y = column_or_1d(y, warn=True)\n",
      "c:\\Users\\Alex\\anaconda3\\lib\\site-packages\\sklearn\\utils\\validation.py:993: DataConversionWarning: A column-vector y was passed when a 1d array was expected. Please change the shape of y to (n_samples, ), for example using ravel().\n",
      "  y = column_or_1d(y, warn=True)\n",
      "c:\\Users\\Alex\\anaconda3\\lib\\site-packages\\sklearn\\utils\\validation.py:993: DataConversionWarning: A column-vector y was passed when a 1d array was expected. Please change the shape of y to (n_samples, ), for example using ravel().\n",
      "  y = column_or_1d(y, warn=True)\n",
      "c:\\Users\\Alex\\anaconda3\\lib\\site-packages\\sklearn\\utils\\validation.py:993: DataConversionWarning: A column-vector y was passed when a 1d array was expected. Please change the shape of y to (n_samples, ), for example using ravel().\n",
      "  y = column_or_1d(y, warn=True)\n",
      "c:\\Users\\Alex\\anaconda3\\lib\\site-packages\\sklearn\\utils\\validation.py:993: DataConversionWarning: A column-vector y was passed when a 1d array was expected. Please change the shape of y to (n_samples, ), for example using ravel().\n",
      "  y = column_or_1d(y, warn=True)\n",
      "c:\\Users\\Alex\\anaconda3\\lib\\site-packages\\sklearn\\utils\\validation.py:993: DataConversionWarning: A column-vector y was passed when a 1d array was expected. Please change the shape of y to (n_samples, ), for example using ravel().\n",
      "  y = column_or_1d(y, warn=True)\n",
      "c:\\Users\\Alex\\anaconda3\\lib\\site-packages\\sklearn\\utils\\validation.py:993: DataConversionWarning: A column-vector y was passed when a 1d array was expected. Please change the shape of y to (n_samples, ), for example using ravel().\n",
      "  y = column_or_1d(y, warn=True)\n",
      "c:\\Users\\Alex\\anaconda3\\lib\\site-packages\\sklearn\\utils\\validation.py:993: DataConversionWarning: A column-vector y was passed when a 1d array was expected. Please change the shape of y to (n_samples, ), for example using ravel().\n",
      "  y = column_or_1d(y, warn=True)\n",
      "c:\\Users\\Alex\\anaconda3\\lib\\site-packages\\sklearn\\utils\\validation.py:993: DataConversionWarning: A column-vector y was passed when a 1d array was expected. Please change the shape of y to (n_samples, ), for example using ravel().\n",
      "  y = column_or_1d(y, warn=True)\n",
      "c:\\Users\\Alex\\anaconda3\\lib\\site-packages\\sklearn\\model_selection\\_validation.py:680: DataConversionWarning: A column-vector y was passed when a 1d array was expected. Please change the shape of y to (n_samples,), for example using ravel().\n",
      "  estimator.fit(X_train, y_train, **fit_params)\n",
      "c:\\Users\\Alex\\anaconda3\\lib\\site-packages\\sklearn\\model_selection\\_validation.py:680: DataConversionWarning: A column-vector y was passed when a 1d array was expected. Please change the shape of y to (n_samples,), for example using ravel().\n",
      "  estimator.fit(X_train, y_train, **fit_params)\n",
      "c:\\Users\\Alex\\anaconda3\\lib\\site-packages\\sklearn\\model_selection\\_validation.py:680: DataConversionWarning: A column-vector y was passed when a 1d array was expected. Please change the shape of y to (n_samples,), for example using ravel().\n",
      "  estimator.fit(X_train, y_train, **fit_params)\n",
      "c:\\Users\\Alex\\anaconda3\\lib\\site-packages\\sklearn\\model_selection\\_validation.py:680: DataConversionWarning: A column-vector y was passed when a 1d array was expected. Please change the shape of y to (n_samples,), for example using ravel().\n",
      "  estimator.fit(X_train, y_train, **fit_params)\n",
      "c:\\Users\\Alex\\anaconda3\\lib\\site-packages\\sklearn\\model_selection\\_validation.py:680: DataConversionWarning: A column-vector y was passed when a 1d array was expected. Please change the shape of y to (n_samples,), for example using ravel().\n",
      "  estimator.fit(X_train, y_train, **fit_params)\n",
      "c:\\Users\\Alex\\anaconda3\\lib\\site-packages\\sklearn\\utils\\validation.py:993: DataConversionWarning: A column-vector y was passed when a 1d array was expected. Please change the shape of y to (n_samples, ), for example using ravel().\n",
      "  y = column_or_1d(y, warn=True)\n",
      "c:\\Users\\Alex\\anaconda3\\lib\\site-packages\\sklearn\\utils\\validation.py:993: DataConversionWarning: A column-vector y was passed when a 1d array was expected. Please change the shape of y to (n_samples, ), for example using ravel().\n",
      "  y = column_or_1d(y, warn=True)\n",
      "c:\\Users\\Alex\\anaconda3\\lib\\site-packages\\sklearn\\utils\\validation.py:993: DataConversionWarning: A column-vector y was passed when a 1d array was expected. Please change the shape of y to (n_samples, ), for example using ravel().\n",
      "  y = column_or_1d(y, warn=True)\n",
      "c:\\Users\\Alex\\anaconda3\\lib\\site-packages\\sklearn\\utils\\validation.py:993: DataConversionWarning: A column-vector y was passed when a 1d array was expected. Please change the shape of y to (n_samples, ), for example using ravel().\n",
      "  y = column_or_1d(y, warn=True)\n",
      "c:\\Users\\Alex\\anaconda3\\lib\\site-packages\\sklearn\\utils\\validation.py:993: DataConversionWarning: A column-vector y was passed when a 1d array was expected. Please change the shape of y to (n_samples, ), for example using ravel().\n",
      "  y = column_or_1d(y, warn=True)\n"
     ]
    }
   ],
   "source": [
    "scores_array_filtered = perform_cross_val_all_models(filtered_model_dictionary, X_filtered_train, y_filtered_train)"
   ]
  },
  {
   "cell_type": "code",
   "execution_count": 144,
   "metadata": {},
   "outputs": [
    {
     "name": "stdout",
     "output_type": "stream",
     "text": [
      "knn Accuracy: 0.94 (+/- 0.00)\n",
      "svm Accuracy: 0.90 (+/- 0.01)\n",
      "svm_rbf Accuracy: 0.90 (+/- 0.01)\n",
      "rf Accuracy: 0.96 (+/- 0.01)\n",
      "nb Accuracy: 0.85 (+/- 0.00)\n"
     ]
    }
   ],
   "source": [
    "for cv_tuple in scores_array_filtered:\n",
    "    print(\"%s Accuracy: %0.2f (+/- %0.2f)\" % (cv_tuple[0], cv_tuple[1].mean(), cv_tuple[1].std() * 2))"
   ]
  },
  {
   "cell_type": "code",
   "execution_count": 145,
   "metadata": {},
   "outputs": [
    {
     "name": "stdout",
     "output_type": "stream",
     "text": [
      "Classification report for knn\n"
     ]
    },
    {
     "name": "stderr",
     "output_type": "stream",
     "text": [
      "c:\\Users\\Alex\\anaconda3\\lib\\site-packages\\sklearn\\neighbors\\_classification.py:228: FutureWarning: Unlike other reduction functions (e.g. `skew`, `kurtosis`), the default behavior of `mode` typically preserves the axis it acts along. In SciPy 1.11.0, this behavior will change: the default value of `keepdims` will become False, the `axis` over which the statistic is taken will be eliminated, and the value None will no longer be accepted. Set `keepdims` to True or False to avoid this warning.\n",
      "  mode, _ = stats.mode(_y[neigh_ind, k], axis=1)\n"
     ]
    },
    {
     "name": "stdout",
     "output_type": "stream",
     "text": [
      "              precision    recall  f1-score   support\n",
      "\n",
      "           0       0.99      0.89      0.94      2848\n",
      "           1       0.90      0.99      0.95      2847\n",
      "\n",
      "    accuracy                           0.94      5695\n",
      "   macro avg       0.95      0.94      0.94      5695\n",
      "weighted avg       0.95      0.94      0.94      5695\n",
      "\n",
      "=====================================================\n",
      "Classification report for svm\n",
      "              precision    recall  f1-score   support\n",
      "\n",
      "           0       0.91      0.89      0.90      2848\n",
      "           1       0.89      0.91      0.90      2847\n",
      "\n",
      "    accuracy                           0.90      5695\n",
      "   macro avg       0.90      0.90      0.90      5695\n",
      "weighted avg       0.90      0.90      0.90      5695\n",
      "\n",
      "=====================================================\n",
      "Classification report for svm_rbf\n",
      "              precision    recall  f1-score   support\n",
      "\n",
      "           0       0.93      0.87      0.90      2848\n",
      "           1       0.88      0.94      0.91      2847\n",
      "\n",
      "    accuracy                           0.90      5695\n",
      "   macro avg       0.91      0.90      0.90      5695\n",
      "weighted avg       0.91      0.90      0.90      5695\n",
      "\n",
      "=====================================================\n",
      "Classification report for rf\n",
      "              precision    recall  f1-score   support\n",
      "\n",
      "           0       0.98      0.93      0.96      2848\n",
      "           1       0.94      0.98      0.96      2847\n",
      "\n",
      "    accuracy                           0.96      5695\n",
      "   macro avg       0.96      0.96      0.96      5695\n",
      "weighted avg       0.96      0.96      0.96      5695\n",
      "\n",
      "=====================================================\n",
      "Classification report for nb\n",
      "              precision    recall  f1-score   support\n",
      "\n",
      "           0       0.80      0.92      0.86      2848\n",
      "           1       0.91      0.77      0.84      2847\n",
      "\n",
      "    accuracy                           0.85      5695\n",
      "   macro avg       0.86      0.85      0.85      5695\n",
      "weighted avg       0.86      0.85      0.85      5695\n",
      "\n",
      "=====================================================\n"
     ]
    }
   ],
   "source": [
    "print_all_classification_reports(filtered_model_dictionary, X_filtered_test, y_filtered_test)"
   ]
  },
  {
   "cell_type": "code",
   "execution_count": 146,
   "metadata": {},
   "outputs": [
    {
     "name": "stdout",
     "output_type": "stream",
     "text": [
      "Classification report for knn\n"
     ]
    },
    {
     "name": "stderr",
     "output_type": "stream",
     "text": [
      "c:\\Users\\Alex\\anaconda3\\lib\\site-packages\\sklearn\\neighbors\\_classification.py:228: FutureWarning: Unlike other reduction functions (e.g. `skew`, `kurtosis`), the default behavior of `mode` typically preserves the axis it acts along. In SciPy 1.11.0, this behavior will change: the default value of `keepdims` will become False, the `axis` over which the statistic is taken will be eliminated, and the value None will no longer be accepted. Set `keepdims` to True or False to avoid this warning.\n",
      "  mode, _ = stats.mode(_y[neigh_ind, k], axis=1)\n"
     ]
    },
    {
     "name": "stdout",
     "output_type": "stream",
     "text": [
      "              precision    recall  f1-score   support\n",
      "\n",
      "           0       1.00      0.92      0.96      8542\n",
      "           1       0.93      1.00      0.96      8543\n",
      "\n",
      "    accuracy                           0.96     17085\n",
      "   macro avg       0.96      0.96      0.96     17085\n",
      "weighted avg       0.96      0.96      0.96     17085\n",
      "\n",
      "=====================================================\n",
      "Classification report for svm\n",
      "              precision    recall  f1-score   support\n",
      "\n",
      "           0       0.90      0.90      0.90      8542\n",
      "           1       0.90      0.90      0.90      8543\n",
      "\n",
      "    accuracy                           0.90     17085\n",
      "   macro avg       0.90      0.90      0.90     17085\n",
      "weighted avg       0.90      0.90      0.90     17085\n",
      "\n",
      "=====================================================\n",
      "Classification report for svm_rbf\n",
      "              precision    recall  f1-score   support\n",
      "\n",
      "           0       0.93      0.88      0.90      8542\n",
      "           1       0.89      0.93      0.91      8543\n",
      "\n",
      "    accuracy                           0.91     17085\n",
      "   macro avg       0.91      0.91      0.91     17085\n",
      "weighted avg       0.91      0.91      0.91     17085\n",
      "\n",
      "=====================================================\n",
      "Classification report for rf\n",
      "              precision    recall  f1-score   support\n",
      "\n",
      "           0       1.00      1.00      1.00      8542\n",
      "           1       1.00      1.00      1.00      8543\n",
      "\n",
      "    accuracy                           1.00     17085\n",
      "   macro avg       1.00      1.00      1.00     17085\n",
      "weighted avg       1.00      1.00      1.00     17085\n",
      "\n",
      "=====================================================\n",
      "Classification report for nb\n",
      "              precision    recall  f1-score   support\n",
      "\n",
      "           0       0.80      0.93      0.86      8542\n",
      "           1       0.91      0.77      0.83      8543\n",
      "\n",
      "    accuracy                           0.85     17085\n",
      "   macro avg       0.86      0.85      0.85     17085\n",
      "weighted avg       0.86      0.85      0.85     17085\n",
      "\n",
      "=====================================================\n"
     ]
    }
   ],
   "source": [
    "print_all_classification_reports_training(filtered_model_dictionary, X_filtered_train, y_filtered_train)"
   ]
  },
  {
   "cell_type": "code",
   "execution_count": 147,
   "metadata": {},
   "outputs": [],
   "source": [
    "from joblib import dump, load\n",
    "# save clf using joblib\n",
    "# dump(rf_model, 'New Models/rf_filtered_normalised.joblib')"
   ]
  },
  {
   "cell_type": "markdown",
   "metadata": {},
   "source": [
    "### Deep Learning"
   ]
  },
  {
   "cell_type": "markdown",
   "metadata": {},
   "source": [
    "#### The models below are trained using data which went through low-pass filter"
   ]
  },
  {
   "cell_type": "code",
   "execution_count": 148,
   "metadata": {},
   "outputs": [
    {
     "data": {
      "text/plain": [
       "((22780, 31, 3), (22780,))"
      ]
     },
     "execution_count": 148,
     "metadata": {},
     "output_type": "execute_result"
    }
   ],
   "source": [
    "X_filtered_smote, y_filtered_smote = feature_util.generate_windows_SMOTE(X_filtered, y_filtered)\n",
    "X_filtered_smote.shape, y_filtered_smote.shape"
   ]
  },
  {
   "cell_type": "code",
   "execution_count": 149,
   "metadata": {},
   "outputs": [
    {
     "data": {
      "text/plain": [
       "((17085, 31, 3), (5695, 31, 3), (17085,))"
      ]
     },
     "execution_count": 149,
     "metadata": {},
     "output_type": "execute_result"
    }
   ],
   "source": [
    "# X_raw_filtered_train, X_raw_filtered_test, y_raw_filtered_train, y_raw_filtered_test = train_test_split(X_filtered, y_filtered, test_size=0.25, random_state=0, stratify=y_filtered)\n",
    "X_raw_filtered_train, X_raw_filtered_test, y_raw_filtered_train, y_raw_filtered_test = train_test_split(X_filtered_smote, y_filtered_smote, test_size=0.25, random_state=0, stratify=y_filtered_smote)\n",
    "X_raw_filtered_train.shape, X_raw_filtered_test.shape, y_raw_filtered_train.shape"
   ]
  },
  {
   "cell_type": "code",
   "execution_count": 150,
   "metadata": {},
   "outputs": [
    {
     "data": {
      "text/plain": [
       "(31, 3)"
      ]
     },
     "execution_count": 150,
     "metadata": {},
     "output_type": "execute_result"
    }
   ],
   "source": [
    "X_raw_filtered_train[0].shape"
   ]
  },
  {
   "cell_type": "code",
   "execution_count": 151,
   "metadata": {},
   "outputs": [],
   "source": [
    "X_TRAIN_SIZE = X_raw_train.shape[0]\n",
    "X_TEST_SIZE = X_raw_test.shape[0]\n",
    "X_TRAIN_WINDOW_SIZE = X_raw_train.shape[1]\n",
    "X_TEST_WINDOW_SIZE = X_raw_test.shape[1]"
   ]
  },
  {
   "cell_type": "code",
   "execution_count": 152,
   "metadata": {},
   "outputs": [],
   "source": [
    "X_raw_filtered_train = X_raw_filtered_train.reshape(X_TRAIN_SIZE, X_TRAIN_WINDOW_SIZE, 3, 1)\n",
    "X_raw_filtered_test = X_raw_filtered_test.reshape(X_TEST_SIZE, X_TRAIN_WINDOW_SIZE, 3, 1)"
   ]
  },
  {
   "cell_type": "code",
   "execution_count": 153,
   "metadata": {},
   "outputs": [
    {
     "data": {
      "text/plain": [
       "((31, 3, 1), (31, 3, 1))"
      ]
     },
     "execution_count": 153,
     "metadata": {},
     "output_type": "execute_result"
    }
   ],
   "source": [
    "X_raw_filtered_train[0].shape, X_raw_filtered_test[0].shape"
   ]
  },
  {
   "cell_type": "code",
   "execution_count": 154,
   "metadata": {},
   "outputs": [],
   "source": [
    "cnn_model_filtered = Sequential()\n",
    "cnn_model_filtered.add(Conv2D(16, (2, 2), activation='relu', input_shape=X_raw_filtered_train[0].shape))\n",
    "cnn_model_filtered.add(Conv2D(32, (2, 2), activation='relu'))\n",
    "cnn_model_filtered.add(Flatten())\n",
    "cnn_model_filtered.add(Dense(64, activation='relu'))\n",
    "cnn_model_filtered.add(Dense(2, activation='softmax'))\n"
   ]
  },
  {
   "cell_type": "code",
   "execution_count": 155,
   "metadata": {},
   "outputs": [],
   "source": [
    "cnn_model_filtered.compile(optimizer=Adam(learning_rate=0.001), loss='sparse_categorical_crossentropy', metrics=['accuracy'])"
   ]
  },
  {
   "cell_type": "code",
   "execution_count": 156,
   "metadata": {},
   "outputs": [
    {
     "name": "stdout",
     "output_type": "stream",
     "text": [
      "Epoch 1/15\n",
      "534/534 [==============================] - 2s 2ms/step - loss: 0.1615 - accuracy: 0.9387 - val_loss: 0.1007 - val_accuracy: 0.9668\n",
      "Epoch 2/15\n",
      "534/534 [==============================] - 1s 2ms/step - loss: 0.0772 - accuracy: 0.9721 - val_loss: 0.0766 - val_accuracy: 0.9765\n",
      "Epoch 3/15\n",
      "534/534 [==============================] - 1s 2ms/step - loss: 0.0523 - accuracy: 0.9830 - val_loss: 0.0593 - val_accuracy: 0.9835\n",
      "Epoch 4/15\n",
      "534/534 [==============================] - 1s 2ms/step - loss: 0.0376 - accuracy: 0.9882 - val_loss: 0.0586 - val_accuracy: 0.9837\n",
      "Epoch 5/15\n",
      "534/534 [==============================] - 1s 2ms/step - loss: 0.0266 - accuracy: 0.9921 - val_loss: 0.0673 - val_accuracy: 0.9800\n",
      "Epoch 6/15\n",
      "534/534 [==============================] - 1s 2ms/step - loss: 0.0231 - accuracy: 0.9924 - val_loss: 0.0604 - val_accuracy: 0.9861\n",
      "Epoch 7/15\n",
      "534/534 [==============================] - 1s 2ms/step - loss: 0.0180 - accuracy: 0.9944 - val_loss: 0.0495 - val_accuracy: 0.9891\n",
      "Epoch 8/15\n",
      "534/534 [==============================] - 1s 3ms/step - loss: 0.0145 - accuracy: 0.9958 - val_loss: 0.0481 - val_accuracy: 0.9903\n",
      "Epoch 9/15\n",
      "534/534 [==============================] - 1s 2ms/step - loss: 0.0092 - accuracy: 0.9975 - val_loss: 0.0517 - val_accuracy: 0.9907\n",
      "Epoch 10/15\n",
      "534/534 [==============================] - 1s 2ms/step - loss: 0.0161 - accuracy: 0.9941 - val_loss: 0.0485 - val_accuracy: 0.9896\n",
      "Epoch 11/15\n",
      "534/534 [==============================] - 1s 2ms/step - loss: 0.0061 - accuracy: 0.9985 - val_loss: 0.0670 - val_accuracy: 0.9888\n",
      "Epoch 12/15\n",
      "534/534 [==============================] - 1s 2ms/step - loss: 0.0045 - accuracy: 0.9988 - val_loss: 0.1052 - val_accuracy: 0.9807\n",
      "Epoch 13/15\n",
      "534/534 [==============================] - 1s 2ms/step - loss: 0.0077 - accuracy: 0.9973 - val_loss: 0.0463 - val_accuracy: 0.9939\n",
      "Epoch 14/15\n",
      "534/534 [==============================] - 1s 2ms/step - loss: 0.0046 - accuracy: 0.9987 - val_loss: 0.0697 - val_accuracy: 0.9896\n",
      "Epoch 15/15\n",
      "534/534 [==============================] - 2s 3ms/step - loss: 0.0049 - accuracy: 0.9987 - val_loss: 0.0551 - val_accuracy: 0.9882\n"
     ]
    }
   ],
   "source": [
    "history_filtered = cnn_model_filtered.fit(X_raw_filtered_train, y_raw_filtered_train, epochs=NUMBER_OF_EPOCHS, validation_data=(X_raw_filtered_test, y_raw_filtered_test), verbose=1)"
   ]
  },
  {
   "cell_type": "code",
   "execution_count": 157,
   "metadata": {},
   "outputs": [
    {
     "data": {
      "image/png": "[encoded data removed]",
      "text/plain": [
       "<Figure size 640x480 with 1 Axes>"
      ]
     },
     "metadata": {},
     "output_type": "display_data"
    },
    {
     "data": {
      "image/png": "[encoded data removed]",
      "text/plain": [
       "<Figure size 640x480 with 1 Axes>"
      ]
     },
     "metadata": {},
     "output_type": "display_data"
    }
   ],
   "source": [
    "plot_learning_curve(history_filtered, NUMBER_OF_EPOCHS)"
   ]
  },
  {
   "cell_type": "code",
   "execution_count": 158,
   "metadata": {},
   "outputs": [
    {
     "name": "stdout",
     "output_type": "stream",
     "text": [
      "178/178 [==============================] - 0s 1ms/step\n",
      "[[2817   31]\n",
      " [  36 2811]]\n",
      "0.9882352941176471\n",
      "0.9882352941176471\n"
     ]
    }
   ],
   "source": [
    "# predicted_cnn = cnn_model.predict_classes(X_raw_test)\n",
    "predicted_cnn_filtered = np.argmax(cnn_model_filtered.predict(X_raw_filtered_test), axis=-1)\n",
    "\n",
    "# Print metrics\n",
    "print(confusion_matrix(y_raw_filtered_test, predicted_cnn_filtered))\n",
    "print(accuracy_score(y_raw_filtered_test, predicted_cnn_filtered))\n",
    "print(f1_score(y_raw_filtered_test, predicted_cnn_filtered, average='micro'))\n",
    "# ConfusionMatrixDisplay.from_predictions(y_raw_test, predicted_cnn)"
   ]
  },
  {
   "cell_type": "code",
   "execution_count": 159,
   "metadata": {},
   "outputs": [
    {
     "name": "stdout",
     "output_type": "stream",
     "text": [
      "              precision    recall  f1-score   support\n",
      "\n",
      "           0       0.99      0.99      0.99      2848\n",
      "           1       0.99      0.99      0.99      2847\n",
      "\n",
      "    accuracy                           0.99      5695\n",
      "   macro avg       0.99      0.99      0.99      5695\n",
      "weighted avg       0.99      0.99      0.99      5695\n",
      "\n"
     ]
    }
   ],
   "source": [
    "from sklearn.metrics import classification_report\n",
    "\n",
    "print(classification_report(y_raw_filtered_test, predicted_cnn_filtered))"
   ]
  },
  {
   "cell_type": "code",
   "execution_count": 160,
   "metadata": {},
   "outputs": [
    {
     "name": "stdout",
     "output_type": "stream",
     "text": [
      "178/178 [==============================] - 0s 1ms/step - loss: 0.0551 - accuracy: 0.9882\n",
      "test loss, test acc:  [0.055050078779459, 0.9882352948188782]\n"
     ]
    }
   ],
   "source": [
    "results_filtered = cnn_model_filtered.evaluate(X_raw_filtered_test, y_raw_filtered_test)\n",
    "print(\"test loss, test acc: \", results_filtered)"
   ]
  },
  {
   "cell_type": "code",
   "execution_count": 202,
   "metadata": {},
   "outputs": [
    {
     "name": "stdout",
     "output_type": "stream",
     "text": [
      "0.9892303228378296\n"
     ]
    }
   ],
   "source": [
    "cnn_filtered_cv_metrics = feature_util.cross_val_cnn(X_raw_filtered_train, y_raw_filtered_train, X_raw_filtered_train[0].shape, NUMBER_OF_EPOCHS, 5)\n",
    "feature_util.compute_cnn_cross_val_mean(cnn_filtered_cv_metrics)"
   ]
  },
  {
   "attachments": {},
   "cell_type": "markdown",
   "metadata": {},
   "source": [
    "## III - Filtered and Normalised"
   ]
  },
  {
   "cell_type": "code",
   "execution_count": 161,
   "metadata": {},
   "outputs": [
    {
     "data": {
      "text/html": [
       "<div>\n",
       "<style scoped>\n",
       "    .dataframe tbody tr th:only-of-type {\n",
       "        vertical-align: middle;\n",
       "    }\n",
       "\n",
       "    .dataframe tbody tr th {\n",
       "        vertical-align: top;\n",
       "    }\n",
       "\n",
       "    .dataframe thead th {\n",
       "        text-align: right;\n",
       "    }\n",
       "</style>\n",
       "<table border=\"1\" class=\"dataframe\">\n",
       "  <thead>\n",
       "    <tr style=\"text-align: right;\">\n",
       "      <th></th>\n",
       "      <th>x_ax</th>\n",
       "      <th>y_ax</th>\n",
       "      <th>z_ax</th>\n",
       "      <th>outcome</th>\n",
       "    </tr>\n",
       "  </thead>\n",
       "  <tbody>\n",
       "    <tr>\n",
       "      <th>0</th>\n",
       "      <td>0.480550</td>\n",
       "      <td>0.365079</td>\n",
       "      <td>0.546276</td>\n",
       "      <td>0</td>\n",
       "    </tr>\n",
       "    <tr>\n",
       "      <th>1</th>\n",
       "      <td>0.465597</td>\n",
       "      <td>0.373657</td>\n",
       "      <td>0.550988</td>\n",
       "      <td>0</td>\n",
       "    </tr>\n",
       "    <tr>\n",
       "      <th>2</th>\n",
       "      <td>0.458001</td>\n",
       "      <td>0.378245</td>\n",
       "      <td>0.551552</td>\n",
       "      <td>0</td>\n",
       "    </tr>\n",
       "    <tr>\n",
       "      <th>3</th>\n",
       "      <td>0.459400</td>\n",
       "      <td>0.377609</td>\n",
       "      <td>0.546882</td>\n",
       "      <td>0</td>\n",
       "    </tr>\n",
       "    <tr>\n",
       "      <th>4</th>\n",
       "      <td>0.465448</td>\n",
       "      <td>0.373819</td>\n",
       "      <td>0.539552</td>\n",
       "      <td>0</td>\n",
       "    </tr>\n",
       "    <tr>\n",
       "      <th>...</th>\n",
       "      <td>...</td>\n",
       "      <td>...</td>\n",
       "      <td>...</td>\n",
       "      <td>...</td>\n",
       "    </tr>\n",
       "    <tr>\n",
       "      <th>183801</th>\n",
       "      <td>0.314151</td>\n",
       "      <td>0.436371</td>\n",
       "      <td>0.556205</td>\n",
       "      <td>0</td>\n",
       "    </tr>\n",
       "    <tr>\n",
       "      <th>183802</th>\n",
       "      <td>0.304108</td>\n",
       "      <td>0.440144</td>\n",
       "      <td>0.555801</td>\n",
       "      <td>0</td>\n",
       "    </tr>\n",
       "    <tr>\n",
       "      <th>183803</th>\n",
       "      <td>0.298599</td>\n",
       "      <td>0.444842</td>\n",
       "      <td>0.553127</td>\n",
       "      <td>0</td>\n",
       "    </tr>\n",
       "    <tr>\n",
       "      <th>183804</th>\n",
       "      <td>0.299858</td>\n",
       "      <td>0.452044</td>\n",
       "      <td>0.546193</td>\n",
       "      <td>0</td>\n",
       "    </tr>\n",
       "    <tr>\n",
       "      <th>183805</th>\n",
       "      <td>0.306038</td>\n",
       "      <td>0.461479</td>\n",
       "      <td>0.535813</td>\n",
       "      <td>0</td>\n",
       "    </tr>\n",
       "  </tbody>\n",
       "</table>\n",
       "<p>183806 rows × 4 columns</p>\n",
       "</div>"
      ],
      "text/plain": [
       "            x_ax      y_ax      z_ax  outcome\n",
       "0       0.480550  0.365079  0.546276        0\n",
       "1       0.465597  0.373657  0.550988        0\n",
       "2       0.458001  0.378245  0.551552        0\n",
       "3       0.459400  0.377609  0.546882        0\n",
       "4       0.465448  0.373819  0.539552        0\n",
       "...          ...       ...       ...      ...\n",
       "183801  0.314151  0.436371  0.556205        0\n",
       "183802  0.304108  0.440144  0.555801        0\n",
       "183803  0.298599  0.444842  0.553127        0\n",
       "183804  0.299858  0.452044  0.546193        0\n",
       "183805  0.306038  0.461479  0.535813        0\n",
       "\n",
       "[183806 rows x 4 columns]"
      ]
     },
     "execution_count": 161,
     "metadata": {},
     "output_type": "execute_result"
    }
   ],
   "source": [
    "data_filtered_normalised = pd.read_csv(\"New Datasets/filtered_normalised_smartfall_training_dataset.csv\")\n",
    "data_filtered_normalised = pd.concat([data_filtered_normalised, pd.read_csv(\"New Datasets/filtered_normalised_smartfall_testing_dataset.csv\")], axis=0).reset_index(drop=True)\n",
    "\n",
    "data_filtered_normalised = data_filtered_normalised.drop(['Unnamed: 0'], axis=1)\n",
    "data_filtered_normalised"
   ]
  },
  {
   "cell_type": "code",
   "execution_count": 162,
   "metadata": {},
   "outputs": [
    {
     "name": "stderr",
     "output_type": "stream",
     "text": [
      "c:\\Users\\Alex\\OneDrive - The University of Nottingham\\Comp Sci\\Year 3\\Dissertation\\Code\\feature_util.py:22: FutureWarning: Unlike other reduction functions (e.g. `skew`, `kurtosis`), the default behavior of `mode` typically preserves the axis it acts along. In SciPy 1.11.0, this behavior will change: the default value of `keepdims` will become False, the `axis` over which the statistic is taken will be eliminated, and the value None will no longer be accepted. Set `keepdims` to True or False to avoid this warning.\n",
      "  label = stats.mode(df['outcome'][i: i + frame_size])[0][0]\n"
     ]
    },
    {
     "data": {
      "text/plain": [
       "(12252, 11)"
      ]
     },
     "execution_count": 162,
     "metadata": {},
     "output_type": "execute_result"
    }
   ],
   "source": [
    "X_filtered_normalised, y_filtered_normalised = feature_util.get_frames(data_filtered_normalised, frame_size, hop_size, True)\n",
    "features_filtered_normalised = feature_util.extract_features(X_filtered_normalised)\n",
    "features_filtered_normalised.shape"
   ]
  },
  {
   "cell_type": "code",
   "execution_count": 163,
   "metadata": {},
   "outputs": [],
   "source": [
    "feature_filtered_normalised_df = pd.DataFrame(features_filtered_normalised)\n",
    "\n",
    "y_filtered_normalised_df = pd.DataFrame(y_filtered_normalised)\n",
    "y_filtered_normalised_df = y_filtered_normalised_df.rename(mapper={0:\"outcome\"}, axis=1)\n",
    "# y_df\n",
    "# feature_and_outcome_df = pd.concat([feature_df, y_df], axis=1)"
   ]
  },
  {
   "cell_type": "code",
   "execution_count": 164,
   "metadata": {},
   "outputs": [
    {
     "data": {
      "text/plain": [
       "outcome\n",
       "0          11390\n",
       "1          11390\n",
       "dtype: int64"
      ]
     },
     "execution_count": 164,
     "metadata": {},
     "output_type": "execute_result"
    }
   ],
   "source": [
    "sm = SMOTE(random_state=42)\n",
    "\n",
    "X_filtered_normalised_res, y_filtered_normalised_res = sm.fit_resample(feature_filtered_normalised_df, y_filtered_normalised_df)\n",
    "y_filtered_normalised_res.value_counts()"
   ]
  },
  {
   "cell_type": "code",
   "execution_count": 165,
   "metadata": {},
   "outputs": [],
   "source": [
    "X_filtered_normalised_train, X_filtered_normalised_test, y_filtered_normalised_train, y_filtered_normalised_test = train_test_split(X_filtered_normalised_res, y_filtered_normalised_res, test_size=0.25, random_state=0, stratify=y_filtered_normalised_res)"
   ]
  },
  {
   "cell_type": "code",
   "execution_count": 166,
   "metadata": {},
   "outputs": [
    {
     "data": {
      "text/plain": [
       "((17085, 11), (5695, 11), (17085, 1), (5695, 1))"
      ]
     },
     "execution_count": 166,
     "metadata": {},
     "output_type": "execute_result"
    }
   ],
   "source": [
    "X_filtered_normalised_train.shape, X_filtered_normalised_test.shape, y_filtered_normalised_train.shape, y_filtered_normalised_test.shape"
   ]
  },
  {
   "cell_type": "code",
   "execution_count": 167,
   "metadata": {},
   "outputs": [
    {
     "data": {
      "text/plain": [
       "{0: 8542, 1: 8543}"
      ]
     },
     "execution_count": 167,
     "metadata": {},
     "output_type": "execute_result"
    }
   ],
   "source": [
    "unique, counts = np.unique(y_filtered_train, return_counts=True)\n",
    "dict(zip(unique, counts))"
   ]
  },
  {
   "cell_type": "markdown",
   "metadata": {},
   "source": [
    "### Traditional Machine Learning Methods"
   ]
  },
  {
   "cell_type": "code",
   "execution_count": 168,
   "metadata": {},
   "outputs": [],
   "source": [
    "filtered_normalised_model_name_array = []\n",
    "filtered_normalised_model_acc_array = []"
   ]
  },
  {
   "cell_type": "code",
   "execution_count": 169,
   "metadata": {},
   "outputs": [
    {
     "name": "stderr",
     "output_type": "stream",
     "text": [
      "c:\\Users\\Alex\\anaconda3\\lib\\site-packages\\sklearn\\neighbors\\_classification.py:198: DataConversionWarning: A column-vector y was passed when a 1d array was expected. Please change the shape of y to (n_samples,), for example using ravel().\n",
      "  return self._fit(X, y)\n"
     ]
    },
    {
     "data": {
      "text/plain": [
       "KNeighborsClassifier()"
      ]
     },
     "execution_count": 169,
     "metadata": {},
     "output_type": "execute_result"
    }
   ],
   "source": [
    "knn_model_filtered_normalised = KNeighborsClassifier(n_neighbors=5)\n",
    "knn_model_filtered_normalised.fit(X_filtered_normalised_train, y_filtered_normalised_train)"
   ]
  },
  {
   "cell_type": "code",
   "execution_count": 170,
   "metadata": {},
   "outputs": [
    {
     "name": "stdout",
     "output_type": "stream",
     "text": [
      "[[2533  315]\n",
      " [  11 2836]]\n",
      "0.942756804214223\n",
      "0.942756804214223\n"
     ]
    },
    {
     "name": "stderr",
     "output_type": "stream",
     "text": [
      "c:\\Users\\Alex\\anaconda3\\lib\\site-packages\\sklearn\\neighbors\\_classification.py:228: FutureWarning: Unlike other reduction functions (e.g. `skew`, `kurtosis`), the default behavior of `mode` typically preserves the axis it acts along. In SciPy 1.11.0, this behavior will change: the default value of `keepdims` will become False, the `axis` over which the statistic is taken will be eliminated, and the value None will no longer be accepted. Set `keepdims` to True or False to avoid this warning.\n",
      "  mode, _ = stats.mode(_y[neigh_ind, k], axis=1)\n"
     ]
    }
   ],
   "source": [
    "# Predict on the test set\n",
    "predicted_knn_filtered_normalised = knn_model_filtered_normalised.predict(X_filtered_normalised_test)\n",
    "\n",
    "# Print metrics\n",
    "print(confusion_matrix(y_filtered_normalised_test, predicted_knn_filtered_normalised))\n",
    "print(accuracy_score(y_filtered_normalised_test, predicted_knn_filtered_normalised))\n",
    "print(f1_score(y_filtered_normalised_test, predicted_knn_filtered_normalised, average='micro'))\n",
    "# compare_trad_models(\"knn\", accuracy_score(y_test, predicted))\n",
    "filtered_normalised_model_name_array.append(\"knn\")\n",
    "filtered_normalised_model_acc_array.append(accuracy_score(y_filtered_normalised_test, predicted_knn_filtered_normalised))"
   ]
  },
  {
   "cell_type": "code",
   "execution_count": 171,
   "metadata": {},
   "outputs": [],
   "source": [
    "# from sklearn.model_selection import GridSearchCV\n",
    "\n",
    "# max_features_range = np.arange(1, 6, 1)\n",
    "# n_estimators_range = np.arange(10, 210, 10)\n",
    "# n_neighbors_range = np.arange(1, 100, 1)\n",
    "# # param_grid = dict(max_features = max_features_range, n_estimators = n_estimators_range, n_neighbors = n_neighbors_range)\n",
    "# param_grid = dict(n_neighbors = n_neighbors_range)\n",
    "\n",
    "# knnTest = KNeighborsClassifier(n_neighbors=5)\n",
    "\n",
    "# grid = GridSearchCV(estimator=knnTest, param_grid=param_grid, scoring='accuracy', cv=5)\n",
    "\n",
    "# grid.fit(X_train, y_train)\n",
    "# print(\"The best parameters are %s with a score of %f\" % (grid.best_params_, grid.best_score_))"
   ]
  },
  {
   "cell_type": "code",
   "execution_count": 172,
   "metadata": {},
   "outputs": [
    {
     "name": "stderr",
     "output_type": "stream",
     "text": [
      "c:\\Users\\Alex\\anaconda3\\lib\\site-packages\\sklearn\\utils\\validation.py:993: DataConversionWarning: A column-vector y was passed when a 1d array was expected. Please change the shape of y to (n_samples, ), for example using ravel().\n",
      "  y = column_or_1d(y, warn=True)\n"
     ]
    },
    {
     "data": {
      "text/plain": [
       "SVC(C=1, kernel='linear', random_state=0)"
      ]
     },
     "execution_count": 172,
     "metadata": {},
     "output_type": "execute_result"
    }
   ],
   "source": [
    "svm_model_filtered_normalised = svm.SVC(kernel='linear', C=1, random_state=0)\n",
    "# gaussian\n",
    "svm_model_filtered_normalised.fit(X_filtered_normalised_train, y_filtered_normalised_train)"
   ]
  },
  {
   "cell_type": "code",
   "execution_count": 173,
   "metadata": {},
   "outputs": [
    {
     "name": "stdout",
     "output_type": "stream",
     "text": [
      "[[2492  356]\n",
      " [ 290 2557]]\n",
      "0.8865671641791045\n",
      "0.8865671641791045\n"
     ]
    }
   ],
   "source": [
    "# Predict on the test set\n",
    "predicted_svm_filtered_normalised = svm_model_filtered_normalised.predict(X_filtered_normalised_test)\n",
    "\n",
    "# Print metrics\n",
    "print(confusion_matrix(y_filtered_normalised_test, predicted_svm_filtered_normalised))\n",
    "print(accuracy_score(y_filtered_normalised_test, predicted_svm_filtered_normalised))\n",
    "print(f1_score(y_filtered_normalised_test, predicted_svm_filtered_normalised, average='micro'))\n",
    "# compare_trad_models(\"knn\", accuracy_score(y_test, predicted))\n",
    "filtered_normalised_model_name_array.append(\"svm\")\n",
    "filtered_normalised_model_acc_array.append(accuracy_score(y_filtered_normalised_test, predicted_svm_filtered_normalised))"
   ]
  },
  {
   "cell_type": "code",
   "execution_count": 174,
   "metadata": {},
   "outputs": [
    {
     "name": "stderr",
     "output_type": "stream",
     "text": [
      "c:\\Users\\Alex\\anaconda3\\lib\\site-packages\\sklearn\\utils\\validation.py:993: DataConversionWarning: A column-vector y was passed when a 1d array was expected. Please change the shape of y to (n_samples, ), for example using ravel().\n",
      "  y = column_or_1d(y, warn=True)\n"
     ]
    },
    {
     "data": {
      "text/plain": [
       "SVC(C=1, random_state=0)"
      ]
     },
     "execution_count": 174,
     "metadata": {},
     "output_type": "execute_result"
    }
   ],
   "source": [
    "svm_rbf_model_filtered_normalised = svm.SVC(kernel='rbf', C=1, random_state=0)\n",
    "svm_rbf_model_filtered_normalised.fit(X_filtered_normalised_train, y_filtered_normalised_train)"
   ]
  },
  {
   "cell_type": "code",
   "execution_count": 175,
   "metadata": {},
   "outputs": [
    {
     "name": "stdout",
     "output_type": "stream",
     "text": [
      "[[2427  421]\n",
      " [ 238 2609]]\n",
      "0.8842844600526778\n",
      "0.8842844600526778\n"
     ]
    }
   ],
   "source": [
    "# Predict on the test set\n",
    "predicted_svm_rbf_filtered_normalised = svm_rbf_model_filtered_normalised.predict(X_filtered_normalised_test)\n",
    "\n",
    "# Print metrics\n",
    "print(confusion_matrix(y_filtered_normalised_test, predicted_svm_rbf_filtered_normalised))\n",
    "print(accuracy_score(y_filtered_normalised_test, predicted_svm_rbf_filtered_normalised))\n",
    "print(f1_score(y_filtered_normalised_test, predicted_svm_rbf_filtered_normalised, average='micro'))\n",
    "# compare_trad_models(\"knn\", accuracy_score(y_test, predicted))\n",
    "filtered_normalised_model_name_array.append(\"svm_rbf\")\n",
    "filtered_normalised_model_acc_array.append(accuracy_score(y_filtered_normalised_test, predicted_svm_rbf_filtered_normalised))"
   ]
  },
  {
   "cell_type": "code",
   "execution_count": 176,
   "metadata": {},
   "outputs": [
    {
     "name": "stderr",
     "output_type": "stream",
     "text": [
      "C:\\Users\\Alex\\AppData\\Local\\Temp\\ipykernel_15992\\1829240526.py:2: DataConversionWarning: A column-vector y was passed when a 1d array was expected. Please change the shape of y to (n_samples,), for example using ravel().\n",
      "  rf_model_filtered_normalised.fit(X_filtered_train, y_filtered_normalised_train)\n"
     ]
    },
    {
     "data": {
      "text/plain": [
       "RandomForestClassifier(random_state=42)"
      ]
     },
     "execution_count": 176,
     "metadata": {},
     "output_type": "execute_result"
    }
   ],
   "source": [
    "rf_model_filtered_normalised = RandomForestClassifier(n_estimators = 100, random_state = 42)\n",
    "rf_model_filtered_normalised.fit(X_filtered_train, y_filtered_normalised_train)"
   ]
  },
  {
   "cell_type": "code",
   "execution_count": 177,
   "metadata": {},
   "outputs": [
    {
     "name": "stdout",
     "output_type": "stream",
     "text": [
      "[[2848    0]\n",
      " [2847    0]]\n",
      "0.5000877963125548\n",
      "0.5000877963125548\n"
     ]
    }
   ],
   "source": [
    "# Predict on the test set\n",
    "predicted_rf_filtered_normalised = rf_model_filtered_normalised.predict(X_filtered_normalised_test)\n",
    "\n",
    "# Print metrics\n",
    "print(confusion_matrix(y_filtered_normalised_test, predicted_rf_filtered_normalised))\n",
    "print(accuracy_score(y_filtered_normalised_test, predicted_rf_filtered_normalised))\n",
    "print(f1_score(y_filtered_normalised_test, predicted_rf_filtered_normalised, average='micro'))\n",
    "# compare_trad_models(\"knn\", accuracy_score(y_test, predicted))\n",
    "filtered_normalised_model_name_array.append(\"rf\")\n",
    "filtered_normalised_model_acc_array.append(accuracy_score(y_filtered_normalised_test, predicted_rf_filtered_normalised))"
   ]
  },
  {
   "cell_type": "code",
   "execution_count": 178,
   "metadata": {},
   "outputs": [
    {
     "name": "stderr",
     "output_type": "stream",
     "text": [
      "c:\\Users\\Alex\\anaconda3\\lib\\site-packages\\sklearn\\utils\\validation.py:993: DataConversionWarning: A column-vector y was passed when a 1d array was expected. Please change the shape of y to (n_samples, ), for example using ravel().\n",
      "  y = column_or_1d(y, warn=True)\n"
     ]
    },
    {
     "data": {
      "text/plain": [
       "GaussianNB()"
      ]
     },
     "execution_count": 178,
     "metadata": {},
     "output_type": "execute_result"
    }
   ],
   "source": [
    "nb_model_filtered_normalised = GaussianNB()\n",
    "nb_model_filtered_normalised.fit(X_filtered_normalised_train, y_filtered_normalised_train)"
   ]
  },
  {
   "cell_type": "code",
   "execution_count": 179,
   "metadata": {},
   "outputs": [
    {
     "name": "stdout",
     "output_type": "stream",
     "text": [
      "[[2649  199]\n",
      " [ 770 2077]]\n",
      "0.8298507462686567\n",
      "0.8298507462686567\n"
     ]
    }
   ],
   "source": [
    "# Predict on the test set\n",
    "predicted_nb_filtered_normalised = nb_model_filtered_normalised.predict(X_filtered_normalised_test)\n",
    "\n",
    "# Print metrics\n",
    "print(confusion_matrix(y_filtered_normalised_test, predicted_nb_filtered_normalised))\n",
    "print(accuracy_score(y_filtered_normalised_test, predicted_nb_filtered_normalised))\n",
    "print(f1_score(y_filtered_normalised_test, predicted_nb_filtered_normalised, average='micro'))\n",
    "# compare_trad_models(\"knn\", accuracy_score(y_test, predicted))\n",
    "filtered_normalised_model_name_array.append(\"nb\")\n",
    "filtered_normalised_model_acc_array.append(accuracy_score(y_filtered_normalised_test, predicted_nb_filtered_normalised))"
   ]
  },
  {
   "cell_type": "code",
   "execution_count": 180,
   "metadata": {},
   "outputs": [
    {
     "name": "stdout",
     "output_type": "stream",
     "text": [
      "Best model: knn, Accuracy: 0.942756804214223\n"
     ]
    }
   ],
   "source": [
    "best_trad_model_acc_filtered_normalised = max(filtered_normalised_model_acc_array)\n",
    "index = filtered_normalised_model_acc_array.index(max(filtered_normalised_model_acc_array))\n",
    "best_trad_model_filtered_normalised = filtered_normalised_model_name_array[index]\n",
    "print(f\"Best model: {best_trad_model_filtered_normalised}, Accuracy: {best_trad_model_acc_filtered_normalised}\")"
   ]
  },
  {
   "cell_type": "code",
   "execution_count": 181,
   "metadata": {},
   "outputs": [
    {
     "name": "stdout",
     "output_type": "stream",
     "text": [
      "name: knn, accuracy: 0.942756804214223\n",
      "name: svm, accuracy: 0.8865671641791045\n",
      "name: svm_rbf, accuracy: 0.8842844600526778\n",
      "name: rf, accuracy: 0.5000877963125548\n",
      "name: nb, accuracy: 0.8298507462686567\n"
     ]
    }
   ],
   "source": [
    "for i in range(0, len(filtered_normalised_model_name_array)):\n",
    "    print(f\"name: {filtered_normalised_model_name_array[i]}, accuracy: {filtered_normalised_model_acc_array[i]}\")"
   ]
  },
  {
   "cell_type": "code",
   "execution_count": 182,
   "metadata": {},
   "outputs": [],
   "source": [
    "filtered_normalised_model_dictionary = {\"knn\": knn_model_filtered_normalised,\n",
    "                             \"svm\": svm_model_filtered_normalised,\n",
    "                             \"svm_rbf\": svm_rbf_model_filtered_normalised,\n",
    "                             \"rf\": rf_model_filtered_normalised,\n",
    "                             \"nb\": nb_model_filtered_normalised}"
   ]
  },
  {
   "cell_type": "code",
   "execution_count": 183,
   "metadata": {},
   "outputs": [
    {
     "name": "stderr",
     "output_type": "stream",
     "text": [
      "c:\\Users\\Alex\\anaconda3\\lib\\site-packages\\sklearn\\neighbors\\_classification.py:198: DataConversionWarning: A column-vector y was passed when a 1d array was expected. Please change the shape of y to (n_samples,), for example using ravel().\n",
      "  return self._fit(X, y)\n",
      "c:\\Users\\Alex\\anaconda3\\lib\\site-packages\\sklearn\\neighbors\\_classification.py:228: FutureWarning: Unlike other reduction functions (e.g. `skew`, `kurtosis`), the default behavior of `mode` typically preserves the axis it acts along. In SciPy 1.11.0, this behavior will change: the default value of `keepdims` will become False, the `axis` over which the statistic is taken will be eliminated, and the value None will no longer be accepted. Set `keepdims` to True or False to avoid this warning.\n",
      "  mode, _ = stats.mode(_y[neigh_ind, k], axis=1)\n",
      "c:\\Users\\Alex\\anaconda3\\lib\\site-packages\\sklearn\\neighbors\\_classification.py:198: DataConversionWarning: A column-vector y was passed when a 1d array was expected. Please change the shape of y to (n_samples,), for example using ravel().\n",
      "  return self._fit(X, y)\n",
      "c:\\Users\\Alex\\anaconda3\\lib\\site-packages\\sklearn\\neighbors\\_classification.py:228: FutureWarning: Unlike other reduction functions (e.g. `skew`, `kurtosis`), the default behavior of `mode` typically preserves the axis it acts along. In SciPy 1.11.0, this behavior will change: the default value of `keepdims` will become False, the `axis` over which the statistic is taken will be eliminated, and the value None will no longer be accepted. Set `keepdims` to True or False to avoid this warning.\n",
      "  mode, _ = stats.mode(_y[neigh_ind, k], axis=1)\n",
      "c:\\Users\\Alex\\anaconda3\\lib\\site-packages\\sklearn\\neighbors\\_classification.py:198: DataConversionWarning: A column-vector y was passed when a 1d array was expected. Please change the shape of y to (n_samples,), for example using ravel().\n",
      "  return self._fit(X, y)\n",
      "c:\\Users\\Alex\\anaconda3\\lib\\site-packages\\sklearn\\neighbors\\_classification.py:228: FutureWarning: Unlike other reduction functions (e.g. `skew`, `kurtosis`), the default behavior of `mode` typically preserves the axis it acts along. In SciPy 1.11.0, this behavior will change: the default value of `keepdims` will become False, the `axis` over which the statistic is taken will be eliminated, and the value None will no longer be accepted. Set `keepdims` to True or False to avoid this warning.\n",
      "  mode, _ = stats.mode(_y[neigh_ind, k], axis=1)\n",
      "c:\\Users\\Alex\\anaconda3\\lib\\site-packages\\sklearn\\neighbors\\_classification.py:198: DataConversionWarning: A column-vector y was passed when a 1d array was expected. Please change the shape of y to (n_samples,), for example using ravel().\n",
      "  return self._fit(X, y)\n",
      "c:\\Users\\Alex\\anaconda3\\lib\\site-packages\\sklearn\\neighbors\\_classification.py:228: FutureWarning: Unlike other reduction functions (e.g. `skew`, `kurtosis`), the default behavior of `mode` typically preserves the axis it acts along. In SciPy 1.11.0, this behavior will change: the default value of `keepdims` will become False, the `axis` over which the statistic is taken will be eliminated, and the value None will no longer be accepted. Set `keepdims` to True or False to avoid this warning.\n",
      "  mode, _ = stats.mode(_y[neigh_ind, k], axis=1)\n",
      "c:\\Users\\Alex\\anaconda3\\lib\\site-packages\\sklearn\\neighbors\\_classification.py:198: DataConversionWarning: A column-vector y was passed when a 1d array was expected. Please change the shape of y to (n_samples,), for example using ravel().\n",
      "  return self._fit(X, y)\n",
      "c:\\Users\\Alex\\anaconda3\\lib\\site-packages\\sklearn\\neighbors\\_classification.py:228: FutureWarning: Unlike other reduction functions (e.g. `skew`, `kurtosis`), the default behavior of `mode` typically preserves the axis it acts along. In SciPy 1.11.0, this behavior will change: the default value of `keepdims` will become False, the `axis` over which the statistic is taken will be eliminated, and the value None will no longer be accepted. Set `keepdims` to True or False to avoid this warning.\n",
      "  mode, _ = stats.mode(_y[neigh_ind, k], axis=1)\n",
      "c:\\Users\\Alex\\anaconda3\\lib\\site-packages\\sklearn\\utils\\validation.py:993: DataConversionWarning: A column-vector y was passed when a 1d array was expected. Please change the shape of y to (n_samples, ), for example using ravel().\n",
      "  y = column_or_1d(y, warn=True)\n",
      "c:\\Users\\Alex\\anaconda3\\lib\\site-packages\\sklearn\\utils\\validation.py:993: DataConversionWarning: A column-vector y was passed when a 1d array was expected. Please change the shape of y to (n_samples, ), for example using ravel().\n",
      "  y = column_or_1d(y, warn=True)\n",
      "c:\\Users\\Alex\\anaconda3\\lib\\site-packages\\sklearn\\utils\\validation.py:993: DataConversionWarning: A column-vector y was passed when a 1d array was expected. Please change the shape of y to (n_samples, ), for example using ravel().\n",
      "  y = column_or_1d(y, warn=True)\n",
      "c:\\Users\\Alex\\anaconda3\\lib\\site-packages\\sklearn\\utils\\validation.py:993: DataConversionWarning: A column-vector y was passed when a 1d array was expected. Please change the shape of y to (n_samples, ), for example using ravel().\n",
      "  y = column_or_1d(y, warn=True)\n",
      "c:\\Users\\Alex\\anaconda3\\lib\\site-packages\\sklearn\\utils\\validation.py:993: DataConversionWarning: A column-vector y was passed when a 1d array was expected. Please change the shape of y to (n_samples, ), for example using ravel().\n",
      "  y = column_or_1d(y, warn=True)\n",
      "c:\\Users\\Alex\\anaconda3\\lib\\site-packages\\sklearn\\utils\\validation.py:993: DataConversionWarning: A column-vector y was passed when a 1d array was expected. Please change the shape of y to (n_samples, ), for example using ravel().\n",
      "  y = column_or_1d(y, warn=True)\n",
      "c:\\Users\\Alex\\anaconda3\\lib\\site-packages\\sklearn\\utils\\validation.py:993: DataConversionWarning: A column-vector y was passed when a 1d array was expected. Please change the shape of y to (n_samples, ), for example using ravel().\n",
      "  y = column_or_1d(y, warn=True)\n",
      "c:\\Users\\Alex\\anaconda3\\lib\\site-packages\\sklearn\\utils\\validation.py:993: DataConversionWarning: A column-vector y was passed when a 1d array was expected. Please change the shape of y to (n_samples, ), for example using ravel().\n",
      "  y = column_or_1d(y, warn=True)\n",
      "c:\\Users\\Alex\\anaconda3\\lib\\site-packages\\sklearn\\utils\\validation.py:993: DataConversionWarning: A column-vector y was passed when a 1d array was expected. Please change the shape of y to (n_samples, ), for example using ravel().\n",
      "  y = column_or_1d(y, warn=True)\n",
      "c:\\Users\\Alex\\anaconda3\\lib\\site-packages\\sklearn\\utils\\validation.py:993: DataConversionWarning: A column-vector y was passed when a 1d array was expected. Please change the shape of y to (n_samples, ), for example using ravel().\n",
      "  y = column_or_1d(y, warn=True)\n",
      "c:\\Users\\Alex\\anaconda3\\lib\\site-packages\\sklearn\\model_selection\\_validation.py:680: DataConversionWarning: A column-vector y was passed when a 1d array was expected. Please change the shape of y to (n_samples,), for example using ravel().\n",
      "  estimator.fit(X_train, y_train, **fit_params)\n",
      "c:\\Users\\Alex\\anaconda3\\lib\\site-packages\\sklearn\\model_selection\\_validation.py:680: DataConversionWarning: A column-vector y was passed when a 1d array was expected. Please change the shape of y to (n_samples,), for example using ravel().\n",
      "  estimator.fit(X_train, y_train, **fit_params)\n",
      "c:\\Users\\Alex\\anaconda3\\lib\\site-packages\\sklearn\\model_selection\\_validation.py:680: DataConversionWarning: A column-vector y was passed when a 1d array was expected. Please change the shape of y to (n_samples,), for example using ravel().\n",
      "  estimator.fit(X_train, y_train, **fit_params)\n",
      "c:\\Users\\Alex\\anaconda3\\lib\\site-packages\\sklearn\\model_selection\\_validation.py:680: DataConversionWarning: A column-vector y was passed when a 1d array was expected. Please change the shape of y to (n_samples,), for example using ravel().\n",
      "  estimator.fit(X_train, y_train, **fit_params)\n",
      "c:\\Users\\Alex\\anaconda3\\lib\\site-packages\\sklearn\\model_selection\\_validation.py:680: DataConversionWarning: A column-vector y was passed when a 1d array was expected. Please change the shape of y to (n_samples,), for example using ravel().\n",
      "  estimator.fit(X_train, y_train, **fit_params)\n",
      "c:\\Users\\Alex\\anaconda3\\lib\\site-packages\\sklearn\\utils\\validation.py:993: DataConversionWarning: A column-vector y was passed when a 1d array was expected. Please change the shape of y to (n_samples, ), for example using ravel().\n",
      "  y = column_or_1d(y, warn=True)\n",
      "c:\\Users\\Alex\\anaconda3\\lib\\site-packages\\sklearn\\utils\\validation.py:993: DataConversionWarning: A column-vector y was passed when a 1d array was expected. Please change the shape of y to (n_samples, ), for example using ravel().\n",
      "  y = column_or_1d(y, warn=True)\n",
      "c:\\Users\\Alex\\anaconda3\\lib\\site-packages\\sklearn\\utils\\validation.py:993: DataConversionWarning: A column-vector y was passed when a 1d array was expected. Please change the shape of y to (n_samples, ), for example using ravel().\n",
      "  y = column_or_1d(y, warn=True)\n",
      "c:\\Users\\Alex\\anaconda3\\lib\\site-packages\\sklearn\\utils\\validation.py:993: DataConversionWarning: A column-vector y was passed when a 1d array was expected. Please change the shape of y to (n_samples, ), for example using ravel().\n",
      "  y = column_or_1d(y, warn=True)\n",
      "c:\\Users\\Alex\\anaconda3\\lib\\site-packages\\sklearn\\utils\\validation.py:993: DataConversionWarning: A column-vector y was passed when a 1d array was expected. Please change the shape of y to (n_samples, ), for example using ravel().\n",
      "  y = column_or_1d(y, warn=True)\n"
     ]
    }
   ],
   "source": [
    "scores_array_filtered_normalised = perform_cross_val_all_models(filtered_normalised_model_dictionary, X_filtered_normalised_train, y_filtered_normalised_train)"
   ]
  },
  {
   "cell_type": "code",
   "execution_count": 184,
   "metadata": {},
   "outputs": [
    {
     "name": "stdout",
     "output_type": "stream",
     "text": [
      "knn Accuracy: 0.94 (+/- 0.01)\n",
      "svm Accuracy: 0.89 (+/- 0.00)\n",
      "svm_rbf Accuracy: 0.89 (+/- 0.01)\n",
      "rf Accuracy: 0.95 (+/- 0.01)\n",
      "nb Accuracy: 0.83 (+/- 0.02)\n"
     ]
    }
   ],
   "source": [
    "for cv_tuple in scores_array_filtered_normalised:\n",
    "    print(\"%s Accuracy: %0.2f (+/- %0.2f)\" % (cv_tuple[0], cv_tuple[1].mean(), cv_tuple[1].std() * 2))"
   ]
  },
  {
   "cell_type": "code",
   "execution_count": 185,
   "metadata": {},
   "outputs": [
    {
     "name": "stdout",
     "output_type": "stream",
     "text": [
      "Classification report for knn\n",
      "              precision    recall  f1-score   support\n",
      "\n",
      "           0       1.00      0.89      0.94      2848\n",
      "           1       0.90      1.00      0.95      2847\n",
      "\n",
      "    accuracy                           0.94      5695\n",
      "   macro avg       0.95      0.94      0.94      5695\n",
      "weighted avg       0.95      0.94      0.94      5695\n",
      "\n",
      "=====================================================\n",
      "Classification report for svm\n"
     ]
    },
    {
     "name": "stderr",
     "output_type": "stream",
     "text": [
      "c:\\Users\\Alex\\anaconda3\\lib\\site-packages\\sklearn\\neighbors\\_classification.py:228: FutureWarning: Unlike other reduction functions (e.g. `skew`, `kurtosis`), the default behavior of `mode` typically preserves the axis it acts along. In SciPy 1.11.0, this behavior will change: the default value of `keepdims` will become False, the `axis` over which the statistic is taken will be eliminated, and the value None will no longer be accepted. Set `keepdims` to True or False to avoid this warning.\n",
      "  mode, _ = stats.mode(_y[neigh_ind, k], axis=1)\n"
     ]
    },
    {
     "name": "stdout",
     "output_type": "stream",
     "text": [
      "              precision    recall  f1-score   support\n",
      "\n",
      "           0       0.90      0.88      0.89      2848\n",
      "           1       0.88      0.90      0.89      2847\n",
      "\n",
      "    accuracy                           0.89      5695\n",
      "   macro avg       0.89      0.89      0.89      5695\n",
      "weighted avg       0.89      0.89      0.89      5695\n",
      "\n",
      "=====================================================\n",
      "Classification report for svm_rbf\n",
      "              precision    recall  f1-score   support\n",
      "\n",
      "           0       0.91      0.85      0.88      2848\n",
      "           1       0.86      0.92      0.89      2847\n",
      "\n",
      "    accuracy                           0.88      5695\n",
      "   macro avg       0.89      0.88      0.88      5695\n",
      "weighted avg       0.89      0.88      0.88      5695\n",
      "\n",
      "=====================================================\n",
      "Classification report for rf\n",
      "              precision    recall  f1-score   support\n",
      "\n",
      "           0       0.50      1.00      0.67      2848\n",
      "           1       0.00      0.00      0.00      2847\n",
      "\n",
      "    accuracy                           0.50      5695\n",
      "   macro avg       0.25      0.50      0.33      5695\n",
      "weighted avg       0.25      0.50      0.33      5695\n",
      "\n",
      "=====================================================\n",
      "Classification report for nb\n",
      "              precision    recall  f1-score   support\n",
      "\n",
      "           0       0.77      0.93      0.85      2848\n",
      "           1       0.91      0.73      0.81      2847\n",
      "\n",
      "    accuracy                           0.83      5695\n",
      "   macro avg       0.84      0.83      0.83      5695\n",
      "weighted avg       0.84      0.83      0.83      5695\n",
      "\n",
      "=====================================================\n"
     ]
    },
    {
     "name": "stderr",
     "output_type": "stream",
     "text": [
      "c:\\Users\\Alex\\anaconda3\\lib\\site-packages\\sklearn\\metrics\\_classification.py:1318: UndefinedMetricWarning: Precision and F-score are ill-defined and being set to 0.0 in labels with no predicted samples. Use `zero_division` parameter to control this behavior.\n",
      "  _warn_prf(average, modifier, msg_start, len(result))\n",
      "c:\\Users\\Alex\\anaconda3\\lib\\site-packages\\sklearn\\metrics\\_classification.py:1318: UndefinedMetricWarning: Precision and F-score are ill-defined and being set to 0.0 in labels with no predicted samples. Use `zero_division` parameter to control this behavior.\n",
      "  _warn_prf(average, modifier, msg_start, len(result))\n",
      "c:\\Users\\Alex\\anaconda3\\lib\\site-packages\\sklearn\\metrics\\_classification.py:1318: UndefinedMetricWarning: Precision and F-score are ill-defined and being set to 0.0 in labels with no predicted samples. Use `zero_division` parameter to control this behavior.\n",
      "  _warn_prf(average, modifier, msg_start, len(result))\n"
     ]
    }
   ],
   "source": [
    "print_all_classification_reports(filtered_normalised_model_dictionary, X_filtered_normalised_test, y_filtered_normalised_test)"
   ]
  },
  {
   "cell_type": "code",
   "execution_count": 186,
   "metadata": {},
   "outputs": [
    {
     "name": "stdout",
     "output_type": "stream",
     "text": [
      "Classification report for knn\n"
     ]
    },
    {
     "name": "stderr",
     "output_type": "stream",
     "text": [
      "c:\\Users\\Alex\\anaconda3\\lib\\site-packages\\sklearn\\neighbors\\_classification.py:228: FutureWarning: Unlike other reduction functions (e.g. `skew`, `kurtosis`), the default behavior of `mode` typically preserves the axis it acts along. In SciPy 1.11.0, this behavior will change: the default value of `keepdims` will become False, the `axis` over which the statistic is taken will be eliminated, and the value None will no longer be accepted. Set `keepdims` to True or False to avoid this warning.\n",
      "  mode, _ = stats.mode(_y[neigh_ind, k], axis=1)\n"
     ]
    },
    {
     "name": "stdout",
     "output_type": "stream",
     "text": [
      "              precision    recall  f1-score   support\n",
      "\n",
      "           0       1.00      0.92      0.95      8542\n",
      "           1       0.92      1.00      0.96      8543\n",
      "\n",
      "    accuracy                           0.96     17085\n",
      "   macro avg       0.96      0.96      0.96     17085\n",
      "weighted avg       0.96      0.96      0.96     17085\n",
      "\n",
      "=====================================================\n",
      "Classification report for svm\n",
      "              precision    recall  f1-score   support\n",
      "\n",
      "           0       0.89      0.88      0.89      8542\n",
      "           1       0.88      0.89      0.89      8543\n",
      "\n",
      "    accuracy                           0.89     17085\n",
      "   macro avg       0.89      0.89      0.89     17085\n",
      "weighted avg       0.89      0.89      0.89     17085\n",
      "\n",
      "=====================================================\n",
      "Classification report for svm_rbf\n",
      "              precision    recall  f1-score   support\n",
      "\n",
      "           0       0.91      0.86      0.89      8542\n",
      "           1       0.87      0.92      0.89      8543\n",
      "\n",
      "    accuracy                           0.89     17085\n",
      "   macro avg       0.89      0.89      0.89     17085\n",
      "weighted avg       0.89      0.89      0.89     17085\n",
      "\n",
      "=====================================================\n",
      "Classification report for rf\n",
      "              precision    recall  f1-score   support\n",
      "\n",
      "           0       0.50      1.00      0.67      8542\n",
      "           1       0.00      0.00      0.00      8543\n",
      "\n",
      "    accuracy                           0.50     17085\n",
      "   macro avg       0.25      0.50      0.33     17085\n",
      "weighted avg       0.25      0.50      0.33     17085\n",
      "\n",
      "=====================================================\n",
      "Classification report for nb\n",
      "              precision    recall  f1-score   support\n",
      "\n",
      "           0       0.77      0.93      0.85      8542\n",
      "           1       0.92      0.72      0.81      8543\n",
      "\n",
      "    accuracy                           0.83     17085\n",
      "   macro avg       0.84      0.83      0.83     17085\n",
      "weighted avg       0.84      0.83      0.83     17085\n",
      "\n",
      "=====================================================\n"
     ]
    },
    {
     "name": "stderr",
     "output_type": "stream",
     "text": [
      "c:\\Users\\Alex\\anaconda3\\lib\\site-packages\\sklearn\\metrics\\_classification.py:1318: UndefinedMetricWarning: Precision and F-score are ill-defined and being set to 0.0 in labels with no predicted samples. Use `zero_division` parameter to control this behavior.\n",
      "  _warn_prf(average, modifier, msg_start, len(result))\n",
      "c:\\Users\\Alex\\anaconda3\\lib\\site-packages\\sklearn\\metrics\\_classification.py:1318: UndefinedMetricWarning: Precision and F-score are ill-defined and being set to 0.0 in labels with no predicted samples. Use `zero_division` parameter to control this behavior.\n",
      "  _warn_prf(average, modifier, msg_start, len(result))\n",
      "c:\\Users\\Alex\\anaconda3\\lib\\site-packages\\sklearn\\metrics\\_classification.py:1318: UndefinedMetricWarning: Precision and F-score are ill-defined and being set to 0.0 in labels with no predicted samples. Use `zero_division` parameter to control this behavior.\n",
      "  _warn_prf(average, modifier, msg_start, len(result))\n"
     ]
    }
   ],
   "source": [
    "print_all_classification_reports_training(filtered_normalised_model_dictionary, X_filtered_normalised_train, y_filtered_normalised_train)"
   ]
  },
  {
   "cell_type": "code",
   "execution_count": 204,
   "metadata": {},
   "outputs": [
    {
     "data": {
      "text/plain": [
       "['Final Models/exp2_rf_unfiltered.joblib']"
      ]
     },
     "execution_count": 204,
     "metadata": {},
     "output_type": "execute_result"
    }
   ],
   "source": [
    "from joblib import dump, load\n",
    "# save clf using joblib\n",
    "# dump(rf_model, 'New Models/rf_filtered_normalised.joblib')\n",
    "# dump(rf_model, 'Final Models/exp2_rf_unfiltered.joblib')"
   ]
  },
  {
   "cell_type": "markdown",
   "metadata": {},
   "source": [
    "### Deep Learning"
   ]
  },
  {
   "cell_type": "markdown",
   "metadata": {},
   "source": [
    "#### The models below are trained using data which went through low-pass filter"
   ]
  },
  {
   "cell_type": "code",
   "execution_count": 188,
   "metadata": {},
   "outputs": [
    {
     "data": {
      "text/plain": [
       "((22780, 31, 3), (22780,))"
      ]
     },
     "execution_count": 188,
     "metadata": {},
     "output_type": "execute_result"
    }
   ],
   "source": [
    "X_filtered_normalised_smote, y_filtered_normalised_smote = feature_util.generate_windows_SMOTE(X_filtered_normalised, y_filtered_normalised)\n",
    "X_filtered_normalised_smote.shape, y_filtered_normalised_smote.shape"
   ]
  },
  {
   "cell_type": "code",
   "execution_count": 189,
   "metadata": {},
   "outputs": [
    {
     "data": {
      "text/plain": [
       "((17085, 31, 3), (5695, 31, 3), (17085,))"
      ]
     },
     "execution_count": 189,
     "metadata": {},
     "output_type": "execute_result"
    }
   ],
   "source": [
    "# X_raw_filtered_normalised_train, X_raw_filtered_normalised_test, y_raw_filtered_normalised_train, y_raw_filtered_normalised_test = train_test_split(X_filtered_normalised, y_filtered_normalised, test_size=0.25, random_state=0, stratify=y_filtered_normalised)\n",
    "X_raw_filtered_normalised_train, X_raw_filtered_normalised_test, y_raw_filtered_normalised_train, y_raw_filtered_normalised_test = train_test_split(X_filtered_normalised_smote, y_filtered_normalised_smote, test_size=0.25, random_state=0, stratify=y_filtered_normalised_smote)\n",
    "X_raw_filtered_normalised_train.shape, X_raw_filtered_normalised_test.shape, y_raw_filtered_normalised_train.shape"
   ]
  },
  {
   "cell_type": "code",
   "execution_count": 190,
   "metadata": {},
   "outputs": [
    {
     "data": {
      "text/plain": [
       "(31, 3)"
      ]
     },
     "execution_count": 190,
     "metadata": {},
     "output_type": "execute_result"
    }
   ],
   "source": [
    "X_raw_filtered_normalised_train[0].shape"
   ]
  },
  {
   "cell_type": "code",
   "execution_count": 191,
   "metadata": {},
   "outputs": [],
   "source": [
    "X_raw_filtered_normalised_train = X_raw_filtered_normalised_train.reshape(X_TRAIN_SIZE, X_TRAIN_WINDOW_SIZE, 3, 1)\n",
    "X_raw_filtered_normalised_test = X_raw_filtered_normalised_test.reshape(X_TEST_SIZE, X_TEST_WINDOW_SIZE, 3, 1)"
   ]
  },
  {
   "cell_type": "code",
   "execution_count": 192,
   "metadata": {},
   "outputs": [
    {
     "data": {
      "text/plain": [
       "((31, 3, 1), (31, 3, 1))"
      ]
     },
     "execution_count": 192,
     "metadata": {},
     "output_type": "execute_result"
    }
   ],
   "source": [
    "X_raw_filtered_normalised_train[0].shape, X_raw_filtered_normalised_test[0].shape"
   ]
  },
  {
   "cell_type": "code",
   "execution_count": 193,
   "metadata": {},
   "outputs": [],
   "source": [
    "import tensorflow as tf\n",
    "from tensorflow.keras import Sequential\n",
    "from tensorflow.keras.layers import Flatten, Dense, Dropout, BatchNormalization\n",
    "from tensorflow.keras.layers import Conv2D, MaxPool2D\n",
    "from tensorflow.keras.optimizers import Adam"
   ]
  },
  {
   "cell_type": "code",
   "execution_count": 194,
   "metadata": {},
   "outputs": [],
   "source": [
    "cnn_model_filtered_normalised = Sequential()\n",
    "cnn_model_filtered_normalised.add(Conv2D(16, (2, 2), activation='relu', input_shape=X_raw_filtered_normalised_train[0].shape))\n",
    "cnn_model_filtered_normalised.add(Conv2D(32, (2, 2), activation='relu'))\n",
    "cnn_model_filtered_normalised.add(Flatten())\n",
    "cnn_model_filtered_normalised.add(Dense(64, activation='relu'))\n",
    "cnn_model_filtered_normalised.add(Dense(2, activation='softmax'))"
   ]
  },
  {
   "cell_type": "code",
   "execution_count": 195,
   "metadata": {},
   "outputs": [],
   "source": [
    "cnn_model_filtered_normalised.compile(optimizer=Adam(learning_rate=0.001), loss='sparse_categorical_crossentropy', metrics=['accuracy'])"
   ]
  },
  {
   "cell_type": "code",
   "execution_count": 196,
   "metadata": {},
   "outputs": [
    {
     "name": "stdout",
     "output_type": "stream",
     "text": [
      "Epoch 1/15\n",
      "534/534 [==============================] - 2s 2ms/step - loss: 0.3990 - accuracy: 0.8241 - val_loss: 0.2438 - val_accuracy: 0.9104\n",
      "Epoch 2/15\n",
      "534/534 [==============================] - 1s 2ms/step - loss: 0.2477 - accuracy: 0.9097 - val_loss: 0.2286 - val_accuracy: 0.9136\n",
      "Epoch 3/15\n",
      "534/534 [==============================] - 1s 2ms/step - loss: 0.2209 - accuracy: 0.9195 - val_loss: 0.2010 - val_accuracy: 0.9264\n",
      "Epoch 4/15\n",
      "534/534 [==============================] - 1s 2ms/step - loss: 0.1971 - accuracy: 0.9265 - val_loss: 0.1924 - val_accuracy: 0.9266\n",
      "Epoch 5/15\n",
      "534/534 [==============================] - 1s 2ms/step - loss: 0.1784 - accuracy: 0.9353 - val_loss: 0.1743 - val_accuracy: 0.9375\n",
      "Epoch 6/15\n",
      "534/534 [==============================] - 1s 2ms/step - loss: 0.1625 - accuracy: 0.9408 - val_loss: 0.1637 - val_accuracy: 0.9347\n",
      "Epoch 7/15\n",
      "534/534 [==============================] - 1s 2ms/step - loss: 0.1467 - accuracy: 0.9450 - val_loss: 0.1469 - val_accuracy: 0.9431\n",
      "Epoch 8/15\n",
      "534/534 [==============================] - 1s 2ms/step - loss: 0.1336 - accuracy: 0.9505 - val_loss: 0.1227 - val_accuracy: 0.9573\n",
      "Epoch 9/15\n",
      "534/534 [==============================] - 1s 2ms/step - loss: 0.1158 - accuracy: 0.9596 - val_loss: 0.1112 - val_accuracy: 0.9619\n",
      "Epoch 10/15\n",
      "534/534 [==============================] - 1s 2ms/step - loss: 0.1028 - accuracy: 0.9648 - val_loss: 0.1060 - val_accuracy: 0.9615\n",
      "Epoch 11/15\n",
      "534/534 [==============================] - 1s 2ms/step - loss: 0.0913 - accuracy: 0.9686 - val_loss: 0.0975 - val_accuracy: 0.9684\n",
      "Epoch 12/15\n",
      "534/534 [==============================] - 1s 2ms/step - loss: 0.0826 - accuracy: 0.9711 - val_loss: 0.0949 - val_accuracy: 0.9703\n",
      "Epoch 13/15\n",
      "534/534 [==============================] - 1s 2ms/step - loss: 0.0714 - accuracy: 0.9766 - val_loss: 0.0833 - val_accuracy: 0.9733\n",
      "Epoch 14/15\n",
      "534/534 [==============================] - 1s 2ms/step - loss: 0.0639 - accuracy: 0.9799 - val_loss: 0.0752 - val_accuracy: 0.9749\n",
      "Epoch 15/15\n",
      "534/534 [==============================] - 1s 2ms/step - loss: 0.0590 - accuracy: 0.9810 - val_loss: 0.0742 - val_accuracy: 0.9759\n"
     ]
    }
   ],
   "source": [
    "history_filtered_normalised = cnn_model_filtered_normalised.fit(X_raw_filtered_normalised_train, y_raw_filtered_normalised_train, epochs=NUMBER_OF_EPOCHS, validation_data=(X_raw_filtered_normalised_test, y_raw_filtered_normalised_test), verbose=1)"
   ]
  },
  {
   "cell_type": "code",
   "execution_count": 197,
   "metadata": {},
   "outputs": [
    {
     "data": {
      "image/png": "[encoded data removed]",
      "text/plain": [
       "<Figure size 640x480 with 1 Axes>"
      ]
     },
     "metadata": {},
     "output_type": "display_data"
    },
    {
     "data": {
      "image/png": "[encoded data removed]",
      "text/plain": [
       "<Figure size 640x480 with 1 Axes>"
      ]
     },
     "metadata": {},
     "output_type": "display_data"
    }
   ],
   "source": [
    "plot_learning_curve(history_filtered_normalised, NUMBER_OF_EPOCHS)"
   ]
  },
  {
   "cell_type": "code",
   "execution_count": 198,
   "metadata": {},
   "outputs": [
    {
     "name": "stdout",
     "output_type": "stream",
     "text": [
      "178/178 [==============================] - 0s 1ms/step\n",
      "[[2762   86]\n",
      " [  51 2796]]\n",
      "0.9759438103599649\n",
      "0.9759438103599649\n"
     ]
    }
   ],
   "source": [
    "# predicted_cnn = cnn_model.predict_classes(X_raw_test)\n",
    "predicted_cnn_filtered_normalised = np.argmax(cnn_model_filtered_normalised.predict(X_raw_filtered_normalised_test), axis=-1)\n",
    "\n",
    "# Print metrics\n",
    "print(confusion_matrix(y_raw_filtered_normalised_test, predicted_cnn_filtered_normalised))\n",
    "print(accuracy_score(y_raw_filtered_normalised_test, predicted_cnn_filtered_normalised))\n",
    "print(f1_score(y_raw_filtered_normalised_test, predicted_cnn_filtered_normalised, average='micro'))\n",
    "# ConfusionMatrixDisplay.from_predictions(y_raw_test, predicted_cnn)"
   ]
  },
  {
   "cell_type": "code",
   "execution_count": 199,
   "metadata": {},
   "outputs": [
    {
     "name": "stdout",
     "output_type": "stream",
     "text": [
      "              precision    recall  f1-score   support\n",
      "\n",
      "           0       0.98      0.97      0.98      2848\n",
      "           1       0.97      0.98      0.98      2847\n",
      "\n",
      "    accuracy                           0.98      5695\n",
      "   macro avg       0.98      0.98      0.98      5695\n",
      "weighted avg       0.98      0.98      0.98      5695\n",
      "\n"
     ]
    }
   ],
   "source": [
    "from sklearn.metrics import classification_report\n",
    "\n",
    "print(classification_report(y_raw_filtered_normalised_test, predicted_cnn_filtered_normalised))"
   ]
  },
  {
   "cell_type": "code",
   "execution_count": 200,
   "metadata": {},
   "outputs": [
    {
     "name": "stdout",
     "output_type": "stream",
     "text": [
      "178/178 [==============================] - 0s 1ms/step - loss: 5.9048 - accuracy: 0.5001\n",
      "test loss, test acc:  [5.904838562011719, 0.5000877976417542]\n"
     ]
    }
   ],
   "source": [
    "results_filtered_normalised = cnn_model_filtered.evaluate(X_raw_filtered_normalised_test, y_raw_filtered_normalised_test)\n",
    "print(\"test loss, test acc: \", results_filtered_normalised)"
   ]
  },
  {
   "cell_type": "code",
   "execution_count": 203,
   "metadata": {},
   "outputs": [
    {
     "name": "stdout",
     "output_type": "stream",
     "text": [
      "0.9694468736648559\n"
     ]
    }
   ],
   "source": [
    "cnn_filtered_normalised_cv_metrics = feature_util.cross_val_cnn(X_raw_filtered_normalised_train, y_raw_filtered_normalised_train, X_raw_filtered_normalised_train[0].shape, NUMBER_OF_EPOCHS, 5)\n",
    "feature_util.compute_cnn_cross_val_mean(cnn_filtered_normalised_cv_metrics)"
   ]
  }
 ],
 "metadata": {
  "kernelspec": {
   "display_name": "base",
   "language": "python",
   "name": "python3"
  },
  "language_info": {
   "codemirror_mode": {
    "name": "ipython",
    "version": 3
   },
   "file_extension": ".py",
   "mimetype": "text/x-python",
   "name": "python",
   "nbconvert_exporter": "python",
   "pygments_lexer": "ipython3",
   "version": "3.9.16"
  },
  "orig_nbformat": 4
 },
 "nbformat": 4,
 "nbformat_minor": 2
}
